{
 "cells": [
  {
   "cell_type": "code",
   "execution_count": 1,
   "id": "b36f1350",
   "metadata": {},
   "outputs": [],
   "source": [
    "import pandas as pd\n",
    "import numpy as np"
   ]
  },
  {
   "cell_type": "code",
   "execution_count": 2,
   "id": "1fc4c3aa",
   "metadata": {
    "scrolled": true
   },
   "outputs": [
    {
     "name": "stderr",
     "output_type": "stream",
     "text": [
      "/Users/cnieto/opt/anaconda3/lib/python3.9/site-packages/IPython/core/interactiveshell.py:3172: DtypeWarning: Columns (19) have mixed types.Specify dtype option on import or set low_memory=False.\n",
      "  has_raised = await self.run_ast_nodes(code_ast.body, cell_name,\n"
     ]
    }
   ],
   "source": [
    "df = pd.read_csv('fifa_56rows.csv')"
   ]
  },
  {
   "cell_type": "code",
   "execution_count": 3,
   "id": "1145cd39",
   "metadata": {},
   "outputs": [
    {
     "data": {
      "text/html": [
       "<div>\n",
       "<style scoped>\n",
       "    .dataframe tbody tr th:only-of-type {\n",
       "        vertical-align: middle;\n",
       "    }\n",
       "\n",
       "    .dataframe tbody tr th {\n",
       "        vertical-align: top;\n",
       "    }\n",
       "\n",
       "    .dataframe thead th {\n",
       "        text-align: right;\n",
       "    }\n",
       "</style>\n",
       "<table border=\"1\" class=\"dataframe\">\n",
       "  <thead>\n",
       "    <tr style=\"text-align: right;\">\n",
       "      <th></th>\n",
       "      <th>Unnamed: 0</th>\n",
       "      <th>sofifa_id</th>\n",
       "      <th>short_name</th>\n",
       "      <th>overall</th>\n",
       "      <th>potential</th>\n",
       "      <th>value_eur</th>\n",
       "      <th>wage_eur</th>\n",
       "      <th>age</th>\n",
       "      <th>dob</th>\n",
       "      <th>height_cm</th>\n",
       "      <th>...</th>\n",
       "      <th>mentality_vision</th>\n",
       "      <th>mentality_penalties</th>\n",
       "      <th>mentality_composure</th>\n",
       "      <th>defending_sliding_tackle</th>\n",
       "      <th>goalkeeping_handling</th>\n",
       "      <th>cam</th>\n",
       "      <th>cdm</th>\n",
       "      <th>gk</th>\n",
       "      <th>work_rate_attacking</th>\n",
       "      <th>work_rate_deffensive</th>\n",
       "    </tr>\n",
       "  </thead>\n",
       "  <tbody>\n",
       "    <tr>\n",
       "      <th>0</th>\n",
       "      <td>0</td>\n",
       "      <td>158023</td>\n",
       "      <td>L. Messi</td>\n",
       "      <td>93</td>\n",
       "      <td>93</td>\n",
       "      <td>78000000.0</td>\n",
       "      <td>320000.0</td>\n",
       "      <td>34</td>\n",
       "      <td>1987-06-24</td>\n",
       "      <td>170</td>\n",
       "      <td>...</td>\n",
       "      <td>95</td>\n",
       "      <td>75</td>\n",
       "      <td>96</td>\n",
       "      <td>24</td>\n",
       "      <td>11</td>\n",
       "      <td>93</td>\n",
       "      <td>64</td>\n",
       "      <td>19</td>\n",
       "      <td>2</td>\n",
       "      <td>1</td>\n",
       "    </tr>\n",
       "    <tr>\n",
       "      <th>1</th>\n",
       "      <td>1</td>\n",
       "      <td>188545</td>\n",
       "      <td>R. Lewandowski</td>\n",
       "      <td>92</td>\n",
       "      <td>92</td>\n",
       "      <td>119500000.0</td>\n",
       "      <td>270000.0</td>\n",
       "      <td>32</td>\n",
       "      <td>1988-08-21</td>\n",
       "      <td>185</td>\n",
       "      <td>...</td>\n",
       "      <td>81</td>\n",
       "      <td>90</td>\n",
       "      <td>88</td>\n",
       "      <td>19</td>\n",
       "      <td>6</td>\n",
       "      <td>86</td>\n",
       "      <td>66</td>\n",
       "      <td>19</td>\n",
       "      <td>3</td>\n",
       "      <td>2</td>\n",
       "    </tr>\n",
       "    <tr>\n",
       "      <th>2</th>\n",
       "      <td>2</td>\n",
       "      <td>20801</td>\n",
       "      <td>Cristiano Ronaldo</td>\n",
       "      <td>91</td>\n",
       "      <td>91</td>\n",
       "      <td>45000000.0</td>\n",
       "      <td>270000.0</td>\n",
       "      <td>36</td>\n",
       "      <td>1985-02-05</td>\n",
       "      <td>187</td>\n",
       "      <td>...</td>\n",
       "      <td>76</td>\n",
       "      <td>88</td>\n",
       "      <td>95</td>\n",
       "      <td>24</td>\n",
       "      <td>11</td>\n",
       "      <td>86</td>\n",
       "      <td>59</td>\n",
       "      <td>20</td>\n",
       "      <td>3</td>\n",
       "      <td>1</td>\n",
       "    </tr>\n",
       "    <tr>\n",
       "      <th>3</th>\n",
       "      <td>3</td>\n",
       "      <td>190871</td>\n",
       "      <td>Neymar Jr</td>\n",
       "      <td>91</td>\n",
       "      <td>91</td>\n",
       "      <td>129000000.0</td>\n",
       "      <td>270000.0</td>\n",
       "      <td>29</td>\n",
       "      <td>1992-02-05</td>\n",
       "      <td>175</td>\n",
       "      <td>...</td>\n",
       "      <td>90</td>\n",
       "      <td>93</td>\n",
       "      <td>93</td>\n",
       "      <td>29</td>\n",
       "      <td>9</td>\n",
       "      <td>89</td>\n",
       "      <td>63</td>\n",
       "      <td>20</td>\n",
       "      <td>3</td>\n",
       "      <td>2</td>\n",
       "    </tr>\n",
       "    <tr>\n",
       "      <th>4</th>\n",
       "      <td>4</td>\n",
       "      <td>192985</td>\n",
       "      <td>K. De Bruyne</td>\n",
       "      <td>91</td>\n",
       "      <td>91</td>\n",
       "      <td>125500000.0</td>\n",
       "      <td>350000.0</td>\n",
       "      <td>30</td>\n",
       "      <td>1991-06-28</td>\n",
       "      <td>181</td>\n",
       "      <td>...</td>\n",
       "      <td>94</td>\n",
       "      <td>83</td>\n",
       "      <td>89</td>\n",
       "      <td>53</td>\n",
       "      <td>13</td>\n",
       "      <td>89</td>\n",
       "      <td>80</td>\n",
       "      <td>21</td>\n",
       "      <td>3</td>\n",
       "      <td>3</td>\n",
       "    </tr>\n",
       "  </tbody>\n",
       "</table>\n",
       "<p>5 rows × 57 columns</p>\n",
       "</div>"
      ],
      "text/plain": [
       "   Unnamed: 0  sofifa_id         short_name  overall  potential    value_eur  \\\n",
       "0           0     158023           L. Messi       93         93   78000000.0   \n",
       "1           1     188545     R. Lewandowski       92         92  119500000.0   \n",
       "2           2      20801  Cristiano Ronaldo       91         91   45000000.0   \n",
       "3           3     190871          Neymar Jr       91         91  129000000.0   \n",
       "4           4     192985       K. De Bruyne       91         91  125500000.0   \n",
       "\n",
       "   wage_eur  age         dob  height_cm  ...  mentality_vision  \\\n",
       "0  320000.0   34  1987-06-24        170  ...                95   \n",
       "1  270000.0   32  1988-08-21        185  ...                81   \n",
       "2  270000.0   36  1985-02-05        187  ...                76   \n",
       "3  270000.0   29  1992-02-05        175  ...                90   \n",
       "4  350000.0   30  1991-06-28        181  ...                94   \n",
       "\n",
       "  mentality_penalties mentality_composure  defending_sliding_tackle  \\\n",
       "0                  75                  96                        24   \n",
       "1                  90                  88                        19   \n",
       "2                  88                  95                        24   \n",
       "3                  93                  93                        29   \n",
       "4                  83                  89                        53   \n",
       "\n",
       "  goalkeeping_handling  cam cdm  gk  work_rate_attacking work_rate_deffensive  \n",
       "0                   11   93  64  19                    2                    1  \n",
       "1                    6   86  66  19                    3                    2  \n",
       "2                   11   86  59  20                    3                    1  \n",
       "3                    9   89  63  20                    3                    2  \n",
       "4                   13   89  80  21                    3                    3  \n",
       "\n",
       "[5 rows x 57 columns]"
      ]
     },
     "execution_count": 3,
     "metadata": {},
     "output_type": "execute_result"
    }
   ],
   "source": [
    "df.head()"
   ]
  },
  {
   "cell_type": "code",
   "execution_count": 4,
   "id": "275a862d",
   "metadata": {},
   "outputs": [],
   "source": [
    "df.drop('Unnamed: 0',axis=1,inplace=True)"
   ]
  },
  {
   "cell_type": "code",
   "execution_count": 5,
   "id": "c0c2953c",
   "metadata": {},
   "outputs": [],
   "source": [
    "df.set_index('sofifa_id',drop=True, inplace=True)"
   ]
  },
  {
   "cell_type": "code",
   "execution_count": 6,
   "id": "99e37677",
   "metadata": {},
   "outputs": [
    {
     "data": {
      "text/html": [
       "<div>\n",
       "<style scoped>\n",
       "    .dataframe tbody tr th:only-of-type {\n",
       "        vertical-align: middle;\n",
       "    }\n",
       "\n",
       "    .dataframe tbody tr th {\n",
       "        vertical-align: top;\n",
       "    }\n",
       "\n",
       "    .dataframe thead th {\n",
       "        text-align: right;\n",
       "    }\n",
       "</style>\n",
       "<table border=\"1\" class=\"dataframe\">\n",
       "  <thead>\n",
       "    <tr style=\"text-align: right;\">\n",
       "      <th></th>\n",
       "      <th>short_name</th>\n",
       "      <th>overall</th>\n",
       "      <th>potential</th>\n",
       "      <th>value_eur</th>\n",
       "      <th>wage_eur</th>\n",
       "      <th>age</th>\n",
       "      <th>dob</th>\n",
       "      <th>height_cm</th>\n",
       "      <th>weight_kg</th>\n",
       "      <th>club_name</th>\n",
       "      <th>...</th>\n",
       "      <th>mentality_vision</th>\n",
       "      <th>mentality_penalties</th>\n",
       "      <th>mentality_composure</th>\n",
       "      <th>defending_sliding_tackle</th>\n",
       "      <th>goalkeeping_handling</th>\n",
       "      <th>cam</th>\n",
       "      <th>cdm</th>\n",
       "      <th>gk</th>\n",
       "      <th>work_rate_attacking</th>\n",
       "      <th>work_rate_deffensive</th>\n",
       "    </tr>\n",
       "    <tr>\n",
       "      <th>sofifa_id</th>\n",
       "      <th></th>\n",
       "      <th></th>\n",
       "      <th></th>\n",
       "      <th></th>\n",
       "      <th></th>\n",
       "      <th></th>\n",
       "      <th></th>\n",
       "      <th></th>\n",
       "      <th></th>\n",
       "      <th></th>\n",
       "      <th></th>\n",
       "      <th></th>\n",
       "      <th></th>\n",
       "      <th></th>\n",
       "      <th></th>\n",
       "      <th></th>\n",
       "      <th></th>\n",
       "      <th></th>\n",
       "      <th></th>\n",
       "      <th></th>\n",
       "      <th></th>\n",
       "    </tr>\n",
       "  </thead>\n",
       "  <tbody>\n",
       "    <tr>\n",
       "      <th>158023</th>\n",
       "      <td>L. Messi</td>\n",
       "      <td>93</td>\n",
       "      <td>93</td>\n",
       "      <td>78000000.0</td>\n",
       "      <td>320000.0</td>\n",
       "      <td>34</td>\n",
       "      <td>1987-06-24</td>\n",
       "      <td>170</td>\n",
       "      <td>72</td>\n",
       "      <td>Paris Saint-Germain</td>\n",
       "      <td>...</td>\n",
       "      <td>95</td>\n",
       "      <td>75</td>\n",
       "      <td>96</td>\n",
       "      <td>24</td>\n",
       "      <td>11</td>\n",
       "      <td>93</td>\n",
       "      <td>64</td>\n",
       "      <td>19</td>\n",
       "      <td>2</td>\n",
       "      <td>1</td>\n",
       "    </tr>\n",
       "    <tr>\n",
       "      <th>188545</th>\n",
       "      <td>R. Lewandowski</td>\n",
       "      <td>92</td>\n",
       "      <td>92</td>\n",
       "      <td>119500000.0</td>\n",
       "      <td>270000.0</td>\n",
       "      <td>32</td>\n",
       "      <td>1988-08-21</td>\n",
       "      <td>185</td>\n",
       "      <td>81</td>\n",
       "      <td>FC Bayern München</td>\n",
       "      <td>...</td>\n",
       "      <td>81</td>\n",
       "      <td>90</td>\n",
       "      <td>88</td>\n",
       "      <td>19</td>\n",
       "      <td>6</td>\n",
       "      <td>86</td>\n",
       "      <td>66</td>\n",
       "      <td>19</td>\n",
       "      <td>3</td>\n",
       "      <td>2</td>\n",
       "    </tr>\n",
       "    <tr>\n",
       "      <th>20801</th>\n",
       "      <td>Cristiano Ronaldo</td>\n",
       "      <td>91</td>\n",
       "      <td>91</td>\n",
       "      <td>45000000.0</td>\n",
       "      <td>270000.0</td>\n",
       "      <td>36</td>\n",
       "      <td>1985-02-05</td>\n",
       "      <td>187</td>\n",
       "      <td>83</td>\n",
       "      <td>Manchester United</td>\n",
       "      <td>...</td>\n",
       "      <td>76</td>\n",
       "      <td>88</td>\n",
       "      <td>95</td>\n",
       "      <td>24</td>\n",
       "      <td>11</td>\n",
       "      <td>86</td>\n",
       "      <td>59</td>\n",
       "      <td>20</td>\n",
       "      <td>3</td>\n",
       "      <td>1</td>\n",
       "    </tr>\n",
       "    <tr>\n",
       "      <th>190871</th>\n",
       "      <td>Neymar Jr</td>\n",
       "      <td>91</td>\n",
       "      <td>91</td>\n",
       "      <td>129000000.0</td>\n",
       "      <td>270000.0</td>\n",
       "      <td>29</td>\n",
       "      <td>1992-02-05</td>\n",
       "      <td>175</td>\n",
       "      <td>68</td>\n",
       "      <td>Paris Saint-Germain</td>\n",
       "      <td>...</td>\n",
       "      <td>90</td>\n",
       "      <td>93</td>\n",
       "      <td>93</td>\n",
       "      <td>29</td>\n",
       "      <td>9</td>\n",
       "      <td>89</td>\n",
       "      <td>63</td>\n",
       "      <td>20</td>\n",
       "      <td>3</td>\n",
       "      <td>2</td>\n",
       "    </tr>\n",
       "    <tr>\n",
       "      <th>192985</th>\n",
       "      <td>K. De Bruyne</td>\n",
       "      <td>91</td>\n",
       "      <td>91</td>\n",
       "      <td>125500000.0</td>\n",
       "      <td>350000.0</td>\n",
       "      <td>30</td>\n",
       "      <td>1991-06-28</td>\n",
       "      <td>181</td>\n",
       "      <td>70</td>\n",
       "      <td>Manchester City</td>\n",
       "      <td>...</td>\n",
       "      <td>94</td>\n",
       "      <td>83</td>\n",
       "      <td>89</td>\n",
       "      <td>53</td>\n",
       "      <td>13</td>\n",
       "      <td>89</td>\n",
       "      <td>80</td>\n",
       "      <td>21</td>\n",
       "      <td>3</td>\n",
       "      <td>3</td>\n",
       "    </tr>\n",
       "  </tbody>\n",
       "</table>\n",
       "<p>5 rows × 55 columns</p>\n",
       "</div>"
      ],
      "text/plain": [
       "                  short_name  overall  potential    value_eur  wage_eur  age  \\\n",
       "sofifa_id                                                                      \n",
       "158023              L. Messi       93         93   78000000.0  320000.0   34   \n",
       "188545        R. Lewandowski       92         92  119500000.0  270000.0   32   \n",
       "20801      Cristiano Ronaldo       91         91   45000000.0  270000.0   36   \n",
       "190871             Neymar Jr       91         91  129000000.0  270000.0   29   \n",
       "192985          K. De Bruyne       91         91  125500000.0  350000.0   30   \n",
       "\n",
       "                  dob  height_cm  weight_kg            club_name  ...  \\\n",
       "sofifa_id                                                         ...   \n",
       "158023     1987-06-24        170         72  Paris Saint-Germain  ...   \n",
       "188545     1988-08-21        185         81    FC Bayern München  ...   \n",
       "20801      1985-02-05        187         83    Manchester United  ...   \n",
       "190871     1992-02-05        175         68  Paris Saint-Germain  ...   \n",
       "192985     1991-06-28        181         70      Manchester City  ...   \n",
       "\n",
       "          mentality_vision  mentality_penalties mentality_composure  \\\n",
       "sofifa_id                                                             \n",
       "158023                  95                   75                  96   \n",
       "188545                  81                   90                  88   \n",
       "20801                   76                   88                  95   \n",
       "190871                  90                   93                  93   \n",
       "192985                  94                   83                  89   \n",
       "\n",
       "           defending_sliding_tackle goalkeeping_handling cam  cdm  gk  \\\n",
       "sofifa_id                                                               \n",
       "158023                           24                   11  93   64  19   \n",
       "188545                           19                    6  86   66  19   \n",
       "20801                            24                   11  86   59  20   \n",
       "190871                           29                    9  89   63  20   \n",
       "192985                           53                   13  89   80  21   \n",
       "\n",
       "           work_rate_attacking  work_rate_deffensive  \n",
       "sofifa_id                                             \n",
       "158023                       2                     1  \n",
       "188545                       3                     2  \n",
       "20801                        3                     1  \n",
       "190871                       3                     2  \n",
       "192985                       3                     3  \n",
       "\n",
       "[5 rows x 55 columns]"
      ]
     },
     "execution_count": 6,
     "metadata": {},
     "output_type": "execute_result"
    }
   ],
   "source": [
    "df.head()"
   ]
  },
  {
   "cell_type": "code",
   "execution_count": 7,
   "id": "65160a2c",
   "metadata": {},
   "outputs": [
    {
     "name": "stderr",
     "output_type": "stream",
     "text": [
      "/Users/cnieto/opt/anaconda3/lib/python3.9/site-packages/sklearn/utils/deprecation.py:143: FutureWarning: The sklearn.utils.testing module is  deprecated in version 0.22 and will be removed in version 0.24. The corresponding classes / functions should instead be imported from sklearn.utils. Anything that cannot be imported from sklearn.utils is now part of the private API.\n",
      "  warnings.warn(message, FutureWarning)\n"
     ]
    }
   ],
   "source": [
    "### IMPORTING SPECIAL LIBRARIES AND INSTALLING THEM IF NECESSARY\n",
    "try:\n",
    "    import pyforest\n",
    "except:\n",
    "    !pip install pyforest\n",
    "    import pyforest\n",
    "\n",
    "try:\n",
    "    from lazypredict.Supervised import LazyRegressor\n",
    "except:\n",
    "    !pip install lazypredict\n",
    "    !brew install libomp\n",
    "    "
   ]
  },
  {
   "cell_type": "code",
   "execution_count": 8,
   "id": "ae24b3d0",
   "metadata": {},
   "outputs": [],
   "source": [
    "# Importing important libraries\n",
    "import pyforest\n",
    "from lazypredict.Supervised import LazyRegressor\n",
    "from pandas.plotting import scatter_matrix\n",
    "# Scikit-learn packages\n",
    "from sklearn.linear_model import LinearRegression\n",
    "from sklearn.tree import DecisionTreeRegressor\n",
    "from sklearn.ensemble import ExtraTreesRegressor\n",
    "from sklearn import metrics\n",
    "from sklearn.metrics import mean_squared_error\n",
    "# Hide warnings\n",
    "import warnings\n",
    "warnings.filterwarnings('ignore')\n",
    "# Setting up max columns displayed to 100\n",
    "pd.options.display.max_columns = 100\n"
   ]
  },
  {
   "cell_type": "code",
   "execution_count": 9,
   "id": "7849a816",
   "metadata": {},
   "outputs": [
    {
     "data": {
      "application/javascript": [
       "\n",
       "        if (window._pyforest_update_imports_cell) { window._pyforest_update_imports_cell('from sklearn.model_selection import train_test_split'); }\n",
       "    "
      ],
      "text/plain": [
       "<IPython.core.display.Javascript object>"
      ]
     },
     "metadata": {},
     "output_type": "display_data"
    }
   ],
   "source": [
    "# Creating train test split with top 5 features\n",
    "X = df[['overall', 'potential', 'international_reputation',\n",
    "       'attacking_short_passing', 'skill_long_passing',\n",
    "       'movement_reactions', 'power_shot_power', 'mentality_vision',\n",
    "       'mentality_composure', 'cam']]\n",
    "y = df.wage_eur\n",
    "# Call train_test_split on the data and capture the results\n",
    "X_train, X_test, y_train, y_test = train_test_split(X, y, random_state=3,test_size=0.25)"
   ]
  },
  {
   "cell_type": "code",
   "execution_count": 69,
   "id": "b2f5ebf6",
   "metadata": {},
   "outputs": [
    {
     "data": {
      "application/javascript": [
       "\n",
       "        if (window._pyforest_update_imports_cell) { window._pyforest_update_imports_cell('import seaborn as sns\\nfrom sklearn.model_selection import train_test_split\\nimport matplotlib.pyplot as plt'); }\n",
       "    "
      ],
      "text/plain": [
       "<IPython.core.display.Javascript object>"
      ]
     },
     "metadata": {},
     "output_type": "display_data"
    }
   ],
   "source": [
    "# Creating second train with top 5 features\n",
    "X_5 = df[['overall', 'potential', 'international_reputation',\n",
    "       'attacking_short_passing', 'skill_long_passing'\n",
    "       ]]\n",
    "y_5 = df.wage_eur\n",
    "# Call train_test_split on the data and capture the results\n",
    "X_5_train, X_5_test, y_5_train, y_5_test = train_test_split(X_5, y_5, random_state=3,test_size=0.25)"
   ]
  },
  {
   "cell_type": "raw",
   "id": "dc980399",
   "metadata": {},
   "source": [
    "# FOR SOME REASON THIS CODE DOES NOT WORK ON JUPYTER NOTEBOOK (it explodes at 90% completition)\n",
    "reg = LazyRegressor(ignore_warnings=False, custom_metric=None)\n",
    "models, predictions = reg.fit(X_train, X_test, y_train, y_test)\n",
    "print(models)\n",
    "\n",
    "reg = LazyRegressor(ignore_warnings=False, custom_metric=None)\n",
    "models, predictions = reg.fit(X_5_train, X_5_test, y_5_train, y_5_test)\n",
    "print(models)"
   ]
  },
  {
   "cell_type": "markdown",
   "id": "8f71544c",
   "metadata": {},
   "source": [
    "#### The Code is ran in Visual studio instead "
   ]
  },
  {
   "cell_type": "raw",
   "id": "e3cfef1a",
   "metadata": {},
   "source": [
    "                                Adjusted R-Squared  R-Squared     RMSE  \\\n",
    "Model                                                                   \n",
    "HistGradientBoostingRegressor                0.75       0.75 10192.84   \n",
    "GradientBoostingRegressor                    0.75       0.75 10204.23   \n",
    "LGBMRegressor                                0.74       0.74 10292.88   \n",
    "PoissonRegressor                             0.74       0.74 10373.34   \n",
    "RandomForestRegressor                        0.73       0.73 10471.99   \n",
    "ExtraTreesRegressor                          0.73       0.73 10523.46   \n",
    "BaggingRegressor                             0.72       0.72 10722.76   \n",
    "XGBRegressor                                 0.71       0.71 10955.38   \n",
    "KNeighborsRegressor                          0.66       0.66 11863.96   \n",
    "MLPRegressor                                 0.62       0.63 12398.99   \n",
    "GammaRegressor                               0.62       0.62 12425.32   \n",
    "LassoCV                                      0.55       0.55 13510.66   \n",
    "LarsCV                                       0.55       0.55 13511.10   \n",
    "LassoLarsCV                                  0.55       0.55 13511.21   \n",
    "LassoLarsIC                                  0.55       0.55 13511.31   \n",
    "Lasso                                        0.55       0.55 13511.64   \n",
    "BayesianRidge                                0.55       0.55 13511.70   \n",
    "RidgeCV                                      0.55       0.55 13511.71   \n",
    "Ridge                                        0.55       0.55 13511.79   \n",
    "TransformedTargetRegressor                   0.55       0.55 13511.80   \n",
    "LinearRegression                             0.55       0.55 13511.80   \n",
    "Lars                                         0.55       0.55 13511.80   \n",
    "LassoLars                                    0.55       0.55 13516.52   \n",
    "OrthogonalMatchingPursuitCV                  0.55       0.55 13521.14   \n",
    "SGDRegressor                                 0.55       0.55 13543.68   \n",
    "DecisionTreeRegressor                        0.53       0.53 13814.84   \n",
    "ElasticNet                                   0.52       0.53 13954.22   \n",
    "ExtraTreeRegressor                           0.52       0.52 14030.56   \n",
    "GeneralizedLinearRegressor                   0.49       0.49 14496.63   \n",
    "TweedieRegressor                             0.49       0.49 14496.63   \n",
    "HuberRegressor                               0.48       0.49 14518.43   \n",
    "PassiveAggressiveRegressor                   0.47       0.47 14673.34   \n",
    "AdaBoostRegressor                            0.44       0.44 15174.19   \n",
    "OrthogonalMatchingPursuit                    0.44       0.44 15198.76   \n",
    "RANSACRegressor                              0.38       0.38 15953.49   \n",
    "KernelRidge                                  0.34       0.34 16420.69   \n",
    "ElasticNetCV                                 0.19       0.19 18215.19   \n",
    "LinearSVR                                    0.15       0.15 18661.04   \n",
    "DummyRegressor                              -0.00      -0.00 20256.47   \n",
    "NuSVR                                       -0.03      -0.03 20558.23   \n",
    "SVR                                         -0.07      -0.07 20921.10   \n",
    "GaussianProcessRegressor                    -2.43      -2.42 37455.38   \n",
    "\n",
    "                               Time Taken  \n",
    "Model                                      \n",
    "HistGradientBoostingRegressor        0.33  \n",
    "GradientBoostingRegressor            1.19  \n",
    "LGBMRegressor                        0.16  \n",
    "PoissonRegressor                     0.09  \n",
    "RandomForestRegressor                5.45  \n",
    "ExtraTreesRegressor                  3.18  \n",
    "BaggingRegressor                     0.58  \n",
    "XGBRegressor                         0.79  \n",
    "KNeighborsRegressor                  0.55  \n",
    "MLPRegressor                         9.10  \n",
    "GammaRegressor                       0.04  \n",
    "LassoCV                              0.17  \n",
    "LarsCV                               0.08  \n",
    "LassoLarsCV                          0.06  \n",
    "LassoLarsIC                          0.02  \n",
    "Lasso                                0.04  \n",
    "BayesianRidge                        0.03  \n",
    "RidgeCV                              0.04  \n",
    "Ridge                                0.02  \n",
    "TransformedTargetRegressor           0.02  \n",
    "LinearRegression                     0.03  \n",
    "Lars                                 0.06  \n",
    "LassoLars                            0.03  \n",
    "OrthogonalMatchingPursuitCV          0.04  \n",
    "SGDRegressor                         0.04  \n",
    "DecisionTreeRegressor                0.11  \n",
    "ElasticNet                           0.02  \n",
    "ExtraTreeRegressor                   0.06  \n",
    "GeneralizedLinearRegressor           0.04  \n",
    "TweedieRegressor                     0.04  \n",
    "HuberRegressor                       0.10  \n",
    "PassiveAggressiveRegressor           0.04  \n",
    "AdaBoostRegressor                    0.69  \n",
    "OrthogonalMatchingPursuit            0.02  \n",
    "RANSACRegressor                      0.12  \n",
    "KernelRidge                         33.99  \n",
    "ElasticNetCV                         0.15  \n",
    "LinearSVR                            0.03  \n",
    "DummyRegressor                       0.02  \n",
    "NuSVR                                7.48  \n",
    "SVR                                  8.67  \n",
    "GaussianProcessRegressor            70.84\n",
    "\n",
    "                               Adjusted R-Squared  R-Squared     RMSE  \\\n",
    "Model                                                                   \n",
    "HistGradientBoostingRegressor                0.75       0.75 10192.84   \n",
    "GradientBoostingRegressor                    0.75       0.75 10204.23   \n",
    "LGBMRegressor                                0.74       0.74 10292.88   \n",
    "PoissonRegressor                             0.74       0.74 10373.34   \n",
    "RandomForestRegressor                        0.73       0.73 10471.99   \n",
    "ExtraTreesRegressor                          0.73       0.73 10523.46   \n",
    "BaggingRegressor                             0.72       0.72 10722.76   \n",
    "XGBRegressor                                 0.71       0.71 10955.38   \n",
    "KNeighborsRegressor                          0.66       0.66 11863.96   \n",
    "MLPRegressor                                 0.62       0.63 12398.99   \n",
    "GammaRegressor                               0.62       0.62 12425.32   \n",
    "LassoCV                                      0.55       0.55 13510.66   \n",
    "LarsCV                                       0.55       0.55 13511.10   \n",
    "LassoLarsCV                                  0.55       0.55 13511.21   \n",
    "LassoLarsIC                                  0.55       0.55 13511.31   \n",
    "Lasso                                        0.55       0.55 13511.64   \n",
    "BayesianRidge                                0.55       0.55 13511.70   \n",
    "RidgeCV                                      0.55       0.55 13511.71   \n",
    "Ridge                                        0.55       0.55 13511.79   \n",
    "TransformedTargetRegressor                   0.55       0.55 13511.80   \n",
    "LinearRegression                             0.55       0.55 13511.80   \n",
    "Lars                                         0.55       0.55 13511.80   \n",
    "LassoLars                                    0.55       0.55 13516.52   \n",
    "OrthogonalMatchingPursuitCV                  0.55       0.55 13521.14   \n",
    "SGDRegressor                                 0.55       0.55 13543.68   \n",
    "DecisionTreeRegressor                        0.53       0.53 13814.84   \n",
    "ElasticNet                                   0.52       0.53 13954.22   \n",
    "ExtraTreeRegressor                           0.52       0.52 14030.56   \n",
    "GeneralizedLinearRegressor                   0.49       0.49 14496.63   \n",
    "TweedieRegressor                             0.49       0.49 14496.63   \n",
    "HuberRegressor                               0.48       0.49 14518.43   \n",
    "PassiveAggressiveRegressor                   0.47       0.47 14673.34   \n",
    "AdaBoostRegressor                            0.44       0.44 15174.19   \n",
    "OrthogonalMatchingPursuit                    0.44       0.44 15198.76   \n",
    "RANSACRegressor                              0.38       0.38 15953.49   \n",
    "KernelRidge                                  0.34       0.34 16420.69   \n",
    "ElasticNetCV                                 0.19       0.19 18215.19   \n",
    "LinearSVR                                    0.15       0.15 18661.04   \n",
    "DummyRegressor                              -0.00      -0.00 20256.47   \n",
    "NuSVR                                       -0.03      -0.03 20558.23   \n",
    "SVR                                         -0.07      -0.07 20921.10   \n",
    "GaussianProcessRegressor                    -2.43      -2.42 37455.38   \n",
    "\n",
    "                               Time Taken  \n",
    "Model                                      \n",
    "HistGradientBoostingRegressor        1.03  \n",
    "GradientBoostingRegressor            1.27  \n",
    "LGBMRegressor                        0.44  \n",
    "PoissonRegressor                     0.09  \n",
    "RandomForestRegressor                5.52  \n",
    "ExtraTreesRegressor                  3.24  \n",
    "BaggingRegressor                     0.58  \n",
    "XGBRegressor                         1.03  \n",
    "KNeighborsRegressor                  0.57  \n",
    "MLPRegressor                        11.31  \n",
    "GammaRegressor                       0.04  \n",
    "LassoCV                              0.18  \n",
    "LarsCV                               0.07  \n",
    "LassoLarsCV                          0.08  \n",
    "LassoLarsIC                          0.03  \n",
    "Lasso                                0.04  \n",
    "BayesianRidge                        0.03  \n",
    "RidgeCV                              0.03  \n",
    "Ridge                                0.02  \n",
    "TransformedTargetRegressor           0.02  \n",
    "LinearRegression                     0.02  \n",
    "Lars                                 0.03  \n",
    "LassoLars                            0.02  \n",
    "OrthogonalMatchingPursuitCV          0.04  \n",
    "SGDRegressor                         0.05  \n",
    "DecisionTreeRegressor                0.12  \n",
    "ElasticNet                           0.02  \n",
    "ExtraTreeRegressor                   0.06  \n",
    "GeneralizedLinearRegressor           0.03  \n",
    "TweedieRegressor                     0.03  \n",
    "HuberRegressor                       0.11  \n",
    "PassiveAggressiveRegressor           0.05  \n",
    "AdaBoostRegressor                    0.67  \n",
    "OrthogonalMatchingPursuit            0.02  \n",
    "RANSACRegressor                      0.14  \n",
    "KernelRidge                         37.81  \n",
    "ElasticNetCV                         0.18  \n",
    "LinearSVR                            0.03  \n",
    "DummyRegressor                       0.02  \n",
    "NuSVR                                7.42  \n",
    "SVR                                  8.96  \n",
    "GaussianProcessRegressor            77.38  "
   ]
  },
  {
   "cell_type": "code",
   "execution_count": 11,
   "id": "7f6d2136",
   "metadata": {},
   "outputs": [],
   "source": [
    "from sklearn.model_selection import GridSearchCV\n",
    "from sklearn.ensemble import HistGradientBoostingRegressor\n",
    "from sklearn.ensemble import GradientBoostingRegressor\n",
    "from lightgbm import LGBMRegressor\n",
    "from sklearn.linear_model import PoissonRegressor\n",
    "from sklearn.ensemble import RandomForestRegressor\n",
    "import warnings\n",
    "warnings.filterwarnings('ignore')"
   ]
  },
  {
   "cell_type": "code",
   "execution_count": 12,
   "id": "1ee3708e",
   "metadata": {},
   "outputs": [],
   "source": [
    "regressors = [\n",
    "    HistGradientBoostingRegressor(random_state=0), \n",
    "    GradientBoostingRegressor(), \n",
    "    LGBMRegressor(),\n",
    "    PoissonRegressor()\n",
    "    #RandomForestRegressor()\n",
    "]"
   ]
  },
  {
   "cell_type": "code",
   "execution_count": 13,
   "id": "8164a741",
   "metadata": {},
   "outputs": [],
   "source": [
    "# parameter grids for the various regressors\n",
    "HistRegress_parameters = {\n",
    "    'regressor__loss' : ['least_squares', 'least_absolute_deviation', 'poisson'],\n",
    "    'regressor__max_iter' : [10,100,1000],\n",
    "    'regressor__max_leaf_nodes':[21,31,41]\n",
    "}\n",
    "GradientRegress_parameters = {\n",
    "    'regressor__loss' : ['ls', 'lad', 'huber', 'quantile'],\n",
    "    'regressor__n_estimators' : [100,150,250]\n",
    "}\n",
    "LgbtRegress_parameters = {\n",
    "    'regressor__boosting_type': ['gbdt','dart','goss'],\n",
    "    'regressor__num_leaves' : [21,31,41]\n",
    "}\n",
    "PoissonRegress_parameters = {\n",
    "    'regressor__alpha': [1,0.5,0.1,1.5,0.7],\n",
    "    'regressor__max_iter' : [10,100,1000,2000]\n",
    "}\n",
    "#RForestRegress_parameters = {\n",
    "#    'regressor__n_estimators': [10,100,1000],\n",
    "#    'regressor__criterion' : ['mse','mae']\n",
    "#}"
   ]
  },
  {
   "cell_type": "code",
   "execution_count": 14,
   "id": "23a98a3e",
   "metadata": {},
   "outputs": [],
   "source": [
    "# stores all the parameters in a list \n",
    "parameters = [\n",
    "    HistRegress_parameters,\n",
    "    GradientRegress_parameters,\n",
    "    LgbtRegress_parameters,\n",
    "    PoissonRegress_parameters\n",
    "    #RForestRegress_parameters\n",
    "\n",
    "]"
   ]
  },
  {
   "cell_type": "code",
   "execution_count": 15,
   "id": "b8dbc231",
   "metadata": {},
   "outputs": [],
   "source": [
    "estimators = []"
   ]
  },
  {
   "cell_type": "code",
   "execution_count": 16,
   "id": "e0ab6865",
   "metadata": {},
   "outputs": [],
   "source": [
    "from sklearn.pipeline import Pipeline"
   ]
  },
  {
   "cell_type": "raw",
   "id": "abb01353",
   "metadata": {},
   "source": [
    "# FOR SOME REASON THIS CODE DOES NOT WORK ON JUPYTER NOTEBOOK\n",
    "# iterate through each classifier and use GridSearchCV\n",
    "for i, regressor in enumerate(regressors):\n",
    "    # create a Pipeline object\n",
    "    print(f'I\"m in cycle {i}')\n",
    "    pipe = Pipeline(steps=[\n",
    "        ('regressor', regressor)\n",
    "    ])\n",
    "    clf = GridSearchCV(pipe,              # model\n",
    "              param_grid = parameters[i], # hyperparameters\n",
    "              #scoring='accuracy',         # metric for scoring\n",
    "              cv=10)                      # number of folds\n",
    "    clf.fit(X_train, y_train)\n",
    "    print(\"Tuned Hyperparameters :\", clf.best_params_)\n",
    "    print(\"Accuracy :\", clf.best_score_)\n",
    "    # add the clf to the estimators list\n",
    "    estimators.append((regressor.__class__.__name__, clf))\n",
    "    clf.fit(X_5_train, y_5_train)\n",
    "    print(\"Tuned Hyperparameters :\", clf.best_params_)\n",
    "    print(\"Accuracy :\", clf.best_score_)\n",
    "    # add the clf to the estimators list\n",
    "    estimators.append((regressor.__class__.__name__, clf))\n",
    "print(estimators)"
   ]
  },
  {
   "cell_type": "markdown",
   "id": "5018befa",
   "metadata": {},
   "source": [
    "#### The Code is ran in Visual studio instead "
   ]
  },
  {
   "cell_type": "raw",
   "id": "f4d465e0",
   "metadata": {},
   "source": [
    "I\"m in 0 cycle\n",
    "Tuned Hyperparameters : {'regressor__loss': 'least_squares', 'regressor__max_iter': 100, 'regressor__max_leaf_nodes': 21}\n",
    "Accuracy : 0.7584114835922232\n",
    "Tuned Hyperparameters : {'regressor__loss': 'least_squares', 'regressor__max_iter': 100, 'regressor__max_leaf_nodes': 21}\n",
    "Accuracy : 0.7584114835922232\n",
    "I\"m in 1 cycle\n",
    "Tuned Hyperparameters : {'regressor__loss': 'lad', 'regressor__n_estimators': 150}\n",
    "Accuracy : 0.7614018760825184\n",
    "Tuned Hyperparameters : {'regressor__loss': 'huber', 'regressor__n_estimators': 100}\n",
    "Accuracy : 0.7611986369434683\n",
    "I\"m in 2 cycle\n",
    "Tuned Hyperparameters : {'regressor__boosting_type': 'gbdt', 'regressor__num_leaves': 21}\n",
    "Accuracy : 0.7580336711343836\n",
    "Tuned Hyperparameters : {'regressor__boosting_type': 'gbdt', 'regressor__num_leaves': 21}\n",
    "Accuracy : 0.7580336711343836\n",
    "I\"m in 3 cycle\n",
    "Tuned Hyperparameters : {'regressor__alpha': 1.5, 'regressor__max_iter': 1000}\n",
    "Accuracy : 0.8039669236974369\n",
    "Tuned Hyperparameters : {'regressor__alpha': 1.5, 'regressor__max_iter': 1000}\n",
    "Accuracy : 0.8039669236974369\n",
    "[('HistGradientBoostingRegressor', GridSearchCV(cv=10,\n",
    "             estimator=Pipeline(steps=[('regressor',\n",
    "                                        HistGradientBoostingRegressor(random_state=0))]),\n",
    "             param_grid={'regressor__loss': ['least_squares',\n",
    "                                             'least_absolute_deviation',\n",
    "                                             'poisson'],\n",
    "                         'regressor__max_iter': [10, 100, 1000],\n",
    "                         'regressor__max_leaf_nodes': [21, 31, 41]})), ('HistGradientBoostingRegressor', GridSearchCV(cv=10,\n",
    "             estimator=Pipeline(steps=[('regressor',\n",
    "                                        HistGradientBoostingRegressor(random_state=0))]),\n",
    "             param_grid={'regressor__loss': ['least_squares',\n",
    "                                             'least_absolute_deviation',\n",
    "                                             'poisson'],\n",
    "                         'regressor__max_iter': [10, 100, 1000],\n",
    "                         'regressor__max_leaf_nodes': [21, 31, 41]})), ('GradientBoostingRegressor', GridSearchCV(cv=10,\n",
    "             estimator=Pipeline(steps=[('regressor',\n",
    "                                        GradientBoostingRegressor())]),\n",
    "             param_grid={'regressor__loss': ['ls', 'lad', 'huber', 'quantile'],\n",
    "                         'regressor__n_estimators': [100, 150, 250]})), ('GradientBoostingRegressor', GridSearchCV(cv=10,\n",
    "             estimator=Pipeline(steps=[('regressor',\n",
    "                                        GradientBoostingRegressor())]),\n",
    "             param_grid={'regressor__loss': ['ls', 'lad', 'huber', 'quantile'],\n",
    "                         'regressor__n_estimators': [100, 150, 250]})), ('LGBMRegressor', GridSearchCV(cv=10, estimator=Pipeline(steps=[('regressor', LGBMRegressor())]),\n",
    "             param_grid={'regressor__boosting_type': ['gbdt', 'dart', 'goss'],\n",
    "                         'regressor__num_leaves': [21, 31, 41]})), ('LGBMRegressor', GridSearchCV(cv=10, estimator=Pipeline(steps=[('regressor', LGBMRegressor())]),\n",
    "             param_grid={'regressor__boosting_type': ['gbdt', 'dart', 'goss'],\n",
    "                         'regressor__num_leaves': [21, 31, 41]})), ('PoissonRegressor', GridSearchCV(cv=10,\n",
    "             estimator=Pipeline(steps=[('regressor', PoissonRegressor())]),\n",
    "             param_grid={'regressor__alpha': [1, 0.5, 0.1, 1.5, 0.7],\n",
    "                         'regressor__max_iter': [10, 100, 1000, 2000]})), ('PoissonRegressor', GridSearchCV(cv=10,\n",
    "             estimator=Pipeline(steps=[('regressor', PoissonRegressor())]),\n",
    "             param_grid={'regressor__alpha': [1, 0.5, 0.1, 1.5, 0.7],\n",
    "                         'regressor__max_iter': [10, 100, 1000, 2000]}))]"
   ]
  },
  {
   "cell_type": "code",
   "execution_count": 17,
   "id": "73d78f1f",
   "metadata": {},
   "outputs": [
    {
     "name": "stdout",
     "output_type": "stream",
     "text": [
      "Help on class GradientBoostingRegressor in module sklearn.ensemble._gb:\n",
      "\n",
      "class GradientBoostingRegressor(sklearn.base.RegressorMixin, BaseGradientBoosting)\n",
      " |  GradientBoostingRegressor(*, loss='ls', learning_rate=0.1, n_estimators=100, subsample=1.0, criterion='friedman_mse', min_samples_split=2, min_samples_leaf=1, min_weight_fraction_leaf=0.0, max_depth=3, min_impurity_decrease=0.0, min_impurity_split=None, init=None, random_state=None, max_features=None, alpha=0.9, verbose=0, max_leaf_nodes=None, warm_start=False, presort='deprecated', validation_fraction=0.1, n_iter_no_change=None, tol=0.0001, ccp_alpha=0.0)\n",
      " |  \n",
      " |  Gradient Boosting for regression.\n",
      " |  \n",
      " |  GB builds an additive model in a forward stage-wise fashion;\n",
      " |  it allows for the optimization of arbitrary differentiable loss functions.\n",
      " |  In each stage a regression tree is fit on the negative gradient of the\n",
      " |  given loss function.\n",
      " |  \n",
      " |  Read more in the :ref:`User Guide <gradient_boosting>`.\n",
      " |  \n",
      " |  Parameters\n",
      " |  ----------\n",
      " |  loss : {'ls', 'lad', 'huber', 'quantile'}, default='ls'\n",
      " |      loss function to be optimized. 'ls' refers to least squares\n",
      " |      regression. 'lad' (least absolute deviation) is a highly robust\n",
      " |      loss function solely based on order information of the input\n",
      " |      variables. 'huber' is a combination of the two. 'quantile'\n",
      " |      allows quantile regression (use `alpha` to specify the quantile).\n",
      " |  \n",
      " |  learning_rate : float, default=0.1\n",
      " |      learning rate shrinks the contribution of each tree by `learning_rate`.\n",
      " |      There is a trade-off between learning_rate and n_estimators.\n",
      " |  \n",
      " |  n_estimators : int, default=100\n",
      " |      The number of boosting stages to perform. Gradient boosting\n",
      " |      is fairly robust to over-fitting so a large number usually\n",
      " |      results in better performance.\n",
      " |  \n",
      " |  subsample : float, default=1.0\n",
      " |      The fraction of samples to be used for fitting the individual base\n",
      " |      learners. If smaller than 1.0 this results in Stochastic Gradient\n",
      " |      Boosting. `subsample` interacts with the parameter `n_estimators`.\n",
      " |      Choosing `subsample < 1.0` leads to a reduction of variance\n",
      " |      and an increase in bias.\n",
      " |  \n",
      " |  criterion : {'friedman_mse', 'mse', 'mae'}, default='friedman_mse'\n",
      " |      The function to measure the quality of a split. Supported criteria\n",
      " |      are \"friedman_mse\" for the mean squared error with improvement\n",
      " |      score by Friedman, \"mse\" for mean squared error, and \"mae\" for\n",
      " |      the mean absolute error. The default value of \"friedman_mse\" is\n",
      " |      generally the best as it can provide a better approximation in\n",
      " |      some cases.\n",
      " |  \n",
      " |      .. versionadded:: 0.18\n",
      " |  \n",
      " |  min_samples_split : int or float, default=2\n",
      " |      The minimum number of samples required to split an internal node:\n",
      " |  \n",
      " |      - If int, then consider `min_samples_split` as the minimum number.\n",
      " |      - If float, then `min_samples_split` is a fraction and\n",
      " |        `ceil(min_samples_split * n_samples)` are the minimum\n",
      " |        number of samples for each split.\n",
      " |  \n",
      " |      .. versionchanged:: 0.18\n",
      " |         Added float values for fractions.\n",
      " |  \n",
      " |  min_samples_leaf : int or float, default=1\n",
      " |      The minimum number of samples required to be at a leaf node.\n",
      " |      A split point at any depth will only be considered if it leaves at\n",
      " |      least ``min_samples_leaf`` training samples in each of the left and\n",
      " |      right branches.  This may have the effect of smoothing the model,\n",
      " |      especially in regression.\n",
      " |  \n",
      " |      - If int, then consider `min_samples_leaf` as the minimum number.\n",
      " |      - If float, then `min_samples_leaf` is a fraction and\n",
      " |        `ceil(min_samples_leaf * n_samples)` are the minimum\n",
      " |        number of samples for each node.\n",
      " |  \n",
      " |      .. versionchanged:: 0.18\n",
      " |         Added float values for fractions.\n",
      " |  \n",
      " |  min_weight_fraction_leaf : float, default=0.0\n",
      " |      The minimum weighted fraction of the sum total of weights (of all\n",
      " |      the input samples) required to be at a leaf node. Samples have\n",
      " |      equal weight when sample_weight is not provided.\n",
      " |  \n",
      " |  max_depth : int, default=3\n",
      " |      maximum depth of the individual regression estimators. The maximum\n",
      " |      depth limits the number of nodes in the tree. Tune this parameter\n",
      " |      for best performance; the best value depends on the interaction\n",
      " |      of the input variables.\n",
      " |  \n",
      " |  min_impurity_decrease : float, default=0.0\n",
      " |      A node will be split if this split induces a decrease of the impurity\n",
      " |      greater than or equal to this value.\n",
      " |  \n",
      " |      The weighted impurity decrease equation is the following::\n",
      " |  \n",
      " |          N_t / N * (impurity - N_t_R / N_t * right_impurity\n",
      " |                              - N_t_L / N_t * left_impurity)\n",
      " |  \n",
      " |      where ``N`` is the total number of samples, ``N_t`` is the number of\n",
      " |      samples at the current node, ``N_t_L`` is the number of samples in the\n",
      " |      left child, and ``N_t_R`` is the number of samples in the right child.\n",
      " |  \n",
      " |      ``N``, ``N_t``, ``N_t_R`` and ``N_t_L`` all refer to the weighted sum,\n",
      " |      if ``sample_weight`` is passed.\n",
      " |  \n",
      " |      .. versionadded:: 0.19\n",
      " |  \n",
      " |  min_impurity_split : float, default=None\n",
      " |      Threshold for early stopping in tree growth. A node will split\n",
      " |      if its impurity is above the threshold, otherwise it is a leaf.\n",
      " |  \n",
      " |      .. deprecated:: 0.19\n",
      " |         ``min_impurity_split`` has been deprecated in favor of\n",
      " |         ``min_impurity_decrease`` in 0.19. The default value of\n",
      " |         ``min_impurity_split`` has changed from 1e-7 to 0 in 0.23 and it\n",
      " |         will be removed in 0.25. Use ``min_impurity_decrease`` instead.\n",
      " |  \n",
      " |  init : estimator or 'zero', default=None\n",
      " |      An estimator object that is used to compute the initial predictions.\n",
      " |      ``init`` has to provide :term:`fit` and :term:`predict`. If 'zero', the\n",
      " |      initial raw predictions are set to zero. By default a\n",
      " |      ``DummyEstimator`` is used, predicting either the average target value\n",
      " |      (for loss='ls'), or a quantile for the other losses.\n",
      " |  \n",
      " |  random_state : int or RandomState, default=None\n",
      " |      Controls the random seed given to each Tree estimator at each\n",
      " |      boosting iteration.\n",
      " |      In addition, it controls the random permutation of the features at\n",
      " |      each split (see Notes for more details).\n",
      " |      It also controls the random spliting of the training data to obtain a\n",
      " |      validation set if `n_iter_no_change` is not None.\n",
      " |      Pass an int for reproducible output across multiple function calls.\n",
      " |      See :term:`Glossary <random_state>`.\n",
      " |  \n",
      " |  max_features : {'auto', 'sqrt', 'log2'}, int or float, default=None\n",
      " |      The number of features to consider when looking for the best split:\n",
      " |  \n",
      " |      - If int, then consider `max_features` features at each split.\n",
      " |      - If float, then `max_features` is a fraction and\n",
      " |        `int(max_features * n_features)` features are considered at each\n",
      " |        split.\n",
      " |      - If \"auto\", then `max_features=n_features`.\n",
      " |      - If \"sqrt\", then `max_features=sqrt(n_features)`.\n",
      " |      - If \"log2\", then `max_features=log2(n_features)`.\n",
      " |      - If None, then `max_features=n_features`.\n",
      " |  \n",
      " |      Choosing `max_features < n_features` leads to a reduction of variance\n",
      " |      and an increase in bias.\n",
      " |  \n",
      " |      Note: the search for a split does not stop until at least one\n",
      " |      valid partition of the node samples is found, even if it requires to\n",
      " |      effectively inspect more than ``max_features`` features.\n",
      " |  \n",
      " |  alpha : float, default=0.9\n",
      " |      The alpha-quantile of the huber loss function and the quantile\n",
      " |      loss function. Only if ``loss='huber'`` or ``loss='quantile'``.\n",
      " |  \n",
      " |  verbose : int, default=0\n",
      " |      Enable verbose output. If 1 then it prints progress and performance\n",
      " |      once in a while (the more trees the lower the frequency). If greater\n",
      " |      than 1 then it prints progress and performance for every tree.\n",
      " |  \n",
      " |  max_leaf_nodes : int, default=None\n",
      " |      Grow trees with ``max_leaf_nodes`` in best-first fashion.\n",
      " |      Best nodes are defined as relative reduction in impurity.\n",
      " |      If None then unlimited number of leaf nodes.\n",
      " |  \n",
      " |  warm_start : bool, default=False\n",
      " |      When set to ``True``, reuse the solution of the previous call to fit\n",
      " |      and add more estimators to the ensemble, otherwise, just erase the\n",
      " |      previous solution. See :term:`the Glossary <warm_start>`.\n",
      " |  \n",
      " |  presort : deprecated, default='deprecated'\n",
      " |      This parameter is deprecated and will be removed in v0.24.\n",
      " |  \n",
      " |      .. deprecated :: 0.22\n",
      " |  \n",
      " |  validation_fraction : float, default=0.1\n",
      " |      The proportion of training data to set aside as validation set for\n",
      " |      early stopping. Must be between 0 and 1.\n",
      " |      Only used if ``n_iter_no_change`` is set to an integer.\n",
      " |  \n",
      " |      .. versionadded:: 0.20\n",
      " |  \n",
      " |  n_iter_no_change : int, default=None\n",
      " |      ``n_iter_no_change`` is used to decide if early stopping will be used\n",
      " |      to terminate training when validation score is not improving. By\n",
      " |      default it is set to None to disable early stopping. If set to a\n",
      " |      number, it will set aside ``validation_fraction`` size of the training\n",
      " |      data as validation and terminate training when validation score is not\n",
      " |      improving in all of the previous ``n_iter_no_change`` numbers of\n",
      " |      iterations.\n",
      " |  \n",
      " |      .. versionadded:: 0.20\n",
      " |  \n",
      " |  tol : float, default=1e-4\n",
      " |      Tolerance for the early stopping. When the loss is not improving\n",
      " |      by at least tol for ``n_iter_no_change`` iterations (if set to a\n",
      " |      number), the training stops.\n",
      " |  \n",
      " |      .. versionadded:: 0.20\n",
      " |  \n",
      " |  ccp_alpha : non-negative float, default=0.0\n",
      " |      Complexity parameter used for Minimal Cost-Complexity Pruning. The\n",
      " |      subtree with the largest cost complexity that is smaller than\n",
      " |      ``ccp_alpha`` will be chosen. By default, no pruning is performed. See\n",
      " |      :ref:`minimal_cost_complexity_pruning` for details.\n",
      " |  \n",
      " |      .. versionadded:: 0.22\n",
      " |  \n",
      " |  Attributes\n",
      " |  ----------\n",
      " |  feature_importances_ : ndarray of shape (n_features,)\n",
      " |      The impurity-based feature importances.\n",
      " |      The higher, the more important the feature.\n",
      " |      The importance of a feature is computed as the (normalized)\n",
      " |      total reduction of the criterion brought by that feature.  It is also\n",
      " |      known as the Gini importance.\n",
      " |  \n",
      " |      Warning: impurity-based feature importances can be misleading for\n",
      " |      high cardinality features (many unique values). See\n",
      " |      :func:`sklearn.inspection.permutation_importance` as an alternative.\n",
      " |  \n",
      " |  oob_improvement_ : ndarray of shape (n_estimators,)\n",
      " |      The improvement in loss (= deviance) on the out-of-bag samples\n",
      " |      relative to the previous iteration.\n",
      " |      ``oob_improvement_[0]`` is the improvement in\n",
      " |      loss of the first stage over the ``init`` estimator.\n",
      " |      Only available if ``subsample < 1.0``\n",
      " |  \n",
      " |  train_score_ : ndarray of shape (n_estimators,)\n",
      " |      The i-th score ``train_score_[i]`` is the deviance (= loss) of the\n",
      " |      model at iteration ``i`` on the in-bag sample.\n",
      " |      If ``subsample == 1`` this is the deviance on the training data.\n",
      " |  \n",
      " |  loss_ : LossFunction\n",
      " |      The concrete ``LossFunction`` object.\n",
      " |  \n",
      " |  init_ : estimator\n",
      " |      The estimator that provides the initial predictions.\n",
      " |      Set via the ``init`` argument or ``loss.init_estimator``.\n",
      " |  \n",
      " |  estimators_ : ndarray of DecisionTreeRegressor of shape (n_estimators, 1)\n",
      " |      The collection of fitted sub-estimators.\n",
      " |  \n",
      " |  n_features_ : int\n",
      " |      The number of data features.\n",
      " |  \n",
      " |  max_features_ : int\n",
      " |      The inferred value of max_features.\n",
      " |  \n",
      " |  Notes\n",
      " |  -----\n",
      " |  The features are always randomly permuted at each split. Therefore,\n",
      " |  the best found split may vary, even with the same training data and\n",
      " |  ``max_features=n_features``, if the improvement of the criterion is\n",
      " |  identical for several splits enumerated during the search of the best\n",
      " |  split. To obtain a deterministic behaviour during fitting,\n",
      " |  ``random_state`` has to be fixed.\n",
      " |  \n",
      " |  Examples\n",
      " |  --------\n",
      " |  >>> from sklearn.datasets import make_regression\n",
      " |  >>> from sklearn.ensemble import GradientBoostingRegressor\n",
      " |  >>> from sklearn.model_selection import train_test_split\n",
      " |  >>> X, y = make_regression(random_state=0)\n",
      " |  >>> X_train, X_test, y_train, y_test = train_test_split(\n",
      " |  ...     X, y, random_state=0)\n",
      " |  >>> reg = GradientBoostingRegressor(random_state=0)\n",
      " |  >>> reg.fit(X_train, y_train)\n",
      " |  GradientBoostingRegressor(random_state=0)\n",
      " |  >>> reg.predict(X_test[1:2])\n",
      " |  array([-61...])\n",
      " |  >>> reg.score(X_test, y_test)\n",
      " |  0.4...\n",
      " |  \n",
      " |  See also\n",
      " |  --------\n",
      " |  sklearn.ensemble.HistGradientBoostingRegressor,\n",
      " |  sklearn.tree.DecisionTreeRegressor, RandomForestRegressor\n",
      " |  \n",
      " |  References\n",
      " |  ----------\n",
      " |  J. Friedman, Greedy Function Approximation: A Gradient Boosting\n",
      " |  Machine, The Annals of Statistics, Vol. 29, No. 5, 2001.\n",
      " |  \n",
      " |  J. Friedman, Stochastic Gradient Boosting, 1999\n",
      " |  \n",
      " |  T. Hastie, R. Tibshirani and J. Friedman.\n",
      " |  Elements of Statistical Learning Ed. 2, Springer, 2009.\n",
      " |  \n",
      " |  Method resolution order:\n",
      " |      GradientBoostingRegressor\n",
      " |      sklearn.base.RegressorMixin\n",
      " |      BaseGradientBoosting\n",
      " |      sklearn.ensemble._base.BaseEnsemble\n",
      " |      sklearn.base.MetaEstimatorMixin\n",
      " |      sklearn.base.BaseEstimator\n",
      " |      builtins.object\n",
      " |  \n",
      " |  Methods defined here:\n",
      " |  \n",
      " |  __init__(self, *, loss='ls', learning_rate=0.1, n_estimators=100, subsample=1.0, criterion='friedman_mse', min_samples_split=2, min_samples_leaf=1, min_weight_fraction_leaf=0.0, max_depth=3, min_impurity_decrease=0.0, min_impurity_split=None, init=None, random_state=None, max_features=None, alpha=0.9, verbose=0, max_leaf_nodes=None, warm_start=False, presort='deprecated', validation_fraction=0.1, n_iter_no_change=None, tol=0.0001, ccp_alpha=0.0)\n",
      " |      Initialize self.  See help(type(self)) for accurate signature.\n",
      " |  \n",
      " |  apply(self, X)\n",
      " |      Apply trees in the ensemble to X, return leaf indices.\n",
      " |      \n",
      " |      .. versionadded:: 0.17\n",
      " |      \n",
      " |      Parameters\n",
      " |      ----------\n",
      " |      X : {array-like, sparse matrix} of shape (n_samples, n_features)\n",
      " |          The input samples. Internally, its dtype will be converted to\n",
      " |          ``dtype=np.float32``. If a sparse matrix is provided, it will\n",
      " |          be converted to a sparse ``csr_matrix``.\n",
      " |      \n",
      " |      Returns\n",
      " |      -------\n",
      " |      X_leaves : array-like of shape (n_samples, n_estimators)\n",
      " |          For each datapoint x in X and for each tree in the ensemble,\n",
      " |          return the index of the leaf x ends up in each estimator.\n",
      " |  \n",
      " |  predict(self, X)\n",
      " |      Predict regression target for X.\n",
      " |      \n",
      " |      Parameters\n",
      " |      ----------\n",
      " |      X : {array-like, sparse matrix} of shape (n_samples, n_features)\n",
      " |          The input samples. Internally, it will be converted to\n",
      " |          ``dtype=np.float32`` and if a sparse matrix is provided\n",
      " |          to a sparse ``csr_matrix``.\n",
      " |      \n",
      " |      Returns\n",
      " |      -------\n",
      " |      y : ndarray of shape (n_samples,)\n",
      " |          The predicted values.\n",
      " |  \n",
      " |  staged_predict(self, X)\n",
      " |      Predict regression target at each stage for X.\n",
      " |      \n",
      " |      This method allows monitoring (i.e. determine error on testing set)\n",
      " |      after each stage.\n",
      " |      \n",
      " |      Parameters\n",
      " |      ----------\n",
      " |      X : {array-like, sparse matrix} of shape (n_samples, n_features)\n",
      " |          The input samples. Internally, it will be converted to\n",
      " |          ``dtype=np.float32`` and if a sparse matrix is provided\n",
      " |          to a sparse ``csr_matrix``.\n",
      " |      \n",
      " |      Returns\n",
      " |      -------\n",
      " |      y : generator of ndarray of shape (n_samples,)\n",
      " |          The predicted value of the input samples.\n",
      " |  \n",
      " |  ----------------------------------------------------------------------\n",
      " |  Data and other attributes defined here:\n",
      " |  \n",
      " |  __abstractmethods__ = frozenset()\n",
      " |  \n",
      " |  ----------------------------------------------------------------------\n",
      " |  Methods inherited from sklearn.base.RegressorMixin:\n",
      " |  \n",
      " |  score(self, X, y, sample_weight=None)\n",
      " |      Return the coefficient of determination R^2 of the prediction.\n",
      " |      \n",
      " |      The coefficient R^2 is defined as (1 - u/v), where u is the residual\n",
      " |      sum of squares ((y_true - y_pred) ** 2).sum() and v is the total\n",
      " |      sum of squares ((y_true - y_true.mean()) ** 2).sum().\n",
      " |      The best possible score is 1.0 and it can be negative (because the\n",
      " |      model can be arbitrarily worse). A constant model that always\n",
      " |      predicts the expected value of y, disregarding the input features,\n",
      " |      would get a R^2 score of 0.0.\n",
      " |      \n",
      " |      Parameters\n",
      " |      ----------\n",
      " |      X : array-like of shape (n_samples, n_features)\n",
      " |          Test samples. For some estimators this may be a\n",
      " |          precomputed kernel matrix or a list of generic objects instead,\n",
      " |          shape = (n_samples, n_samples_fitted),\n",
      " |          where n_samples_fitted is the number of\n",
      " |          samples used in the fitting for the estimator.\n",
      " |      \n",
      " |      y : array-like of shape (n_samples,) or (n_samples, n_outputs)\n",
      " |          True values for X.\n",
      " |      \n",
      " |      sample_weight : array-like of shape (n_samples,), default=None\n",
      " |          Sample weights.\n",
      " |      \n",
      " |      Returns\n",
      " |      -------\n",
      " |      score : float\n",
      " |          R^2 of self.predict(X) wrt. y.\n",
      " |      \n",
      " |      Notes\n",
      " |      -----\n",
      " |      The R2 score used when calling ``score`` on a regressor uses\n",
      " |      ``multioutput='uniform_average'`` from version 0.23 to keep consistent\n",
      " |      with default value of :func:`~sklearn.metrics.r2_score`.\n",
      " |      This influences the ``score`` method of all the multioutput\n",
      " |      regressors (except for\n",
      " |      :class:`~sklearn.multioutput.MultiOutputRegressor`).\n",
      " |  \n",
      " |  ----------------------------------------------------------------------\n",
      " |  Data descriptors inherited from sklearn.base.RegressorMixin:\n",
      " |  \n",
      " |  __dict__\n",
      " |      dictionary for instance variables (if defined)\n",
      " |  \n",
      " |  __weakref__\n",
      " |      list of weak references to the object (if defined)\n",
      " |  \n",
      " |  ----------------------------------------------------------------------\n",
      " |  Methods inherited from BaseGradientBoosting:\n",
      " |  \n",
      " |  fit(self, X, y, sample_weight=None, monitor=None)\n",
      " |      Fit the gradient boosting model.\n",
      " |      \n",
      " |      Parameters\n",
      " |      ----------\n",
      " |      X : {array-like, sparse matrix} of shape (n_samples, n_features)\n",
      " |          The input samples. Internally, it will be converted to\n",
      " |          ``dtype=np.float32`` and if a sparse matrix is provided\n",
      " |          to a sparse ``csr_matrix``.\n",
      " |      \n",
      " |      y : array-like of shape (n_samples,)\n",
      " |          Target values (strings or integers in classification, real numbers\n",
      " |          in regression)\n",
      " |          For classification, labels must correspond to classes.\n",
      " |      \n",
      " |      sample_weight : array-like of shape (n_samples,), default=None\n",
      " |          Sample weights. If None, then samples are equally weighted. Splits\n",
      " |          that would create child nodes with net zero or negative weight are\n",
      " |          ignored while searching for a split in each node. In the case of\n",
      " |          classification, splits are also ignored if they would result in any\n",
      " |          single class carrying a negative weight in either child node.\n",
      " |      \n",
      " |      monitor : callable, default=None\n",
      " |          The monitor is called after each iteration with the current\n",
      " |          iteration, a reference to the estimator and the local variables of\n",
      " |          ``_fit_stages`` as keyword arguments ``callable(i, self,\n",
      " |          locals())``. If the callable returns ``True`` the fitting procedure\n",
      " |          is stopped. The monitor can be used for various things such as\n",
      " |          computing held-out estimates, early stopping, model introspect, and\n",
      " |          snapshoting.\n",
      " |      \n",
      " |      Returns\n",
      " |      -------\n",
      " |      self : object\n",
      " |  \n",
      " |  ----------------------------------------------------------------------\n",
      " |  Readonly properties inherited from BaseGradientBoosting:\n",
      " |  \n",
      " |  feature_importances_\n",
      " |      The impurity-based feature importances.\n",
      " |      \n",
      " |      The higher, the more important the feature.\n",
      " |      The importance of a feature is computed as the (normalized)\n",
      " |      total reduction of the criterion brought by that feature.  It is also\n",
      " |      known as the Gini importance.\n",
      " |      \n",
      " |      Warning: impurity-based feature importances can be misleading for\n",
      " |      high cardinality features (many unique values). See\n",
      " |      :func:`sklearn.inspection.permutation_importance` as an alternative.\n",
      " |      \n",
      " |      Returns\n",
      " |      -------\n",
      " |      feature_importances_ : array, shape (n_features,)\n",
      " |          The values of this array sum to 1, unless all trees are single node\n",
      " |          trees consisting of only the root node, in which case it will be an\n",
      " |          array of zeros.\n",
      " |  \n",
      " |  ----------------------------------------------------------------------\n",
      " |  Methods inherited from sklearn.ensemble._base.BaseEnsemble:\n",
      " |  \n",
      " |  __getitem__(self, index)\n",
      " |      Return the index'th estimator in the ensemble.\n",
      " |  \n",
      " |  __iter__(self)\n",
      " |      Return iterator over estimators in the ensemble.\n",
      " |  \n",
      " |  __len__(self)\n",
      " |      Return the number of estimators in the ensemble.\n",
      " |  \n",
      " |  ----------------------------------------------------------------------\n",
      " |  Data and other attributes inherited from sklearn.ensemble._base.BaseEnsemble:\n",
      " |  \n",
      " |  __annotations__ = {'_required_parameters': typing.List[str]}\n",
      " |  \n",
      " |  ----------------------------------------------------------------------\n",
      " |  Methods inherited from sklearn.base.BaseEstimator:\n",
      " |  \n",
      " |  __getstate__(self)\n",
      " |  \n",
      " |  __repr__(self, N_CHAR_MAX=700)\n",
      " |      Return repr(self).\n",
      " |  \n",
      " |  __setstate__(self, state)\n",
      " |  \n",
      " |  get_params(self, deep=True)\n",
      " |      Get parameters for this estimator.\n",
      " |      \n",
      " |      Parameters\n",
      " |      ----------\n",
      " |      deep : bool, default=True\n",
      " |          If True, will return the parameters for this estimator and\n",
      " |          contained subobjects that are estimators.\n",
      " |      \n",
      " |      Returns\n",
      " |      -------\n",
      " |      params : mapping of string to any\n",
      " |          Parameter names mapped to their values.\n",
      " |  \n",
      " |  set_params(self, **params)\n",
      " |      Set the parameters of this estimator.\n",
      " |      \n",
      " |      The method works on simple estimators as well as on nested objects\n",
      " |      (such as pipelines). The latter have parameters of the form\n",
      " |      ``<component>__<parameter>`` so that it's possible to update each\n",
      " |      component of a nested object.\n",
      " |      \n",
      " |      Parameters\n",
      " |      ----------\n",
      " |      **params : dict\n",
      " |          Estimator parameters.\n",
      " |      \n",
      " |      Returns\n",
      " |      -------\n",
      " |      self : object\n",
      " |          Estimator instance.\n",
      "\n"
     ]
    }
   ],
   "source": [
    "help(GradientBoostingRegressor)"
   ]
  },
  {
   "cell_type": "code",
   "execution_count": 18,
   "id": "409c02be",
   "metadata": {},
   "outputs": [],
   "source": [
    "### Clustering"
   ]
  },
  {
   "cell_type": "code",
   "execution_count": 19,
   "id": "49d7d7b9",
   "metadata": {},
   "outputs": [],
   "source": [
    "df_cl = df.copy()"
   ]
  },
  {
   "cell_type": "code",
   "execution_count": 20,
   "id": "fd61cb5b",
   "metadata": {},
   "outputs": [],
   "source": [
    "from sklearn.cluster import KMeans"
   ]
  },
  {
   "cell_type": "code",
   "execution_count": 21,
   "id": "79904f30",
   "metadata": {},
   "outputs": [],
   "source": [
    "cluster = KMeans(4)"
   ]
  },
  {
   "cell_type": "code",
   "execution_count": 22,
   "id": "fb4bec8d",
   "metadata": {},
   "outputs": [
    {
     "data": {
      "text/plain": [
       "KMeans(n_clusters=4)"
      ]
     },
     "execution_count": 22,
     "metadata": {},
     "output_type": "execute_result"
    }
   ],
   "source": [
    "cluster.fit(df_cl[['overall', 'potential', 'international_reputation',\n",
    "       'attacking_short_passing', 'skill_long_passing',\n",
    "       'movement_reactions', 'power_shot_power', 'mentality_vision',\n",
    "       'mentality_composure', 'cam','value_eur','wage_eur']])"
   ]
  },
  {
   "cell_type": "code",
   "execution_count": 23,
   "id": "a3ddbbfb",
   "metadata": {},
   "outputs": [],
   "source": [
    "df_cl['KMeans_label'] = cluster.predict(df_cl[['overall', 'potential', 'international_reputation',\n",
    "       'attacking_short_passing', 'skill_long_passing',\n",
    "       'movement_reactions', 'power_shot_power', 'mentality_vision',\n",
    "       'mentality_composure', 'cam','value_eur','wage_eur']])"
   ]
  },
  {
   "cell_type": "code",
   "execution_count": 24,
   "id": "bb8e30e8",
   "metadata": {},
   "outputs": [
    {
     "data": {
      "application/javascript": [
       "\n",
       "        if (window._pyforest_update_imports_cell) { window._pyforest_update_imports_cell('from sklearn.model_selection import train_test_split\\nimport matplotlib.pyplot as plt'); }\n",
       "    "
      ],
      "text/plain": [
       "<IPython.core.display.Javascript object>"
      ]
     },
     "metadata": {},
     "output_type": "display_data"
    },
    {
     "data": {
      "application/javascript": [
       "\n",
       "        if (window._pyforest_update_imports_cell) { window._pyforest_update_imports_cell('import seaborn as sns\\nfrom sklearn.model_selection import train_test_split\\nimport matplotlib.pyplot as plt'); }\n",
       "    "
      ],
      "text/plain": [
       "<IPython.core.display.Javascript object>"
      ]
     },
     "metadata": {},
     "output_type": "display_data"
    },
    {
     "data": {
      "text/plain": [
       "<AxesSubplot:xlabel='wage_eur', ylabel='value_eur'>"
      ]
     },
     "execution_count": 24,
     "metadata": {},
     "output_type": "execute_result"
    },
    {
     "data": {
      "image/png": "[encoded data removed]",
      "text/plain": [
       "<Figure size 864x864 with 1 Axes>"
      ]
     },
     "metadata": {
      "needs_background": "light"
     },
     "output_type": "display_data"
    }
   ],
   "source": [
    "plt.rcParams['figure.figsize'] = (12,12)\n",
    "sns.scatterplot(x=df_cl.wage_eur,y=df_cl.value_eur,hue=df_cl.KMeans_label)"
   ]
  },
  {
   "cell_type": "code",
   "execution_count": 25,
   "id": "ae2bde92",
   "metadata": {},
   "outputs": [],
   "source": [
    "from sklearn.cluster import DBSCAN"
   ]
  },
  {
   "cell_type": "code",
   "execution_count": 26,
   "id": "40f4d43e",
   "metadata": {},
   "outputs": [
    {
     "name": "stdout",
     "output_type": "stream",
     "text": [
      "Help on class DBSCAN in module sklearn.cluster._dbscan:\n",
      "\n",
      "class DBSCAN(sklearn.base.ClusterMixin, sklearn.base.BaseEstimator)\n",
      " |  DBSCAN(eps=0.5, *, min_samples=5, metric='euclidean', metric_params=None, algorithm='auto', leaf_size=30, p=None, n_jobs=None)\n",
      " |  \n",
      " |  Perform DBSCAN clustering from vector array or distance matrix.\n",
      " |  \n",
      " |  DBSCAN - Density-Based Spatial Clustering of Applications with Noise.\n",
      " |  Finds core samples of high density and expands clusters from them.\n",
      " |  Good for data which contains clusters of similar density.\n",
      " |  \n",
      " |  Read more in the :ref:`User Guide <dbscan>`.\n",
      " |  \n",
      " |  Parameters\n",
      " |  ----------\n",
      " |  eps : float, default=0.5\n",
      " |      The maximum distance between two samples for one to be considered\n",
      " |      as in the neighborhood of the other. This is not a maximum bound\n",
      " |      on the distances of points within a cluster. This is the most\n",
      " |      important DBSCAN parameter to choose appropriately for your data set\n",
      " |      and distance function.\n",
      " |  \n",
      " |  min_samples : int, default=5\n",
      " |      The number of samples (or total weight) in a neighborhood for a point\n",
      " |      to be considered as a core point. This includes the point itself.\n",
      " |  \n",
      " |  metric : string, or callable, default='euclidean'\n",
      " |      The metric to use when calculating distance between instances in a\n",
      " |      feature array. If metric is a string or callable, it must be one of\n",
      " |      the options allowed by :func:`sklearn.metrics.pairwise_distances` for\n",
      " |      its metric parameter.\n",
      " |      If metric is \"precomputed\", X is assumed to be a distance matrix and\n",
      " |      must be square. X may be a :term:`Glossary <sparse graph>`, in which\n",
      " |      case only \"nonzero\" elements may be considered neighbors for DBSCAN.\n",
      " |  \n",
      " |      .. versionadded:: 0.17\n",
      " |         metric *precomputed* to accept precomputed sparse matrix.\n",
      " |  \n",
      " |  metric_params : dict, default=None\n",
      " |      Additional keyword arguments for the metric function.\n",
      " |  \n",
      " |      .. versionadded:: 0.19\n",
      " |  \n",
      " |  algorithm : {'auto', 'ball_tree', 'kd_tree', 'brute'}, default='auto'\n",
      " |      The algorithm to be used by the NearestNeighbors module\n",
      " |      to compute pointwise distances and find nearest neighbors.\n",
      " |      See NearestNeighbors module documentation for details.\n",
      " |  \n",
      " |  leaf_size : int, default=30\n",
      " |      Leaf size passed to BallTree or cKDTree. This can affect the speed\n",
      " |      of the construction and query, as well as the memory required\n",
      " |      to store the tree. The optimal value depends\n",
      " |      on the nature of the problem.\n",
      " |  \n",
      " |  p : float, default=None\n",
      " |      The power of the Minkowski metric to be used to calculate distance\n",
      " |      between points.\n",
      " |  \n",
      " |  n_jobs : int, default=None\n",
      " |      The number of parallel jobs to run.\n",
      " |      ``None`` means 1 unless in a :obj:`joblib.parallel_backend` context.\n",
      " |      ``-1`` means using all processors. See :term:`Glossary <n_jobs>`\n",
      " |      for more details.\n",
      " |  \n",
      " |  Attributes\n",
      " |  ----------\n",
      " |  core_sample_indices_ : ndarray of shape (n_core_samples,)\n",
      " |      Indices of core samples.\n",
      " |  \n",
      " |  components_ : ndarray of shape (n_core_samples, n_features)\n",
      " |      Copy of each core sample found by training.\n",
      " |  \n",
      " |  labels_ : ndarray of shape (n_samples)\n",
      " |      Cluster labels for each point in the dataset given to fit().\n",
      " |      Noisy samples are given the label -1.\n",
      " |  \n",
      " |  Examples\n",
      " |  --------\n",
      " |  >>> from sklearn.cluster import DBSCAN\n",
      " |  >>> import numpy as np\n",
      " |  >>> X = np.array([[1, 2], [2, 2], [2, 3],\n",
      " |  ...               [8, 7], [8, 8], [25, 80]])\n",
      " |  >>> clustering = DBSCAN(eps=3, min_samples=2).fit(X)\n",
      " |  >>> clustering.labels_\n",
      " |  array([ 0,  0,  0,  1,  1, -1])\n",
      " |  >>> clustering\n",
      " |  DBSCAN(eps=3, min_samples=2)\n",
      " |  \n",
      " |  See also\n",
      " |  --------\n",
      " |  OPTICS\n",
      " |      A similar clustering at multiple values of eps. Our implementation\n",
      " |      is optimized for memory usage.\n",
      " |  \n",
      " |  Notes\n",
      " |  -----\n",
      " |  For an example, see :ref:`examples/cluster/plot_dbscan.py\n",
      " |  <sphx_glr_auto_examples_cluster_plot_dbscan.py>`.\n",
      " |  \n",
      " |  This implementation bulk-computes all neighborhood queries, which increases\n",
      " |  the memory complexity to O(n.d) where d is the average number of neighbors,\n",
      " |  while original DBSCAN had memory complexity O(n). It may attract a higher\n",
      " |  memory complexity when querying these nearest neighborhoods, depending\n",
      " |  on the ``algorithm``.\n",
      " |  \n",
      " |  One way to avoid the query complexity is to pre-compute sparse\n",
      " |  neighborhoods in chunks using\n",
      " |  :func:`NearestNeighbors.radius_neighbors_graph\n",
      " |  <sklearn.neighbors.NearestNeighbors.radius_neighbors_graph>` with\n",
      " |  ``mode='distance'``, then using ``metric='precomputed'`` here.\n",
      " |  \n",
      " |  Another way to reduce memory and computation time is to remove\n",
      " |  (near-)duplicate points and use ``sample_weight`` instead.\n",
      " |  \n",
      " |  :class:`cluster.OPTICS` provides a similar clustering with lower memory\n",
      " |  usage.\n",
      " |  \n",
      " |  References\n",
      " |  ----------\n",
      " |  Ester, M., H. P. Kriegel, J. Sander, and X. Xu, \"A Density-Based\n",
      " |  Algorithm for Discovering Clusters in Large Spatial Databases with Noise\".\n",
      " |  In: Proceedings of the 2nd International Conference on Knowledge Discovery\n",
      " |  and Data Mining, Portland, OR, AAAI Press, pp. 226-231. 1996\n",
      " |  \n",
      " |  Schubert, E., Sander, J., Ester, M., Kriegel, H. P., & Xu, X. (2017).\n",
      " |  DBSCAN revisited, revisited: why and how you should (still) use DBSCAN.\n",
      " |  ACM Transactions on Database Systems (TODS), 42(3), 19.\n",
      " |  \n",
      " |  Method resolution order:\n",
      " |      DBSCAN\n",
      " |      sklearn.base.ClusterMixin\n",
      " |      sklearn.base.BaseEstimator\n",
      " |      builtins.object\n",
      " |  \n",
      " |  Methods defined here:\n",
      " |  \n",
      " |  __init__(self, eps=0.5, *, min_samples=5, metric='euclidean', metric_params=None, algorithm='auto', leaf_size=30, p=None, n_jobs=None)\n",
      " |      Initialize self.  See help(type(self)) for accurate signature.\n",
      " |  \n",
      " |  fit(self, X, y=None, sample_weight=None)\n",
      " |      Perform DBSCAN clustering from features, or distance matrix.\n",
      " |      \n",
      " |      Parameters\n",
      " |      ----------\n",
      " |      X : {array-like, sparse matrix} of shape (n_samples, n_features), or             (n_samples, n_samples)\n",
      " |          Training instances to cluster, or distances between instances if\n",
      " |          ``metric='precomputed'``. If a sparse matrix is provided, it will\n",
      " |          be converted into a sparse ``csr_matrix``.\n",
      " |      \n",
      " |      sample_weight : array-like of shape (n_samples,), default=None\n",
      " |          Weight of each sample, such that a sample with a weight of at least\n",
      " |          ``min_samples`` is by itself a core sample; a sample with a\n",
      " |          negative weight may inhibit its eps-neighbor from being core.\n",
      " |          Note that weights are absolute, and default to 1.\n",
      " |      \n",
      " |      y : Ignored\n",
      " |          Not used, present here for API consistency by convention.\n",
      " |      \n",
      " |      Returns\n",
      " |      -------\n",
      " |      self\n",
      " |  \n",
      " |  fit_predict(self, X, y=None, sample_weight=None)\n",
      " |      Perform DBSCAN clustering from features or distance matrix,\n",
      " |      and return cluster labels.\n",
      " |      \n",
      " |      Parameters\n",
      " |      ----------\n",
      " |      X : {array-like, sparse matrix} of shape (n_samples, n_features), or             (n_samples, n_samples)\n",
      " |          Training instances to cluster, or distances between instances if\n",
      " |          ``metric='precomputed'``. If a sparse matrix is provided, it will\n",
      " |          be converted into a sparse ``csr_matrix``.\n",
      " |      \n",
      " |      sample_weight : array-like of shape (n_samples,), default=None\n",
      " |          Weight of each sample, such that a sample with a weight of at least\n",
      " |          ``min_samples`` is by itself a core sample; a sample with a\n",
      " |          negative weight may inhibit its eps-neighbor from being core.\n",
      " |          Note that weights are absolute, and default to 1.\n",
      " |      \n",
      " |      y : Ignored\n",
      " |          Not used, present here for API consistency by convention.\n",
      " |      \n",
      " |      Returns\n",
      " |      -------\n",
      " |      labels : ndarray of shape (n_samples,)\n",
      " |          Cluster labels. Noisy samples are given the label -1.\n",
      " |  \n",
      " |  ----------------------------------------------------------------------\n",
      " |  Data descriptors inherited from sklearn.base.ClusterMixin:\n",
      " |  \n",
      " |  __dict__\n",
      " |      dictionary for instance variables (if defined)\n",
      " |  \n",
      " |  __weakref__\n",
      " |      list of weak references to the object (if defined)\n",
      " |  \n",
      " |  ----------------------------------------------------------------------\n",
      " |  Methods inherited from sklearn.base.BaseEstimator:\n",
      " |  \n",
      " |  __getstate__(self)\n",
      " |  \n",
      " |  __repr__(self, N_CHAR_MAX=700)\n",
      " |      Return repr(self).\n",
      " |  \n",
      " |  __setstate__(self, state)\n",
      " |  \n",
      " |  get_params(self, deep=True)\n",
      " |      Get parameters for this estimator.\n",
      " |      \n",
      " |      Parameters\n",
      " |      ----------\n",
      " |      deep : bool, default=True\n",
      " |          If True, will return the parameters for this estimator and\n",
      " |          contained subobjects that are estimators.\n",
      " |      \n",
      " |      Returns\n",
      " |      -------\n",
      " |      params : mapping of string to any\n",
      " |          Parameter names mapped to their values.\n",
      " |  \n",
      " |  set_params(self, **params)\n",
      " |      Set the parameters of this estimator.\n",
      " |      \n",
      " |      The method works on simple estimators as well as on nested objects\n",
      " |      (such as pipelines). The latter have parameters of the form\n",
      " |      ``<component>__<parameter>`` so that it's possible to update each\n",
      " |      component of a nested object.\n",
      " |      \n",
      " |      Parameters\n",
      " |      ----------\n",
      " |      **params : dict\n",
      " |          Estimator parameters.\n",
      " |      \n",
      " |      Returns\n",
      " |      -------\n",
      " |      self : object\n",
      " |          Estimator instance.\n",
      "\n"
     ]
    }
   ],
   "source": [
    "help(DBSCAN)"
   ]
  },
  {
   "cell_type": "code",
   "execution_count": 27,
   "id": "61ea8895",
   "metadata": {},
   "outputs": [],
   "source": [
    "dbcluster = DBSCAN(min_samples=2,eps=0.8)"
   ]
  },
  {
   "cell_type": "code",
   "execution_count": 28,
   "id": "93f13b10",
   "metadata": {},
   "outputs": [
    {
     "data": {
      "text/plain": [
       "DBSCAN(eps=0.8, min_samples=2)"
      ]
     },
     "execution_count": 28,
     "metadata": {},
     "output_type": "execute_result"
    }
   ],
   "source": [
    "dbcluster.fit(df_cl[['overall', 'potential', 'international_reputation',\n",
    "       'attacking_short_passing', 'skill_long_passing',\n",
    "       'movement_reactions', 'power_shot_power', 'mentality_vision',\n",
    "       'mentality_composure', 'cam','value_eur','wage_eur']])"
   ]
  },
  {
   "cell_type": "code",
   "execution_count": 29,
   "id": "8296f360",
   "metadata": {},
   "outputs": [],
   "source": [
    "df_cl['DBSCAN_label'] = dbcluster.fit_predict(df_cl[['overall', 'potential', 'international_reputation',\n",
    "       'attacking_short_passing', 'skill_long_passing',\n",
    "       'movement_reactions', 'power_shot_power', 'mentality_vision',\n",
    "       'mentality_composure', 'cam','value_eur','wage_eur']])"
   ]
  },
  {
   "cell_type": "code",
   "execution_count": 30,
   "id": "6ffe7a74",
   "metadata": {},
   "outputs": [
    {
     "data": {
      "application/javascript": [
       "\n",
       "        if (window._pyforest_update_imports_cell) { window._pyforest_update_imports_cell('import seaborn as sns\\nfrom sklearn.model_selection import train_test_split\\nimport matplotlib.pyplot as plt'); }\n",
       "    "
      ],
      "text/plain": [
       "<IPython.core.display.Javascript object>"
      ]
     },
     "metadata": {},
     "output_type": "display_data"
    },
    {
     "data": {
      "application/javascript": [
       "\n",
       "        if (window._pyforest_update_imports_cell) { window._pyforest_update_imports_cell('import seaborn as sns\\nfrom sklearn.model_selection import train_test_split\\nimport matplotlib.pyplot as plt'); }\n",
       "    "
      ],
      "text/plain": [
       "<IPython.core.display.Javascript object>"
      ]
     },
     "metadata": {},
     "output_type": "display_data"
    },
    {
     "data": {
      "text/plain": [
       "<AxesSubplot:xlabel='wage_eur', ylabel='value_eur'>"
      ]
     },
     "execution_count": 30,
     "metadata": {},
     "output_type": "execute_result"
    },
    {
     "data": {
      "image/png": "[encoded data removed]",
      "text/plain": [
       "<Figure size 864x864 with 1 Axes>"
      ]
     },
     "metadata": {
      "needs_background": "light"
     },
     "output_type": "display_data"
    }
   ],
   "source": [
    "plt.rcParams['figure.figsize'] = (12,12)\n",
    "sns.scatterplot(x=df_cl.wage_eur,y=df_cl.value_eur,hue=df_cl.DBSCAN_label)"
   ]
  },
  {
   "cell_type": "code",
   "execution_count": 31,
   "id": "d717f756",
   "metadata": {},
   "outputs": [],
   "source": [
    "from sklearn.cluster import SpectralBiclustering"
   ]
  },
  {
   "cell_type": "code",
   "execution_count": 32,
   "id": "4cea8a64",
   "metadata": {},
   "outputs": [],
   "source": [
    "SBcluster = SpectralBiclustering(n_clusters=4)"
   ]
  },
  {
   "cell_type": "code",
   "execution_count": 33,
   "id": "15e44542",
   "metadata": {},
   "outputs": [
    {
     "data": {
      "text/plain": [
       "SpectralBiclustering(n_clusters=4)"
      ]
     },
     "execution_count": 33,
     "metadata": {},
     "output_type": "execute_result"
    }
   ],
   "source": [
    "SBcluster.fit(df_cl[['overall', 'potential', 'international_reputation',\n",
    "       'attacking_short_passing', 'skill_long_passing',\n",
    "       'movement_reactions', 'power_shot_power', 'mentality_vision',\n",
    "       'mentality_composure', 'cam','value_eur','wage_eur']])"
   ]
  },
  {
   "cell_type": "code",
   "execution_count": 34,
   "id": "4d6f486e",
   "metadata": {},
   "outputs": [
    {
     "name": "stdout",
     "output_type": "stream",
     "text": [
      "Help on class SpectralBiclustering in module sklearn.cluster._bicluster:\n",
      "\n",
      "class SpectralBiclustering(BaseSpectral)\n",
      " |  SpectralBiclustering(n_clusters=3, *, method='bistochastic', n_components=6, n_best=3, svd_method='randomized', n_svd_vecs=None, mini_batch=False, init='k-means++', n_init=10, n_jobs='deprecated', random_state=None)\n",
      " |  \n",
      " |  Spectral biclustering (Kluger, 2003).\n",
      " |  \n",
      " |  Partitions rows and columns under the assumption that the data has\n",
      " |  an underlying checkerboard structure. For instance, if there are\n",
      " |  two row partitions and three column partitions, each row will\n",
      " |  belong to three biclusters, and each column will belong to two\n",
      " |  biclusters. The outer product of the corresponding row and column\n",
      " |  label vectors gives this checkerboard structure.\n",
      " |  \n",
      " |  Read more in the :ref:`User Guide <spectral_biclustering>`.\n",
      " |  \n",
      " |  Parameters\n",
      " |  ----------\n",
      " |  n_clusters : int or tuple (n_row_clusters, n_column_clusters), default=3\n",
      " |      The number of row and column clusters in the checkerboard\n",
      " |      structure.\n",
      " |  \n",
      " |  method : {'bistochastic', 'scale', 'log'}, default='bistochastic'\n",
      " |      Method of normalizing and converting singular vectors into\n",
      " |      biclusters. May be one of 'scale', 'bistochastic', or 'log'.\n",
      " |      The authors recommend using 'log'. If the data is sparse,\n",
      " |      however, log normalization will not work, which is why the\n",
      " |      default is 'bistochastic'.\n",
      " |  \n",
      " |      .. warning::\n",
      " |         if `method='log'`, the data must be sparse.\n",
      " |  \n",
      " |  n_components : int, default=6\n",
      " |      Number of singular vectors to check.\n",
      " |  \n",
      " |  n_best : int, default=3\n",
      " |      Number of best singular vectors to which to project the data\n",
      " |      for clustering.\n",
      " |  \n",
      " |  svd_method : {'randomized', 'arpack'}, default='randomized'\n",
      " |      Selects the algorithm for finding singular vectors. May be\n",
      " |      'randomized' or 'arpack'. If 'randomized', uses\n",
      " |      :func:`~sklearn.utils.extmath.randomized_svd`, which may be faster\n",
      " |      for large matrices. If 'arpack', uses\n",
      " |      `scipy.sparse.linalg.svds`, which is more accurate, but\n",
      " |      possibly slower in some cases.\n",
      " |  \n",
      " |  n_svd_vecs : int, default=None\n",
      " |      Number of vectors to use in calculating the SVD. Corresponds\n",
      " |      to `ncv` when `svd_method=arpack` and `n_oversamples` when\n",
      " |      `svd_method` is 'randomized`.\n",
      " |  \n",
      " |  mini_batch : bool, default=False\n",
      " |      Whether to use mini-batch k-means, which is faster but may get\n",
      " |      different results.\n",
      " |  \n",
      " |  init : {'k-means++', 'random'} or ndarray of (n_clusters, n_features),             default='k-means++'\n",
      " |      Method for initialization of k-means algorithm; defaults to\n",
      " |      'k-means++'.\n",
      " |  \n",
      " |  n_init : int, default=10\n",
      " |      Number of random initializations that are tried with the\n",
      " |      k-means algorithm.\n",
      " |  \n",
      " |      If mini-batch k-means is used, the best initialization is\n",
      " |      chosen and the algorithm runs once. Otherwise, the algorithm\n",
      " |      is run for each initialization and the best solution chosen.\n",
      " |  \n",
      " |  n_jobs : int, default=None\n",
      " |      The number of jobs to use for the computation. This works by breaking\n",
      " |      down the pairwise matrix into n_jobs even slices and computing them in\n",
      " |      parallel.\n",
      " |  \n",
      " |      ``None`` means 1 unless in a :obj:`joblib.parallel_backend` context.\n",
      " |      ``-1`` means using all processors. See :term:`Glossary <n_jobs>`\n",
      " |      for more details.\n",
      " |  \n",
      " |      .. deprecated:: 0.23\n",
      " |          ``n_jobs`` was deprecated in version 0.23 and will be removed in\n",
      " |          0.25.\n",
      " |  \n",
      " |  random_state : int, RandomState instance, default=None\n",
      " |      Used for randomizing the singular value decomposition and the k-means\n",
      " |      initialization. Use an int to make the randomness deterministic.\n",
      " |      See :term:`Glossary <random_state>`.\n",
      " |  \n",
      " |  Attributes\n",
      " |  ----------\n",
      " |  rows_ : array-like of shape (n_row_clusters, n_rows)\n",
      " |      Results of the clustering. `rows[i, r]` is True if\n",
      " |      cluster `i` contains row `r`. Available only after calling ``fit``.\n",
      " |  \n",
      " |  columns_ : array-like of shape (n_column_clusters, n_columns)\n",
      " |      Results of the clustering, like `rows`.\n",
      " |  \n",
      " |  row_labels_ : array-like of shape (n_rows,)\n",
      " |      Row partition labels.\n",
      " |  \n",
      " |  column_labels_ : array-like of shape (n_cols,)\n",
      " |      Column partition labels.\n",
      " |  \n",
      " |  Examples\n",
      " |  --------\n",
      " |  >>> from sklearn.cluster import SpectralBiclustering\n",
      " |  >>> import numpy as np\n",
      " |  >>> X = np.array([[1, 1], [2, 1], [1, 0],\n",
      " |  ...               [4, 7], [3, 5], [3, 6]])\n",
      " |  >>> clustering = SpectralBiclustering(n_clusters=2, random_state=0).fit(X)\n",
      " |  >>> clustering.row_labels_\n",
      " |  array([1, 1, 1, 0, 0, 0], dtype=int32)\n",
      " |  >>> clustering.column_labels_\n",
      " |  array([0, 1], dtype=int32)\n",
      " |  >>> clustering\n",
      " |  SpectralBiclustering(n_clusters=2, random_state=0)\n",
      " |  \n",
      " |  References\n",
      " |  ----------\n",
      " |  \n",
      " |  * Kluger, Yuval, et. al., 2003. `Spectral biclustering of microarray\n",
      " |    data: coclustering genes and conditions\n",
      " |    <http://citeseerx.ist.psu.edu/viewdoc/summary?doi=10.1.1.135.1608>`__.\n",
      " |  \n",
      " |  Method resolution order:\n",
      " |      SpectralBiclustering\n",
      " |      BaseSpectral\n",
      " |      sklearn.base.BiclusterMixin\n",
      " |      sklearn.base.BaseEstimator\n",
      " |      builtins.object\n",
      " |  \n",
      " |  Methods defined here:\n",
      " |  \n",
      " |  __init__(self, n_clusters=3, *, method='bistochastic', n_components=6, n_best=3, svd_method='randomized', n_svd_vecs=None, mini_batch=False, init='k-means++', n_init=10, n_jobs='deprecated', random_state=None)\n",
      " |      Initialize self.  See help(type(self)) for accurate signature.\n",
      " |  \n",
      " |  ----------------------------------------------------------------------\n",
      " |  Data and other attributes defined here:\n",
      " |  \n",
      " |  __abstractmethods__ = frozenset()\n",
      " |  \n",
      " |  ----------------------------------------------------------------------\n",
      " |  Methods inherited from BaseSpectral:\n",
      " |  \n",
      " |  fit(self, X, y=None)\n",
      " |      Creates a biclustering for X.\n",
      " |      \n",
      " |      Parameters\n",
      " |      ----------\n",
      " |      X : array-like, shape (n_samples, n_features)\n",
      " |      \n",
      " |      y : Ignored\n",
      " |  \n",
      " |  ----------------------------------------------------------------------\n",
      " |  Methods inherited from sklearn.base.BiclusterMixin:\n",
      " |  \n",
      " |  get_indices(self, i)\n",
      " |      Row and column indices of the i'th bicluster.\n",
      " |      \n",
      " |      Only works if ``rows_`` and ``columns_`` attributes exist.\n",
      " |      \n",
      " |      Parameters\n",
      " |      ----------\n",
      " |      i : int\n",
      " |          The index of the cluster.\n",
      " |      \n",
      " |      Returns\n",
      " |      -------\n",
      " |      row_ind : ndarray, dtype=np.intp\n",
      " |          Indices of rows in the dataset that belong to the bicluster.\n",
      " |      col_ind : ndarray, dtype=np.intp\n",
      " |          Indices of columns in the dataset that belong to the bicluster.\n",
      " |  \n",
      " |  get_shape(self, i)\n",
      " |      Shape of the i'th bicluster.\n",
      " |      \n",
      " |      Parameters\n",
      " |      ----------\n",
      " |      i : int\n",
      " |          The index of the cluster.\n",
      " |      \n",
      " |      Returns\n",
      " |      -------\n",
      " |      shape : tuple (int, int)\n",
      " |          Number of rows and columns (resp.) in the bicluster.\n",
      " |  \n",
      " |  get_submatrix(self, i, data)\n",
      " |      Return the submatrix corresponding to bicluster `i`.\n",
      " |      \n",
      " |      Parameters\n",
      " |      ----------\n",
      " |      i : int\n",
      " |          The index of the cluster.\n",
      " |      data : array-like\n",
      " |          The data.\n",
      " |      \n",
      " |      Returns\n",
      " |      -------\n",
      " |      submatrix : ndarray\n",
      " |          The submatrix corresponding to bicluster i.\n",
      " |      \n",
      " |      Notes\n",
      " |      -----\n",
      " |      Works with sparse matrices. Only works if ``rows_`` and\n",
      " |      ``columns_`` attributes exist.\n",
      " |  \n",
      " |  ----------------------------------------------------------------------\n",
      " |  Readonly properties inherited from sklearn.base.BiclusterMixin:\n",
      " |  \n",
      " |  biclusters_\n",
      " |      Convenient way to get row and column indicators together.\n",
      " |      \n",
      " |      Returns the ``rows_`` and ``columns_`` members.\n",
      " |  \n",
      " |  ----------------------------------------------------------------------\n",
      " |  Data descriptors inherited from sklearn.base.BiclusterMixin:\n",
      " |  \n",
      " |  __dict__\n",
      " |      dictionary for instance variables (if defined)\n",
      " |  \n",
      " |  __weakref__\n",
      " |      list of weak references to the object (if defined)\n",
      " |  \n",
      " |  ----------------------------------------------------------------------\n",
      " |  Methods inherited from sklearn.base.BaseEstimator:\n",
      " |  \n",
      " |  __getstate__(self)\n",
      " |  \n",
      " |  __repr__(self, N_CHAR_MAX=700)\n",
      " |      Return repr(self).\n",
      " |  \n",
      " |  __setstate__(self, state)\n",
      " |  \n",
      " |  get_params(self, deep=True)\n",
      " |      Get parameters for this estimator.\n",
      " |      \n",
      " |      Parameters\n",
      " |      ----------\n",
      " |      deep : bool, default=True\n",
      " |          If True, will return the parameters for this estimator and\n",
      " |          contained subobjects that are estimators.\n",
      " |      \n",
      " |      Returns\n",
      " |      -------\n",
      " |      params : mapping of string to any\n",
      " |          Parameter names mapped to their values.\n",
      " |  \n",
      " |  set_params(self, **params)\n",
      " |      Set the parameters of this estimator.\n",
      " |      \n",
      " |      The method works on simple estimators as well as on nested objects\n",
      " |      (such as pipelines). The latter have parameters of the form\n",
      " |      ``<component>__<parameter>`` so that it's possible to update each\n",
      " |      component of a nested object.\n",
      " |      \n",
      " |      Parameters\n",
      " |      ----------\n",
      " |      **params : dict\n",
      " |          Estimator parameters.\n",
      " |      \n",
      " |      Returns\n",
      " |      -------\n",
      " |      self : object\n",
      " |          Estimator instance.\n",
      "\n"
     ]
    }
   ],
   "source": [
    "help(SpectralBiclustering)"
   ]
  },
  {
   "cell_type": "code",
   "execution_count": 35,
   "id": "e7aa5a4f",
   "metadata": {},
   "outputs": [],
   "source": [
    "df_cl['SBcluster_label'] = SBcluster.row_labels_"
   ]
  },
  {
   "cell_type": "code",
   "execution_count": 36,
   "id": "0fbb13a8",
   "metadata": {},
   "outputs": [
    {
     "data": {
      "application/javascript": [
       "\n",
       "        if (window._pyforest_update_imports_cell) { window._pyforest_update_imports_cell('import seaborn as sns\\nfrom sklearn.model_selection import train_test_split\\nimport matplotlib.pyplot as plt'); }\n",
       "    "
      ],
      "text/plain": [
       "<IPython.core.display.Javascript object>"
      ]
     },
     "metadata": {},
     "output_type": "display_data"
    },
    {
     "data": {
      "application/javascript": [
       "\n",
       "        if (window._pyforest_update_imports_cell) { window._pyforest_update_imports_cell('import seaborn as sns\\nfrom sklearn.model_selection import train_test_split\\nimport matplotlib.pyplot as plt'); }\n",
       "    "
      ],
      "text/plain": [
       "<IPython.core.display.Javascript object>"
      ]
     },
     "metadata": {},
     "output_type": "display_data"
    },
    {
     "data": {
      "text/plain": [
       "<AxesSubplot:xlabel='wage_eur', ylabel='value_eur'>"
      ]
     },
     "execution_count": 36,
     "metadata": {},
     "output_type": "execute_result"
    },
    {
     "data": {
      "image/png": "[encoded data removed]",
      "text/plain": [
       "<Figure size 864x864 with 1 Axes>"
      ]
     },
     "metadata": {
      "needs_background": "light"
     },
     "output_type": "display_data"
    }
   ],
   "source": [
    "plt.rcParams['figure.figsize'] = (12,12)\n",
    "sns.scatterplot(x=df_cl.wage_eur,y=df_cl.value_eur,hue=df_cl.SBcluster_label)"
   ]
  },
  {
   "cell_type": "markdown",
   "id": "53ea19cd",
   "metadata": {},
   "source": [
    "### Regression by club"
   ]
  },
  {
   "cell_type": "code",
   "execution_count": 56,
   "id": "2dc05482",
   "metadata": {},
   "outputs": [
    {
     "data": {
      "text/html": [
       "<div>\n",
       "<style scoped>\n",
       "    .dataframe tbody tr th:only-of-type {\n",
       "        vertical-align: middle;\n",
       "    }\n",
       "\n",
       "    .dataframe tbody tr th {\n",
       "        vertical-align: top;\n",
       "    }\n",
       "\n",
       "    .dataframe thead th {\n",
       "        text-align: right;\n",
       "    }\n",
       "</style>\n",
       "<table border=\"1\" class=\"dataframe\">\n",
       "  <thead>\n",
       "    <tr style=\"text-align: right;\">\n",
       "      <th></th>\n",
       "      <th>short_name</th>\n",
       "      <th>overall</th>\n",
       "      <th>potential</th>\n",
       "      <th>value_eur</th>\n",
       "      <th>wage_eur</th>\n",
       "      <th>age</th>\n",
       "      <th>dob</th>\n",
       "      <th>height_cm</th>\n",
       "      <th>weight_kg</th>\n",
       "      <th>club_name</th>\n",
       "      <th>league_name</th>\n",
       "      <th>league_level</th>\n",
       "      <th>club_position</th>\n",
       "      <th>club_loaned_from</th>\n",
       "      <th>club_joined</th>\n",
       "      <th>nationality_name</th>\n",
       "      <th>nation_team_id</th>\n",
       "      <th>nation_position</th>\n",
       "      <th>preferred_foot</th>\n",
       "      <th>weak_foot</th>\n",
       "      <th>skill_moves</th>\n",
       "      <th>international_reputation</th>\n",
       "      <th>pace</th>\n",
       "      <th>physic</th>\n",
       "      <th>attacking_crossing</th>\n",
       "      <th>attacking_heading_accuracy</th>\n",
       "      <th>attacking_short_passing</th>\n",
       "      <th>attacking_volleys</th>\n",
       "      <th>skill_curve</th>\n",
       "      <th>skill_fk_accuracy</th>\n",
       "      <th>skill_long_passing</th>\n",
       "      <th>skill_ball_control</th>\n",
       "      <th>movement_acceleration</th>\n",
       "      <th>movement_sprint_speed</th>\n",
       "      <th>movement_agility</th>\n",
       "      <th>movement_reactions</th>\n",
       "      <th>movement_balance</th>\n",
       "      <th>power_shot_power</th>\n",
       "      <th>power_jumping</th>\n",
       "      <th>power_stamina</th>\n",
       "      <th>power_strength</th>\n",
       "      <th>power_long_shots</th>\n",
       "      <th>mentality_aggression</th>\n",
       "      <th>mentality_interceptions</th>\n",
       "      <th>mentality_positioning</th>\n",
       "      <th>mentality_vision</th>\n",
       "      <th>mentality_penalties</th>\n",
       "      <th>mentality_composure</th>\n",
       "      <th>defending_sliding_tackle</th>\n",
       "      <th>goalkeeping_handling</th>\n",
       "      <th>cam</th>\n",
       "      <th>cdm</th>\n",
       "      <th>gk</th>\n",
       "      <th>work_rate_attacking</th>\n",
       "      <th>work_rate_deffensive</th>\n",
       "    </tr>\n",
       "    <tr>\n",
       "      <th>sofifa_id</th>\n",
       "      <th></th>\n",
       "      <th></th>\n",
       "      <th></th>\n",
       "      <th></th>\n",
       "      <th></th>\n",
       "      <th></th>\n",
       "      <th></th>\n",
       "      <th></th>\n",
       "      <th></th>\n",
       "      <th></th>\n",
       "      <th></th>\n",
       "      <th></th>\n",
       "      <th></th>\n",
       "      <th></th>\n",
       "      <th></th>\n",
       "      <th></th>\n",
       "      <th></th>\n",
       "      <th></th>\n",
       "      <th></th>\n",
       "      <th></th>\n",
       "      <th></th>\n",
       "      <th></th>\n",
       "      <th></th>\n",
       "      <th></th>\n",
       "      <th></th>\n",
       "      <th></th>\n",
       "      <th></th>\n",
       "      <th></th>\n",
       "      <th></th>\n",
       "      <th></th>\n",
       "      <th></th>\n",
       "      <th></th>\n",
       "      <th></th>\n",
       "      <th></th>\n",
       "      <th></th>\n",
       "      <th></th>\n",
       "      <th></th>\n",
       "      <th></th>\n",
       "      <th></th>\n",
       "      <th></th>\n",
       "      <th></th>\n",
       "      <th></th>\n",
       "      <th></th>\n",
       "      <th></th>\n",
       "      <th></th>\n",
       "      <th></th>\n",
       "      <th></th>\n",
       "      <th></th>\n",
       "      <th></th>\n",
       "      <th></th>\n",
       "      <th></th>\n",
       "      <th></th>\n",
       "      <th></th>\n",
       "      <th></th>\n",
       "      <th></th>\n",
       "    </tr>\n",
       "  </thead>\n",
       "  <tbody>\n",
       "    <tr>\n",
       "      <th>173731</th>\n",
       "      <td>G. Bale</td>\n",
       "      <td>82</td>\n",
       "      <td>82</td>\n",
       "      <td>25000000.00</td>\n",
       "      <td>170000.00</td>\n",
       "      <td>31</td>\n",
       "      <td>1989-07-16</td>\n",
       "      <td>185</td>\n",
       "      <td>82</td>\n",
       "      <td>Real Madrid CF</td>\n",
       "      <td>Spain Primera Division</td>\n",
       "      <td>1.00</td>\n",
       "      <td>M</td>\n",
       "      <td>0</td>\n",
       "      <td>2013-09-01</td>\n",
       "      <td>Wales</td>\n",
       "      <td>1367.00</td>\n",
       "      <td>M</td>\n",
       "      <td>0</td>\n",
       "      <td>3</td>\n",
       "      <td>4</td>\n",
       "      <td>4</td>\n",
       "      <td>82.00</td>\n",
       "      <td>70.00</td>\n",
       "      <td>86</td>\n",
       "      <td>84</td>\n",
       "      <td>80</td>\n",
       "      <td>85</td>\n",
       "      <td>91</td>\n",
       "      <td>87</td>\n",
       "      <td>79</td>\n",
       "      <td>83</td>\n",
       "      <td>80</td>\n",
       "      <td>83</td>\n",
       "      <td>78</td>\n",
       "      <td>78</td>\n",
       "      <td>64</td>\n",
       "      <td>90</td>\n",
       "      <td>84</td>\n",
       "      <td>61</td>\n",
       "      <td>76</td>\n",
       "      <td>87</td>\n",
       "      <td>64</td>\n",
       "      <td>53</td>\n",
       "      <td>82</td>\n",
       "      <td>79</td>\n",
       "      <td>76</td>\n",
       "      <td>85</td>\n",
       "      <td>50</td>\n",
       "      <td>15</td>\n",
       "      <td>81</td>\n",
       "      <td>67</td>\n",
       "      <td>18</td>\n",
       "      <td>2</td>\n",
       "      <td>2</td>\n",
       "    </tr>\n",
       "  </tbody>\n",
       "</table>\n",
       "</div>"
      ],
      "text/plain": [
       "          short_name  overall  potential   value_eur  wage_eur  age  \\\n",
       "sofifa_id                                                             \n",
       "173731       G. Bale       82         82 25000000.00 170000.00   31   \n",
       "\n",
       "                  dob  height_cm  weight_kg       club_name  \\\n",
       "sofifa_id                                                     \n",
       "173731     1989-07-16        185         82  Real Madrid CF   \n",
       "\n",
       "                      league_name  league_level club_position  \\\n",
       "sofifa_id                                                       \n",
       "173731     Spain Primera Division          1.00             M   \n",
       "\n",
       "           club_loaned_from club_joined nationality_name  nation_team_id  \\\n",
       "sofifa_id                                                                  \n",
       "173731                    0  2013-09-01            Wales         1367.00   \n",
       "\n",
       "          nation_position  preferred_foot  weak_foot  skill_moves  \\\n",
       "sofifa_id                                                           \n",
       "173731                  M               0          3            4   \n",
       "\n",
       "           international_reputation  pace  physic  attacking_crossing  \\\n",
       "sofifa_id                                                               \n",
       "173731                            4 82.00   70.00                  86   \n",
       "\n",
       "           attacking_heading_accuracy  attacking_short_passing  \\\n",
       "sofifa_id                                                        \n",
       "173731                             84                       80   \n",
       "\n",
       "           attacking_volleys  skill_curve  skill_fk_accuracy  \\\n",
       "sofifa_id                                                      \n",
       "173731                    85           91                 87   \n",
       "\n",
       "           skill_long_passing  skill_ball_control  movement_acceleration  \\\n",
       "sofifa_id                                                                  \n",
       "173731                     79                  83                     80   \n",
       "\n",
       "           movement_sprint_speed  movement_agility  movement_reactions  \\\n",
       "sofifa_id                                                                \n",
       "173731                        83                78                  78   \n",
       "\n",
       "           movement_balance  power_shot_power  power_jumping  power_stamina  \\\n",
       "sofifa_id                                                                     \n",
       "173731                   64                90             84             61   \n",
       "\n",
       "           power_strength  power_long_shots  mentality_aggression  \\\n",
       "sofifa_id                                                           \n",
       "173731                 76                87                    64   \n",
       "\n",
       "           mentality_interceptions  mentality_positioning  mentality_vision  \\\n",
       "sofifa_id                                                                     \n",
       "173731                          53                     82                79   \n",
       "\n",
       "           mentality_penalties  mentality_composure  defending_sliding_tackle  \\\n",
       "sofifa_id                                                                       \n",
       "173731                      76                   85                        50   \n",
       "\n",
       "           goalkeeping_handling  cam  cdm  gk  work_rate_attacking  \\\n",
       "sofifa_id                                                            \n",
       "173731                       15   81   67  18                    2   \n",
       "\n",
       "           work_rate_deffensive  \n",
       "sofifa_id                        \n",
       "173731                        2  "
      ]
     },
     "execution_count": 56,
     "metadata": {},
     "output_type": "execute_result"
    }
   ],
   "source": [
    "df[df.short_name == 'G. Bale']"
   ]
  },
  {
   "cell_type": "code",
   "execution_count": 37,
   "id": "3d8c9736",
   "metadata": {},
   "outputs": [],
   "source": [
    "Pmodel = PoissonRegressor(alpha = 1.5, max_iter = 1000)"
   ]
  },
  {
   "cell_type": "code",
   "execution_count": 70,
   "id": "deae8cc3",
   "metadata": {},
   "outputs": [
    {
     "data": {
      "text/html": [
       "<div>\n",
       "<style scoped>\n",
       "    .dataframe tbody tr th:only-of-type {\n",
       "        vertical-align: middle;\n",
       "    }\n",
       "\n",
       "    .dataframe tbody tr th {\n",
       "        vertical-align: top;\n",
       "    }\n",
       "\n",
       "    .dataframe thead th {\n",
       "        text-align: right;\n",
       "    }\n",
       "</style>\n",
       "<table border=\"1\" class=\"dataframe\">\n",
       "  <thead>\n",
       "    <tr style=\"text-align: right;\">\n",
       "      <th></th>\n",
       "      <th>overall</th>\n",
       "      <th>potential</th>\n",
       "      <th>international_reputation</th>\n",
       "      <th>attacking_short_passing</th>\n",
       "      <th>skill_long_passing</th>\n",
       "    </tr>\n",
       "    <tr>\n",
       "      <th>sofifa_id</th>\n",
       "      <th></th>\n",
       "      <th></th>\n",
       "      <th></th>\n",
       "      <th></th>\n",
       "      <th></th>\n",
       "    </tr>\n",
       "  </thead>\n",
       "  <tbody>\n",
       "    <tr>\n",
       "      <th>224065</th>\n",
       "      <td>75</td>\n",
       "      <td>76</td>\n",
       "      <td>1</td>\n",
       "      <td>81</td>\n",
       "      <td>69</td>\n",
       "    </tr>\n",
       "    <tr>\n",
       "      <th>211365</th>\n",
       "      <td>71</td>\n",
       "      <td>72</td>\n",
       "      <td>1</td>\n",
       "      <td>68</td>\n",
       "      <td>67</td>\n",
       "    </tr>\n",
       "    <tr>\n",
       "      <th>263576</th>\n",
       "      <td>58</td>\n",
       "      <td>77</td>\n",
       "      <td>1</td>\n",
       "      <td>31</td>\n",
       "      <td>25</td>\n",
       "    </tr>\n",
       "    <tr>\n",
       "      <th>256711</th>\n",
       "      <td>63</td>\n",
       "      <td>70</td>\n",
       "      <td>1</td>\n",
       "      <td>63</td>\n",
       "      <td>58</td>\n",
       "    </tr>\n",
       "    <tr>\n",
       "      <th>264207</th>\n",
       "      <td>54</td>\n",
       "      <td>74</td>\n",
       "      <td>1</td>\n",
       "      <td>52</td>\n",
       "      <td>50</td>\n",
       "    </tr>\n",
       "    <tr>\n",
       "      <th>...</th>\n",
       "      <td>...</td>\n",
       "      <td>...</td>\n",
       "      <td>...</td>\n",
       "      <td>...</td>\n",
       "      <td>...</td>\n",
       "    </tr>\n",
       "    <tr>\n",
       "      <th>175092</th>\n",
       "      <td>68</td>\n",
       "      <td>68</td>\n",
       "      <td>2</td>\n",
       "      <td>64</td>\n",
       "      <td>63</td>\n",
       "    </tr>\n",
       "    <tr>\n",
       "      <th>240672</th>\n",
       "      <td>60</td>\n",
       "      <td>70</td>\n",
       "      <td>1</td>\n",
       "      <td>61</td>\n",
       "      <td>58</td>\n",
       "    </tr>\n",
       "    <tr>\n",
       "      <th>234883</th>\n",
       "      <td>64</td>\n",
       "      <td>68</td>\n",
       "      <td>1</td>\n",
       "      <td>66</td>\n",
       "      <td>63</td>\n",
       "    </tr>\n",
       "    <tr>\n",
       "      <th>215061</th>\n",
       "      <td>75</td>\n",
       "      <td>75</td>\n",
       "      <td>2</td>\n",
       "      <td>70</td>\n",
       "      <td>68</td>\n",
       "    </tr>\n",
       "    <tr>\n",
       "      <th>233140</th>\n",
       "      <td>69</td>\n",
       "      <td>69</td>\n",
       "      <td>1</td>\n",
       "      <td>71</td>\n",
       "      <td>67</td>\n",
       "    </tr>\n",
       "  </tbody>\n",
       "</table>\n",
       "<p>14373 rows × 5 columns</p>\n",
       "</div>"
      ],
      "text/plain": [
       "           overall  potential  international_reputation  \\\n",
       "sofifa_id                                                 \n",
       "224065          75         76                         1   \n",
       "211365          71         72                         1   \n",
       "263576          58         77                         1   \n",
       "256711          63         70                         1   \n",
       "264207          54         74                         1   \n",
       "...            ...        ...                       ...   \n",
       "175092          68         68                         2   \n",
       "240672          60         70                         1   \n",
       "234883          64         68                         1   \n",
       "215061          75         75                         2   \n",
       "233140          69         69                         1   \n",
       "\n",
       "           attacking_short_passing  skill_long_passing  \n",
       "sofifa_id                                               \n",
       "224065                          81                  69  \n",
       "211365                          68                  67  \n",
       "263576                          31                  25  \n",
       "256711                          63                  58  \n",
       "264207                          52                  50  \n",
       "...                            ...                 ...  \n",
       "175092                          64                  63  \n",
       "240672                          61                  58  \n",
       "234883                          66                  63  \n",
       "215061                          70                  68  \n",
       "233140                          71                  67  \n",
       "\n",
       "[14373 rows x 5 columns]"
      ]
     },
     "execution_count": 70,
     "metadata": {},
     "output_type": "execute_result"
    }
   ],
   "source": [
    "X_5_train"
   ]
  },
  {
   "cell_type": "code",
   "execution_count": 71,
   "id": "21f054c1",
   "metadata": {},
   "outputs": [
    {
     "data": {
      "text/plain": [
       "PoissonRegressor(alpha=1.5, max_iter=1000)"
      ]
     },
     "execution_count": 71,
     "metadata": {},
     "output_type": "execute_result"
    }
   ],
   "source": [
    "Pmodel.fit(X_5_train, y_5_train)"
   ]
  },
  {
   "cell_type": "code",
   "execution_count": 41,
   "id": "53de8de7",
   "metadata": {},
   "outputs": [
    {
     "data": {
      "text/plain": [
       "<bound method Series.unique of sofifa_id\n",
       "158023    Paris Saint-Germain\n",
       "188545      FC Bayern München\n",
       "20801       Manchester United\n",
       "190871    Paris Saint-Germain\n",
       "192985        Manchester City\n",
       "                 ...         \n",
       "261962               Wuhan FC\n",
       "262040             Derry City\n",
       "262760             Finn Harps\n",
       "262820             Finn Harps\n",
       "264540    NorthEast United FC\n",
       "Name: club_name, Length: 19165, dtype: object>"
      ]
     },
     "execution_count": 41,
     "metadata": {},
     "output_type": "execute_result"
    }
   ],
   "source": [
    "df.club_name.unique"
   ]
  },
  {
   "cell_type": "code",
   "execution_count": 72,
   "id": "d7083e58",
   "metadata": {},
   "outputs": [],
   "source": [
    "X_Barça = df[df.club_name == 'FC Barcelona'][['overall', 'potential', 'international_reputation',\n",
    "       'attacking_short_passing', 'skill_long_passing']] # Real Madrid CF"
   ]
  },
  {
   "cell_type": "code",
   "execution_count": 74,
   "id": "5b5b02d7",
   "metadata": {},
   "outputs": [],
   "source": [
    "Barça_pred = Pmodel.predict(X_Barça)"
   ]
  },
  {
   "cell_type": "code",
   "execution_count": 90,
   "id": "95ee838b",
   "metadata": {},
   "outputs": [],
   "source": [
    "y_Barça = df[df.club_name == 'FC Barcelona']['wage_eur']"
   ]
  },
  {
   "cell_type": "code",
   "execution_count": 95,
   "id": "af9522f2",
   "metadata": {},
   "outputs": [
    {
     "data": {
      "text/plain": [
       "sofifa_id\n",
       "192448   250000.00\n",
       "153079   260000.00\n",
       "228702   210000.00\n",
       "189332   200000.00\n",
       "189511   200000.00\n",
       "202556   220000.00\n",
       "152729   175000.00\n",
       "231443   165000.00\n",
       "189242   165000.00\n",
       "194404   115000.00\n",
       "220440   145000.00\n",
       "199564   140000.00\n",
       "251854    51000.00\n",
       "205600   125000.00\n",
       "189805    34000.00\n",
       "193290   120000.00\n",
       "245037    71000.00\n",
       "253163    86000.00\n",
       "242816    75000.00\n",
       "251804    67000.00\n",
       "253004    44000.00\n",
       "259694    76000.00\n",
       "237156    44000.00\n",
       "251873     6000.00\n",
       "246139    29000.00\n",
       "229337    35000.00\n",
       "237823    35000.00\n",
       "255069    23000.00\n",
       "242999    33000.00\n",
       "259065    16000.00\n",
       "257318    10000.00\n",
       "263578     1000.00\n",
       "264240     4000.00\n",
       "Name: wage_eur, dtype: float64"
      ]
     },
     "execution_count": 95,
     "metadata": {},
     "output_type": "execute_result"
    }
   ],
   "source": [
    "y_Barça"
   ]
  },
  {
   "cell_type": "code",
   "execution_count": 97,
   "id": "2209deff",
   "metadata": {},
   "outputs": [
    {
     "data": {
      "text/plain": [
       "short_name                                  M. Depay\n",
       "overall                                           85\n",
       "potential                                         86\n",
       "value_eur                                63000000.00\n",
       "wage_eur                                   220000.00\n",
       "age                                               27\n",
       "dob                                       1994-02-13\n",
       "height_cm                                        176\n",
       "weight_kg                                         78\n",
       "club_name                               FC Barcelona\n",
       "league_name                   Spain Primera Division\n",
       "league_level                                    1.00\n",
       "club_position                                      M\n",
       "club_loaned_from                                   0\n",
       "club_joined                               2021-07-01\n",
       "nationality_name                         Netherlands\n",
       "nation_team_id                             105035.00\n",
       "nation_position                                    F\n",
       "preferred_foot                                     1\n",
       "weak_foot                                          3\n",
       "skill_moves                                        5\n",
       "international_reputation                           3\n",
       "pace                                           82.00\n",
       "physic                                         79.00\n",
       "attacking_crossing                                84\n",
       "attacking_heading_accuracy                        65\n",
       "attacking_short_passing                           81\n",
       "attacking_volleys                                 74\n",
       "skill_curve                                       85\n",
       "skill_fk_accuracy                                 83\n",
       "skill_long_passing                                76\n",
       "skill_ball_control                                85\n",
       "movement_acceleration                             81\n",
       "movement_sprint_speed                             83\n",
       "movement_agility                                  80\n",
       "movement_reactions                                83\n",
       "movement_balance                                  81\n",
       "power_shot_power                                  87\n",
       "power_jumping                                     69\n",
       "power_stamina                                     79\n",
       "power_strength                                    83\n",
       "power_long_shots                                  83\n",
       "mentality_aggression                              72\n",
       "mentality_interceptions                           28\n",
       "mentality_positioning                             85\n",
       "mentality_vision                                  85\n",
       "mentality_penalties                               76\n",
       "mentality_composure                               80\n",
       "defending_sliding_tackle                          20\n",
       "goalkeeping_handling                              14\n",
       "cam                                               83\n",
       "cdm                                               59\n",
       "gk                                                19\n",
       "work_rate_attacking                                3\n",
       "work_rate_deffensive                               1\n",
       "Name: 202556, dtype: object"
      ]
     },
     "execution_count": 97,
     "metadata": {},
     "output_type": "execute_result"
    }
   ],
   "source": [
    "df.loc[202556]"
   ]
  },
  {
   "cell_type": "code",
   "execution_count": 89,
   "id": "2f94cd8c",
   "metadata": {},
   "outputs": [
    {
     "data": {
      "text/plain": [
       "array([260133.57153817, 184639.36749566, 206956.17450158, 152397.5503363 ,\n",
       "       156243.74889752, 126729.5176335 , 104694.72730982,  94291.27048236,\n",
       "        75276.40930788,  50049.72895592,  76684.98179386,  62456.34071444,\n",
       "        76930.19728437,  50729.53790937,  45399.85133788,  30234.86231735,\n",
       "        36752.65897117,  35170.13755211,  30521.86322775,  30129.33896557,\n",
       "        31963.77229364,  24473.14790402,   9594.53347617,  11145.94730213,\n",
       "         6295.51788003,   6871.23614241,   7121.50244604,   7684.47143696,\n",
       "         6313.6209734 ,   4591.41298552,   5752.51570263,   5695.80104691,\n",
       "         6339.48253335])"
      ]
     },
     "execution_count": 89,
     "metadata": {},
     "output_type": "execute_result"
    }
   ],
   "source": [
    "Barça_pred"
   ]
  },
  {
   "cell_type": "code",
   "execution_count": 109,
   "id": "b5b48fbd",
   "metadata": {},
   "outputs": [
    {
     "data": {
      "application/javascript": [
       "\n",
       "        if (window._pyforest_update_imports_cell) { window._pyforest_update_imports_cell('import seaborn as sns\\nfrom sklearn.model_selection import train_test_split\\nimport matplotlib.pyplot as plt'); }\n",
       "    "
      ],
      "text/plain": [
       "<IPython.core.display.Javascript object>"
      ]
     },
     "metadata": {},
     "output_type": "display_data"
    },
    {
     "data": {
      "application/javascript": [
       "\n",
       "        if (window._pyforest_update_imports_cell) { window._pyforest_update_imports_cell('import seaborn as sns\\nfrom sklearn.model_selection import train_test_split\\nimport matplotlib.pyplot as plt'); }\n",
       "    "
      ],
      "text/plain": [
       "<IPython.core.display.Javascript object>"
      ]
     },
     "metadata": {},
     "output_type": "display_data"
    },
    {
     "data": {
      "application/javascript": [
       "\n",
       "        if (window._pyforest_update_imports_cell) { window._pyforest_update_imports_cell('import seaborn as sns\\nfrom sklearn.model_selection import train_test_split\\nimport matplotlib.pyplot as plt'); }\n",
       "    "
      ],
      "text/plain": [
       "<IPython.core.display.Javascript object>"
      ]
     },
     "metadata": {},
     "output_type": "display_data"
    },
    {
     "data": {
      "application/javascript": [
       "\n",
       "        if (window._pyforest_update_imports_cell) { window._pyforest_update_imports_cell('import seaborn as sns\\nfrom sklearn.model_selection import train_test_split\\nimport matplotlib.pyplot as plt'); }\n",
       "    "
      ],
      "text/plain": [
       "<IPython.core.display.Javascript object>"
      ]
     },
     "metadata": {},
     "output_type": "display_data"
    },
    {
     "data": {
      "application/javascript": [
       "\n",
       "        if (window._pyforest_update_imports_cell) { window._pyforest_update_imports_cell('import seaborn as sns\\nfrom sklearn.model_selection import train_test_split\\nimport matplotlib.pyplot as plt'); }\n",
       "    "
      ],
      "text/plain": [
       "<IPython.core.display.Javascript object>"
      ]
     },
     "metadata": {},
     "output_type": "display_data"
    },
    {
     "data": {
      "application/javascript": [
       "\n",
       "        if (window._pyforest_update_imports_cell) { window._pyforest_update_imports_cell('import seaborn as sns\\nfrom sklearn.model_selection import train_test_split\\nimport matplotlib.pyplot as plt'); }\n",
       "    "
      ],
      "text/plain": [
       "<IPython.core.display.Javascript object>"
      ]
     },
     "metadata": {},
     "output_type": "display_data"
    },
    {
     "data": {
      "application/javascript": [
       "\n",
       "        if (window._pyforest_update_imports_cell) { window._pyforest_update_imports_cell('import seaborn as sns\\nfrom sklearn.model_selection import train_test_split\\nimport matplotlib.pyplot as plt'); }\n",
       "    "
      ],
      "text/plain": [
       "<IPython.core.display.Javascript object>"
      ]
     },
     "metadata": {},
     "output_type": "display_data"
    },
    {
     "data": {
      "application/javascript": [
       "\n",
       "        if (window._pyforest_update_imports_cell) { window._pyforest_update_imports_cell('import seaborn as sns\\nfrom sklearn.model_selection import train_test_split\\nimport matplotlib.pyplot as plt'); }\n",
       "    "
      ],
      "text/plain": [
       "<IPython.core.display.Javascript object>"
      ]
     },
     "metadata": {},
     "output_type": "display_data"
    },
    {
     "data": {
      "image/png": "[encoded data removed]",
      "text/plain": [
       "<Figure size 576x576 with 1 Axes>"
      ]
     },
     "metadata": {
      "needs_background": "light"
     },
     "output_type": "display_data"
    }
   ],
   "source": [
    "plt.figure(figsize=(8,8))\n",
    "plt.scatter(y_Barça.values, Barça_pred, c='crimson')\n",
    "#plt.yscale('log')\n",
    "#plt.xscale('log')\n",
    "\n",
    "p1 = max(max(Barça_pred), max(y_Barça.values))\n",
    "p2 = min(min(Barça_pred), min(y_Barça.values))\n",
    "plt.plot([p1, p2], [p1, p2], 'b-')\n",
    "plt.xlabel('True Values', fontsize=15)\n",
    "plt.ylabel('Predicted value', fontsize=15)\n",
    "plt.title('FC Barcelona')\n",
    "plt.axis('equal')\n",
    "plt.show()"
   ]
  },
  {
   "cell_type": "code",
   "execution_count": 101,
   "id": "14bb31f0",
   "metadata": {},
   "outputs": [],
   "source": [
    "X_Madrid = df[df.club_name == 'Real Madrid CF'][['overall', 'potential', 'international_reputation',\n",
    "       'attacking_short_passing', 'skill_long_passing']] "
   ]
  },
  {
   "cell_type": "code",
   "execution_count": 102,
   "id": "05dd4210",
   "metadata": {},
   "outputs": [],
   "source": [
    "Madrid_pred = Pmodel.predict(X_Madrid)"
   ]
  },
  {
   "cell_type": "code",
   "execution_count": 103,
   "id": "094a839d",
   "metadata": {},
   "outputs": [],
   "source": [
    "y_Madrid = df[df.club_name == 'Real Madrid CF']['wage_eur']"
   ]
  },
  {
   "cell_type": "code",
   "execution_count": 110,
   "id": "468cf9e0",
   "metadata": {},
   "outputs": [
    {
     "data": {
      "application/javascript": [
       "\n",
       "        if (window._pyforest_update_imports_cell) { window._pyforest_update_imports_cell('import seaborn as sns\\nfrom sklearn.model_selection import train_test_split\\nimport matplotlib.pyplot as plt'); }\n",
       "    "
      ],
      "text/plain": [
       "<IPython.core.display.Javascript object>"
      ]
     },
     "metadata": {},
     "output_type": "display_data"
    },
    {
     "data": {
      "application/javascript": [
       "\n",
       "        if (window._pyforest_update_imports_cell) { window._pyforest_update_imports_cell('import seaborn as sns\\nfrom sklearn.model_selection import train_test_split\\nimport matplotlib.pyplot as plt'); }\n",
       "    "
      ],
      "text/plain": [
       "<IPython.core.display.Javascript object>"
      ]
     },
     "metadata": {},
     "output_type": "display_data"
    },
    {
     "data": {
      "application/javascript": [
       "\n",
       "        if (window._pyforest_update_imports_cell) { window._pyforest_update_imports_cell('import seaborn as sns\\nfrom sklearn.model_selection import train_test_split\\nimport matplotlib.pyplot as plt'); }\n",
       "    "
      ],
      "text/plain": [
       "<IPython.core.display.Javascript object>"
      ]
     },
     "metadata": {},
     "output_type": "display_data"
    },
    {
     "data": {
      "application/javascript": [
       "\n",
       "        if (window._pyforest_update_imports_cell) { window._pyforest_update_imports_cell('import seaborn as sns\\nfrom sklearn.model_selection import train_test_split\\nimport matplotlib.pyplot as plt'); }\n",
       "    "
      ],
      "text/plain": [
       "<IPython.core.display.Javascript object>"
      ]
     },
     "metadata": {},
     "output_type": "display_data"
    },
    {
     "data": {
      "application/javascript": [
       "\n",
       "        if (window._pyforest_update_imports_cell) { window._pyforest_update_imports_cell('import seaborn as sns\\nfrom sklearn.model_selection import train_test_split\\nimport matplotlib.pyplot as plt'); }\n",
       "    "
      ],
      "text/plain": [
       "<IPython.core.display.Javascript object>"
      ]
     },
     "metadata": {},
     "output_type": "display_data"
    },
    {
     "data": {
      "application/javascript": [
       "\n",
       "        if (window._pyforest_update_imports_cell) { window._pyforest_update_imports_cell('import seaborn as sns\\nfrom sklearn.model_selection import train_test_split\\nimport matplotlib.pyplot as plt'); }\n",
       "    "
      ],
      "text/plain": [
       "<IPython.core.display.Javascript object>"
      ]
     },
     "metadata": {},
     "output_type": "display_data"
    },
    {
     "data": {
      "application/javascript": [
       "\n",
       "        if (window._pyforest_update_imports_cell) { window._pyforest_update_imports_cell('import seaborn as sns\\nfrom sklearn.model_selection import train_test_split\\nimport matplotlib.pyplot as plt'); }\n",
       "    "
      ],
      "text/plain": [
       "<IPython.core.display.Javascript object>"
      ]
     },
     "metadata": {},
     "output_type": "display_data"
    },
    {
     "data": {
      "application/javascript": [
       "\n",
       "        if (window._pyforest_update_imports_cell) { window._pyforest_update_imports_cell('import seaborn as sns\\nfrom sklearn.model_selection import train_test_split\\nimport matplotlib.pyplot as plt'); }\n",
       "    "
      ],
      "text/plain": [
       "<IPython.core.display.Javascript object>"
      ]
     },
     "metadata": {},
     "output_type": "display_data"
    },
    {
     "data": {
      "image/png": "[encoded data removed]",
      "text/plain": [
       "<Figure size 576x576 with 1 Axes>"
      ]
     },
     "metadata": {
      "needs_background": "light"
     },
     "output_type": "display_data"
    }
   ],
   "source": [
    "plt.figure(figsize=(8,8))\n",
    "plt.scatter(y_Madrid.values, Madrid_pred, c='crimson')\n",
    "#plt.yscale('log')\n",
    "#plt.xscale('log')\n",
    "\n",
    "p1 = max(max(Madrid_pred), max(y_Madrid.values))\n",
    "p2 = min(min(Madrid_pred), min(y_Madrid.values))\n",
    "plt.plot([p1, p2], [p1, p2], 'b-')\n",
    "plt.xlabel('True Values', fontsize=15)\n",
    "plt.ylabel('Predicted value', fontsize=15)\n",
    "plt.axis('equal')\n",
    "plt.title('Real Madrid')\n",
    "plt.show()"
   ]
  },
  {
   "cell_type": "code",
   "execution_count": 131,
   "id": "0a4ceca1",
   "metadata": {},
   "outputs": [],
   "source": [
    "df_B = pd.DataFrame(y_Barça)"
   ]
  },
  {
   "cell_type": "code",
   "execution_count": 133,
   "id": "e8b19cab",
   "metadata": {},
   "outputs": [],
   "source": [
    "df_B['wage_pred'] = Barça_pred"
   ]
  },
  {
   "cell_type": "code",
   "execution_count": 151,
   "id": "c8dc702d",
   "metadata": {},
   "outputs": [],
   "source": [
    "df_B['player_name'] = df.loc[[192448, 153079, 228702, 189332, 189511, 202556, 152729, 231443,\n",
    "            189242, 194404, 220440, 199564, 251854, 205600, 189805, 193290,\n",
    "            245037, 253163, 242816, 251804, 253004, 259694, 237156, 251873,\n",
    "            246139, 229337, 237823, 255069, 242999, 259065, 257318, 263578,\n",
    "            264240]]['short_name'].values"
   ]
  },
  {
   "cell_type": "code",
   "execution_count": 152,
   "id": "38b256c0",
   "metadata": {},
   "outputs": [
    {
     "data": {
      "text/html": [
       "<div>\n",
       "<style scoped>\n",
       "    .dataframe tbody tr th:only-of-type {\n",
       "        vertical-align: middle;\n",
       "    }\n",
       "\n",
       "    .dataframe tbody tr th {\n",
       "        vertical-align: top;\n",
       "    }\n",
       "\n",
       "    .dataframe thead th {\n",
       "        text-align: right;\n",
       "    }\n",
       "</style>\n",
       "<table border=\"1\" class=\"dataframe\">\n",
       "  <thead>\n",
       "    <tr style=\"text-align: right;\">\n",
       "      <th></th>\n",
       "      <th>wage_eur</th>\n",
       "      <th>wage_pred</th>\n",
       "      <th>player_name</th>\n",
       "    </tr>\n",
       "    <tr>\n",
       "      <th>sofifa_id</th>\n",
       "      <th></th>\n",
       "      <th></th>\n",
       "      <th></th>\n",
       "    </tr>\n",
       "  </thead>\n",
       "  <tbody>\n",
       "    <tr>\n",
       "      <th>192448</th>\n",
       "      <td>250000.00</td>\n",
       "      <td>260133.57</td>\n",
       "      <td>M. ter Stegen</td>\n",
       "    </tr>\n",
       "    <tr>\n",
       "      <th>153079</th>\n",
       "      <td>260000.00</td>\n",
       "      <td>184639.37</td>\n",
       "      <td>S. Agüero</td>\n",
       "    </tr>\n",
       "    <tr>\n",
       "      <th>228702</th>\n",
       "      <td>210000.00</td>\n",
       "      <td>206956.17</td>\n",
       "      <td>F. de Jong</td>\n",
       "    </tr>\n",
       "    <tr>\n",
       "      <th>189332</th>\n",
       "      <td>200000.00</td>\n",
       "      <td>152397.55</td>\n",
       "      <td>Jordi Alba</td>\n",
       "    </tr>\n",
       "    <tr>\n",
       "      <th>189511</th>\n",
       "      <td>200000.00</td>\n",
       "      <td>156243.75</td>\n",
       "      <td>Sergio Busquets</td>\n",
       "    </tr>\n",
       "  </tbody>\n",
       "</table>\n",
       "</div>"
      ],
      "text/plain": [
       "           wage_eur  wage_pred      player_name\n",
       "sofifa_id                                      \n",
       "192448    250000.00  260133.57    M. ter Stegen\n",
       "153079    260000.00  184639.37        S. Agüero\n",
       "228702    210000.00  206956.17       F. de Jong\n",
       "189332    200000.00  152397.55       Jordi Alba\n",
       "189511    200000.00  156243.75  Sergio Busquets"
      ]
     },
     "execution_count": 152,
     "metadata": {},
     "output_type": "execute_result"
    }
   ],
   "source": [
    "df_B.head()"
   ]
  },
  {
   "cell_type": "code",
   "execution_count": 173,
   "id": "468220be",
   "metadata": {},
   "outputs": [
    {
     "data": {
      "text/plain": [
       "range(0, 33)"
      ]
     },
     "execution_count": 173,
     "metadata": {},
     "output_type": "execute_result"
    }
   ],
   "source": [
    "range(df_B.shape[0])"
   ]
  },
  {
   "cell_type": "code",
   "execution_count": 177,
   "id": "2d65cf97",
   "metadata": {},
   "outputs": [
    {
     "data": {
      "text/plain": [
       "250000.0"
      ]
     },
     "execution_count": 177,
     "metadata": {},
     "output_type": "execute_result"
    }
   ],
   "source": [
    "df_B.wage_eur.iloc[0]"
   ]
  },
  {
   "cell_type": "code",
   "execution_count": 184,
   "id": "7353dcea",
   "metadata": {},
   "outputs": [
    {
     "data": {
      "application/javascript": [
       "\n",
       "        if (window._pyforest_update_imports_cell) { window._pyforest_update_imports_cell('import seaborn as sns\\nfrom sklearn.model_selection import train_test_split\\nimport matplotlib.pyplot as plt'); }\n",
       "    "
      ],
      "text/plain": [
       "<IPython.core.display.Javascript object>"
      ]
     },
     "metadata": {},
     "output_type": "display_data"
    },
    {
     "data": {
      "application/javascript": [
       "\n",
       "        if (window._pyforest_update_imports_cell) { window._pyforest_update_imports_cell('import seaborn as sns\\nfrom sklearn.model_selection import train_test_split\\nimport matplotlib.pyplot as plt'); }\n",
       "    "
      ],
      "text/plain": [
       "<IPython.core.display.Javascript object>"
      ]
     },
     "metadata": {},
     "output_type": "display_data"
    },
    {
     "data": {
      "application/javascript": [
       "\n",
       "        if (window._pyforest_update_imports_cell) { window._pyforest_update_imports_cell('import seaborn as sns\\nfrom sklearn.model_selection import train_test_split\\nimport matplotlib.pyplot as plt'); }\n",
       "    "
      ],
      "text/plain": [
       "<IPython.core.display.Javascript object>"
      ]
     },
     "metadata": {},
     "output_type": "display_data"
    },
    {
     "data": {
      "application/javascript": [
       "\n",
       "        if (window._pyforest_update_imports_cell) { window._pyforest_update_imports_cell('import seaborn as sns\\nfrom sklearn.model_selection import train_test_split\\nimport matplotlib.pyplot as plt'); }\n",
       "    "
      ],
      "text/plain": [
       "<IPython.core.display.Javascript object>"
      ]
     },
     "metadata": {},
     "output_type": "display_data"
    },
    {
     "data": {
      "application/javascript": [
       "\n",
       "        if (window._pyforest_update_imports_cell) { window._pyforest_update_imports_cell('import seaborn as sns\\nfrom sklearn.model_selection import train_test_split\\nimport matplotlib.pyplot as plt'); }\n",
       "    "
      ],
      "text/plain": [
       "<IPython.core.display.Javascript object>"
      ]
     },
     "metadata": {},
     "output_type": "display_data"
    },
    {
     "data": {
      "application/javascript": [
       "\n",
       "        if (window._pyforest_update_imports_cell) { window._pyforest_update_imports_cell('import seaborn as sns\\nfrom sklearn.model_selection import train_test_split\\nimport matplotlib.pyplot as plt'); }\n",
       "    "
      ],
      "text/plain": [
       "<IPython.core.display.Javascript object>"
      ]
     },
     "metadata": {},
     "output_type": "display_data"
    },
    {
     "data": {
      "application/javascript": [
       "\n",
       "        if (window._pyforest_update_imports_cell) { window._pyforest_update_imports_cell('import seaborn as sns\\nfrom sklearn.model_selection import train_test_split\\nimport matplotlib.pyplot as plt'); }\n",
       "    "
      ],
      "text/plain": [
       "<IPython.core.display.Javascript object>"
      ]
     },
     "metadata": {},
     "output_type": "display_data"
    },
    {
     "data": {
      "application/javascript": [
       "\n",
       "        if (window._pyforest_update_imports_cell) { window._pyforest_update_imports_cell('import seaborn as sns\\nfrom sklearn.model_selection import train_test_split\\nimport matplotlib.pyplot as plt'); }\n",
       "    "
      ],
      "text/plain": [
       "<IPython.core.display.Javascript object>"
      ]
     },
     "metadata": {},
     "output_type": "display_data"
    },
    {
     "data": {
      "application/javascript": [
       "\n",
       "        if (window._pyforest_update_imports_cell) { window._pyforest_update_imports_cell('import seaborn as sns\\nfrom sklearn.model_selection import train_test_split\\nimport matplotlib.pyplot as plt'); }\n",
       "    "
      ],
      "text/plain": [
       "<IPython.core.display.Javascript object>"
      ]
     },
     "metadata": {},
     "output_type": "display_data"
    },
    {
     "data": {
      "application/javascript": [
       "\n",
       "        if (window._pyforest_update_imports_cell) { window._pyforest_update_imports_cell('import seaborn as sns\\nfrom sklearn.model_selection import train_test_split\\nimport matplotlib.pyplot as plt'); }\n",
       "    "
      ],
      "text/plain": [
       "<IPython.core.display.Javascript object>"
      ]
     },
     "metadata": {},
     "output_type": "display_data"
    },
    {
     "data": {
      "application/javascript": [
       "\n",
       "        if (window._pyforest_update_imports_cell) { window._pyforest_update_imports_cell('import seaborn as sns\\nfrom sklearn.model_selection import train_test_split\\nimport matplotlib.pyplot as plt'); }\n",
       "    "
      ],
      "text/plain": [
       "<IPython.core.display.Javascript object>"
      ]
     },
     "metadata": {},
     "output_type": "display_data"
    },
    {
     "data": {
      "application/javascript": [
       "\n",
       "        if (window._pyforest_update_imports_cell) { window._pyforest_update_imports_cell('import seaborn as sns\\nfrom sklearn.model_selection import train_test_split\\nimport matplotlib.pyplot as plt'); }\n",
       "    "
      ],
      "text/plain": [
       "<IPython.core.display.Javascript object>"
      ]
     },
     "metadata": {},
     "output_type": "display_data"
    },
    {
     "data": {
      "application/javascript": [
       "\n",
       "        if (window._pyforest_update_imports_cell) { window._pyforest_update_imports_cell('import seaborn as sns\\nfrom sklearn.model_selection import train_test_split\\nimport matplotlib.pyplot as plt'); }\n",
       "    "
      ],
      "text/plain": [
       "<IPython.core.display.Javascript object>"
      ]
     },
     "metadata": {},
     "output_type": "display_data"
    },
    {
     "data": {
      "application/javascript": [
       "\n",
       "        if (window._pyforest_update_imports_cell) { window._pyforest_update_imports_cell('import seaborn as sns\\nfrom sklearn.model_selection import train_test_split\\nimport matplotlib.pyplot as plt'); }\n",
       "    "
      ],
      "text/plain": [
       "<IPython.core.display.Javascript object>"
      ]
     },
     "metadata": {},
     "output_type": "display_data"
    },
    {
     "data": {
      "application/javascript": [
       "\n",
       "        if (window._pyforest_update_imports_cell) { window._pyforest_update_imports_cell('import seaborn as sns\\nfrom sklearn.model_selection import train_test_split\\nimport matplotlib.pyplot as plt'); }\n",
       "    "
      ],
      "text/plain": [
       "<IPython.core.display.Javascript object>"
      ]
     },
     "metadata": {},
     "output_type": "display_data"
    },
    {
     "data": {
      "application/javascript": [
       "\n",
       "        if (window._pyforest_update_imports_cell) { window._pyforest_update_imports_cell('import seaborn as sns\\nfrom sklearn.model_selection import train_test_split\\nimport matplotlib.pyplot as plt'); }\n",
       "    "
      ],
      "text/plain": [
       "<IPython.core.display.Javascript object>"
      ]
     },
     "metadata": {},
     "output_type": "display_data"
    },
    {
     "data": {
      "application/javascript": [
       "\n",
       "        if (window._pyforest_update_imports_cell) { window._pyforest_update_imports_cell('import seaborn as sns\\nfrom sklearn.model_selection import train_test_split\\nimport matplotlib.pyplot as plt'); }\n",
       "    "
      ],
      "text/plain": [
       "<IPython.core.display.Javascript object>"
      ]
     },
     "metadata": {},
     "output_type": "display_data"
    },
    {
     "data": {
      "application/javascript": [
       "\n",
       "        if (window._pyforest_update_imports_cell) { window._pyforest_update_imports_cell('import seaborn as sns\\nfrom sklearn.model_selection import train_test_split\\nimport matplotlib.pyplot as plt'); }\n",
       "    "
      ],
      "text/plain": [
       "<IPython.core.display.Javascript object>"
      ]
     },
     "metadata": {},
     "output_type": "display_data"
    },
    {
     "data": {
      "application/javascript": [
       "\n",
       "        if (window._pyforest_update_imports_cell) { window._pyforest_update_imports_cell('import seaborn as sns\\nfrom sklearn.model_selection import train_test_split\\nimport matplotlib.pyplot as plt'); }\n",
       "    "
      ],
      "text/plain": [
       "<IPython.core.display.Javascript object>"
      ]
     },
     "metadata": {},
     "output_type": "display_data"
    },
    {
     "data": {
      "application/javascript": [
       "\n",
       "        if (window._pyforest_update_imports_cell) { window._pyforest_update_imports_cell('import seaborn as sns\\nfrom sklearn.model_selection import train_test_split\\nimport matplotlib.pyplot as plt'); }\n",
       "    "
      ],
      "text/plain": [
       "<IPython.core.display.Javascript object>"
      ]
     },
     "metadata": {},
     "output_type": "display_data"
    },
    {
     "data": {
      "application/javascript": [
       "\n",
       "        if (window._pyforest_update_imports_cell) { window._pyforest_update_imports_cell('import seaborn as sns\\nfrom sklearn.model_selection import train_test_split\\nimport matplotlib.pyplot as plt'); }\n",
       "    "
      ],
      "text/plain": [
       "<IPython.core.display.Javascript object>"
      ]
     },
     "metadata": {},
     "output_type": "display_data"
    },
    {
     "data": {
      "application/javascript": [
       "\n",
       "        if (window._pyforest_update_imports_cell) { window._pyforest_update_imports_cell('import seaborn as sns\\nfrom sklearn.model_selection import train_test_split\\nimport matplotlib.pyplot as plt'); }\n",
       "    "
      ],
      "text/plain": [
       "<IPython.core.display.Javascript object>"
      ]
     },
     "metadata": {},
     "output_type": "display_data"
    },
    {
     "data": {
      "application/javascript": [
       "\n",
       "        if (window._pyforest_update_imports_cell) { window._pyforest_update_imports_cell('import seaborn as sns\\nfrom sklearn.model_selection import train_test_split\\nimport matplotlib.pyplot as plt'); }\n",
       "    "
      ],
      "text/plain": [
       "<IPython.core.display.Javascript object>"
      ]
     },
     "metadata": {},
     "output_type": "display_data"
    },
    {
     "data": {
      "application/javascript": [
       "\n",
       "        if (window._pyforest_update_imports_cell) { window._pyforest_update_imports_cell('import seaborn as sns\\nfrom sklearn.model_selection import train_test_split\\nimport matplotlib.pyplot as plt'); }\n",
       "    "
      ],
      "text/plain": [
       "<IPython.core.display.Javascript object>"
      ]
     },
     "metadata": {},
     "output_type": "display_data"
    },
    {
     "data": {
      "application/javascript": [
       "\n",
       "        if (window._pyforest_update_imports_cell) { window._pyforest_update_imports_cell('import seaborn as sns\\nfrom sklearn.model_selection import train_test_split\\nimport matplotlib.pyplot as plt'); }\n",
       "    "
      ],
      "text/plain": [
       "<IPython.core.display.Javascript object>"
      ]
     },
     "metadata": {},
     "output_type": "display_data"
    },
    {
     "data": {
      "application/javascript": [
       "\n",
       "        if (window._pyforest_update_imports_cell) { window._pyforest_update_imports_cell('import seaborn as sns\\nfrom sklearn.model_selection import train_test_split\\nimport matplotlib.pyplot as plt'); }\n",
       "    "
      ],
      "text/plain": [
       "<IPython.core.display.Javascript object>"
      ]
     },
     "metadata": {},
     "output_type": "display_data"
    },
    {
     "data": {
      "application/javascript": [
       "\n",
       "        if (window._pyforest_update_imports_cell) { window._pyforest_update_imports_cell('import seaborn as sns\\nfrom sklearn.model_selection import train_test_split\\nimport matplotlib.pyplot as plt'); }\n",
       "    "
      ],
      "text/plain": [
       "<IPython.core.display.Javascript object>"
      ]
     },
     "metadata": {},
     "output_type": "display_data"
    },
    {
     "data": {
      "application/javascript": [
       "\n",
       "        if (window._pyforest_update_imports_cell) { window._pyforest_update_imports_cell('import seaborn as sns\\nfrom sklearn.model_selection import train_test_split\\nimport matplotlib.pyplot as plt'); }\n",
       "    "
      ],
      "text/plain": [
       "<IPython.core.display.Javascript object>"
      ]
     },
     "metadata": {},
     "output_type": "display_data"
    },
    {
     "data": {
      "application/javascript": [
       "\n",
       "        if (window._pyforest_update_imports_cell) { window._pyforest_update_imports_cell('import seaborn as sns\\nfrom sklearn.model_selection import train_test_split\\nimport matplotlib.pyplot as plt'); }\n",
       "    "
      ],
      "text/plain": [
       "<IPython.core.display.Javascript object>"
      ]
     },
     "metadata": {},
     "output_type": "display_data"
    },
    {
     "data": {
      "application/javascript": [
       "\n",
       "        if (window._pyforest_update_imports_cell) { window._pyforest_update_imports_cell('import seaborn as sns\\nfrom sklearn.model_selection import train_test_split\\nimport matplotlib.pyplot as plt'); }\n",
       "    "
      ],
      "text/plain": [
       "<IPython.core.display.Javascript object>"
      ]
     },
     "metadata": {},
     "output_type": "display_data"
    },
    {
     "data": {
      "application/javascript": [
       "\n",
       "        if (window._pyforest_update_imports_cell) { window._pyforest_update_imports_cell('import seaborn as sns\\nfrom sklearn.model_selection import train_test_split\\nimport matplotlib.pyplot as plt'); }\n",
       "    "
      ],
      "text/plain": [
       "<IPython.core.display.Javascript object>"
      ]
     },
     "metadata": {},
     "output_type": "display_data"
    },
    {
     "data": {
      "application/javascript": [
       "\n",
       "        if (window._pyforest_update_imports_cell) { window._pyforest_update_imports_cell('import seaborn as sns\\nfrom sklearn.model_selection import train_test_split\\nimport matplotlib.pyplot as plt'); }\n",
       "    "
      ],
      "text/plain": [
       "<IPython.core.display.Javascript object>"
      ]
     },
     "metadata": {},
     "output_type": "display_data"
    },
    {
     "data": {
      "application/javascript": [
       "\n",
       "        if (window._pyforest_update_imports_cell) { window._pyforest_update_imports_cell('import seaborn as sns\\nfrom sklearn.model_selection import train_test_split\\nimport matplotlib.pyplot as plt'); }\n",
       "    "
      ],
      "text/plain": [
       "<IPython.core.display.Javascript object>"
      ]
     },
     "metadata": {},
     "output_type": "display_data"
    },
    {
     "data": {
      "application/javascript": [
       "\n",
       "        if (window._pyforest_update_imports_cell) { window._pyforest_update_imports_cell('import seaborn as sns\\nfrom sklearn.model_selection import train_test_split\\nimport matplotlib.pyplot as plt'); }\n",
       "    "
      ],
      "text/plain": [
       "<IPython.core.display.Javascript object>"
      ]
     },
     "metadata": {},
     "output_type": "display_data"
    },
    {
     "data": {
      "application/javascript": [
       "\n",
       "        if (window._pyforest_update_imports_cell) { window._pyforest_update_imports_cell('import seaborn as sns\\nfrom sklearn.model_selection import train_test_split\\nimport matplotlib.pyplot as plt'); }\n",
       "    "
      ],
      "text/plain": [
       "<IPython.core.display.Javascript object>"
      ]
     },
     "metadata": {},
     "output_type": "display_data"
    },
    {
     "data": {
      "image/png": "[encoded data removed]",
      "text/plain": [
       "<Figure size 2304x1440 with 1 Axes>"
      ]
     },
     "metadata": {
      "needs_background": "light"
     },
     "output_type": "display_data"
    }
   ],
   "source": [
    "sns.lmplot(data=df_B,x='wage_eur',y='wage_pred',height=20, aspect=1.6)\n",
    "for i in range(df_B.shape[0]):\n",
    "    plt.text(x=df_B.wage_eur.iloc[i],y=df_B.wage_pred.iloc[i],s=df_B.player_name.iloc[i], \n",
    "    fontdict=dict(color='red',size=10),\n",
    "    bbox=dict(facecolor='yellow',alpha=0.5))\n",
    "\n",
    "plt.savefig('Barça_truevspred.png')"
   ]
  },
  {
   "cell_type": "code",
   "execution_count": 186,
   "id": "2f06f647",
   "metadata": {},
   "outputs": [],
   "source": [
    "df_M = pd.DataFrame(y_Madrid)"
   ]
  },
  {
   "cell_type": "code",
   "execution_count": 187,
   "id": "92abc9d6",
   "metadata": {},
   "outputs": [],
   "source": [
    "df_M['wage_pred'] = Madrid_pred"
   ]
  },
  {
   "cell_type": "code",
   "execution_count": 188,
   "id": "3d6cf68d",
   "metadata": {},
   "outputs": [
    {
     "data": {
      "text/plain": [
       "Int64Index([165153, 192119, 200145, 182521, 177003, 183277, 204963, 197445,\n",
       "            220834, 228618, 239053, 173731, 197781, 240130, 200724, 208618,\n",
       "            176676, 238794, 232432, 243812, 248243, 222509, 221639, 225161,\n",
       "            243952, 261987, 258922, 261865, 258923, 258185, 264170, 259419,\n",
       "            259424],\n",
       "           dtype='int64', name='sofifa_id')"
      ]
     },
     "execution_count": 188,
     "metadata": {},
     "output_type": "execute_result"
    }
   ],
   "source": [
    "X_Madrid.index"
   ]
  },
  {
   "cell_type": "code",
   "execution_count": 189,
   "id": "b66da717",
   "metadata": {},
   "outputs": [],
   "source": [
    "df_M['player_name'] = df.loc[[165153, 192119, 200145, 182521, 177003, 183277, 204963, 197445,\n",
    "            220834, 228618, 239053, 173731, 197781, 240130, 200724, 208618,\n",
    "            176676, 238794, 232432, 243812, 248243, 222509, 221639, 225161,\n",
    "            243952, 261987, 258922, 261865, 258923, 258185, 264170, 259419,\n",
    "            259424]]['short_name'].values"
   ]
  },
  {
   "cell_type": "code",
   "execution_count": 190,
   "id": "9c301bd8",
   "metadata": {},
   "outputs": [
    {
     "data": {
      "text/html": [
       "<div>\n",
       "<style scoped>\n",
       "    .dataframe tbody tr th:only-of-type {\n",
       "        vertical-align: middle;\n",
       "    }\n",
       "\n",
       "    .dataframe tbody tr th {\n",
       "        vertical-align: top;\n",
       "    }\n",
       "\n",
       "    .dataframe thead th {\n",
       "        text-align: right;\n",
       "    }\n",
       "</style>\n",
       "<table border=\"1\" class=\"dataframe\">\n",
       "  <thead>\n",
       "    <tr style=\"text-align: right;\">\n",
       "      <th></th>\n",
       "      <th>wage_eur</th>\n",
       "      <th>wage_pred</th>\n",
       "      <th>player_name</th>\n",
       "    </tr>\n",
       "    <tr>\n",
       "      <th>sofifa_id</th>\n",
       "      <th></th>\n",
       "      <th></th>\n",
       "      <th></th>\n",
       "    </tr>\n",
       "  </thead>\n",
       "  <tbody>\n",
       "    <tr>\n",
       "      <th>165153</th>\n",
       "      <td>350000.00</td>\n",
       "      <td>268685.06</td>\n",
       "      <td>K. Benzema</td>\n",
       "    </tr>\n",
       "    <tr>\n",
       "      <th>192119</th>\n",
       "      <td>250000.00</td>\n",
       "      <td>177640.97</td>\n",
       "      <td>T. Courtois</td>\n",
       "    </tr>\n",
       "    <tr>\n",
       "      <th>200145</th>\n",
       "      <td>310000.00</td>\n",
       "      <td>246772.29</td>\n",
       "      <td>Casemiro</td>\n",
       "    </tr>\n",
       "    <tr>\n",
       "      <th>182521</th>\n",
       "      <td>310000.00</td>\n",
       "      <td>228169.97</td>\n",
       "      <td>T. Kroos</td>\n",
       "    </tr>\n",
       "    <tr>\n",
       "      <th>177003</th>\n",
       "      <td>190000.00</td>\n",
       "      <td>190916.18</td>\n",
       "      <td>L. Modrić</td>\n",
       "    </tr>\n",
       "  </tbody>\n",
       "</table>\n",
       "</div>"
      ],
      "text/plain": [
       "           wage_eur  wage_pred  player_name\n",
       "sofifa_id                                  \n",
       "165153    350000.00  268685.06   K. Benzema\n",
       "192119    250000.00  177640.97  T. Courtois\n",
       "200145    310000.00  246772.29     Casemiro\n",
       "182521    310000.00  228169.97     T. Kroos\n",
       "177003    190000.00  190916.18    L. Modrić"
      ]
     },
     "execution_count": 190,
     "metadata": {},
     "output_type": "execute_result"
    }
   ],
   "source": [
    "df_M.head()"
   ]
  },
  {
   "cell_type": "code",
   "execution_count": 191,
   "id": "b171ae95",
   "metadata": {},
   "outputs": [
    {
     "data": {
      "text/plain": [
       "range(0, 33)"
      ]
     },
     "execution_count": 191,
     "metadata": {},
     "output_type": "execute_result"
    }
   ],
   "source": [
    "range(df_M.shape[0])"
   ]
  },
  {
   "cell_type": "code",
   "execution_count": 192,
   "id": "547956e8",
   "metadata": {},
   "outputs": [
    {
     "data": {
      "text/plain": [
       "350000.0"
      ]
     },
     "execution_count": 192,
     "metadata": {},
     "output_type": "execute_result"
    }
   ],
   "source": [
    "df_M.wage_eur.iloc[0]"
   ]
  },
  {
   "cell_type": "code",
   "execution_count": 193,
   "id": "1ee07737",
   "metadata": {},
   "outputs": [
    {
     "data": {
      "application/javascript": [
       "\n",
       "        if (window._pyforest_update_imports_cell) { window._pyforest_update_imports_cell('import seaborn as sns\\nfrom sklearn.model_selection import train_test_split\\nimport matplotlib.pyplot as plt'); }\n",
       "    "
      ],
      "text/plain": [
       "<IPython.core.display.Javascript object>"
      ]
     },
     "metadata": {},
     "output_type": "display_data"
    },
    {
     "data": {
      "application/javascript": [
       "\n",
       "        if (window._pyforest_update_imports_cell) { window._pyforest_update_imports_cell('import seaborn as sns\\nfrom sklearn.model_selection import train_test_split\\nimport matplotlib.pyplot as plt'); }\n",
       "    "
      ],
      "text/plain": [
       "<IPython.core.display.Javascript object>"
      ]
     },
     "metadata": {},
     "output_type": "display_data"
    },
    {
     "data": {
      "application/javascript": [
       "\n",
       "        if (window._pyforest_update_imports_cell) { window._pyforest_update_imports_cell('import seaborn as sns\\nfrom sklearn.model_selection import train_test_split\\nimport matplotlib.pyplot as plt'); }\n",
       "    "
      ],
      "text/plain": [
       "<IPython.core.display.Javascript object>"
      ]
     },
     "metadata": {},
     "output_type": "display_data"
    },
    {
     "data": {
      "application/javascript": [
       "\n",
       "        if (window._pyforest_update_imports_cell) { window._pyforest_update_imports_cell('import seaborn as sns\\nfrom sklearn.model_selection import train_test_split\\nimport matplotlib.pyplot as plt'); }\n",
       "    "
      ],
      "text/plain": [
       "<IPython.core.display.Javascript object>"
      ]
     },
     "metadata": {},
     "output_type": "display_data"
    },
    {
     "data": {
      "application/javascript": [
       "\n",
       "        if (window._pyforest_update_imports_cell) { window._pyforest_update_imports_cell('import seaborn as sns\\nfrom sklearn.model_selection import train_test_split\\nimport matplotlib.pyplot as plt'); }\n",
       "    "
      ],
      "text/plain": [
       "<IPython.core.display.Javascript object>"
      ]
     },
     "metadata": {},
     "output_type": "display_data"
    },
    {
     "data": {
      "application/javascript": [
       "\n",
       "        if (window._pyforest_update_imports_cell) { window._pyforest_update_imports_cell('import seaborn as sns\\nfrom sklearn.model_selection import train_test_split\\nimport matplotlib.pyplot as plt'); }\n",
       "    "
      ],
      "text/plain": [
       "<IPython.core.display.Javascript object>"
      ]
     },
     "metadata": {},
     "output_type": "display_data"
    },
    {
     "data": {
      "application/javascript": [
       "\n",
       "        if (window._pyforest_update_imports_cell) { window._pyforest_update_imports_cell('import seaborn as sns\\nfrom sklearn.model_selection import train_test_split\\nimport matplotlib.pyplot as plt'); }\n",
       "    "
      ],
      "text/plain": [
       "<IPython.core.display.Javascript object>"
      ]
     },
     "metadata": {},
     "output_type": "display_data"
    },
    {
     "data": {
      "application/javascript": [
       "\n",
       "        if (window._pyforest_update_imports_cell) { window._pyforest_update_imports_cell('import seaborn as sns\\nfrom sklearn.model_selection import train_test_split\\nimport matplotlib.pyplot as plt'); }\n",
       "    "
      ],
      "text/plain": [
       "<IPython.core.display.Javascript object>"
      ]
     },
     "metadata": {},
     "output_type": "display_data"
    },
    {
     "data": {
      "application/javascript": [
       "\n",
       "        if (window._pyforest_update_imports_cell) { window._pyforest_update_imports_cell('import seaborn as sns\\nfrom sklearn.model_selection import train_test_split\\nimport matplotlib.pyplot as plt'); }\n",
       "    "
      ],
      "text/plain": [
       "<IPython.core.display.Javascript object>"
      ]
     },
     "metadata": {},
     "output_type": "display_data"
    },
    {
     "data": {
      "application/javascript": [
       "\n",
       "        if (window._pyforest_update_imports_cell) { window._pyforest_update_imports_cell('import seaborn as sns\\nfrom sklearn.model_selection import train_test_split\\nimport matplotlib.pyplot as plt'); }\n",
       "    "
      ],
      "text/plain": [
       "<IPython.core.display.Javascript object>"
      ]
     },
     "metadata": {},
     "output_type": "display_data"
    },
    {
     "data": {
      "application/javascript": [
       "\n",
       "        if (window._pyforest_update_imports_cell) { window._pyforest_update_imports_cell('import seaborn as sns\\nfrom sklearn.model_selection import train_test_split\\nimport matplotlib.pyplot as plt'); }\n",
       "    "
      ],
      "text/plain": [
       "<IPython.core.display.Javascript object>"
      ]
     },
     "metadata": {},
     "output_type": "display_data"
    },
    {
     "data": {
      "application/javascript": [
       "\n",
       "        if (window._pyforest_update_imports_cell) { window._pyforest_update_imports_cell('import seaborn as sns\\nfrom sklearn.model_selection import train_test_split\\nimport matplotlib.pyplot as plt'); }\n",
       "    "
      ],
      "text/plain": [
       "<IPython.core.display.Javascript object>"
      ]
     },
     "metadata": {},
     "output_type": "display_data"
    },
    {
     "data": {
      "application/javascript": [
       "\n",
       "        if (window._pyforest_update_imports_cell) { window._pyforest_update_imports_cell('import seaborn as sns\\nfrom sklearn.model_selection import train_test_split\\nimport matplotlib.pyplot as plt'); }\n",
       "    "
      ],
      "text/plain": [
       "<IPython.core.display.Javascript object>"
      ]
     },
     "metadata": {},
     "output_type": "display_data"
    },
    {
     "data": {
      "application/javascript": [
       "\n",
       "        if (window._pyforest_update_imports_cell) { window._pyforest_update_imports_cell('import seaborn as sns\\nfrom sklearn.model_selection import train_test_split\\nimport matplotlib.pyplot as plt'); }\n",
       "    "
      ],
      "text/plain": [
       "<IPython.core.display.Javascript object>"
      ]
     },
     "metadata": {},
     "output_type": "display_data"
    },
    {
     "data": {
      "application/javascript": [
       "\n",
       "        if (window._pyforest_update_imports_cell) { window._pyforest_update_imports_cell('import seaborn as sns\\nfrom sklearn.model_selection import train_test_split\\nimport matplotlib.pyplot as plt'); }\n",
       "    "
      ],
      "text/plain": [
       "<IPython.core.display.Javascript object>"
      ]
     },
     "metadata": {},
     "output_type": "display_data"
    },
    {
     "data": {
      "application/javascript": [
       "\n",
       "        if (window._pyforest_update_imports_cell) { window._pyforest_update_imports_cell('import seaborn as sns\\nfrom sklearn.model_selection import train_test_split\\nimport matplotlib.pyplot as plt'); }\n",
       "    "
      ],
      "text/plain": [
       "<IPython.core.display.Javascript object>"
      ]
     },
     "metadata": {},
     "output_type": "display_data"
    },
    {
     "data": {
      "application/javascript": [
       "\n",
       "        if (window._pyforest_update_imports_cell) { window._pyforest_update_imports_cell('import seaborn as sns\\nfrom sklearn.model_selection import train_test_split\\nimport matplotlib.pyplot as plt'); }\n",
       "    "
      ],
      "text/plain": [
       "<IPython.core.display.Javascript object>"
      ]
     },
     "metadata": {},
     "output_type": "display_data"
    },
    {
     "data": {
      "application/javascript": [
       "\n",
       "        if (window._pyforest_update_imports_cell) { window._pyforest_update_imports_cell('import seaborn as sns\\nfrom sklearn.model_selection import train_test_split\\nimport matplotlib.pyplot as plt'); }\n",
       "    "
      ],
      "text/plain": [
       "<IPython.core.display.Javascript object>"
      ]
     },
     "metadata": {},
     "output_type": "display_data"
    },
    {
     "data": {
      "application/javascript": [
       "\n",
       "        if (window._pyforest_update_imports_cell) { window._pyforest_update_imports_cell('import seaborn as sns\\nfrom sklearn.model_selection import train_test_split\\nimport matplotlib.pyplot as plt'); }\n",
       "    "
      ],
      "text/plain": [
       "<IPython.core.display.Javascript object>"
      ]
     },
     "metadata": {},
     "output_type": "display_data"
    },
    {
     "data": {
      "application/javascript": [
       "\n",
       "        if (window._pyforest_update_imports_cell) { window._pyforest_update_imports_cell('import seaborn as sns\\nfrom sklearn.model_selection import train_test_split\\nimport matplotlib.pyplot as plt'); }\n",
       "    "
      ],
      "text/plain": [
       "<IPython.core.display.Javascript object>"
      ]
     },
     "metadata": {},
     "output_type": "display_data"
    },
    {
     "data": {
      "application/javascript": [
       "\n",
       "        if (window._pyforest_update_imports_cell) { window._pyforest_update_imports_cell('import seaborn as sns\\nfrom sklearn.model_selection import train_test_split\\nimport matplotlib.pyplot as plt'); }\n",
       "    "
      ],
      "text/plain": [
       "<IPython.core.display.Javascript object>"
      ]
     },
     "metadata": {},
     "output_type": "display_data"
    },
    {
     "data": {
      "application/javascript": [
       "\n",
       "        if (window._pyforest_update_imports_cell) { window._pyforest_update_imports_cell('import seaborn as sns\\nfrom sklearn.model_selection import train_test_split\\nimport matplotlib.pyplot as plt'); }\n",
       "    "
      ],
      "text/plain": [
       "<IPython.core.display.Javascript object>"
      ]
     },
     "metadata": {},
     "output_type": "display_data"
    },
    {
     "data": {
      "application/javascript": [
       "\n",
       "        if (window._pyforest_update_imports_cell) { window._pyforest_update_imports_cell('import seaborn as sns\\nfrom sklearn.model_selection import train_test_split\\nimport matplotlib.pyplot as plt'); }\n",
       "    "
      ],
      "text/plain": [
       "<IPython.core.display.Javascript object>"
      ]
     },
     "metadata": {},
     "output_type": "display_data"
    },
    {
     "data": {
      "application/javascript": [
       "\n",
       "        if (window._pyforest_update_imports_cell) { window._pyforest_update_imports_cell('import seaborn as sns\\nfrom sklearn.model_selection import train_test_split\\nimport matplotlib.pyplot as plt'); }\n",
       "    "
      ],
      "text/plain": [
       "<IPython.core.display.Javascript object>"
      ]
     },
     "metadata": {},
     "output_type": "display_data"
    },
    {
     "data": {
      "application/javascript": [
       "\n",
       "        if (window._pyforest_update_imports_cell) { window._pyforest_update_imports_cell('import seaborn as sns\\nfrom sklearn.model_selection import train_test_split\\nimport matplotlib.pyplot as plt'); }\n",
       "    "
      ],
      "text/plain": [
       "<IPython.core.display.Javascript object>"
      ]
     },
     "metadata": {},
     "output_type": "display_data"
    },
    {
     "data": {
      "application/javascript": [
       "\n",
       "        if (window._pyforest_update_imports_cell) { window._pyforest_update_imports_cell('import seaborn as sns\\nfrom sklearn.model_selection import train_test_split\\nimport matplotlib.pyplot as plt'); }\n",
       "    "
      ],
      "text/plain": [
       "<IPython.core.display.Javascript object>"
      ]
     },
     "metadata": {},
     "output_type": "display_data"
    },
    {
     "data": {
      "application/javascript": [
       "\n",
       "        if (window._pyforest_update_imports_cell) { window._pyforest_update_imports_cell('import seaborn as sns\\nfrom sklearn.model_selection import train_test_split\\nimport matplotlib.pyplot as plt'); }\n",
       "    "
      ],
      "text/plain": [
       "<IPython.core.display.Javascript object>"
      ]
     },
     "metadata": {},
     "output_type": "display_data"
    },
    {
     "data": {
      "application/javascript": [
       "\n",
       "        if (window._pyforest_update_imports_cell) { window._pyforest_update_imports_cell('import seaborn as sns\\nfrom sklearn.model_selection import train_test_split\\nimport matplotlib.pyplot as plt'); }\n",
       "    "
      ],
      "text/plain": [
       "<IPython.core.display.Javascript object>"
      ]
     },
     "metadata": {},
     "output_type": "display_data"
    },
    {
     "data": {
      "application/javascript": [
       "\n",
       "        if (window._pyforest_update_imports_cell) { window._pyforest_update_imports_cell('import seaborn as sns\\nfrom sklearn.model_selection import train_test_split\\nimport matplotlib.pyplot as plt'); }\n",
       "    "
      ],
      "text/plain": [
       "<IPython.core.display.Javascript object>"
      ]
     },
     "metadata": {},
     "output_type": "display_data"
    },
    {
     "data": {
      "application/javascript": [
       "\n",
       "        if (window._pyforest_update_imports_cell) { window._pyforest_update_imports_cell('import seaborn as sns\\nfrom sklearn.model_selection import train_test_split\\nimport matplotlib.pyplot as plt'); }\n",
       "    "
      ],
      "text/plain": [
       "<IPython.core.display.Javascript object>"
      ]
     },
     "metadata": {},
     "output_type": "display_data"
    },
    {
     "data": {
      "application/javascript": [
       "\n",
       "        if (window._pyforest_update_imports_cell) { window._pyforest_update_imports_cell('import seaborn as sns\\nfrom sklearn.model_selection import train_test_split\\nimport matplotlib.pyplot as plt'); }\n",
       "    "
      ],
      "text/plain": [
       "<IPython.core.display.Javascript object>"
      ]
     },
     "metadata": {},
     "output_type": "display_data"
    },
    {
     "data": {
      "application/javascript": [
       "\n",
       "        if (window._pyforest_update_imports_cell) { window._pyforest_update_imports_cell('import seaborn as sns\\nfrom sklearn.model_selection import train_test_split\\nimport matplotlib.pyplot as plt'); }\n",
       "    "
      ],
      "text/plain": [
       "<IPython.core.display.Javascript object>"
      ]
     },
     "metadata": {},
     "output_type": "display_data"
    },
    {
     "data": {
      "application/javascript": [
       "\n",
       "        if (window._pyforest_update_imports_cell) { window._pyforest_update_imports_cell('import seaborn as sns\\nfrom sklearn.model_selection import train_test_split\\nimport matplotlib.pyplot as plt'); }\n",
       "    "
      ],
      "text/plain": [
       "<IPython.core.display.Javascript object>"
      ]
     },
     "metadata": {},
     "output_type": "display_data"
    },
    {
     "data": {
      "application/javascript": [
       "\n",
       "        if (window._pyforest_update_imports_cell) { window._pyforest_update_imports_cell('import seaborn as sns\\nfrom sklearn.model_selection import train_test_split\\nimport matplotlib.pyplot as plt'); }\n",
       "    "
      ],
      "text/plain": [
       "<IPython.core.display.Javascript object>"
      ]
     },
     "metadata": {},
     "output_type": "display_data"
    },
    {
     "data": {
      "application/javascript": [
       "\n",
       "        if (window._pyforest_update_imports_cell) { window._pyforest_update_imports_cell('import seaborn as sns\\nfrom sklearn.model_selection import train_test_split\\nimport matplotlib.pyplot as plt'); }\n",
       "    "
      ],
      "text/plain": [
       "<IPython.core.display.Javascript object>"
      ]
     },
     "metadata": {},
     "output_type": "display_data"
    },
    {
     "data": {
      "image/png": "[encoded data removed]",
      "text/plain": [
       "<Figure size 2304x1440 with 1 Axes>"
      ]
     },
     "metadata": {
      "needs_background": "light"
     },
     "output_type": "display_data"
    }
   ],
   "source": [
    "sns.lmplot(data=df_M,x='wage_eur',y='wage_pred',height=20, aspect=1.6)\n",
    "for i in range(df_M.shape[0]):\n",
    "    plt.text(x=df_M.wage_eur.iloc[i],y=df_M.wage_pred.iloc[i],s=df_M.player_name.iloc[i], \n",
    "    fontdict=dict(color='red',size=10),\n",
    "    bbox=dict(facecolor='yellow',alpha=0.5))\n",
    "\n",
    "plt.savefig('Madrid_truevspred.png')"
   ]
  },
  {
   "cell_type": "code",
   "execution_count": null,
   "id": "b1a5c1a8",
   "metadata": {},
   "outputs": [],
   "source": []
  }
 ],
 "metadata": {
  "kernelspec": {
   "display_name": "Python 3 (ipykernel)",
   "language": "python",
   "name": "python3"
  },
  "language_info": {
   "codemirror_mode": {
    "name": "ipython",
    "version": 3
   },
   "file_extension": ".py",
   "mimetype": "text/x-python",
   "name": "python",
   "nbconvert_exporter": "python",
   "pygments_lexer": "ipython3",
   "version": "3.9.7"
  }
 },
 "nbformat": 4,
 "nbformat_minor": 5
}
