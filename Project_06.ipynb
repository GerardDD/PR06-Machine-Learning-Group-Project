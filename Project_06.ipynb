{
 "cells": [
  {
   "cell_type": "code",
   "execution_count": 1,
   "id": "e3090046",
   "metadata": {},
   "outputs": [],
   "source": [
    "import pandas as pd\n",
    "import numpy as np\n",
    "import matplotlib.pyplot as plt\n",
    "import seaborn as sns\n",
    "import scipy as sp "
   ]
  },
  {
   "cell_type": "code",
   "execution_count": 2,
   "id": "3c93b417",
   "metadata": {},
   "outputs": [
    {
     "name": "stderr",
     "output_type": "stream",
     "text": [
      "/usr/local/lib/python3.9/site-packages/IPython/core/interactiveshell.py:3441: DtypeWarning: Columns (25,108) have mixed types.Specify dtype option on import or set low_memory=False.\n",
      "  exec(code_obj, self.user_global_ns, self.user_ns)\n"
     ]
    }
   ],
   "source": [
    "male_df = pd.read_csv('./fifa_2022/players_22.csv')"
   ]
  },
  {
   "cell_type": "code",
   "execution_count": 3,
   "id": "8f88a49e",
   "metadata": {},
   "outputs": [
    {
     "data": {
      "text/plain": [
       "sofifa_id            int64\n",
       "player_url          object\n",
       "short_name          object\n",
       "long_name           object\n",
       "player_positions    object\n",
       "                     ...  \n",
       "player_face_url     object\n",
       "club_logo_url       object\n",
       "club_flag_url       object\n",
       "nation_logo_url     object\n",
       "nation_flag_url     object\n",
       "Length: 110, dtype: object"
      ]
     },
     "execution_count": 3,
     "metadata": {},
     "output_type": "execute_result"
    }
   ],
   "source": [
    "male_df.dtypes"
   ]
  },
  {
   "cell_type": "code",
   "execution_count": 4,
   "id": "626771ea",
   "metadata": {},
   "outputs": [
    {
     "data": {
      "text/plain": [
       "(19239, 110)"
      ]
     },
     "execution_count": 4,
     "metadata": {},
     "output_type": "execute_result"
    }
   ],
   "source": [
    "male_df.shape"
   ]
  },
  {
   "cell_type": "code",
   "execution_count": 5,
   "id": "40b5ae5c",
   "metadata": {},
   "outputs": [
    {
     "data": {
      "text/html": [
       "<div>\n",
       "<style scoped>\n",
       "    .dataframe tbody tr th:only-of-type {\n",
       "        vertical-align: middle;\n",
       "    }\n",
       "\n",
       "    .dataframe tbody tr th {\n",
       "        vertical-align: top;\n",
       "    }\n",
       "\n",
       "    .dataframe thead th {\n",
       "        text-align: right;\n",
       "    }\n",
       "</style>\n",
       "<table border=\"1\" class=\"dataframe\">\n",
       "  <thead>\n",
       "    <tr style=\"text-align: right;\">\n",
       "      <th></th>\n",
       "      <th>sofifa_id</th>\n",
       "      <th>player_url</th>\n",
       "      <th>short_name</th>\n",
       "      <th>long_name</th>\n",
       "      <th>player_positions</th>\n",
       "      <th>overall</th>\n",
       "      <th>potential</th>\n",
       "      <th>value_eur</th>\n",
       "      <th>wage_eur</th>\n",
       "      <th>age</th>\n",
       "      <th>...</th>\n",
       "      <th>lcb</th>\n",
       "      <th>cb</th>\n",
       "      <th>rcb</th>\n",
       "      <th>rb</th>\n",
       "      <th>gk</th>\n",
       "      <th>player_face_url</th>\n",
       "      <th>club_logo_url</th>\n",
       "      <th>club_flag_url</th>\n",
       "      <th>nation_logo_url</th>\n",
       "      <th>nation_flag_url</th>\n",
       "    </tr>\n",
       "  </thead>\n",
       "  <tbody>\n",
       "    <tr>\n",
       "      <th>0</th>\n",
       "      <td>158023</td>\n",
       "      <td>https://sofifa.com/player/158023/lionel-messi/...</td>\n",
       "      <td>L. Messi</td>\n",
       "      <td>Lionel Andrés Messi Cuccittini</td>\n",
       "      <td>RW, ST, CF</td>\n",
       "      <td>93</td>\n",
       "      <td>93</td>\n",
       "      <td>78000000.0</td>\n",
       "      <td>320000.0</td>\n",
       "      <td>34</td>\n",
       "      <td>...</td>\n",
       "      <td>50+3</td>\n",
       "      <td>50+3</td>\n",
       "      <td>50+3</td>\n",
       "      <td>61+3</td>\n",
       "      <td>19+3</td>\n",
       "      <td>https://cdn.sofifa.net/players/158/023/22_120.png</td>\n",
       "      <td>https://cdn.sofifa.net/teams/73/60.png</td>\n",
       "      <td>https://cdn.sofifa.net/flags/fr.png</td>\n",
       "      <td>https://cdn.sofifa.net/teams/1369/60.png</td>\n",
       "      <td>https://cdn.sofifa.net/flags/ar.png</td>\n",
       "    </tr>\n",
       "    <tr>\n",
       "      <th>1</th>\n",
       "      <td>188545</td>\n",
       "      <td>https://sofifa.com/player/188545/robert-lewand...</td>\n",
       "      <td>R. Lewandowski</td>\n",
       "      <td>Robert Lewandowski</td>\n",
       "      <td>ST</td>\n",
       "      <td>92</td>\n",
       "      <td>92</td>\n",
       "      <td>119500000.0</td>\n",
       "      <td>270000.0</td>\n",
       "      <td>32</td>\n",
       "      <td>...</td>\n",
       "      <td>60+3</td>\n",
       "      <td>60+3</td>\n",
       "      <td>60+3</td>\n",
       "      <td>61+3</td>\n",
       "      <td>19+3</td>\n",
       "      <td>https://cdn.sofifa.net/players/188/545/22_120.png</td>\n",
       "      <td>https://cdn.sofifa.net/teams/21/60.png</td>\n",
       "      <td>https://cdn.sofifa.net/flags/de.png</td>\n",
       "      <td>https://cdn.sofifa.net/teams/1353/60.png</td>\n",
       "      <td>https://cdn.sofifa.net/flags/pl.png</td>\n",
       "    </tr>\n",
       "  </tbody>\n",
       "</table>\n",
       "<p>2 rows × 110 columns</p>\n",
       "</div>"
      ],
      "text/plain": [
       "   sofifa_id                                         player_url  \\\n",
       "0     158023  https://sofifa.com/player/158023/lionel-messi/...   \n",
       "1     188545  https://sofifa.com/player/188545/robert-lewand...   \n",
       "\n",
       "       short_name                       long_name player_positions  overall  \\\n",
       "0        L. Messi  Lionel Andrés Messi Cuccittini       RW, ST, CF       93   \n",
       "1  R. Lewandowski              Robert Lewandowski               ST       92   \n",
       "\n",
       "   potential    value_eur  wage_eur  age  ...   lcb    cb   rcb    rb    gk  \\\n",
       "0         93   78000000.0  320000.0   34  ...  50+3  50+3  50+3  61+3  19+3   \n",
       "1         92  119500000.0  270000.0   32  ...  60+3  60+3  60+3  61+3  19+3   \n",
       "\n",
       "                                     player_face_url  \\\n",
       "0  https://cdn.sofifa.net/players/158/023/22_120.png   \n",
       "1  https://cdn.sofifa.net/players/188/545/22_120.png   \n",
       "\n",
       "                            club_logo_url  \\\n",
       "0  https://cdn.sofifa.net/teams/73/60.png   \n",
       "1  https://cdn.sofifa.net/teams/21/60.png   \n",
       "\n",
       "                         club_flag_url  \\\n",
       "0  https://cdn.sofifa.net/flags/fr.png   \n",
       "1  https://cdn.sofifa.net/flags/de.png   \n",
       "\n",
       "                            nation_logo_url  \\\n",
       "0  https://cdn.sofifa.net/teams/1369/60.png   \n",
       "1  https://cdn.sofifa.net/teams/1353/60.png   \n",
       "\n",
       "                       nation_flag_url  \n",
       "0  https://cdn.sofifa.net/flags/ar.png  \n",
       "1  https://cdn.sofifa.net/flags/pl.png  \n",
       "\n",
       "[2 rows x 110 columns]"
      ]
     },
     "execution_count": 5,
     "metadata": {},
     "output_type": "execute_result"
    }
   ],
   "source": [
    "male_df.head(2)"
   ]
  },
  {
   "cell_type": "markdown",
   "id": "11ec77e8",
   "metadata": {},
   "source": [
    "### eliminamos columnas inutiles"
   ]
  },
  {
   "cell_type": "markdown",
   "id": "09fa1c5b",
   "metadata": {},
   "source": [
    "#### 1 - eliminar columnas con url"
   ]
  },
  {
   "cell_type": "code",
   "execution_count": 6,
   "id": "c62aabe4",
   "metadata": {},
   "outputs": [],
   "source": [
    "male_df.drop(['player_face_url','player_url','club_logo_url','club_flag_url','nation_logo_url','nation_flag_url'],axis=1,inplace=True)"
   ]
  },
  {
   "cell_type": "code",
   "execution_count": 7,
   "id": "aabff89a",
   "metadata": {},
   "outputs": [],
   "source": [
    "for i in male_df.columns:\n",
    "    if i.__contains__('url'):\n",
    "        print(i)"
   ]
  },
  {
   "cell_type": "code",
   "execution_count": 8,
   "id": "33ba3004",
   "metadata": {},
   "outputs": [
    {
     "name": "stdout",
     "output_type": "stream",
     "text": [
      "sofifa_id\n",
      "short_name\n",
      "long_name\n",
      "player_positions\n",
      "overall\n",
      "potential\n",
      "value_eur\n",
      "wage_eur\n",
      "age\n",
      "dob\n",
      "height_cm\n",
      "weight_kg\n",
      "club_team_id\n",
      "club_name\n",
      "league_name\n",
      "league_level\n",
      "club_position\n",
      "club_jersey_number\n",
      "club_loaned_from\n",
      "club_joined\n",
      "club_contract_valid_until\n",
      "nationality_id\n",
      "nationality_name\n",
      "nation_team_id\n",
      "nation_position\n",
      "nation_jersey_number\n",
      "preferred_foot\n",
      "weak_foot\n",
      "skill_moves\n",
      "international_reputation\n",
      "work_rate\n",
      "body_type\n",
      "real_face\n",
      "release_clause_eur\n",
      "player_tags\n",
      "player_traits\n",
      "pace\n",
      "shooting\n",
      "passing\n",
      "dribbling\n",
      "defending\n",
      "physic\n",
      "attacking_crossing\n",
      "attacking_finishing\n",
      "attacking_heading_accuracy\n",
      "attacking_short_passing\n",
      "attacking_volleys\n",
      "skill_dribbling\n",
      "skill_curve\n",
      "skill_fk_accuracy\n",
      "skill_long_passing\n",
      "skill_ball_control\n",
      "movement_acceleration\n",
      "movement_sprint_speed\n",
      "movement_agility\n",
      "movement_reactions\n",
      "movement_balance\n",
      "power_shot_power\n",
      "power_jumping\n",
      "power_stamina\n",
      "power_strength\n",
      "power_long_shots\n",
      "mentality_aggression\n",
      "mentality_interceptions\n",
      "mentality_positioning\n",
      "mentality_vision\n",
      "mentality_penalties\n",
      "mentality_composure\n",
      "defending_marking_awareness\n",
      "defending_standing_tackle\n",
      "defending_sliding_tackle\n",
      "goalkeeping_diving\n",
      "goalkeeping_handling\n",
      "goalkeeping_kicking\n",
      "goalkeeping_positioning\n",
      "goalkeeping_reflexes\n",
      "goalkeeping_speed\n",
      "ls\n",
      "st\n",
      "rs\n",
      "lw\n",
      "lf\n",
      "cf\n",
      "rf\n",
      "rw\n",
      "lam\n",
      "cam\n",
      "ram\n",
      "lm\n",
      "lcm\n",
      "cm\n",
      "rcm\n",
      "rm\n",
      "lwb\n",
      "ldm\n",
      "cdm\n",
      "rdm\n",
      "rwb\n",
      "lb\n",
      "lcb\n",
      "cb\n",
      "rcb\n",
      "rb\n",
      "gk\n"
     ]
    }
   ],
   "source": [
    "for i in male_df.columns:\n",
    "    print(i)"
   ]
  },
  {
   "cell_type": "markdown",
   "id": "9c658a35",
   "metadata": {},
   "source": [
    "### usamos columna sofifa_id como indice del dataframe"
   ]
  },
  {
   "cell_type": "code",
   "execution_count": 9,
   "id": "800fcfa4",
   "metadata": {},
   "outputs": [],
   "source": [
    "male_df.set_index('sofifa_id',drop=True,inplace=True)"
   ]
  },
  {
   "cell_type": "markdown",
   "id": "6e4db382",
   "metadata": {},
   "source": [
    "#### Resumen de abreviaciones de posiciones"
   ]
  },
  {
   "cell_type": "markdown",
   "id": "e4d3b37c",
   "metadata": {},
   "source": [
    "GK - Goalkeeper\n",
    "\n",
    "RB - Right Back\n",
    "\n",
    "RWB - Right Wing Back\n",
    "\n",
    "CB - Centre Back\n",
    "\n",
    "LWB - Left Wing Back\n",
    "\n",
    "LB - Left Back\n",
    "\n",
    "CM - Centre Mid\n",
    "\n",
    "CDM - Centre Defensive Mid\n",
    "\n",
    "CAM - Centre Attacking Mid\n",
    "\n",
    "RM - Right Mid\n",
    "\n",
    "LM - Left Mid\n",
    "\n",
    "LW - Left Wing\n",
    "\n",
    "RW - Right Wing\n",
    "\n",
    "CF - Centre Forward\n",
    "\n",
    "LF - Left Forward\n",
    "\n",
    "RF - Right Forward\n",
    "\n",
    "ST - Striker\n",
    "\n"
   ]
  },
  {
   "cell_type": "code",
   "execution_count": 10,
   "id": "5f27fa86",
   "metadata": {},
   "outputs": [
    {
     "data": {
      "text/html": [
       "<div>\n",
       "<style scoped>\n",
       "    .dataframe tbody tr th:only-of-type {\n",
       "        vertical-align: middle;\n",
       "    }\n",
       "\n",
       "    .dataframe tbody tr th {\n",
       "        vertical-align: top;\n",
       "    }\n",
       "\n",
       "    .dataframe thead th {\n",
       "        text-align: right;\n",
       "    }\n",
       "</style>\n",
       "<table border=\"1\" class=\"dataframe\">\n",
       "  <thead>\n",
       "    <tr style=\"text-align: right;\">\n",
       "      <th></th>\n",
       "      <th>short_name</th>\n",
       "      <th>ls</th>\n",
       "      <th>st</th>\n",
       "      <th>rs</th>\n",
       "      <th>lw</th>\n",
       "      <th>lf</th>\n",
       "      <th>cf</th>\n",
       "      <th>rf</th>\n",
       "      <th>rw</th>\n",
       "      <th>lam</th>\n",
       "      <th>...</th>\n",
       "      <th>ldm</th>\n",
       "      <th>cdm</th>\n",
       "      <th>rdm</th>\n",
       "      <th>rwb</th>\n",
       "      <th>lb</th>\n",
       "      <th>lcb</th>\n",
       "      <th>cb</th>\n",
       "      <th>rcb</th>\n",
       "      <th>rb</th>\n",
       "      <th>gk</th>\n",
       "    </tr>\n",
       "    <tr>\n",
       "      <th>sofifa_id</th>\n",
       "      <th></th>\n",
       "      <th></th>\n",
       "      <th></th>\n",
       "      <th></th>\n",
       "      <th></th>\n",
       "      <th></th>\n",
       "      <th></th>\n",
       "      <th></th>\n",
       "      <th></th>\n",
       "      <th></th>\n",
       "      <th></th>\n",
       "      <th></th>\n",
       "      <th></th>\n",
       "      <th></th>\n",
       "      <th></th>\n",
       "      <th></th>\n",
       "      <th></th>\n",
       "      <th></th>\n",
       "      <th></th>\n",
       "      <th></th>\n",
       "      <th></th>\n",
       "    </tr>\n",
       "  </thead>\n",
       "  <tbody>\n",
       "    <tr>\n",
       "      <th>158023</th>\n",
       "      <td>L. Messi</td>\n",
       "      <td>89+3</td>\n",
       "      <td>89+3</td>\n",
       "      <td>89+3</td>\n",
       "      <td>92</td>\n",
       "      <td>93</td>\n",
       "      <td>93</td>\n",
       "      <td>93</td>\n",
       "      <td>92</td>\n",
       "      <td>93</td>\n",
       "      <td>...</td>\n",
       "      <td>64+3</td>\n",
       "      <td>64+3</td>\n",
       "      <td>64+3</td>\n",
       "      <td>66+3</td>\n",
       "      <td>61+3</td>\n",
       "      <td>50+3</td>\n",
       "      <td>50+3</td>\n",
       "      <td>50+3</td>\n",
       "      <td>61+3</td>\n",
       "      <td>19+3</td>\n",
       "    </tr>\n",
       "    <tr>\n",
       "      <th>188545</th>\n",
       "      <td>R. Lewandowski</td>\n",
       "      <td>90+2</td>\n",
       "      <td>90+2</td>\n",
       "      <td>90+2</td>\n",
       "      <td>85</td>\n",
       "      <td>88</td>\n",
       "      <td>88</td>\n",
       "      <td>88</td>\n",
       "      <td>85</td>\n",
       "      <td>86+3</td>\n",
       "      <td>...</td>\n",
       "      <td>66+3</td>\n",
       "      <td>66+3</td>\n",
       "      <td>66+3</td>\n",
       "      <td>64+3</td>\n",
       "      <td>61+3</td>\n",
       "      <td>60+3</td>\n",
       "      <td>60+3</td>\n",
       "      <td>60+3</td>\n",
       "      <td>61+3</td>\n",
       "      <td>19+3</td>\n",
       "    </tr>\n",
       "    <tr>\n",
       "      <th>20801</th>\n",
       "      <td>Cristiano Ronaldo</td>\n",
       "      <td>90+1</td>\n",
       "      <td>90+1</td>\n",
       "      <td>90+1</td>\n",
       "      <td>88</td>\n",
       "      <td>89</td>\n",
       "      <td>89</td>\n",
       "      <td>89</td>\n",
       "      <td>88</td>\n",
       "      <td>86+3</td>\n",
       "      <td>...</td>\n",
       "      <td>59+3</td>\n",
       "      <td>59+3</td>\n",
       "      <td>59+3</td>\n",
       "      <td>63+3</td>\n",
       "      <td>60+3</td>\n",
       "      <td>53+3</td>\n",
       "      <td>53+3</td>\n",
       "      <td>53+3</td>\n",
       "      <td>60+3</td>\n",
       "      <td>20+3</td>\n",
       "    </tr>\n",
       "    <tr>\n",
       "      <th>190871</th>\n",
       "      <td>Neymar Jr</td>\n",
       "      <td>83+3</td>\n",
       "      <td>83+3</td>\n",
       "      <td>83+3</td>\n",
       "      <td>90</td>\n",
       "      <td>88</td>\n",
       "      <td>88</td>\n",
       "      <td>88</td>\n",
       "      <td>90</td>\n",
       "      <td>89+2</td>\n",
       "      <td>...</td>\n",
       "      <td>63+3</td>\n",
       "      <td>63+3</td>\n",
       "      <td>63+3</td>\n",
       "      <td>67+3</td>\n",
       "      <td>62+3</td>\n",
       "      <td>50+3</td>\n",
       "      <td>50+3</td>\n",
       "      <td>50+3</td>\n",
       "      <td>62+3</td>\n",
       "      <td>20+3</td>\n",
       "    </tr>\n",
       "    <tr>\n",
       "      <th>192985</th>\n",
       "      <td>K. De Bruyne</td>\n",
       "      <td>83+3</td>\n",
       "      <td>83+3</td>\n",
       "      <td>83+3</td>\n",
       "      <td>88</td>\n",
       "      <td>87</td>\n",
       "      <td>87</td>\n",
       "      <td>87</td>\n",
       "      <td>88</td>\n",
       "      <td>89+2</td>\n",
       "      <td>...</td>\n",
       "      <td>80+3</td>\n",
       "      <td>80+3</td>\n",
       "      <td>80+3</td>\n",
       "      <td>79+3</td>\n",
       "      <td>75+3</td>\n",
       "      <td>69+3</td>\n",
       "      <td>69+3</td>\n",
       "      <td>69+3</td>\n",
       "      <td>75+3</td>\n",
       "      <td>21+3</td>\n",
       "    </tr>\n",
       "    <tr>\n",
       "      <th>...</th>\n",
       "      <td>...</td>\n",
       "      <td>...</td>\n",
       "      <td>...</td>\n",
       "      <td>...</td>\n",
       "      <td>...</td>\n",
       "      <td>...</td>\n",
       "      <td>...</td>\n",
       "      <td>...</td>\n",
       "      <td>...</td>\n",
       "      <td>...</td>\n",
       "      <td>...</td>\n",
       "      <td>...</td>\n",
       "      <td>...</td>\n",
       "      <td>...</td>\n",
       "      <td>...</td>\n",
       "      <td>...</td>\n",
       "      <td>...</td>\n",
       "      <td>...</td>\n",
       "      <td>...</td>\n",
       "      <td>...</td>\n",
       "      <td>...</td>\n",
       "    </tr>\n",
       "    <tr>\n",
       "      <th>261962</th>\n",
       "      <td>Song Defu</td>\n",
       "      <td>44+2</td>\n",
       "      <td>44+2</td>\n",
       "      <td>44+2</td>\n",
       "      <td>46</td>\n",
       "      <td>45</td>\n",
       "      <td>45</td>\n",
       "      <td>45</td>\n",
       "      <td>46</td>\n",
       "      <td>46+2</td>\n",
       "      <td>...</td>\n",
       "      <td>46+2</td>\n",
       "      <td>46+2</td>\n",
       "      <td>46+2</td>\n",
       "      <td>48+2</td>\n",
       "      <td>48+2</td>\n",
       "      <td>46+2</td>\n",
       "      <td>46+2</td>\n",
       "      <td>46+2</td>\n",
       "      <td>48+2</td>\n",
       "      <td>15+2</td>\n",
       "    </tr>\n",
       "    <tr>\n",
       "      <th>262040</th>\n",
       "      <td>C. Porter</td>\n",
       "      <td>45+2</td>\n",
       "      <td>45+2</td>\n",
       "      <td>45+2</td>\n",
       "      <td>47</td>\n",
       "      <td>46</td>\n",
       "      <td>46</td>\n",
       "      <td>46</td>\n",
       "      <td>47</td>\n",
       "      <td>47+2</td>\n",
       "      <td>...</td>\n",
       "      <td>46+2</td>\n",
       "      <td>46+2</td>\n",
       "      <td>46+2</td>\n",
       "      <td>49+2</td>\n",
       "      <td>48+2</td>\n",
       "      <td>44+2</td>\n",
       "      <td>44+2</td>\n",
       "      <td>44+2</td>\n",
       "      <td>48+2</td>\n",
       "      <td>14+2</td>\n",
       "    </tr>\n",
       "    <tr>\n",
       "      <th>262760</th>\n",
       "      <td>N. Logue</td>\n",
       "      <td>45+2</td>\n",
       "      <td>45+2</td>\n",
       "      <td>45+2</td>\n",
       "      <td>46</td>\n",
       "      <td>46</td>\n",
       "      <td>46</td>\n",
       "      <td>46</td>\n",
       "      <td>46</td>\n",
       "      <td>47+2</td>\n",
       "      <td>...</td>\n",
       "      <td>46+2</td>\n",
       "      <td>46+2</td>\n",
       "      <td>46+2</td>\n",
       "      <td>47+2</td>\n",
       "      <td>47+2</td>\n",
       "      <td>45+2</td>\n",
       "      <td>45+2</td>\n",
       "      <td>45+2</td>\n",
       "      <td>47+2</td>\n",
       "      <td>12+2</td>\n",
       "    </tr>\n",
       "    <tr>\n",
       "      <th>262820</th>\n",
       "      <td>L. Rudden</td>\n",
       "      <td>47+2</td>\n",
       "      <td>47+2</td>\n",
       "      <td>47+2</td>\n",
       "      <td>47</td>\n",
       "      <td>47</td>\n",
       "      <td>47</td>\n",
       "      <td>47</td>\n",
       "      <td>47</td>\n",
       "      <td>45+2</td>\n",
       "      <td>...</td>\n",
       "      <td>29+2</td>\n",
       "      <td>29+2</td>\n",
       "      <td>29+2</td>\n",
       "      <td>33+2</td>\n",
       "      <td>32+2</td>\n",
       "      <td>26+2</td>\n",
       "      <td>26+2</td>\n",
       "      <td>26+2</td>\n",
       "      <td>32+2</td>\n",
       "      <td>15+2</td>\n",
       "    </tr>\n",
       "    <tr>\n",
       "      <th>264540</th>\n",
       "      <td>E. Lalchhanchhuaha</td>\n",
       "      <td>45+2</td>\n",
       "      <td>45+2</td>\n",
       "      <td>45+2</td>\n",
       "      <td>47</td>\n",
       "      <td>47</td>\n",
       "      <td>47</td>\n",
       "      <td>47</td>\n",
       "      <td>47</td>\n",
       "      <td>47+2</td>\n",
       "      <td>...</td>\n",
       "      <td>44+2</td>\n",
       "      <td>44+2</td>\n",
       "      <td>44+2</td>\n",
       "      <td>45+2</td>\n",
       "      <td>45+2</td>\n",
       "      <td>41+2</td>\n",
       "      <td>41+2</td>\n",
       "      <td>41+2</td>\n",
       "      <td>45+2</td>\n",
       "      <td>16+2</td>\n",
       "    </tr>\n",
       "  </tbody>\n",
       "</table>\n",
       "<p>19239 rows × 28 columns</p>\n",
       "</div>"
      ],
      "text/plain": [
       "                   short_name    ls    st    rs  lw  lf  cf  rf  rw   lam  \\\n",
       "sofifa_id                                                                   \n",
       "158023               L. Messi  89+3  89+3  89+3  92  93  93  93  92    93   \n",
       "188545         R. Lewandowski  90+2  90+2  90+2  85  88  88  88  85  86+3   \n",
       "20801       Cristiano Ronaldo  90+1  90+1  90+1  88  89  89  89  88  86+3   \n",
       "190871              Neymar Jr  83+3  83+3  83+3  90  88  88  88  90  89+2   \n",
       "192985           K. De Bruyne  83+3  83+3  83+3  88  87  87  87  88  89+2   \n",
       "...                       ...   ...   ...   ...  ..  ..  ..  ..  ..   ...   \n",
       "261962              Song Defu  44+2  44+2  44+2  46  45  45  45  46  46+2   \n",
       "262040              C. Porter  45+2  45+2  45+2  47  46  46  46  47  47+2   \n",
       "262760               N. Logue  45+2  45+2  45+2  46  46  46  46  46  47+2   \n",
       "262820              L. Rudden  47+2  47+2  47+2  47  47  47  47  47  45+2   \n",
       "264540     E. Lalchhanchhuaha  45+2  45+2  45+2  47  47  47  47  47  47+2   \n",
       "\n",
       "           ...   ldm   cdm   rdm   rwb    lb   lcb    cb   rcb    rb    gk  \n",
       "sofifa_id  ...                                                              \n",
       "158023     ...  64+3  64+3  64+3  66+3  61+3  50+3  50+3  50+3  61+3  19+3  \n",
       "188545     ...  66+3  66+3  66+3  64+3  61+3  60+3  60+3  60+3  61+3  19+3  \n",
       "20801      ...  59+3  59+3  59+3  63+3  60+3  53+3  53+3  53+3  60+3  20+3  \n",
       "190871     ...  63+3  63+3  63+3  67+3  62+3  50+3  50+3  50+3  62+3  20+3  \n",
       "192985     ...  80+3  80+3  80+3  79+3  75+3  69+3  69+3  69+3  75+3  21+3  \n",
       "...        ...   ...   ...   ...   ...   ...   ...   ...   ...   ...   ...  \n",
       "261962     ...  46+2  46+2  46+2  48+2  48+2  46+2  46+2  46+2  48+2  15+2  \n",
       "262040     ...  46+2  46+2  46+2  49+2  48+2  44+2  44+2  44+2  48+2  14+2  \n",
       "262760     ...  46+2  46+2  46+2  47+2  47+2  45+2  45+2  45+2  47+2  12+2  \n",
       "262820     ...  29+2  29+2  29+2  33+2  32+2  26+2  26+2  26+2  32+2  15+2  \n",
       "264540     ...  44+2  44+2  44+2  45+2  45+2  41+2  41+2  41+2  45+2  16+2  \n",
       "\n",
       "[19239 rows x 28 columns]"
      ]
     },
     "execution_count": 10,
     "metadata": {},
     "output_type": "execute_result"
    }
   ],
   "source": [
    "male_df[[\n",
    "    'short_name','ls',\n",
    "'st',\n",
    "'rs',\n",
    "'lw',\n",
    "'lf',\n",
    "'cf',\n",
    "'rf',\n",
    "'rw',\n",
    "'lam',\n",
    "'cam',\n",
    "'ram',\n",
    "'lm',\n",
    "'lcm',\n",
    "'cm',\n",
    "'rcm',\n",
    "'rm',\n",
    "'lwb',\n",
    "'ldm',\n",
    "'cdm',\n",
    "'rdm',\n",
    "'rwb',\n",
    "'lb',\n",
    "'lcb',\n",
    "'cb',\n",
    "'rcb',\n",
    "'rb',\n",
    "'gk']]"
   ]
  },
  {
   "cell_type": "code",
   "execution_count": 11,
   "id": "6801c663",
   "metadata": {},
   "outputs": [
    {
     "data": {
      "text/html": [
       "<div>\n",
       "<style scoped>\n",
       "    .dataframe tbody tr th:only-of-type {\n",
       "        vertical-align: middle;\n",
       "    }\n",
       "\n",
       "    .dataframe tbody tr th {\n",
       "        vertical-align: top;\n",
       "    }\n",
       "\n",
       "    .dataframe thead th {\n",
       "        text-align: right;\n",
       "    }\n",
       "</style>\n",
       "<table border=\"1\" class=\"dataframe\">\n",
       "  <thead>\n",
       "    <tr style=\"text-align: right;\">\n",
       "      <th></th>\n",
       "      <th>short_name</th>\n",
       "      <th>long_name</th>\n",
       "      <th>player_positions</th>\n",
       "      <th>overall</th>\n",
       "      <th>potential</th>\n",
       "      <th>value_eur</th>\n",
       "      <th>wage_eur</th>\n",
       "      <th>age</th>\n",
       "      <th>dob</th>\n",
       "      <th>height_cm</th>\n",
       "      <th>...</th>\n",
       "      <th>ldm</th>\n",
       "      <th>cdm</th>\n",
       "      <th>rdm</th>\n",
       "      <th>rwb</th>\n",
       "      <th>lb</th>\n",
       "      <th>lcb</th>\n",
       "      <th>cb</th>\n",
       "      <th>rcb</th>\n",
       "      <th>rb</th>\n",
       "      <th>gk</th>\n",
       "    </tr>\n",
       "    <tr>\n",
       "      <th>sofifa_id</th>\n",
       "      <th></th>\n",
       "      <th></th>\n",
       "      <th></th>\n",
       "      <th></th>\n",
       "      <th></th>\n",
       "      <th></th>\n",
       "      <th></th>\n",
       "      <th></th>\n",
       "      <th></th>\n",
       "      <th></th>\n",
       "      <th></th>\n",
       "      <th></th>\n",
       "      <th></th>\n",
       "      <th></th>\n",
       "      <th></th>\n",
       "      <th></th>\n",
       "      <th></th>\n",
       "      <th></th>\n",
       "      <th></th>\n",
       "      <th></th>\n",
       "      <th></th>\n",
       "    </tr>\n",
       "  </thead>\n",
       "  <tbody>\n",
       "    <tr>\n",
       "      <th>158023</th>\n",
       "      <td>L. Messi</td>\n",
       "      <td>Lionel Andrés Messi Cuccittini</td>\n",
       "      <td>RW, ST, CF</td>\n",
       "      <td>93</td>\n",
       "      <td>93</td>\n",
       "      <td>78000000.0</td>\n",
       "      <td>320000.0</td>\n",
       "      <td>34</td>\n",
       "      <td>1987-06-24</td>\n",
       "      <td>170</td>\n",
       "      <td>...</td>\n",
       "      <td>64+3</td>\n",
       "      <td>64+3</td>\n",
       "      <td>64+3</td>\n",
       "      <td>66+3</td>\n",
       "      <td>61+3</td>\n",
       "      <td>50+3</td>\n",
       "      <td>50+3</td>\n",
       "      <td>50+3</td>\n",
       "      <td>61+3</td>\n",
       "      <td>19+3</td>\n",
       "    </tr>\n",
       "  </tbody>\n",
       "</table>\n",
       "<p>1 rows × 103 columns</p>\n",
       "</div>"
      ],
      "text/plain": [
       "          short_name                       long_name player_positions  \\\n",
       "sofifa_id                                                               \n",
       "158023      L. Messi  Lionel Andrés Messi Cuccittini       RW, ST, CF   \n",
       "\n",
       "           overall  potential   value_eur  wage_eur  age         dob  \\\n",
       "sofifa_id                                                              \n",
       "158023          93         93  78000000.0  320000.0   34  1987-06-24   \n",
       "\n",
       "           height_cm  ...   ldm   cdm   rdm   rwb    lb   lcb    cb   rcb  \\\n",
       "sofifa_id             ...                                                   \n",
       "158023           170  ...  64+3  64+3  64+3  66+3  61+3  50+3  50+3  50+3   \n",
       "\n",
       "             rb    gk  \n",
       "sofifa_id              \n",
       "158023     61+3  19+3  \n",
       "\n",
       "[1 rows x 103 columns]"
      ]
     },
     "execution_count": 11,
     "metadata": {},
     "output_type": "execute_result"
    }
   ],
   "source": [
    "male_df[male_df.short_name=='L. Messi']"
   ]
  },
  {
   "cell_type": "markdown",
   "id": "62ca22cb",
   "metadata": {},
   "source": [
    "#### crear nuevas columnas con \"+\" que contengan el numero añadido - PDTE "
   ]
  },
  {
   "cell_type": "markdown",
   "id": "2094c558",
   "metadata": {},
   "source": [
    "### buscar todos los jugadores de una misma selección para comparar sus stats"
   ]
  },
  {
   "cell_type": "markdown",
   "id": "110de078",
   "metadata": {},
   "source": [
    "### en nuestro caso: Francia"
   ]
  },
  {
   "cell_type": "code",
   "execution_count": 12,
   "id": "8679f9b3",
   "metadata": {},
   "outputs": [
    {
     "data": {
      "text/html": [
       "<div>\n",
       "<style scoped>\n",
       "    .dataframe tbody tr th:only-of-type {\n",
       "        vertical-align: middle;\n",
       "    }\n",
       "\n",
       "    .dataframe tbody tr th {\n",
       "        vertical-align: top;\n",
       "    }\n",
       "\n",
       "    .dataframe thead th {\n",
       "        text-align: right;\n",
       "    }\n",
       "</style>\n",
       "<table border=\"1\" class=\"dataframe\">\n",
       "  <thead>\n",
       "    <tr style=\"text-align: right;\">\n",
       "      <th></th>\n",
       "      <th>short_name</th>\n",
       "      <th>ls</th>\n",
       "      <th>st</th>\n",
       "      <th>rs</th>\n",
       "      <th>lw</th>\n",
       "      <th>lf</th>\n",
       "      <th>cf</th>\n",
       "      <th>rf</th>\n",
       "      <th>rw</th>\n",
       "      <th>lam</th>\n",
       "      <th>...</th>\n",
       "      <th>ldm</th>\n",
       "      <th>cdm</th>\n",
       "      <th>rdm</th>\n",
       "      <th>rwb</th>\n",
       "      <th>lb</th>\n",
       "      <th>lcb</th>\n",
       "      <th>cb</th>\n",
       "      <th>rcb</th>\n",
       "      <th>rb</th>\n",
       "      <th>gk</th>\n",
       "    </tr>\n",
       "    <tr>\n",
       "      <th>sofifa_id</th>\n",
       "      <th></th>\n",
       "      <th></th>\n",
       "      <th></th>\n",
       "      <th></th>\n",
       "      <th></th>\n",
       "      <th></th>\n",
       "      <th></th>\n",
       "      <th></th>\n",
       "      <th></th>\n",
       "      <th></th>\n",
       "      <th></th>\n",
       "      <th></th>\n",
       "      <th></th>\n",
       "      <th></th>\n",
       "      <th></th>\n",
       "      <th></th>\n",
       "      <th></th>\n",
       "      <th></th>\n",
       "      <th></th>\n",
       "      <th></th>\n",
       "      <th></th>\n",
       "    </tr>\n",
       "  </thead>\n",
       "  <tbody>\n",
       "    <tr>\n",
       "      <th>231747</th>\n",
       "      <td>K. Mbappé</td>\n",
       "      <td>89+3</td>\n",
       "      <td>89+3</td>\n",
       "      <td>89+3</td>\n",
       "      <td>90</td>\n",
       "      <td>90</td>\n",
       "      <td>90</td>\n",
       "      <td>90</td>\n",
       "      <td>90</td>\n",
       "      <td>89+3</td>\n",
       "      <td>...</td>\n",
       "      <td>63+3</td>\n",
       "      <td>63+3</td>\n",
       "      <td>63+3</td>\n",
       "      <td>67+3</td>\n",
       "      <td>63+3</td>\n",
       "      <td>54+3</td>\n",
       "      <td>54+3</td>\n",
       "      <td>54+3</td>\n",
       "      <td>63+3</td>\n",
       "      <td>18+3</td>\n",
       "    </tr>\n",
       "    <tr>\n",
       "      <th>215914</th>\n",
       "      <td>N. Kanté</td>\n",
       "      <td>72+3</td>\n",
       "      <td>72+3</td>\n",
       "      <td>72+3</td>\n",
       "      <td>77</td>\n",
       "      <td>77</td>\n",
       "      <td>77</td>\n",
       "      <td>77</td>\n",
       "      <td>77</td>\n",
       "      <td>78+3</td>\n",
       "      <td>...</td>\n",
       "      <td>87+3</td>\n",
       "      <td>87+3</td>\n",
       "      <td>87+3</td>\n",
       "      <td>85+3</td>\n",
       "      <td>85+3</td>\n",
       "      <td>84+3</td>\n",
       "      <td>84+3</td>\n",
       "      <td>84+3</td>\n",
       "      <td>85+3</td>\n",
       "      <td>20+3</td>\n",
       "    </tr>\n",
       "    <tr>\n",
       "      <th>165153</th>\n",
       "      <td>K. Benzema</td>\n",
       "      <td>87+2</td>\n",
       "      <td>87+2</td>\n",
       "      <td>87+2</td>\n",
       "      <td>85</td>\n",
       "      <td>87</td>\n",
       "      <td>87</td>\n",
       "      <td>87</td>\n",
       "      <td>85</td>\n",
       "      <td>86+3</td>\n",
       "      <td>...</td>\n",
       "      <td>62+3</td>\n",
       "      <td>62+3</td>\n",
       "      <td>62+3</td>\n",
       "      <td>63+3</td>\n",
       "      <td>59+3</td>\n",
       "      <td>55+3</td>\n",
       "      <td>55+3</td>\n",
       "      <td>55+3</td>\n",
       "      <td>59+3</td>\n",
       "      <td>18+3</td>\n",
       "    </tr>\n",
       "    <tr>\n",
       "      <th>167948</th>\n",
       "      <td>H. Lloris</td>\n",
       "      <td>31+3</td>\n",
       "      <td>31+3</td>\n",
       "      <td>31+3</td>\n",
       "      <td>33</td>\n",
       "      <td>34</td>\n",
       "      <td>34</td>\n",
       "      <td>34</td>\n",
       "      <td>33</td>\n",
       "      <td>38+3</td>\n",
       "      <td>...</td>\n",
       "      <td>38+3</td>\n",
       "      <td>38+3</td>\n",
       "      <td>38+3</td>\n",
       "      <td>35+3</td>\n",
       "      <td>34+3</td>\n",
       "      <td>30+3</td>\n",
       "      <td>30+3</td>\n",
       "      <td>30+3</td>\n",
       "      <td>34+3</td>\n",
       "      <td>85+2</td>\n",
       "    </tr>\n",
       "    <tr>\n",
       "      <th>195864</th>\n",
       "      <td>P. Pogba</td>\n",
       "      <td>82+3</td>\n",
       "      <td>82+3</td>\n",
       "      <td>82+3</td>\n",
       "      <td>82</td>\n",
       "      <td>83</td>\n",
       "      <td>83</td>\n",
       "      <td>83</td>\n",
       "      <td>82</td>\n",
       "      <td>85+2</td>\n",
       "      <td>...</td>\n",
       "      <td>78+3</td>\n",
       "      <td>78+3</td>\n",
       "      <td>78+3</td>\n",
       "      <td>74+3</td>\n",
       "      <td>72+3</td>\n",
       "      <td>72+3</td>\n",
       "      <td>72+3</td>\n",
       "      <td>72+3</td>\n",
       "      <td>72+3</td>\n",
       "      <td>13+3</td>\n",
       "    </tr>\n",
       "    <tr>\n",
       "      <th>194765</th>\n",
       "      <td>A. Griezmann</td>\n",
       "      <td>84+1</td>\n",
       "      <td>84+1</td>\n",
       "      <td>84+1</td>\n",
       "      <td>85</td>\n",
       "      <td>86-1</td>\n",
       "      <td>86-1</td>\n",
       "      <td>86-1</td>\n",
       "      <td>85</td>\n",
       "      <td>86-1</td>\n",
       "      <td>...</td>\n",
       "      <td>69+3</td>\n",
       "      <td>69+3</td>\n",
       "      <td>69+3</td>\n",
       "      <td>71+3</td>\n",
       "      <td>69+3</td>\n",
       "      <td>63+3</td>\n",
       "      <td>63+3</td>\n",
       "      <td>63+3</td>\n",
       "      <td>69+3</td>\n",
       "      <td>21+3</td>\n",
       "    </tr>\n",
       "    <tr>\n",
       "      <th>231443</th>\n",
       "      <td>O. Dembélé</td>\n",
       "      <td>76+3</td>\n",
       "      <td>76+3</td>\n",
       "      <td>76+3</td>\n",
       "      <td>83</td>\n",
       "      <td>81</td>\n",
       "      <td>81</td>\n",
       "      <td>81</td>\n",
       "      <td>83</td>\n",
       "      <td>81+3</td>\n",
       "      <td>...</td>\n",
       "      <td>58+3</td>\n",
       "      <td>58+3</td>\n",
       "      <td>58+3</td>\n",
       "      <td>63+3</td>\n",
       "      <td>59+3</td>\n",
       "      <td>47+3</td>\n",
       "      <td>47+3</td>\n",
       "      <td>47+3</td>\n",
       "      <td>59+3</td>\n",
       "      <td>17+3</td>\n",
       "    </tr>\n",
       "    <tr>\n",
       "      <th>229558</th>\n",
       "      <td>D. Upamecano</td>\n",
       "      <td>62+2</td>\n",
       "      <td>62+2</td>\n",
       "      <td>62+2</td>\n",
       "      <td>63</td>\n",
       "      <td>63</td>\n",
       "      <td>63</td>\n",
       "      <td>63</td>\n",
       "      <td>63</td>\n",
       "      <td>64+2</td>\n",
       "      <td>...</td>\n",
       "      <td>76+2</td>\n",
       "      <td>76+2</td>\n",
       "      <td>76+2</td>\n",
       "      <td>74+2</td>\n",
       "      <td>76+2</td>\n",
       "      <td>82+2</td>\n",
       "      <td>82+2</td>\n",
       "      <td>82+2</td>\n",
       "      <td>76+2</td>\n",
       "      <td>17+2</td>\n",
       "    </tr>\n",
       "    <tr>\n",
       "      <th>226851</th>\n",
       "      <td>B. Pavard</td>\n",
       "      <td>66+3</td>\n",
       "      <td>66+3</td>\n",
       "      <td>66+3</td>\n",
       "      <td>67</td>\n",
       "      <td>66</td>\n",
       "      <td>66</td>\n",
       "      <td>66</td>\n",
       "      <td>67</td>\n",
       "      <td>68+3</td>\n",
       "      <td>...</td>\n",
       "      <td>76+3</td>\n",
       "      <td>76+3</td>\n",
       "      <td>76+3</td>\n",
       "      <td>76+3</td>\n",
       "      <td>77+3</td>\n",
       "      <td>77+3</td>\n",
       "      <td>77+3</td>\n",
       "      <td>77+3</td>\n",
       "      <td>77+3</td>\n",
       "      <td>17+3</td>\n",
       "    </tr>\n",
       "  </tbody>\n",
       "</table>\n",
       "<p>9 rows × 28 columns</p>\n",
       "</div>"
      ],
      "text/plain": [
       "             short_name    ls    st    rs  lw    lf    cf    rf  rw   lam  \\\n",
       "sofifa_id                                                                   \n",
       "231747        K. Mbappé  89+3  89+3  89+3  90    90    90    90  90  89+3   \n",
       "215914         N. Kanté  72+3  72+3  72+3  77    77    77    77  77  78+3   \n",
       "165153       K. Benzema  87+2  87+2  87+2  85    87    87    87  85  86+3   \n",
       "167948        H. Lloris  31+3  31+3  31+3  33    34    34    34  33  38+3   \n",
       "195864         P. Pogba  82+3  82+3  82+3  82    83    83    83  82  85+2   \n",
       "194765     A. Griezmann  84+1  84+1  84+1  85  86-1  86-1  86-1  85  86-1   \n",
       "231443       O. Dembélé  76+3  76+3  76+3  83    81    81    81  83  81+3   \n",
       "229558     D. Upamecano  62+2  62+2  62+2  63    63    63    63  63  64+2   \n",
       "226851        B. Pavard  66+3  66+3  66+3  67    66    66    66  67  68+3   \n",
       "\n",
       "           ...   ldm   cdm   rdm   rwb    lb   lcb    cb   rcb    rb    gk  \n",
       "sofifa_id  ...                                                              \n",
       "231747     ...  63+3  63+3  63+3  67+3  63+3  54+3  54+3  54+3  63+3  18+3  \n",
       "215914     ...  87+3  87+3  87+3  85+3  85+3  84+3  84+3  84+3  85+3  20+3  \n",
       "165153     ...  62+3  62+3  62+3  63+3  59+3  55+3  55+3  55+3  59+3  18+3  \n",
       "167948     ...  38+3  38+3  38+3  35+3  34+3  30+3  30+3  30+3  34+3  85+2  \n",
       "195864     ...  78+3  78+3  78+3  74+3  72+3  72+3  72+3  72+3  72+3  13+3  \n",
       "194765     ...  69+3  69+3  69+3  71+3  69+3  63+3  63+3  63+3  69+3  21+3  \n",
       "231443     ...  58+3  58+3  58+3  63+3  59+3  47+3  47+3  47+3  59+3  17+3  \n",
       "229558     ...  76+2  76+2  76+2  74+2  76+2  82+2  82+2  82+2  76+2  17+2  \n",
       "226851     ...  76+3  76+3  76+3  76+3  77+3  77+3  77+3  77+3  77+3  17+3  \n",
       "\n",
       "[9 rows x 28 columns]"
      ]
     },
     "execution_count": 12,
     "metadata": {},
     "output_type": "execute_result"
    }
   ],
   "source": [
    "male_df[(male_df.short_name == 'K. Mbappé') | (male_df.short_name == \"N. Kanté\") |\n",
    "       (male_df.short_name == \"P. Pogba\") | (male_df.short_name == \"A. Griezmann\") |\n",
    "       (male_df.short_name == \"K. Benzema\") | (male_df.short_name == \"O. Dembélé\") |\n",
    "       (male_df.short_name == \"B. Pavard\") | (male_df.short_name == \"H. Lloris\") |\n",
    "       (male_df.short_name == \"D. Upamecano\")][['short_name','ls',\n",
    "'st',\n",
    "'rs',\n",
    "'lw',\n",
    "'lf',\n",
    "'cf',\n",
    "'rf',\n",
    "'rw',\n",
    "'lam',\n",
    "'cam',\n",
    "'ram',\n",
    "'lm',\n",
    "'lcm',\n",
    "'cm',\n",
    "'rcm',\n",
    "'rm',\n",
    "'lwb',\n",
    "'ldm',\n",
    "'cdm',\n",
    "'rdm',\n",
    "'rwb',\n",
    "'lb',\n",
    "'lcb',\n",
    "'cb',\n",
    "'rcb',\n",
    "'rb',\n",
    "'gk']]"
   ]
  },
  {
   "cell_type": "code",
   "execution_count": 13,
   "id": "0ea6b981",
   "metadata": {},
   "outputs": [],
   "source": [
    "male_21_df = pd.read_csv('./fifa_2022/players_21.csv')"
   ]
  },
  {
   "cell_type": "code",
   "execution_count": 14,
   "id": "5505a4b3",
   "metadata": {},
   "outputs": [
    {
     "data": {
      "text/html": [
       "<div>\n",
       "<style scoped>\n",
       "    .dataframe tbody tr th:only-of-type {\n",
       "        vertical-align: middle;\n",
       "    }\n",
       "\n",
       "    .dataframe tbody tr th {\n",
       "        vertical-align: top;\n",
       "    }\n",
       "\n",
       "    .dataframe thead th {\n",
       "        text-align: right;\n",
       "    }\n",
       "</style>\n",
       "<table border=\"1\" class=\"dataframe\">\n",
       "  <thead>\n",
       "    <tr style=\"text-align: right;\">\n",
       "      <th></th>\n",
       "      <th>short_name</th>\n",
       "      <th>ls</th>\n",
       "      <th>st</th>\n",
       "      <th>rs</th>\n",
       "      <th>lw</th>\n",
       "      <th>lf</th>\n",
       "      <th>cf</th>\n",
       "      <th>rf</th>\n",
       "      <th>rw</th>\n",
       "      <th>lam</th>\n",
       "      <th>...</th>\n",
       "      <th>ldm</th>\n",
       "      <th>cdm</th>\n",
       "      <th>rdm</th>\n",
       "      <th>rwb</th>\n",
       "      <th>lb</th>\n",
       "      <th>lcb</th>\n",
       "      <th>cb</th>\n",
       "      <th>rcb</th>\n",
       "      <th>rb</th>\n",
       "      <th>gk</th>\n",
       "    </tr>\n",
       "  </thead>\n",
       "  <tbody>\n",
       "    <tr>\n",
       "      <th>11</th>\n",
       "      <td>K. Mbappé</td>\n",
       "      <td>88+3</td>\n",
       "      <td>88+3</td>\n",
       "      <td>88+3</td>\n",
       "      <td>89</td>\n",
       "      <td>89</td>\n",
       "      <td>89</td>\n",
       "      <td>89</td>\n",
       "      <td>89</td>\n",
       "      <td>87+3</td>\n",
       "      <td>...</td>\n",
       "      <td>63+3</td>\n",
       "      <td>63+3</td>\n",
       "      <td>63+3</td>\n",
       "      <td>67+3</td>\n",
       "      <td>63+3</td>\n",
       "      <td>55+3</td>\n",
       "      <td>55+3</td>\n",
       "      <td>55+3</td>\n",
       "      <td>63+3</td>\n",
       "      <td>18+3</td>\n",
       "    </tr>\n",
       "    <tr>\n",
       "      <th>14</th>\n",
       "      <td>K. Benzema</td>\n",
       "      <td>86+3</td>\n",
       "      <td>86+3</td>\n",
       "      <td>86+3</td>\n",
       "      <td>85</td>\n",
       "      <td>87</td>\n",
       "      <td>87</td>\n",
       "      <td>87</td>\n",
       "      <td>85</td>\n",
       "      <td>86+3</td>\n",
       "      <td>...</td>\n",
       "      <td>63+3</td>\n",
       "      <td>63+3</td>\n",
       "      <td>63+3</td>\n",
       "      <td>63+3</td>\n",
       "      <td>59+3</td>\n",
       "      <td>55+3</td>\n",
       "      <td>55+3</td>\n",
       "      <td>55+3</td>\n",
       "      <td>59+3</td>\n",
       "      <td>18+3</td>\n",
       "    </tr>\n",
       "    <tr>\n",
       "      <th>27</th>\n",
       "      <td>N. Kanté</td>\n",
       "      <td>72+3</td>\n",
       "      <td>72+3</td>\n",
       "      <td>72+3</td>\n",
       "      <td>77</td>\n",
       "      <td>77</td>\n",
       "      <td>77</td>\n",
       "      <td>77</td>\n",
       "      <td>77</td>\n",
       "      <td>79+3</td>\n",
       "      <td>...</td>\n",
       "      <td>86+2</td>\n",
       "      <td>86+2</td>\n",
       "      <td>86+2</td>\n",
       "      <td>85+3</td>\n",
       "      <td>84+3</td>\n",
       "      <td>83+3</td>\n",
       "      <td>83+3</td>\n",
       "      <td>83+3</td>\n",
       "      <td>84+3</td>\n",
       "      <td>20+3</td>\n",
       "    </tr>\n",
       "    <tr>\n",
       "      <th>29</th>\n",
       "      <td>H. Lloris</td>\n",
       "      <td>31+3</td>\n",
       "      <td>31+3</td>\n",
       "      <td>31+3</td>\n",
       "      <td>32</td>\n",
       "      <td>33</td>\n",
       "      <td>33</td>\n",
       "      <td>33</td>\n",
       "      <td>32</td>\n",
       "      <td>35+3</td>\n",
       "      <td>...</td>\n",
       "      <td>37+3</td>\n",
       "      <td>37+3</td>\n",
       "      <td>37+3</td>\n",
       "      <td>35+3</td>\n",
       "      <td>34+3</td>\n",
       "      <td>30+3</td>\n",
       "      <td>30+3</td>\n",
       "      <td>30+3</td>\n",
       "      <td>34+3</td>\n",
       "      <td>85+2</td>\n",
       "    </tr>\n",
       "    <tr>\n",
       "      <th>38</th>\n",
       "      <td>A. Griezmann</td>\n",
       "      <td>85+2</td>\n",
       "      <td>85+2</td>\n",
       "      <td>85+2</td>\n",
       "      <td>86</td>\n",
       "      <td>86</td>\n",
       "      <td>86</td>\n",
       "      <td>86</td>\n",
       "      <td>86</td>\n",
       "      <td>86+1</td>\n",
       "      <td>...</td>\n",
       "      <td>71+3</td>\n",
       "      <td>71+3</td>\n",
       "      <td>71+3</td>\n",
       "      <td>73+3</td>\n",
       "      <td>70+3</td>\n",
       "      <td>65+3</td>\n",
       "      <td>65+3</td>\n",
       "      <td>65+3</td>\n",
       "      <td>70+3</td>\n",
       "      <td>21+3</td>\n",
       "    </tr>\n",
       "    <tr>\n",
       "      <th>57</th>\n",
       "      <td>P. Pogba</td>\n",
       "      <td>82+3</td>\n",
       "      <td>82+3</td>\n",
       "      <td>82+3</td>\n",
       "      <td>82</td>\n",
       "      <td>83</td>\n",
       "      <td>83</td>\n",
       "      <td>83</td>\n",
       "      <td>82</td>\n",
       "      <td>84+3</td>\n",
       "      <td>...</td>\n",
       "      <td>78+3</td>\n",
       "      <td>78+3</td>\n",
       "      <td>78+3</td>\n",
       "      <td>76+3</td>\n",
       "      <td>74+3</td>\n",
       "      <td>73+3</td>\n",
       "      <td>73+3</td>\n",
       "      <td>73+3</td>\n",
       "      <td>74+3</td>\n",
       "      <td>13+3</td>\n",
       "    </tr>\n",
       "    <tr>\n",
       "      <th>209</th>\n",
       "      <td>O. Dembélé</td>\n",
       "      <td>76+3</td>\n",
       "      <td>76+3</td>\n",
       "      <td>76+3</td>\n",
       "      <td>83</td>\n",
       "      <td>81</td>\n",
       "      <td>81</td>\n",
       "      <td>81</td>\n",
       "      <td>83</td>\n",
       "      <td>81+3</td>\n",
       "      <td>...</td>\n",
       "      <td>58+3</td>\n",
       "      <td>58+3</td>\n",
       "      <td>58+3</td>\n",
       "      <td>63+3</td>\n",
       "      <td>59+3</td>\n",
       "      <td>47+3</td>\n",
       "      <td>47+3</td>\n",
       "      <td>47+3</td>\n",
       "      <td>59+3</td>\n",
       "      <td>17+3</td>\n",
       "    </tr>\n",
       "    <tr>\n",
       "      <th>343</th>\n",
       "      <td>B. Pavard</td>\n",
       "      <td>66+2</td>\n",
       "      <td>66+2</td>\n",
       "      <td>66+2</td>\n",
       "      <td>68</td>\n",
       "      <td>67</td>\n",
       "      <td>67</td>\n",
       "      <td>67</td>\n",
       "      <td>68</td>\n",
       "      <td>69+2</td>\n",
       "      <td>...</td>\n",
       "      <td>79+2</td>\n",
       "      <td>79+2</td>\n",
       "      <td>79+2</td>\n",
       "      <td>78+2</td>\n",
       "      <td>79+2</td>\n",
       "      <td>80+2</td>\n",
       "      <td>80+2</td>\n",
       "      <td>80+2</td>\n",
       "      <td>79+2</td>\n",
       "      <td>18+2</td>\n",
       "    </tr>\n",
       "    <tr>\n",
       "      <th>644</th>\n",
       "      <td>D. Upamecano</td>\n",
       "      <td>60+2</td>\n",
       "      <td>60+2</td>\n",
       "      <td>60+2</td>\n",
       "      <td>60</td>\n",
       "      <td>60</td>\n",
       "      <td>60</td>\n",
       "      <td>60</td>\n",
       "      <td>60</td>\n",
       "      <td>62+2</td>\n",
       "      <td>...</td>\n",
       "      <td>74+2</td>\n",
       "      <td>74+2</td>\n",
       "      <td>74+2</td>\n",
       "      <td>70+2</td>\n",
       "      <td>72+2</td>\n",
       "      <td>79+2</td>\n",
       "      <td>79+2</td>\n",
       "      <td>79+2</td>\n",
       "      <td>72+2</td>\n",
       "      <td>16+2</td>\n",
       "    </tr>\n",
       "  </tbody>\n",
       "</table>\n",
       "<p>9 rows × 28 columns</p>\n",
       "</div>"
      ],
      "text/plain": [
       "       short_name    ls    st    rs  lw  lf  cf  rf  rw   lam  ...   ldm  \\\n",
       "11      K. Mbappé  88+3  88+3  88+3  89  89  89  89  89  87+3  ...  63+3   \n",
       "14     K. Benzema  86+3  86+3  86+3  85  87  87  87  85  86+3  ...  63+3   \n",
       "27       N. Kanté  72+3  72+3  72+3  77  77  77  77  77  79+3  ...  86+2   \n",
       "29      H. Lloris  31+3  31+3  31+3  32  33  33  33  32  35+3  ...  37+3   \n",
       "38   A. Griezmann  85+2  85+2  85+2  86  86  86  86  86  86+1  ...  71+3   \n",
       "57       P. Pogba  82+3  82+3  82+3  82  83  83  83  82  84+3  ...  78+3   \n",
       "209    O. Dembélé  76+3  76+3  76+3  83  81  81  81  83  81+3  ...  58+3   \n",
       "343     B. Pavard  66+2  66+2  66+2  68  67  67  67  68  69+2  ...  79+2   \n",
       "644  D. Upamecano  60+2  60+2  60+2  60  60  60  60  60  62+2  ...  74+2   \n",
       "\n",
       "      cdm   rdm   rwb    lb   lcb    cb   rcb    rb    gk  \n",
       "11   63+3  63+3  67+3  63+3  55+3  55+3  55+3  63+3  18+3  \n",
       "14   63+3  63+3  63+3  59+3  55+3  55+3  55+3  59+3  18+3  \n",
       "27   86+2  86+2  85+3  84+3  83+3  83+3  83+3  84+3  20+3  \n",
       "29   37+3  37+3  35+3  34+3  30+3  30+3  30+3  34+3  85+2  \n",
       "38   71+3  71+3  73+3  70+3  65+3  65+3  65+3  70+3  21+3  \n",
       "57   78+3  78+3  76+3  74+3  73+3  73+3  73+3  74+3  13+3  \n",
       "209  58+3  58+3  63+3  59+3  47+3  47+3  47+3  59+3  17+3  \n",
       "343  79+2  79+2  78+2  79+2  80+2  80+2  80+2  79+2  18+2  \n",
       "644  74+2  74+2  70+2  72+2  79+2  79+2  79+2  72+2  16+2  \n",
       "\n",
       "[9 rows x 28 columns]"
      ]
     },
     "execution_count": 14,
     "metadata": {},
     "output_type": "execute_result"
    }
   ],
   "source": [
    "male_21_df[(male_21_df.short_name == 'K. Mbappé') | (male_21_df.short_name == \"N. Kanté\") |\n",
    "       (male_21_df.short_name == \"P. Pogba\") | (male_21_df.short_name == \"A. Griezmann\") |\n",
    "       (male_21_df.short_name == \"K. Benzema\") | (male_21_df.short_name == \"O. Dembélé\") |\n",
    "       (male_21_df.short_name == \"B. Pavard\") | (male_21_df.short_name == \"H. Lloris\") |\n",
    "       (male_21_df.short_name == \"D. Upamecano\")][['short_name','ls',\n",
    "'st',\n",
    "'rs',\n",
    "'lw',\n",
    "'lf',\n",
    "'cf',\n",
    "'rf',\n",
    "'rw',\n",
    "'lam',\n",
    "'cam',\n",
    "'ram',\n",
    "'lm',\n",
    "'lcm',\n",
    "'cm',\n",
    "'rcm',\n",
    "'rm',\n",
    "'lwb',\n",
    "'ldm',\n",
    "'cdm',\n",
    "'rdm',\n",
    "'rwb',\n",
    "'lb',\n",
    "'lcb',\n",
    "'cb',\n",
    "'rcb',\n",
    "'rb',\n",
    "'gk']]"
   ]
  },
  {
   "cell_type": "markdown",
   "id": "33d48899",
   "metadata": {},
   "source": [
    "### DESCR de columnas\n",
    "- short_name object\n",
    "- long_name object\n",
    "- player_positions object\n",
    "- overall int64\n",
    "- potential int64\n",
    "- value_eur float64\n",
    "- wage_eur float64\n",
    "- age int64\n",
    "- dob object\n",
    "- height_cm int64\n",
    "- weight_kg int64\n",
    "- club_team_id float64\n",
    "- club_name object\n",
    "- league_name object\n",
    "- league_level float64\n",
    "- club_position object\n",
    "- club_jersey_number float64\n",
    "- club_loaned_from object\n",
    "- club_joined object\n",
    "- club_contract_valid_until float64\n",
    "- nationality_id int64\n",
    "- nationality_name object\n",
    "- nation_team_id float64\n",
    "- nation_position object\n",
    "- nation_jersey_number float64\n",
    "- preferred_foot object\n",
    "- weak_foot int64\n",
    "- skill_moves int64\n",
    "- international_reputation int64\n",
    "- work_rate object\n",
    "- body_type object\n",
    "- real_face object\n",
    "- release_clause_eur float64\n",
    "- player_tags object\n",
    "- player_traits object\n",
    "- pace float64\n",
    "- shooting float64\n",
    "- passing float64\n",
    "- dribbling float64\n",
    "- defending float64\n",
    "- physic float64\n",
    "- attacking_crossing int64\n",
    "- attacking_finishing int64\n",
    "- attacking_heading_accuracy int64\n",
    "- attacking_short_passing int64\n",
    "- attacking_volleys int64\n",
    "- skill_dribbling int64\n",
    "- skill_curve int64\n",
    "- skill_fk_accuracy int64\n",
    "- skill_long_passing int64\n",
    "- skill_ball_control int64\n",
    "- movement_acceleration int64\n",
    "- movement_sprint_speed int64\n",
    "- movement_agility int64\n",
    "- movement_reactions int64\n",
    "- movement_balance int64\n",
    "- power_shot_power int64\n",
    "- power_jumping int64\n",
    "- power_stamina int64\n",
    "- power_strength int64\n",
    "- power_long_shots int64\n",
    "- mentality_aggression int64\n",
    "- mentality_interceptions int64\n",
    "- mentality_positioning int64\n",
    "- mentality_vision int64\n",
    "- mentality_penalties int64\n",
    "- mentality_composure int64\n",
    "- defending_marking_awareness int64\n",
    "- defending_standing_tackle int64\n",
    "- defending_sliding_tackle int64\n",
    "- goalkeeping_diving int64\n",
    "- goalkeeping_handling int64\n",
    "- goalkeeping_kicking int64\n",
    "- goalkeeping_positioning int64\n",
    "- goalkeeping_reflexes int64\n",
    "- goalkeeping_speed float64"
   ]
  },
  {
   "cell_type": "code",
   "execution_count": 15,
   "id": "2d5b11c0",
   "metadata": {},
   "outputs": [
    {
     "name": "stdout",
     "output_type": "stream",
     "text": [
      "short_name object\n",
      "long_name object\n",
      "player_positions object\n",
      "overall int64\n",
      "potential int64\n",
      "value_eur float64\n",
      "wage_eur float64\n",
      "age int64\n",
      "dob object\n",
      "height_cm int64\n",
      "weight_kg int64\n",
      "club_team_id float64\n",
      "club_name object\n",
      "league_name object\n",
      "league_level float64\n",
      "club_position object\n",
      "club_jersey_number float64\n",
      "club_loaned_from object\n",
      "club_joined object\n",
      "club_contract_valid_until float64\n",
      "nationality_id int64\n",
      "nationality_name object\n",
      "nation_team_id float64\n",
      "nation_position object\n",
      "nation_jersey_number float64\n",
      "preferred_foot object\n",
      "weak_foot int64\n",
      "skill_moves int64\n",
      "international_reputation int64\n",
      "work_rate object\n",
      "body_type object\n",
      "real_face object\n",
      "release_clause_eur float64\n",
      "player_tags object\n",
      "player_traits object\n",
      "pace float64\n",
      "shooting float64\n",
      "passing float64\n",
      "dribbling float64\n",
      "defending float64\n",
      "physic float64\n",
      "attacking_crossing int64\n",
      "attacking_finishing int64\n",
      "attacking_heading_accuracy int64\n",
      "attacking_short_passing int64\n",
      "attacking_volleys int64\n",
      "skill_dribbling int64\n",
      "skill_curve int64\n",
      "skill_fk_accuracy int64\n",
      "skill_long_passing int64\n",
      "skill_ball_control int64\n",
      "movement_acceleration int64\n",
      "movement_sprint_speed int64\n",
      "movement_agility int64\n",
      "movement_reactions int64\n",
      "movement_balance int64\n",
      "power_shot_power int64\n",
      "power_jumping int64\n",
      "power_stamina int64\n",
      "power_strength int64\n",
      "power_long_shots int64\n",
      "mentality_aggression int64\n",
      "mentality_interceptions int64\n",
      "mentality_positioning int64\n",
      "mentality_vision int64\n",
      "mentality_penalties int64\n",
      "mentality_composure int64\n",
      "defending_marking_awareness int64\n",
      "defending_standing_tackle int64\n",
      "defending_sliding_tackle int64\n",
      "goalkeeping_diving int64\n",
      "goalkeeping_handling int64\n",
      "goalkeeping_kicking int64\n",
      "goalkeeping_positioning int64\n",
      "goalkeeping_reflexes int64\n",
      "goalkeeping_speed float64\n",
      "ls object\n",
      "st object\n",
      "rs object\n",
      "lw object\n",
      "lf object\n",
      "cf object\n",
      "rf object\n",
      "rw object\n",
      "lam object\n",
      "cam object\n",
      "ram object\n",
      "lm object\n",
      "lcm object\n",
      "cm object\n",
      "rcm object\n",
      "rm object\n",
      "lwb object\n",
      "ldm object\n",
      "cdm object\n",
      "rdm object\n",
      "rwb object\n",
      "lb object\n",
      "lcb object\n",
      "cb object\n",
      "rcb object\n",
      "rb object\n",
      "gk object\n"
     ]
    }
   ],
   "source": [
    "for i,j in male_df.dtypes.iteritems():\n",
    "    print(i,j)"
   ]
  },
  {
   "cell_type": "code",
   "execution_count": 16,
   "id": "644d0e52",
   "metadata": {},
   "outputs": [
    {
     "data": {
      "text/html": [
       "<div>\n",
       "<style scoped>\n",
       "    .dataframe tbody tr th:only-of-type {\n",
       "        vertical-align: middle;\n",
       "    }\n",
       "\n",
       "    .dataframe tbody tr th {\n",
       "        vertical-align: top;\n",
       "    }\n",
       "\n",
       "    .dataframe thead th {\n",
       "        text-align: right;\n",
       "    }\n",
       "</style>\n",
       "<table border=\"1\" class=\"dataframe\">\n",
       "  <thead>\n",
       "    <tr style=\"text-align: right;\">\n",
       "      <th></th>\n",
       "      <th>short_name</th>\n",
       "      <th>player_positions</th>\n",
       "      <th>overall</th>\n",
       "      <th>potential</th>\n",
       "      <th>value_eur</th>\n",
       "      <th>wage_eur</th>\n",
       "      <th>age</th>\n",
       "      <th>dob</th>\n",
       "      <th>height_cm</th>\n",
       "      <th>weight_kg</th>\n",
       "      <th>...</th>\n",
       "      <th>ldm</th>\n",
       "      <th>cdm</th>\n",
       "      <th>rdm</th>\n",
       "      <th>rwb</th>\n",
       "      <th>lb</th>\n",
       "      <th>lcb</th>\n",
       "      <th>cb</th>\n",
       "      <th>rcb</th>\n",
       "      <th>rb</th>\n",
       "      <th>gk</th>\n",
       "    </tr>\n",
       "    <tr>\n",
       "      <th>sofifa_id</th>\n",
       "      <th></th>\n",
       "      <th></th>\n",
       "      <th></th>\n",
       "      <th></th>\n",
       "      <th></th>\n",
       "      <th></th>\n",
       "      <th></th>\n",
       "      <th></th>\n",
       "      <th></th>\n",
       "      <th></th>\n",
       "      <th></th>\n",
       "      <th></th>\n",
       "      <th></th>\n",
       "      <th></th>\n",
       "      <th></th>\n",
       "      <th></th>\n",
       "      <th></th>\n",
       "      <th></th>\n",
       "      <th></th>\n",
       "      <th></th>\n",
       "      <th></th>\n",
       "    </tr>\n",
       "  </thead>\n",
       "  <tbody>\n",
       "    <tr>\n",
       "      <th>158023</th>\n",
       "      <td>L. Messi</td>\n",
       "      <td>RW, ST, CF</td>\n",
       "      <td>93</td>\n",
       "      <td>93</td>\n",
       "      <td>78000000.0</td>\n",
       "      <td>320000.0</td>\n",
       "      <td>34</td>\n",
       "      <td>1987-06-24</td>\n",
       "      <td>170</td>\n",
       "      <td>72</td>\n",
       "      <td>...</td>\n",
       "      <td>64+3</td>\n",
       "      <td>64+3</td>\n",
       "      <td>64+3</td>\n",
       "      <td>66+3</td>\n",
       "      <td>61+3</td>\n",
       "      <td>50+3</td>\n",
       "      <td>50+3</td>\n",
       "      <td>50+3</td>\n",
       "      <td>61+3</td>\n",
       "      <td>19+3</td>\n",
       "    </tr>\n",
       "    <tr>\n",
       "      <th>188545</th>\n",
       "      <td>R. Lewandowski</td>\n",
       "      <td>ST</td>\n",
       "      <td>92</td>\n",
       "      <td>92</td>\n",
       "      <td>119500000.0</td>\n",
       "      <td>270000.0</td>\n",
       "      <td>32</td>\n",
       "      <td>1988-08-21</td>\n",
       "      <td>185</td>\n",
       "      <td>81</td>\n",
       "      <td>...</td>\n",
       "      <td>66+3</td>\n",
       "      <td>66+3</td>\n",
       "      <td>66+3</td>\n",
       "      <td>64+3</td>\n",
       "      <td>61+3</td>\n",
       "      <td>60+3</td>\n",
       "      <td>60+3</td>\n",
       "      <td>60+3</td>\n",
       "      <td>61+3</td>\n",
       "      <td>19+3</td>\n",
       "    </tr>\n",
       "    <tr>\n",
       "      <th>20801</th>\n",
       "      <td>Cristiano Ronaldo</td>\n",
       "      <td>ST, LW</td>\n",
       "      <td>91</td>\n",
       "      <td>91</td>\n",
       "      <td>45000000.0</td>\n",
       "      <td>270000.0</td>\n",
       "      <td>36</td>\n",
       "      <td>1985-02-05</td>\n",
       "      <td>187</td>\n",
       "      <td>83</td>\n",
       "      <td>...</td>\n",
       "      <td>59+3</td>\n",
       "      <td>59+3</td>\n",
       "      <td>59+3</td>\n",
       "      <td>63+3</td>\n",
       "      <td>60+3</td>\n",
       "      <td>53+3</td>\n",
       "      <td>53+3</td>\n",
       "      <td>53+3</td>\n",
       "      <td>60+3</td>\n",
       "      <td>20+3</td>\n",
       "    </tr>\n",
       "    <tr>\n",
       "      <th>190871</th>\n",
       "      <td>Neymar Jr</td>\n",
       "      <td>LW, CAM</td>\n",
       "      <td>91</td>\n",
       "      <td>91</td>\n",
       "      <td>129000000.0</td>\n",
       "      <td>270000.0</td>\n",
       "      <td>29</td>\n",
       "      <td>1992-02-05</td>\n",
       "      <td>175</td>\n",
       "      <td>68</td>\n",
       "      <td>...</td>\n",
       "      <td>63+3</td>\n",
       "      <td>63+3</td>\n",
       "      <td>63+3</td>\n",
       "      <td>67+3</td>\n",
       "      <td>62+3</td>\n",
       "      <td>50+3</td>\n",
       "      <td>50+3</td>\n",
       "      <td>50+3</td>\n",
       "      <td>62+3</td>\n",
       "      <td>20+3</td>\n",
       "    </tr>\n",
       "    <tr>\n",
       "      <th>192985</th>\n",
       "      <td>K. De Bruyne</td>\n",
       "      <td>CM, CAM</td>\n",
       "      <td>91</td>\n",
       "      <td>91</td>\n",
       "      <td>125500000.0</td>\n",
       "      <td>350000.0</td>\n",
       "      <td>30</td>\n",
       "      <td>1991-06-28</td>\n",
       "      <td>181</td>\n",
       "      <td>70</td>\n",
       "      <td>...</td>\n",
       "      <td>80+3</td>\n",
       "      <td>80+3</td>\n",
       "      <td>80+3</td>\n",
       "      <td>79+3</td>\n",
       "      <td>75+3</td>\n",
       "      <td>69+3</td>\n",
       "      <td>69+3</td>\n",
       "      <td>69+3</td>\n",
       "      <td>75+3</td>\n",
       "      <td>21+3</td>\n",
       "    </tr>\n",
       "    <tr>\n",
       "      <th>...</th>\n",
       "      <td>...</td>\n",
       "      <td>...</td>\n",
       "      <td>...</td>\n",
       "      <td>...</td>\n",
       "      <td>...</td>\n",
       "      <td>...</td>\n",
       "      <td>...</td>\n",
       "      <td>...</td>\n",
       "      <td>...</td>\n",
       "      <td>...</td>\n",
       "      <td>...</td>\n",
       "      <td>...</td>\n",
       "      <td>...</td>\n",
       "      <td>...</td>\n",
       "      <td>...</td>\n",
       "      <td>...</td>\n",
       "      <td>...</td>\n",
       "      <td>...</td>\n",
       "      <td>...</td>\n",
       "      <td>...</td>\n",
       "      <td>...</td>\n",
       "    </tr>\n",
       "    <tr>\n",
       "      <th>261962</th>\n",
       "      <td>Song Defu</td>\n",
       "      <td>CDM</td>\n",
       "      <td>47</td>\n",
       "      <td>52</td>\n",
       "      <td>70000.0</td>\n",
       "      <td>1000.0</td>\n",
       "      <td>22</td>\n",
       "      <td>1999-01-02</td>\n",
       "      <td>180</td>\n",
       "      <td>64</td>\n",
       "      <td>...</td>\n",
       "      <td>46+2</td>\n",
       "      <td>46+2</td>\n",
       "      <td>46+2</td>\n",
       "      <td>48+2</td>\n",
       "      <td>48+2</td>\n",
       "      <td>46+2</td>\n",
       "      <td>46+2</td>\n",
       "      <td>46+2</td>\n",
       "      <td>48+2</td>\n",
       "      <td>15+2</td>\n",
       "    </tr>\n",
       "    <tr>\n",
       "      <th>262040</th>\n",
       "      <td>C. Porter</td>\n",
       "      <td>CM</td>\n",
       "      <td>47</td>\n",
       "      <td>59</td>\n",
       "      <td>110000.0</td>\n",
       "      <td>500.0</td>\n",
       "      <td>19</td>\n",
       "      <td>2002-03-18</td>\n",
       "      <td>175</td>\n",
       "      <td>70</td>\n",
       "      <td>...</td>\n",
       "      <td>46+2</td>\n",
       "      <td>46+2</td>\n",
       "      <td>46+2</td>\n",
       "      <td>49+2</td>\n",
       "      <td>48+2</td>\n",
       "      <td>44+2</td>\n",
       "      <td>44+2</td>\n",
       "      <td>44+2</td>\n",
       "      <td>48+2</td>\n",
       "      <td>14+2</td>\n",
       "    </tr>\n",
       "    <tr>\n",
       "      <th>262760</th>\n",
       "      <td>N. Logue</td>\n",
       "      <td>CM</td>\n",
       "      <td>47</td>\n",
       "      <td>55</td>\n",
       "      <td>100000.0</td>\n",
       "      <td>500.0</td>\n",
       "      <td>21</td>\n",
       "      <td>2000-02-07</td>\n",
       "      <td>178</td>\n",
       "      <td>72</td>\n",
       "      <td>...</td>\n",
       "      <td>46+2</td>\n",
       "      <td>46+2</td>\n",
       "      <td>46+2</td>\n",
       "      <td>47+2</td>\n",
       "      <td>47+2</td>\n",
       "      <td>45+2</td>\n",
       "      <td>45+2</td>\n",
       "      <td>45+2</td>\n",
       "      <td>47+2</td>\n",
       "      <td>12+2</td>\n",
       "    </tr>\n",
       "    <tr>\n",
       "      <th>262820</th>\n",
       "      <td>L. Rudden</td>\n",
       "      <td>ST</td>\n",
       "      <td>47</td>\n",
       "      <td>60</td>\n",
       "      <td>110000.0</td>\n",
       "      <td>500.0</td>\n",
       "      <td>19</td>\n",
       "      <td>2002-04-23</td>\n",
       "      <td>173</td>\n",
       "      <td>66</td>\n",
       "      <td>...</td>\n",
       "      <td>29+2</td>\n",
       "      <td>29+2</td>\n",
       "      <td>29+2</td>\n",
       "      <td>33+2</td>\n",
       "      <td>32+2</td>\n",
       "      <td>26+2</td>\n",
       "      <td>26+2</td>\n",
       "      <td>26+2</td>\n",
       "      <td>32+2</td>\n",
       "      <td>15+2</td>\n",
       "    </tr>\n",
       "    <tr>\n",
       "      <th>264540</th>\n",
       "      <td>E. Lalchhanchhuaha</td>\n",
       "      <td>CAM</td>\n",
       "      <td>47</td>\n",
       "      <td>60</td>\n",
       "      <td>110000.0</td>\n",
       "      <td>500.0</td>\n",
       "      <td>19</td>\n",
       "      <td>2002-02-06</td>\n",
       "      <td>167</td>\n",
       "      <td>61</td>\n",
       "      <td>...</td>\n",
       "      <td>44+2</td>\n",
       "      <td>44+2</td>\n",
       "      <td>44+2</td>\n",
       "      <td>45+2</td>\n",
       "      <td>45+2</td>\n",
       "      <td>41+2</td>\n",
       "      <td>41+2</td>\n",
       "      <td>41+2</td>\n",
       "      <td>45+2</td>\n",
       "      <td>16+2</td>\n",
       "    </tr>\n",
       "  </tbody>\n",
       "</table>\n",
       "<p>19239 rows × 102 columns</p>\n",
       "</div>"
      ],
      "text/plain": [
       "                   short_name player_positions  overall  potential  \\\n",
       "sofifa_id                                                            \n",
       "158023               L. Messi       RW, ST, CF       93         93   \n",
       "188545         R. Lewandowski               ST       92         92   \n",
       "20801       Cristiano Ronaldo           ST, LW       91         91   \n",
       "190871              Neymar Jr          LW, CAM       91         91   \n",
       "192985           K. De Bruyne          CM, CAM       91         91   \n",
       "...                       ...              ...      ...        ...   \n",
       "261962              Song Defu              CDM       47         52   \n",
       "262040              C. Porter               CM       47         59   \n",
       "262760               N. Logue               CM       47         55   \n",
       "262820              L. Rudden               ST       47         60   \n",
       "264540     E. Lalchhanchhuaha              CAM       47         60   \n",
       "\n",
       "             value_eur  wage_eur  age         dob  height_cm  weight_kg  ...  \\\n",
       "sofifa_id                                                                ...   \n",
       "158023      78000000.0  320000.0   34  1987-06-24        170         72  ...   \n",
       "188545     119500000.0  270000.0   32  1988-08-21        185         81  ...   \n",
       "20801       45000000.0  270000.0   36  1985-02-05        187         83  ...   \n",
       "190871     129000000.0  270000.0   29  1992-02-05        175         68  ...   \n",
       "192985     125500000.0  350000.0   30  1991-06-28        181         70  ...   \n",
       "...                ...       ...  ...         ...        ...        ...  ...   \n",
       "261962         70000.0    1000.0   22  1999-01-02        180         64  ...   \n",
       "262040        110000.0     500.0   19  2002-03-18        175         70  ...   \n",
       "262760        100000.0     500.0   21  2000-02-07        178         72  ...   \n",
       "262820        110000.0     500.0   19  2002-04-23        173         66  ...   \n",
       "264540        110000.0     500.0   19  2002-02-06        167         61  ...   \n",
       "\n",
       "            ldm   cdm   rdm   rwb    lb   lcb    cb   rcb    rb    gk  \n",
       "sofifa_id                                                              \n",
       "158023     64+3  64+3  64+3  66+3  61+3  50+3  50+3  50+3  61+3  19+3  \n",
       "188545     66+3  66+3  66+3  64+3  61+3  60+3  60+3  60+3  61+3  19+3  \n",
       "20801      59+3  59+3  59+3  63+3  60+3  53+3  53+3  53+3  60+3  20+3  \n",
       "190871     63+3  63+3  63+3  67+3  62+3  50+3  50+3  50+3  62+3  20+3  \n",
       "192985     80+3  80+3  80+3  79+3  75+3  69+3  69+3  69+3  75+3  21+3  \n",
       "...         ...   ...   ...   ...   ...   ...   ...   ...   ...   ...  \n",
       "261962     46+2  46+2  46+2  48+2  48+2  46+2  46+2  46+2  48+2  15+2  \n",
       "262040     46+2  46+2  46+2  49+2  48+2  44+2  44+2  44+2  48+2  14+2  \n",
       "262760     46+2  46+2  46+2  47+2  47+2  45+2  45+2  45+2  47+2  12+2  \n",
       "262820     29+2  29+2  29+2  33+2  32+2  26+2  26+2  26+2  32+2  15+2  \n",
       "264540     44+2  44+2  44+2  45+2  45+2  41+2  41+2  41+2  45+2  16+2  \n",
       "\n",
       "[19239 rows x 102 columns]"
      ]
     },
     "execution_count": 16,
     "metadata": {},
     "output_type": "execute_result"
    }
   ],
   "source": [
    "male_df.drop(['long_name'],axis=1)"
   ]
  },
  {
   "cell_type": "markdown",
   "id": "6f4ba563",
   "metadata": {},
   "source": [
    "#### buscar relación entre potential y overall. Predicción de quien puede mejorar PDTE"
   ]
  },
  {
   "cell_type": "code",
   "execution_count": 17,
   "id": "b1d99bb2",
   "metadata": {},
   "outputs": [
    {
     "data": {
      "text/html": [
       "<div>\n",
       "<style scoped>\n",
       "    .dataframe tbody tr th:only-of-type {\n",
       "        vertical-align: middle;\n",
       "    }\n",
       "\n",
       "    .dataframe tbody tr th {\n",
       "        vertical-align: top;\n",
       "    }\n",
       "\n",
       "    .dataframe thead th {\n",
       "        text-align: right;\n",
       "    }\n",
       "</style>\n",
       "<table border=\"1\" class=\"dataframe\">\n",
       "  <thead>\n",
       "    <tr style=\"text-align: right;\">\n",
       "      <th></th>\n",
       "      <th>potential</th>\n",
       "      <th>overall</th>\n",
       "    </tr>\n",
       "    <tr>\n",
       "      <th>sofifa_id</th>\n",
       "      <th></th>\n",
       "      <th></th>\n",
       "    </tr>\n",
       "  </thead>\n",
       "  <tbody>\n",
       "    <tr>\n",
       "      <th>158023</th>\n",
       "      <td>93</td>\n",
       "      <td>93</td>\n",
       "    </tr>\n",
       "    <tr>\n",
       "      <th>188545</th>\n",
       "      <td>92</td>\n",
       "      <td>92</td>\n",
       "    </tr>\n",
       "    <tr>\n",
       "      <th>20801</th>\n",
       "      <td>91</td>\n",
       "      <td>91</td>\n",
       "    </tr>\n",
       "    <tr>\n",
       "      <th>190871</th>\n",
       "      <td>91</td>\n",
       "      <td>91</td>\n",
       "    </tr>\n",
       "    <tr>\n",
       "      <th>192985</th>\n",
       "      <td>91</td>\n",
       "      <td>91</td>\n",
       "    </tr>\n",
       "    <tr>\n",
       "      <th>...</th>\n",
       "      <td>...</td>\n",
       "      <td>...</td>\n",
       "    </tr>\n",
       "    <tr>\n",
       "      <th>261962</th>\n",
       "      <td>52</td>\n",
       "      <td>47</td>\n",
       "    </tr>\n",
       "    <tr>\n",
       "      <th>262040</th>\n",
       "      <td>59</td>\n",
       "      <td>47</td>\n",
       "    </tr>\n",
       "    <tr>\n",
       "      <th>262760</th>\n",
       "      <td>55</td>\n",
       "      <td>47</td>\n",
       "    </tr>\n",
       "    <tr>\n",
       "      <th>262820</th>\n",
       "      <td>60</td>\n",
       "      <td>47</td>\n",
       "    </tr>\n",
       "    <tr>\n",
       "      <th>264540</th>\n",
       "      <td>60</td>\n",
       "      <td>47</td>\n",
       "    </tr>\n",
       "  </tbody>\n",
       "</table>\n",
       "<p>19239 rows × 2 columns</p>\n",
       "</div>"
      ],
      "text/plain": [
       "           potential  overall\n",
       "sofifa_id                    \n",
       "158023            93       93\n",
       "188545            92       92\n",
       "20801             91       91\n",
       "190871            91       91\n",
       "192985            91       91\n",
       "...              ...      ...\n",
       "261962            52       47\n",
       "262040            59       47\n",
       "262760            55       47\n",
       "262820            60       47\n",
       "264540            60       47\n",
       "\n",
       "[19239 rows x 2 columns]"
      ]
     },
     "execution_count": 17,
     "metadata": {},
     "output_type": "execute_result"
    }
   ],
   "source": [
    "male_df[['potential','overall']]"
   ]
  },
  {
   "cell_type": "code",
   "execution_count": 18,
   "id": "9d942966",
   "metadata": {},
   "outputs": [
    {
     "data": {
      "text/html": [
       "<div>\n",
       "<style scoped>\n",
       "    .dataframe tbody tr th:only-of-type {\n",
       "        vertical-align: middle;\n",
       "    }\n",
       "\n",
       "    .dataframe tbody tr th {\n",
       "        vertical-align: top;\n",
       "    }\n",
       "\n",
       "    .dataframe thead th {\n",
       "        text-align: right;\n",
       "    }\n",
       "</style>\n",
       "<table border=\"1\" class=\"dataframe\">\n",
       "  <thead>\n",
       "    <tr style=\"text-align: right;\">\n",
       "      <th></th>\n",
       "      <th>short_name</th>\n",
       "      <th>value_eur</th>\n",
       "      <th>wage_eur</th>\n",
       "    </tr>\n",
       "    <tr>\n",
       "      <th>sofifa_id</th>\n",
       "      <th></th>\n",
       "      <th></th>\n",
       "      <th></th>\n",
       "    </tr>\n",
       "  </thead>\n",
       "  <tbody>\n",
       "    <tr>\n",
       "      <th>158023</th>\n",
       "      <td>L. Messi</td>\n",
       "      <td>78000000.0</td>\n",
       "      <td>320000.0</td>\n",
       "    </tr>\n",
       "    <tr>\n",
       "      <th>188545</th>\n",
       "      <td>R. Lewandowski</td>\n",
       "      <td>119500000.0</td>\n",
       "      <td>270000.0</td>\n",
       "    </tr>\n",
       "    <tr>\n",
       "      <th>20801</th>\n",
       "      <td>Cristiano Ronaldo</td>\n",
       "      <td>45000000.0</td>\n",
       "      <td>270000.0</td>\n",
       "    </tr>\n",
       "    <tr>\n",
       "      <th>190871</th>\n",
       "      <td>Neymar Jr</td>\n",
       "      <td>129000000.0</td>\n",
       "      <td>270000.0</td>\n",
       "    </tr>\n",
       "    <tr>\n",
       "      <th>192985</th>\n",
       "      <td>K. De Bruyne</td>\n",
       "      <td>125500000.0</td>\n",
       "      <td>350000.0</td>\n",
       "    </tr>\n",
       "    <tr>\n",
       "      <th>...</th>\n",
       "      <td>...</td>\n",
       "      <td>...</td>\n",
       "      <td>...</td>\n",
       "    </tr>\n",
       "    <tr>\n",
       "      <th>261962</th>\n",
       "      <td>Song Defu</td>\n",
       "      <td>70000.0</td>\n",
       "      <td>1000.0</td>\n",
       "    </tr>\n",
       "    <tr>\n",
       "      <th>262040</th>\n",
       "      <td>C. Porter</td>\n",
       "      <td>110000.0</td>\n",
       "      <td>500.0</td>\n",
       "    </tr>\n",
       "    <tr>\n",
       "      <th>262760</th>\n",
       "      <td>N. Logue</td>\n",
       "      <td>100000.0</td>\n",
       "      <td>500.0</td>\n",
       "    </tr>\n",
       "    <tr>\n",
       "      <th>262820</th>\n",
       "      <td>L. Rudden</td>\n",
       "      <td>110000.0</td>\n",
       "      <td>500.0</td>\n",
       "    </tr>\n",
       "    <tr>\n",
       "      <th>264540</th>\n",
       "      <td>E. Lalchhanchhuaha</td>\n",
       "      <td>110000.0</td>\n",
       "      <td>500.0</td>\n",
       "    </tr>\n",
       "  </tbody>\n",
       "</table>\n",
       "<p>19239 rows × 3 columns</p>\n",
       "</div>"
      ],
      "text/plain": [
       "                   short_name    value_eur  wage_eur\n",
       "sofifa_id                                           \n",
       "158023               L. Messi   78000000.0  320000.0\n",
       "188545         R. Lewandowski  119500000.0  270000.0\n",
       "20801       Cristiano Ronaldo   45000000.0  270000.0\n",
       "190871              Neymar Jr  129000000.0  270000.0\n",
       "192985           K. De Bruyne  125500000.0  350000.0\n",
       "...                       ...          ...       ...\n",
       "261962              Song Defu      70000.0    1000.0\n",
       "262040              C. Porter     110000.0     500.0\n",
       "262760               N. Logue     100000.0     500.0\n",
       "262820              L. Rudden     110000.0     500.0\n",
       "264540     E. Lalchhanchhuaha     110000.0     500.0\n",
       "\n",
       "[19239 rows x 3 columns]"
      ]
     },
     "execution_count": 18,
     "metadata": {},
     "output_type": "execute_result"
    }
   ],
   "source": [
    "male_df[['short_name','value_eur','wage_eur']]"
   ]
  },
  {
   "cell_type": "code",
   "execution_count": 19,
   "id": "e54f3378",
   "metadata": {},
   "outputs": [],
   "source": [
    "#comentario random"
   ]
  },
  {
   "cell_type": "markdown",
   "id": "42707f16",
   "metadata": {},
   "source": [
    "### columns from 0 to 26"
   ]
  },
  {
   "cell_type": "code",
   "execution_count": 20,
   "id": "b2e6de73",
   "metadata": {},
   "outputs": [
    {
     "data": {
      "text/html": [
       "<div>\n",
       "<style scoped>\n",
       "    .dataframe tbody tr th:only-of-type {\n",
       "        vertical-align: middle;\n",
       "    }\n",
       "\n",
       "    .dataframe tbody tr th {\n",
       "        vertical-align: top;\n",
       "    }\n",
       "\n",
       "    .dataframe thead th {\n",
       "        text-align: right;\n",
       "    }\n",
       "</style>\n",
       "<table border=\"1\" class=\"dataframe\">\n",
       "  <thead>\n",
       "    <tr style=\"text-align: right;\">\n",
       "      <th></th>\n",
       "      <th>short_name</th>\n",
       "      <th>long_name</th>\n",
       "      <th>player_positions</th>\n",
       "      <th>overall</th>\n",
       "      <th>potential</th>\n",
       "      <th>value_eur</th>\n",
       "      <th>wage_eur</th>\n",
       "      <th>age</th>\n",
       "      <th>dob</th>\n",
       "      <th>height_cm</th>\n",
       "      <th>...</th>\n",
       "      <th>club_jersey_number</th>\n",
       "      <th>club_loaned_from</th>\n",
       "      <th>club_joined</th>\n",
       "      <th>club_contract_valid_until</th>\n",
       "      <th>nationality_id</th>\n",
       "      <th>nationality_name</th>\n",
       "      <th>nation_team_id</th>\n",
       "      <th>nation_position</th>\n",
       "      <th>nation_jersey_number</th>\n",
       "      <th>preferred_foot</th>\n",
       "    </tr>\n",
       "    <tr>\n",
       "      <th>sofifa_id</th>\n",
       "      <th></th>\n",
       "      <th></th>\n",
       "      <th></th>\n",
       "      <th></th>\n",
       "      <th></th>\n",
       "      <th></th>\n",
       "      <th></th>\n",
       "      <th></th>\n",
       "      <th></th>\n",
       "      <th></th>\n",
       "      <th></th>\n",
       "      <th></th>\n",
       "      <th></th>\n",
       "      <th></th>\n",
       "      <th></th>\n",
       "      <th></th>\n",
       "      <th></th>\n",
       "      <th></th>\n",
       "      <th></th>\n",
       "      <th></th>\n",
       "      <th></th>\n",
       "    </tr>\n",
       "  </thead>\n",
       "  <tbody>\n",
       "    <tr>\n",
       "      <th>158023</th>\n",
       "      <td>L. Messi</td>\n",
       "      <td>Lionel Andrés Messi Cuccittini</td>\n",
       "      <td>RW, ST, CF</td>\n",
       "      <td>93</td>\n",
       "      <td>93</td>\n",
       "      <td>78000000.0</td>\n",
       "      <td>320000.0</td>\n",
       "      <td>34</td>\n",
       "      <td>1987-06-24</td>\n",
       "      <td>170</td>\n",
       "      <td>...</td>\n",
       "      <td>30.0</td>\n",
       "      <td>NaN</td>\n",
       "      <td>2021-08-10</td>\n",
       "      <td>2023.0</td>\n",
       "      <td>52</td>\n",
       "      <td>Argentina</td>\n",
       "      <td>1369.0</td>\n",
       "      <td>RW</td>\n",
       "      <td>10.0</td>\n",
       "      <td>Left</td>\n",
       "    </tr>\n",
       "    <tr>\n",
       "      <th>188545</th>\n",
       "      <td>R. Lewandowski</td>\n",
       "      <td>Robert Lewandowski</td>\n",
       "      <td>ST</td>\n",
       "      <td>92</td>\n",
       "      <td>92</td>\n",
       "      <td>119500000.0</td>\n",
       "      <td>270000.0</td>\n",
       "      <td>32</td>\n",
       "      <td>1988-08-21</td>\n",
       "      <td>185</td>\n",
       "      <td>...</td>\n",
       "      <td>9.0</td>\n",
       "      <td>NaN</td>\n",
       "      <td>2014-07-01</td>\n",
       "      <td>2023.0</td>\n",
       "      <td>37</td>\n",
       "      <td>Poland</td>\n",
       "      <td>1353.0</td>\n",
       "      <td>RS</td>\n",
       "      <td>9.0</td>\n",
       "      <td>Right</td>\n",
       "    </tr>\n",
       "    <tr>\n",
       "      <th>20801</th>\n",
       "      <td>Cristiano Ronaldo</td>\n",
       "      <td>Cristiano Ronaldo dos Santos Aveiro</td>\n",
       "      <td>ST, LW</td>\n",
       "      <td>91</td>\n",
       "      <td>91</td>\n",
       "      <td>45000000.0</td>\n",
       "      <td>270000.0</td>\n",
       "      <td>36</td>\n",
       "      <td>1985-02-05</td>\n",
       "      <td>187</td>\n",
       "      <td>...</td>\n",
       "      <td>7.0</td>\n",
       "      <td>NaN</td>\n",
       "      <td>2021-08-27</td>\n",
       "      <td>2023.0</td>\n",
       "      <td>38</td>\n",
       "      <td>Portugal</td>\n",
       "      <td>1354.0</td>\n",
       "      <td>ST</td>\n",
       "      <td>7.0</td>\n",
       "      <td>Right</td>\n",
       "    </tr>\n",
       "    <tr>\n",
       "      <th>190871</th>\n",
       "      <td>Neymar Jr</td>\n",
       "      <td>Neymar da Silva Santos Júnior</td>\n",
       "      <td>LW, CAM</td>\n",
       "      <td>91</td>\n",
       "      <td>91</td>\n",
       "      <td>129000000.0</td>\n",
       "      <td>270000.0</td>\n",
       "      <td>29</td>\n",
       "      <td>1992-02-05</td>\n",
       "      <td>175</td>\n",
       "      <td>...</td>\n",
       "      <td>10.0</td>\n",
       "      <td>NaN</td>\n",
       "      <td>2017-08-03</td>\n",
       "      <td>2025.0</td>\n",
       "      <td>54</td>\n",
       "      <td>Brazil</td>\n",
       "      <td>NaN</td>\n",
       "      <td>NaN</td>\n",
       "      <td>NaN</td>\n",
       "      <td>Right</td>\n",
       "    </tr>\n",
       "    <tr>\n",
       "      <th>192985</th>\n",
       "      <td>K. De Bruyne</td>\n",
       "      <td>Kevin De Bruyne</td>\n",
       "      <td>CM, CAM</td>\n",
       "      <td>91</td>\n",
       "      <td>91</td>\n",
       "      <td>125500000.0</td>\n",
       "      <td>350000.0</td>\n",
       "      <td>30</td>\n",
       "      <td>1991-06-28</td>\n",
       "      <td>181</td>\n",
       "      <td>...</td>\n",
       "      <td>17.0</td>\n",
       "      <td>NaN</td>\n",
       "      <td>2015-08-30</td>\n",
       "      <td>2025.0</td>\n",
       "      <td>7</td>\n",
       "      <td>Belgium</td>\n",
       "      <td>1325.0</td>\n",
       "      <td>RCM</td>\n",
       "      <td>7.0</td>\n",
       "      <td>Right</td>\n",
       "    </tr>\n",
       "    <tr>\n",
       "      <th>...</th>\n",
       "      <td>...</td>\n",
       "      <td>...</td>\n",
       "      <td>...</td>\n",
       "      <td>...</td>\n",
       "      <td>...</td>\n",
       "      <td>...</td>\n",
       "      <td>...</td>\n",
       "      <td>...</td>\n",
       "      <td>...</td>\n",
       "      <td>...</td>\n",
       "      <td>...</td>\n",
       "      <td>...</td>\n",
       "      <td>...</td>\n",
       "      <td>...</td>\n",
       "      <td>...</td>\n",
       "      <td>...</td>\n",
       "      <td>...</td>\n",
       "      <td>...</td>\n",
       "      <td>...</td>\n",
       "      <td>...</td>\n",
       "      <td>...</td>\n",
       "    </tr>\n",
       "    <tr>\n",
       "      <th>261962</th>\n",
       "      <td>Song Defu</td>\n",
       "      <td>宋德福</td>\n",
       "      <td>CDM</td>\n",
       "      <td>47</td>\n",
       "      <td>52</td>\n",
       "      <td>70000.0</td>\n",
       "      <td>1000.0</td>\n",
       "      <td>22</td>\n",
       "      <td>1999-01-02</td>\n",
       "      <td>180</td>\n",
       "      <td>...</td>\n",
       "      <td>36.0</td>\n",
       "      <td>NaN</td>\n",
       "      <td>2021-04-01</td>\n",
       "      <td>2021.0</td>\n",
       "      <td>155</td>\n",
       "      <td>China PR</td>\n",
       "      <td>NaN</td>\n",
       "      <td>NaN</td>\n",
       "      <td>NaN</td>\n",
       "      <td>Right</td>\n",
       "    </tr>\n",
       "    <tr>\n",
       "      <th>262040</th>\n",
       "      <td>C. Porter</td>\n",
       "      <td>Caoimhin Porter</td>\n",
       "      <td>CM</td>\n",
       "      <td>47</td>\n",
       "      <td>59</td>\n",
       "      <td>110000.0</td>\n",
       "      <td>500.0</td>\n",
       "      <td>19</td>\n",
       "      <td>2002-03-18</td>\n",
       "      <td>175</td>\n",
       "      <td>...</td>\n",
       "      <td>27.0</td>\n",
       "      <td>NaN</td>\n",
       "      <td>2021-02-22</td>\n",
       "      <td>2021.0</td>\n",
       "      <td>25</td>\n",
       "      <td>Republic of Ireland</td>\n",
       "      <td>NaN</td>\n",
       "      <td>NaN</td>\n",
       "      <td>NaN</td>\n",
       "      <td>Right</td>\n",
       "    </tr>\n",
       "    <tr>\n",
       "      <th>262760</th>\n",
       "      <td>N. Logue</td>\n",
       "      <td>Nathan Logue-Cunningham</td>\n",
       "      <td>CM</td>\n",
       "      <td>47</td>\n",
       "      <td>55</td>\n",
       "      <td>100000.0</td>\n",
       "      <td>500.0</td>\n",
       "      <td>21</td>\n",
       "      <td>2000-02-07</td>\n",
       "      <td>178</td>\n",
       "      <td>...</td>\n",
       "      <td>31.0</td>\n",
       "      <td>NaN</td>\n",
       "      <td>2021-06-18</td>\n",
       "      <td>2021.0</td>\n",
       "      <td>25</td>\n",
       "      <td>Republic of Ireland</td>\n",
       "      <td>NaN</td>\n",
       "      <td>NaN</td>\n",
       "      <td>NaN</td>\n",
       "      <td>Right</td>\n",
       "    </tr>\n",
       "    <tr>\n",
       "      <th>262820</th>\n",
       "      <td>L. Rudden</td>\n",
       "      <td>Luke Rudden</td>\n",
       "      <td>ST</td>\n",
       "      <td>47</td>\n",
       "      <td>60</td>\n",
       "      <td>110000.0</td>\n",
       "      <td>500.0</td>\n",
       "      <td>19</td>\n",
       "      <td>2002-04-23</td>\n",
       "      <td>173</td>\n",
       "      <td>...</td>\n",
       "      <td>12.0</td>\n",
       "      <td>NaN</td>\n",
       "      <td>2021-06-18</td>\n",
       "      <td>2021.0</td>\n",
       "      <td>25</td>\n",
       "      <td>Republic of Ireland</td>\n",
       "      <td>NaN</td>\n",
       "      <td>NaN</td>\n",
       "      <td>NaN</td>\n",
       "      <td>Right</td>\n",
       "    </tr>\n",
       "    <tr>\n",
       "      <th>264540</th>\n",
       "      <td>E. Lalchhanchhuaha</td>\n",
       "      <td>Emanuel Lalchhanchhuaha</td>\n",
       "      <td>CAM</td>\n",
       "      <td>47</td>\n",
       "      <td>60</td>\n",
       "      <td>110000.0</td>\n",
       "      <td>500.0</td>\n",
       "      <td>19</td>\n",
       "      <td>2002-02-06</td>\n",
       "      <td>167</td>\n",
       "      <td>...</td>\n",
       "      <td>13.0</td>\n",
       "      <td>NaN</td>\n",
       "      <td>2021-08-31</td>\n",
       "      <td>2025.0</td>\n",
       "      <td>159</td>\n",
       "      <td>India</td>\n",
       "      <td>NaN</td>\n",
       "      <td>NaN</td>\n",
       "      <td>NaN</td>\n",
       "      <td>Right</td>\n",
       "    </tr>\n",
       "  </tbody>\n",
       "</table>\n",
       "<p>19239 rows × 26 columns</p>\n",
       "</div>"
      ],
      "text/plain": [
       "                   short_name                            long_name  \\\n",
       "sofifa_id                                                            \n",
       "158023               L. Messi       Lionel Andrés Messi Cuccittini   \n",
       "188545         R. Lewandowski                   Robert Lewandowski   \n",
       "20801       Cristiano Ronaldo  Cristiano Ronaldo dos Santos Aveiro   \n",
       "190871              Neymar Jr        Neymar da Silva Santos Júnior   \n",
       "192985           K. De Bruyne                      Kevin De Bruyne   \n",
       "...                       ...                                  ...   \n",
       "261962              Song Defu                                  宋德福   \n",
       "262040              C. Porter                      Caoimhin Porter   \n",
       "262760               N. Logue              Nathan Logue-Cunningham   \n",
       "262820              L. Rudden                          Luke Rudden   \n",
       "264540     E. Lalchhanchhuaha              Emanuel Lalchhanchhuaha   \n",
       "\n",
       "          player_positions  overall  potential    value_eur  wage_eur  age  \\\n",
       "sofifa_id                                                                    \n",
       "158023          RW, ST, CF       93         93   78000000.0  320000.0   34   \n",
       "188545                  ST       92         92  119500000.0  270000.0   32   \n",
       "20801               ST, LW       91         91   45000000.0  270000.0   36   \n",
       "190871             LW, CAM       91         91  129000000.0  270000.0   29   \n",
       "192985             CM, CAM       91         91  125500000.0  350000.0   30   \n",
       "...                    ...      ...        ...          ...       ...  ...   \n",
       "261962                 CDM       47         52      70000.0    1000.0   22   \n",
       "262040                  CM       47         59     110000.0     500.0   19   \n",
       "262760                  CM       47         55     100000.0     500.0   21   \n",
       "262820                  ST       47         60     110000.0     500.0   19   \n",
       "264540                 CAM       47         60     110000.0     500.0   19   \n",
       "\n",
       "                  dob  height_cm  ...  club_jersey_number  club_loaned_from  \\\n",
       "sofifa_id                         ...                                         \n",
       "158023     1987-06-24        170  ...                30.0               NaN   \n",
       "188545     1988-08-21        185  ...                 9.0               NaN   \n",
       "20801      1985-02-05        187  ...                 7.0               NaN   \n",
       "190871     1992-02-05        175  ...                10.0               NaN   \n",
       "192985     1991-06-28        181  ...                17.0               NaN   \n",
       "...               ...        ...  ...                 ...               ...   \n",
       "261962     1999-01-02        180  ...                36.0               NaN   \n",
       "262040     2002-03-18        175  ...                27.0               NaN   \n",
       "262760     2000-02-07        178  ...                31.0               NaN   \n",
       "262820     2002-04-23        173  ...                12.0               NaN   \n",
       "264540     2002-02-06        167  ...                13.0               NaN   \n",
       "\n",
       "          club_joined club_contract_valid_until  nationality_id  \\\n",
       "sofifa_id                                                         \n",
       "158023     2021-08-10                    2023.0              52   \n",
       "188545     2014-07-01                    2023.0              37   \n",
       "20801      2021-08-27                    2023.0              38   \n",
       "190871     2017-08-03                    2025.0              54   \n",
       "192985     2015-08-30                    2025.0               7   \n",
       "...               ...                       ...             ...   \n",
       "261962     2021-04-01                    2021.0             155   \n",
       "262040     2021-02-22                    2021.0              25   \n",
       "262760     2021-06-18                    2021.0              25   \n",
       "262820     2021-06-18                    2021.0              25   \n",
       "264540     2021-08-31                    2025.0             159   \n",
       "\n",
       "              nationality_name  nation_team_id nation_position  \\\n",
       "sofifa_id                                                        \n",
       "158023               Argentina          1369.0              RW   \n",
       "188545                  Poland          1353.0              RS   \n",
       "20801                 Portugal          1354.0              ST   \n",
       "190871                  Brazil             NaN             NaN   \n",
       "192985                 Belgium          1325.0             RCM   \n",
       "...                        ...             ...             ...   \n",
       "261962                China PR             NaN             NaN   \n",
       "262040     Republic of Ireland             NaN             NaN   \n",
       "262760     Republic of Ireland             NaN             NaN   \n",
       "262820     Republic of Ireland             NaN             NaN   \n",
       "264540                   India             NaN             NaN   \n",
       "\n",
       "          nation_jersey_number  preferred_foot  \n",
       "sofifa_id                                       \n",
       "158023                    10.0            Left  \n",
       "188545                     9.0           Right  \n",
       "20801                      7.0           Right  \n",
       "190871                     NaN           Right  \n",
       "192985                     7.0           Right  \n",
       "...                        ...             ...  \n",
       "261962                     NaN           Right  \n",
       "262040                     NaN           Right  \n",
       "262760                     NaN           Right  \n",
       "262820                     NaN           Right  \n",
       "264540                     NaN           Right  \n",
       "\n",
       "[19239 rows x 26 columns]"
      ]
     },
     "execution_count": 20,
     "metadata": {},
     "output_type": "execute_result"
    }
   ],
   "source": [
    "male_df.iloc[:,:26]"
   ]
  },
  {
   "cell_type": "code",
   "execution_count": 21,
   "id": "a6fa60ee",
   "metadata": {},
   "outputs": [],
   "source": [
    "# drop column 1 : Long_name\n",
    "# reason: we keep just short name (column 0)"
   ]
  },
  {
   "cell_type": "code",
   "execution_count": 22,
   "id": "7cd1c89b",
   "metadata": {},
   "outputs": [],
   "source": [
    "male_df.drop('long_name',axis=1, inplace=True)"
   ]
  },
  {
   "cell_type": "code",
   "execution_count": 23,
   "id": "a46222c1",
   "metadata": {},
   "outputs": [],
   "source": [
    "# modify column 2: player_positions\n",
    "# modification: keep only one position, making it easy to work with categorical ML"
   ]
  },
  {
   "cell_type": "code",
   "execution_count": 24,
   "id": "032d8ad9",
   "metadata": {},
   "outputs": [],
   "source": [
    "male_df.player_positions = male_df.player_positions.apply(lambda x: x.split(',')[0])"
   ]
  },
  {
   "cell_type": "code",
   "execution_count": 25,
   "id": "a80d49e4",
   "metadata": {},
   "outputs": [],
   "source": [
    "# keep columns 3,4 without changes\n",
    "# reason: these are numerical columns with int64 type"
   ]
  },
  {
   "cell_type": "code",
   "execution_count": 26,
   "id": "22f7ebb6",
   "metadata": {},
   "outputs": [
    {
     "data": {
      "text/plain": [
       "overall      int64\n",
       "potential    int64\n",
       "dtype: object"
      ]
     },
     "execution_count": 26,
     "metadata": {},
     "output_type": "execute_result"
    }
   ],
   "source": [
    "male_df[['overall','potential']].dtypes"
   ]
  },
  {
   "cell_type": "code",
   "execution_count": 27,
   "id": "b08627db",
   "metadata": {},
   "outputs": [],
   "source": [
    "# comment on column 5\n",
    "# value_eur has an adequate format (float64) but seems to be highly skewed\n",
    "# most players value fall on the first bins (between 0 and 250000)\n",
    "# we dropped some rows as the percentage was low enough (0.38%) to drop it without losing information "
   ]
  },
  {
   "cell_type": "code",
   "execution_count": 28,
   "id": "a1abe795",
   "metadata": {},
   "outputs": [
    {
     "data": {
      "text/plain": [
       "253"
      ]
     },
     "execution_count": 28,
     "metadata": {},
     "output_type": "execute_result"
    }
   ],
   "source": [
    "len(male_df.value_eur.unique())"
   ]
  },
  {
   "cell_type": "code",
   "execution_count": 29,
   "id": "5ec140c5",
   "metadata": {},
   "outputs": [
    {
     "data": {
      "text/plain": [
       "74"
      ]
     },
     "execution_count": 29,
     "metadata": {},
     "output_type": "execute_result"
    }
   ],
   "source": [
    "male_df.value_eur.isna().sum()"
   ]
  },
  {
   "cell_type": "code",
   "execution_count": 30,
   "id": "e7f8e657",
   "metadata": {},
   "outputs": [
    {
     "data": {
      "text/plain": [
       "0.38463537605904674"
      ]
     },
     "execution_count": 30,
     "metadata": {},
     "output_type": "execute_result"
    }
   ],
   "source": [
    "(male_df.value_eur.isna().sum() / len(male_df.value_eur) ) * 100"
   ]
  },
  {
   "cell_type": "code",
   "execution_count": 31,
   "id": "0a7aca31",
   "metadata": {},
   "outputs": [
    {
     "data": {
      "text/html": [
       "<div>\n",
       "<style scoped>\n",
       "    .dataframe tbody tr th:only-of-type {\n",
       "        vertical-align: middle;\n",
       "    }\n",
       "\n",
       "    .dataframe tbody tr th {\n",
       "        vertical-align: top;\n",
       "    }\n",
       "\n",
       "    .dataframe thead th {\n",
       "        text-align: right;\n",
       "    }\n",
       "</style>\n",
       "<table border=\"1\" class=\"dataframe\">\n",
       "  <thead>\n",
       "    <tr style=\"text-align: right;\">\n",
       "      <th></th>\n",
       "      <th>short_name</th>\n",
       "      <th>player_positions</th>\n",
       "      <th>overall</th>\n",
       "      <th>potential</th>\n",
       "      <th>value_eur</th>\n",
       "      <th>wage_eur</th>\n",
       "      <th>age</th>\n",
       "      <th>dob</th>\n",
       "      <th>height_cm</th>\n",
       "      <th>weight_kg</th>\n",
       "      <th>...</th>\n",
       "      <th>ldm</th>\n",
       "      <th>cdm</th>\n",
       "      <th>rdm</th>\n",
       "      <th>rwb</th>\n",
       "      <th>lb</th>\n",
       "      <th>lcb</th>\n",
       "      <th>cb</th>\n",
       "      <th>rcb</th>\n",
       "      <th>rb</th>\n",
       "      <th>gk</th>\n",
       "    </tr>\n",
       "    <tr>\n",
       "      <th>sofifa_id</th>\n",
       "      <th></th>\n",
       "      <th></th>\n",
       "      <th></th>\n",
       "      <th></th>\n",
       "      <th></th>\n",
       "      <th></th>\n",
       "      <th></th>\n",
       "      <th></th>\n",
       "      <th></th>\n",
       "      <th></th>\n",
       "      <th></th>\n",
       "      <th></th>\n",
       "      <th></th>\n",
       "      <th></th>\n",
       "      <th></th>\n",
       "      <th></th>\n",
       "      <th></th>\n",
       "      <th></th>\n",
       "      <th></th>\n",
       "      <th></th>\n",
       "      <th></th>\n",
       "    </tr>\n",
       "  </thead>\n",
       "  <tbody>\n",
       "    <tr>\n",
       "      <th>184087</th>\n",
       "      <td>T. Alderweireld</td>\n",
       "      <td>CB</td>\n",
       "      <td>83</td>\n",
       "      <td>83</td>\n",
       "      <td>NaN</td>\n",
       "      <td>NaN</td>\n",
       "      <td>32</td>\n",
       "      <td>1989-03-02</td>\n",
       "      <td>186</td>\n",
       "      <td>81</td>\n",
       "      <td>...</td>\n",
       "      <td>81+2</td>\n",
       "      <td>81+2</td>\n",
       "      <td>81+2</td>\n",
       "      <td>77+3</td>\n",
       "      <td>78+3</td>\n",
       "      <td>82+1</td>\n",
       "      <td>82+1</td>\n",
       "      <td>82+1</td>\n",
       "      <td>78+3</td>\n",
       "      <td>21+3</td>\n",
       "    </tr>\n",
       "    <tr>\n",
       "      <th>197242</th>\n",
       "      <td>G. Krychowiak</td>\n",
       "      <td>CDM</td>\n",
       "      <td>80</td>\n",
       "      <td>80</td>\n",
       "      <td>NaN</td>\n",
       "      <td>NaN</td>\n",
       "      <td>31</td>\n",
       "      <td>1990-01-29</td>\n",
       "      <td>187</td>\n",
       "      <td>84</td>\n",
       "      <td>...</td>\n",
       "      <td>78+2</td>\n",
       "      <td>78+2</td>\n",
       "      <td>78+2</td>\n",
       "      <td>74+3</td>\n",
       "      <td>74+3</td>\n",
       "      <td>77+3</td>\n",
       "      <td>77+3</td>\n",
       "      <td>77+3</td>\n",
       "      <td>74+3</td>\n",
       "      <td>18+3</td>\n",
       "    </tr>\n",
       "    <tr>\n",
       "      <th>187607</th>\n",
       "      <td>A. Dzyuba</td>\n",
       "      <td>ST</td>\n",
       "      <td>78</td>\n",
       "      <td>78</td>\n",
       "      <td>NaN</td>\n",
       "      <td>NaN</td>\n",
       "      <td>32</td>\n",
       "      <td>1988-08-22</td>\n",
       "      <td>196</td>\n",
       "      <td>91</td>\n",
       "      <td>...</td>\n",
       "      <td>54+2</td>\n",
       "      <td>54+2</td>\n",
       "      <td>54+2</td>\n",
       "      <td>53+2</td>\n",
       "      <td>50+2</td>\n",
       "      <td>50+2</td>\n",
       "      <td>50+2</td>\n",
       "      <td>50+2</td>\n",
       "      <td>50+2</td>\n",
       "      <td>18+2</td>\n",
       "    </tr>\n",
       "    <tr>\n",
       "      <th>200094</th>\n",
       "      <td>M. Ozdoev</td>\n",
       "      <td>CDM</td>\n",
       "      <td>77</td>\n",
       "      <td>78</td>\n",
       "      <td>NaN</td>\n",
       "      <td>NaN</td>\n",
       "      <td>28</td>\n",
       "      <td>1992-11-05</td>\n",
       "      <td>184</td>\n",
       "      <td>78</td>\n",
       "      <td>...</td>\n",
       "      <td>76+2</td>\n",
       "      <td>76+2</td>\n",
       "      <td>76+2</td>\n",
       "      <td>74+2</td>\n",
       "      <td>73+2</td>\n",
       "      <td>73+2</td>\n",
       "      <td>73+2</td>\n",
       "      <td>73+2</td>\n",
       "      <td>73+2</td>\n",
       "      <td>19+2</td>\n",
       "    </tr>\n",
       "    <tr>\n",
       "      <th>154950</th>\n",
       "      <td>Y. Zhirkov</td>\n",
       "      <td>LB</td>\n",
       "      <td>76</td>\n",
       "      <td>76</td>\n",
       "      <td>NaN</td>\n",
       "      <td>NaN</td>\n",
       "      <td>37</td>\n",
       "      <td>1983-08-20</td>\n",
       "      <td>180</td>\n",
       "      <td>75</td>\n",
       "      <td>...</td>\n",
       "      <td>74+2</td>\n",
       "      <td>74+2</td>\n",
       "      <td>74+2</td>\n",
       "      <td>75+1</td>\n",
       "      <td>74+2</td>\n",
       "      <td>72+2</td>\n",
       "      <td>72+2</td>\n",
       "      <td>72+2</td>\n",
       "      <td>74+2</td>\n",
       "      <td>15+2</td>\n",
       "    </tr>\n",
       "    <tr>\n",
       "      <th>...</th>\n",
       "      <td>...</td>\n",
       "      <td>...</td>\n",
       "      <td>...</td>\n",
       "      <td>...</td>\n",
       "      <td>...</td>\n",
       "      <td>...</td>\n",
       "      <td>...</td>\n",
       "      <td>...</td>\n",
       "      <td>...</td>\n",
       "      <td>...</td>\n",
       "      <td>...</td>\n",
       "      <td>...</td>\n",
       "      <td>...</td>\n",
       "      <td>...</td>\n",
       "      <td>...</td>\n",
       "      <td>...</td>\n",
       "      <td>...</td>\n",
       "      <td>...</td>\n",
       "      <td>...</td>\n",
       "      <td>...</td>\n",
       "      <td>...</td>\n",
       "    </tr>\n",
       "    <tr>\n",
       "      <th>241475</th>\n",
       "      <td>P. Soiri</td>\n",
       "      <td>LW</td>\n",
       "      <td>61</td>\n",
       "      <td>62</td>\n",
       "      <td>NaN</td>\n",
       "      <td>NaN</td>\n",
       "      <td>26</td>\n",
       "      <td>1994-09-22</td>\n",
       "      <td>183</td>\n",
       "      <td>63</td>\n",
       "      <td>...</td>\n",
       "      <td>50+2</td>\n",
       "      <td>50+2</td>\n",
       "      <td>50+2</td>\n",
       "      <td>53+2</td>\n",
       "      <td>52+2</td>\n",
       "      <td>47+2</td>\n",
       "      <td>47+2</td>\n",
       "      <td>47+2</td>\n",
       "      <td>52+2</td>\n",
       "      <td>13+2</td>\n",
       "    </tr>\n",
       "    <tr>\n",
       "      <th>254704</th>\n",
       "      <td>K. Miura</td>\n",
       "      <td>ST</td>\n",
       "      <td>59</td>\n",
       "      <td>59</td>\n",
       "      <td>NaN</td>\n",
       "      <td>700.0</td>\n",
       "      <td>54</td>\n",
       "      <td>1967-02-26</td>\n",
       "      <td>177</td>\n",
       "      <td>72</td>\n",
       "      <td>...</td>\n",
       "      <td>37+2</td>\n",
       "      <td>37+2</td>\n",
       "      <td>37+2</td>\n",
       "      <td>35+2</td>\n",
       "      <td>31+2</td>\n",
       "      <td>32+2</td>\n",
       "      <td>32+2</td>\n",
       "      <td>32+2</td>\n",
       "      <td>31+2</td>\n",
       "      <td>12+2</td>\n",
       "    </tr>\n",
       "    <tr>\n",
       "      <th>2702</th>\n",
       "      <td>K. Ellison</td>\n",
       "      <td>LM</td>\n",
       "      <td>58</td>\n",
       "      <td>58</td>\n",
       "      <td>NaN</td>\n",
       "      <td>2000.0</td>\n",
       "      <td>42</td>\n",
       "      <td>1979-02-23</td>\n",
       "      <td>185</td>\n",
       "      <td>76</td>\n",
       "      <td>...</td>\n",
       "      <td>52+2</td>\n",
       "      <td>52+2</td>\n",
       "      <td>52+2</td>\n",
       "      <td>49+2</td>\n",
       "      <td>47+2</td>\n",
       "      <td>53+2</td>\n",
       "      <td>53+2</td>\n",
       "      <td>53+2</td>\n",
       "      <td>47+2</td>\n",
       "      <td>15+2</td>\n",
       "    </tr>\n",
       "    <tr>\n",
       "      <th>29118</th>\n",
       "      <td>S. Ono</td>\n",
       "      <td>CAM</td>\n",
       "      <td>58</td>\n",
       "      <td>58</td>\n",
       "      <td>NaN</td>\n",
       "      <td>800.0</td>\n",
       "      <td>41</td>\n",
       "      <td>1979-09-27</td>\n",
       "      <td>175</td>\n",
       "      <td>76</td>\n",
       "      <td>...</td>\n",
       "      <td>48+2</td>\n",
       "      <td>48+2</td>\n",
       "      <td>48+2</td>\n",
       "      <td>43+2</td>\n",
       "      <td>40+2</td>\n",
       "      <td>43+2</td>\n",
       "      <td>43+2</td>\n",
       "      <td>43+2</td>\n",
       "      <td>40+2</td>\n",
       "      <td>12+2</td>\n",
       "    </tr>\n",
       "    <tr>\n",
       "      <th>262371</th>\n",
       "      <td>C. Dundas</td>\n",
       "      <td>ST</td>\n",
       "      <td>56</td>\n",
       "      <td>56</td>\n",
       "      <td>NaN</td>\n",
       "      <td>1000.0</td>\n",
       "      <td>40</td>\n",
       "      <td>1981-02-16</td>\n",
       "      <td>188</td>\n",
       "      <td>89</td>\n",
       "      <td>...</td>\n",
       "      <td>35+2</td>\n",
       "      <td>35+2</td>\n",
       "      <td>35+2</td>\n",
       "      <td>35+2</td>\n",
       "      <td>34+2</td>\n",
       "      <td>37+2</td>\n",
       "      <td>37+2</td>\n",
       "      <td>37+2</td>\n",
       "      <td>34+2</td>\n",
       "      <td>15+2</td>\n",
       "    </tr>\n",
       "  </tbody>\n",
       "</table>\n",
       "<p>74 rows × 102 columns</p>\n",
       "</div>"
      ],
      "text/plain": [
       "                short_name player_positions  overall  potential  value_eur  \\\n",
       "sofifa_id                                                                    \n",
       "184087     T. Alderweireld               CB       83         83        NaN   \n",
       "197242       G. Krychowiak              CDM       80         80        NaN   \n",
       "187607           A. Dzyuba               ST       78         78        NaN   \n",
       "200094           M. Ozdoev              CDM       77         78        NaN   \n",
       "154950          Y. Zhirkov               LB       76         76        NaN   \n",
       "...                    ...              ...      ...        ...        ...   \n",
       "241475            P. Soiri               LW       61         62        NaN   \n",
       "254704            K. Miura               ST       59         59        NaN   \n",
       "2702            K. Ellison               LM       58         58        NaN   \n",
       "29118               S. Ono              CAM       58         58        NaN   \n",
       "262371           C. Dundas               ST       56         56        NaN   \n",
       "\n",
       "           wage_eur  age         dob  height_cm  weight_kg  ...   ldm   cdm  \\\n",
       "sofifa_id                                                   ...               \n",
       "184087          NaN   32  1989-03-02        186         81  ...  81+2  81+2   \n",
       "197242          NaN   31  1990-01-29        187         84  ...  78+2  78+2   \n",
       "187607          NaN   32  1988-08-22        196         91  ...  54+2  54+2   \n",
       "200094          NaN   28  1992-11-05        184         78  ...  76+2  76+2   \n",
       "154950          NaN   37  1983-08-20        180         75  ...  74+2  74+2   \n",
       "...             ...  ...         ...        ...        ...  ...   ...   ...   \n",
       "241475          NaN   26  1994-09-22        183         63  ...  50+2  50+2   \n",
       "254704        700.0   54  1967-02-26        177         72  ...  37+2  37+2   \n",
       "2702         2000.0   42  1979-02-23        185         76  ...  52+2  52+2   \n",
       "29118         800.0   41  1979-09-27        175         76  ...  48+2  48+2   \n",
       "262371       1000.0   40  1981-02-16        188         89  ...  35+2  35+2   \n",
       "\n",
       "            rdm   rwb    lb   lcb    cb   rcb    rb    gk  \n",
       "sofifa_id                                                  \n",
       "184087     81+2  77+3  78+3  82+1  82+1  82+1  78+3  21+3  \n",
       "197242     78+2  74+3  74+3  77+3  77+3  77+3  74+3  18+3  \n",
       "187607     54+2  53+2  50+2  50+2  50+2  50+2  50+2  18+2  \n",
       "200094     76+2  74+2  73+2  73+2  73+2  73+2  73+2  19+2  \n",
       "154950     74+2  75+1  74+2  72+2  72+2  72+2  74+2  15+2  \n",
       "...         ...   ...   ...   ...   ...   ...   ...   ...  \n",
       "241475     50+2  53+2  52+2  47+2  47+2  47+2  52+2  13+2  \n",
       "254704     37+2  35+2  31+2  32+2  32+2  32+2  31+2  12+2  \n",
       "2702       52+2  49+2  47+2  53+2  53+2  53+2  47+2  15+2  \n",
       "29118      48+2  43+2  40+2  43+2  43+2  43+2  40+2  12+2  \n",
       "262371     35+2  35+2  34+2  37+2  37+2  37+2  34+2  15+2  \n",
       "\n",
       "[74 rows x 102 columns]"
      ]
     },
     "execution_count": 31,
     "metadata": {},
     "output_type": "execute_result"
    }
   ],
   "source": [
    "male_df[male_df.value_eur.isna()]"
   ]
  },
  {
   "cell_type": "code",
   "execution_count": 32,
   "id": "dfa0a7b6",
   "metadata": {},
   "outputs": [],
   "source": [
    "male_df.drop(list(male_df[male_df.value_eur.isna()].index),axis=0,inplace=True)"
   ]
  },
  {
   "cell_type": "code",
   "execution_count": 33,
   "id": "cd61ebc3",
   "metadata": {},
   "outputs": [
    {
     "data": {
      "text/plain": [
       "<AxesSubplot:>"
      ]
     },
     "execution_count": 33,
     "metadata": {},
     "output_type": "execute_result"
    },
    {
     "data": {
      "image/png": "[encoded data removed]",
      "text/plain": [
       "<Figure size 432x288 with 1 Axes>"
      ]
     },
     "metadata": {
      "needs_background": "light"
     },
     "output_type": "display_data"
    }
   ],
   "source": [
    "male_df.value_eur.hist()"
   ]
  },
  {
   "cell_type": "code",
   "execution_count": 34,
   "id": "234d44cb",
   "metadata": {},
   "outputs": [
    {
     "data": {
      "text/plain": [
       "<AxesSubplot:xlabel='value_eur', ylabel='Count'>"
      ]
     },
     "execution_count": 34,
     "metadata": {},
     "output_type": "execute_result"
    },
    {
     "data": {
      "image/png": "[encoded data removed]",
      "text/plain": [
       "<Figure size 432x288 with 1 Axes>"
      ]
     },
     "metadata": {
      "needs_background": "light"
     },
     "output_type": "display_data"
    }
   ],
   "source": [
    "sns.histplot(data=male_df,x='value_eur',bins=50)"
   ]
  },
  {
   "cell_type": "code",
   "execution_count": 35,
   "id": "7acc8302",
   "metadata": {},
   "outputs": [],
   "source": [
    "male_df['log_value_eur'] = np.log(male_df['value_eur'])"
   ]
  },
  {
   "cell_type": "code",
   "execution_count": 36,
   "id": "a5dff0ab",
   "metadata": {},
   "outputs": [
    {
     "data": {
      "text/plain": [
       "<AxesSubplot:xlabel='log_value_eur', ylabel='Count'>"
      ]
     },
     "execution_count": 36,
     "metadata": {},
     "output_type": "execute_result"
    },
    {
     "data": {
      "image/png": "[encoded data removed]",
      "text/plain": [
       "<Figure size 432x288 with 1 Axes>"
      ]
     },
     "metadata": {
      "needs_background": "light"
     },
     "output_type": "display_data"
    }
   ],
   "source": [
    "sns.histplot(data=male_df,x='log_value_eur',bins=50)"
   ]
  },
  {
   "cell_type": "code",
   "execution_count": 37,
   "id": "ca1694c7",
   "metadata": {},
   "outputs": [
    {
     "name": "stdout",
     "output_type": "stream",
     "text": [
      "True\n"
     ]
    }
   ],
   "source": [
    "from scipy.stats import kstest\n",
    "\n",
    "z,p = kstest(male_df.value_eur, 'norm', alternative='less')\n",
    "print(p < 0.05)"
   ]
  },
  {
   "cell_type": "code",
   "execution_count": 38,
   "id": "dcaa9cc9",
   "metadata": {},
   "outputs": [
    {
     "data": {
      "text/plain": [
       "0.25     475000.0\n",
       "0.50     975000.0\n",
       "0.75    2000000.0\n",
       "Name: value_eur, dtype: float64"
      ]
     },
     "execution_count": 38,
     "metadata": {},
     "output_type": "execute_result"
    }
   ],
   "source": [
    "male_df.value_eur.quantile([.25, .5, .75])"
   ]
  },
  {
   "cell_type": "code",
   "execution_count": 39,
   "id": "711c2023",
   "metadata": {},
   "outputs": [],
   "source": [
    "count = 0\n",
    "listofeur = []\n",
    "for i,j in male_df.value_eur.iteritems():\n",
    "    listofeur.append(j)\n",
    "    count += 1\n",
    "    if count == 10:\n",
    "        break\n",
    "     "
   ]
  },
  {
   "cell_type": "code",
   "execution_count": 40,
   "id": "88422af5",
   "metadata": {},
   "outputs": [
    {
     "data": {
      "text/plain": [
       "78000001.0"
      ]
     },
     "execution_count": 40,
     "metadata": {},
     "output_type": "execute_result"
    }
   ],
   "source": [
    "listofeur[0] + 1"
   ]
  },
  {
   "cell_type": "code",
   "execution_count": 41,
   "id": "bf0b9b12",
   "metadata": {},
   "outputs": [
    {
     "data": {
      "text/plain": [
       "sofifa_id\n",
       "231747    194000000.0\n",
       "239085    137500000.0\n",
       "202126    129500000.0\n",
       "190871    129000000.0\n",
       "192985    125500000.0\n",
       "188545    119500000.0\n",
       "230621    119500000.0\n",
       "228702    119500000.0\n",
       "233049    116500000.0\n",
       "231281    114000000.0\n",
       "Name: value_eur, dtype: float64"
      ]
     },
     "execution_count": 41,
     "metadata": {},
     "output_type": "execute_result"
    }
   ],
   "source": [
    "male_df.value_eur.nlargest(10)"
   ]
  },
  {
   "cell_type": "code",
   "execution_count": 42,
   "id": "7273fe19",
   "metadata": {},
   "outputs": [
    {
     "data": {
      "text/plain": [
       "<AxesSubplot:>"
      ]
     },
     "execution_count": 42,
     "metadata": {},
     "output_type": "execute_result"
    },
    {
     "data": {
      "image/png": "[encoded data removed]",
      "text/plain": [
       "<Figure size 432x288 with 1 Axes>"
      ]
     },
     "metadata": {
      "needs_background": "light"
     },
     "output_type": "display_data"
    }
   ],
   "source": [
    "male_df.value_eur.nlargest(10).hist()"
   ]
  },
  {
   "cell_type": "code",
   "execution_count": 43,
   "id": "88682f9e",
   "metadata": {},
   "outputs": [
    {
     "data": {
      "text/plain": [
       "sofifa_id\n",
       "245558     9000.0\n",
       "102881    15000.0\n",
       "166713    15000.0\n",
       "183031    15000.0\n",
       "138431    15000.0\n",
       "149697    15000.0\n",
       "157190    15000.0\n",
       "140300    20000.0\n",
       "186838    20000.0\n",
       "232473    20000.0\n",
       "Name: value_eur, dtype: float64"
      ]
     },
     "execution_count": 43,
     "metadata": {},
     "output_type": "execute_result"
    }
   ],
   "source": [
    "male_df.value_eur.nsmallest(10)"
   ]
  },
  {
   "cell_type": "code",
   "execution_count": 44,
   "id": "6d1b8bce",
   "metadata": {},
   "outputs": [
    {
     "data": {
      "text/plain": [
       "<AxesSubplot:>"
      ]
     },
     "execution_count": 44,
     "metadata": {},
     "output_type": "execute_result"
    },
    {
     "data": {
      "image/png": "[encoded data removed]",
      "text/plain": [
       "<Figure size 432x288 with 1 Axes>"
      ]
     },
     "metadata": {
      "needs_background": "light"
     },
     "output_type": "display_data"
    }
   ],
   "source": [
    "male_df.value_eur.nsmallest(10).hist()"
   ]
  },
  {
   "cell_type": "code",
   "execution_count": 45,
   "id": "b44de676",
   "metadata": {},
   "outputs": [],
   "source": [
    "# comment on column 6\n",
    "# similiar to value_eur: has an adequate format (float64) but seems to be highly skewed\n",
    "# should be procesed later on the preprocessing step?"
   ]
  },
  {
   "cell_type": "code",
   "execution_count": 46,
   "id": "be21d6bd",
   "metadata": {},
   "outputs": [
    {
     "data": {
      "text/plain": [
       "dtype('float64')"
      ]
     },
     "execution_count": 46,
     "metadata": {},
     "output_type": "execute_result"
    }
   ],
   "source": [
    "male_df.wage_eur.dtype"
   ]
  },
  {
   "cell_type": "code",
   "execution_count": 47,
   "id": "d646e664",
   "metadata": {},
   "outputs": [
    {
     "data": {
      "text/plain": [
       "133"
      ]
     },
     "execution_count": 47,
     "metadata": {},
     "output_type": "execute_result"
    }
   ],
   "source": [
    "len(male_df.wage_eur.unique())"
   ]
  },
  {
   "cell_type": "code",
   "execution_count": 48,
   "id": "b7510ed5",
   "metadata": {},
   "outputs": [
    {
     "data": {
      "text/plain": [
       "0"
      ]
     },
     "execution_count": 48,
     "metadata": {},
     "output_type": "execute_result"
    }
   ],
   "source": [
    "male_df.wage_eur.isna().sum()"
   ]
  },
  {
   "cell_type": "code",
   "execution_count": 49,
   "id": "379ca486",
   "metadata": {},
   "outputs": [
    {
     "data": {
      "text/plain": [
       "<AxesSubplot:>"
      ]
     },
     "execution_count": 49,
     "metadata": {},
     "output_type": "execute_result"
    },
    {
     "data": {
      "image/png": "[encoded data removed]",
      "text/plain": [
       "<Figure size 432x288 with 1 Axes>"
      ]
     },
     "metadata": {
      "needs_background": "light"
     },
     "output_type": "display_data"
    }
   ],
   "source": [
    "male_df.wage_eur.hist()"
   ]
  },
  {
   "cell_type": "code",
   "execution_count": 50,
   "id": "8a19b739",
   "metadata": {},
   "outputs": [
    {
     "data": {
      "text/plain": [
       "<AxesSubplot:xlabel='wage_eur', ylabel='Count'>"
      ]
     },
     "execution_count": 50,
     "metadata": {},
     "output_type": "execute_result"
    },
    {
     "data": {
      "image/png": "[encoded data removed]",
      "text/plain": [
       "<Figure size 432x288 with 1 Axes>"
      ]
     },
     "metadata": {
      "needs_background": "light"
     },
     "output_type": "display_data"
    }
   ],
   "source": [
    "sns.histplot(data=male_df,x='wage_eur',bins=50)"
   ]
  },
  {
   "cell_type": "code",
   "execution_count": 51,
   "id": "34c50362",
   "metadata": {},
   "outputs": [],
   "source": [
    "male_df['log_wage_eur'] = np.log(male_df.wage_eur)"
   ]
  },
  {
   "cell_type": "code",
   "execution_count": 52,
   "id": "65e4a082",
   "metadata": {},
   "outputs": [
    {
     "data": {
      "text/plain": [
       "<AxesSubplot:xlabel='log_wage_eur', ylabel='Count'>"
      ]
     },
     "execution_count": 52,
     "metadata": {},
     "output_type": "execute_result"
    },
    {
     "data": {
      "image/png": "[encoded data removed]",
      "text/plain": [
       "<Figure size 432x288 with 1 Axes>"
      ]
     },
     "metadata": {
      "needs_background": "light"
     },
     "output_type": "display_data"
    }
   ],
   "source": [
    "sns.histplot(data=male_df,x='log_wage_eur',bins=50)"
   ]
  },
  {
   "cell_type": "code",
   "execution_count": 53,
   "id": "37b1ae33",
   "metadata": {},
   "outputs": [
    {
     "name": "stdout",
     "output_type": "stream",
     "text": [
      "True\n"
     ]
    }
   ],
   "source": [
    "z,p = kstest(male_df.wage_eur, 'norm', alternative='two-sided')\n",
    "print(p < 0.05)"
   ]
  },
  {
   "cell_type": "code",
   "execution_count": 54,
   "id": "74fb9123",
   "metadata": {},
   "outputs": [
    {
     "data": {
      "text/plain": [
       "(1.0, 0.0)"
      ]
     },
     "execution_count": 54,
     "metadata": {},
     "output_type": "execute_result"
    }
   ],
   "source": [
    "z, p"
   ]
  },
  {
   "cell_type": "code",
   "execution_count": 55,
   "id": "8fa6ea4b",
   "metadata": {},
   "outputs": [],
   "source": [
    "# comments on column 7\n",
    "# adequate format, some outliers detected may be a good idea to drop them if we are gonna\n",
    "# use column age for some regression"
   ]
  },
  {
   "cell_type": "code",
   "execution_count": 56,
   "id": "d672c7bf",
   "metadata": {},
   "outputs": [
    {
     "data": {
      "text/plain": [
       "dtype('int64')"
      ]
     },
     "execution_count": 56,
     "metadata": {},
     "output_type": "execute_result"
    }
   ],
   "source": [
    "male_df.age.dtype"
   ]
  },
  {
   "cell_type": "code",
   "execution_count": 57,
   "id": "7346fb13",
   "metadata": {},
   "outputs": [
    {
     "data": {
      "text/plain": [
       "28"
      ]
     },
     "execution_count": 57,
     "metadata": {},
     "output_type": "execute_result"
    }
   ],
   "source": [
    "len(male_df.age.unique())"
   ]
  },
  {
   "cell_type": "code",
   "execution_count": 58,
   "id": "efb4b3cd",
   "metadata": {},
   "outputs": [
    {
     "data": {
      "text/plain": [
       "<AxesSubplot:xlabel='age'>"
      ]
     },
     "execution_count": 58,
     "metadata": {},
     "output_type": "execute_result"
    },
    {
     "data": {
      "image/png": "[encoded data removed]",
      "text/plain": [
       "<Figure size 432x288 with 1 Axes>"
      ]
     },
     "metadata": {
      "needs_background": "light"
     },
     "output_type": "display_data"
    }
   ],
   "source": [
    "sns.boxplot(x = male_df.age)\n"
   ]
  },
  {
   "cell_type": "code",
   "execution_count": 59,
   "id": "a4c0b0c9",
   "metadata": {},
   "outputs": [],
   "source": [
    "# modified column 8\n",
    "# modification: changed the type to datetime"
   ]
  },
  {
   "cell_type": "code",
   "execution_count": 60,
   "id": "8ec20307",
   "metadata": {},
   "outputs": [
    {
     "data": {
      "text/plain": [
       "dtype('O')"
      ]
     },
     "execution_count": 60,
     "metadata": {},
     "output_type": "execute_result"
    }
   ],
   "source": [
    "male_df.dob.dtypes"
   ]
  },
  {
   "cell_type": "code",
   "execution_count": 61,
   "id": "ff705c0c",
   "metadata": {},
   "outputs": [
    {
     "data": {
      "text/plain": [
       "sofifa_id\n",
       "158023    1987-06-24\n",
       "188545    1988-08-21\n",
       "20801     1985-02-05\n",
       "190871    1992-02-05\n",
       "192985    1991-06-28\n",
       "Name: dob, dtype: object"
      ]
     },
     "execution_count": 61,
     "metadata": {},
     "output_type": "execute_result"
    }
   ],
   "source": [
    "male_df.dob.head()"
   ]
  },
  {
   "cell_type": "code",
   "execution_count": 62,
   "id": "39036004",
   "metadata": {},
   "outputs": [],
   "source": [
    "male_df.dob =  pd.to_datetime(male_df.dob.apply(lambda x: str(x)))"
   ]
  },
  {
   "cell_type": "code",
   "execution_count": 63,
   "id": "e6f15604",
   "metadata": {},
   "outputs": [
    {
     "data": {
      "text/plain": [
       "dtype('<M8[ns]')"
      ]
     },
     "execution_count": 63,
     "metadata": {},
     "output_type": "execute_result"
    }
   ],
   "source": [
    "male_df.dob.dtypes"
   ]
  },
  {
   "cell_type": "code",
   "execution_count": 64,
   "id": "293eb233",
   "metadata": {},
   "outputs": [],
   "source": [
    "# column 9\n",
    "# height cm has the adequate format but and looks like a normal distribution but\n",
    "# does not compute the kstest properly...?"
   ]
  },
  {
   "cell_type": "code",
   "execution_count": 65,
   "id": "d85356d4",
   "metadata": {},
   "outputs": [
    {
     "data": {
      "text/plain": [
       "49"
      ]
     },
     "execution_count": 65,
     "metadata": {},
     "output_type": "execute_result"
    }
   ],
   "source": [
    "len(male_df.height_cm.unique())"
   ]
  },
  {
   "cell_type": "code",
   "execution_count": 66,
   "id": "fcbd5cd9",
   "metadata": {},
   "outputs": [
    {
     "data": {
      "text/plain": [
       "<AxesSubplot:>"
      ]
     },
     "execution_count": 66,
     "metadata": {},
     "output_type": "execute_result"
    },
    {
     "data": {
      "image/png": "[encoded data removed]",
      "text/plain": [
       "<Figure size 432x288 with 1 Axes>"
      ]
     },
     "metadata": {
      "needs_background": "light"
     },
     "output_type": "display_data"
    }
   ],
   "source": [
    "male_df.height_cm.hist(bins=50)"
   ]
  },
  {
   "cell_type": "code",
   "execution_count": 67,
   "id": "c827be20",
   "metadata": {},
   "outputs": [],
   "source": [
    "from scipy.stats import norm"
   ]
  },
  {
   "cell_type": "code",
   "execution_count": 68,
   "id": "e702a2b5",
   "metadata": {},
   "outputs": [
    {
     "data": {
      "text/plain": [
       "sofifa_id\n",
       "158023    170\n",
       "188545    185\n",
       "20801     187\n",
       "190871    175\n",
       "192985    181\n",
       "         ... \n",
       "261962    180\n",
       "262040    175\n",
       "262760    178\n",
       "262820    173\n",
       "264540    167\n",
       "Name: height_cm, Length: 19165, dtype: int64"
      ]
     },
     "execution_count": 68,
     "metadata": {},
     "output_type": "execute_result"
    }
   ],
   "source": [
    "male_df.height_cm"
   ]
  },
  {
   "cell_type": "code",
   "execution_count": 69,
   "id": "fbe5ce5c",
   "metadata": {},
   "outputs": [],
   "source": [
    "loc, scale = norm.fit(male_df.height_cm)\n",
    "# create a normal distribution with loc and scale\n",
    "n = norm(loc=loc, scale=scale)"
   ]
  },
  {
   "cell_type": "code",
   "execution_count": 70,
   "id": "0b89990a",
   "metadata": {},
   "outputs": [
    {
     "name": "stdout",
     "output_type": "stream",
     "text": [
      "True\n"
     ]
    }
   ],
   "source": [
    "z,p = kstest(male_df.height_cm, n.cdf, alternative='two-sided')\n",
    "print(p < 0.05)"
   ]
  },
  {
   "cell_type": "code",
   "execution_count": 71,
   "id": "d0a11837",
   "metadata": {},
   "outputs": [
    {
     "name": "stdout",
     "output_type": "stream",
     "text": [
      "True\n"
     ]
    }
   ],
   "source": [
    "z,p = kstest(male_df.height_cm, 'norm', alternative='two-sided')\n",
    "print(p < 0.05)"
   ]
  },
  {
   "cell_type": "code",
   "execution_count": 72,
   "id": "2d6d5850",
   "metadata": {},
   "outputs": [],
   "source": [
    "from scipy.stats import shapiro"
   ]
  },
  {
   "cell_type": "code",
   "execution_count": 73,
   "id": "5e400391",
   "metadata": {},
   "outputs": [
    {
     "name": "stderr",
     "output_type": "stream",
     "text": [
      "/usr/local/lib/python3.9/site-packages/scipy/stats/morestats.py:1760: UserWarning: p-value may not be accurate for N > 5000.\n",
      "  warnings.warn(\"p-value may not be accurate for N > 5000.\")\n"
     ]
    }
   ],
   "source": [
    "z,p = shapiro(male_df.height_cm.values)"
   ]
  },
  {
   "cell_type": "code",
   "execution_count": 74,
   "id": "84dcef4d",
   "metadata": {},
   "outputs": [
    {
     "name": "stdout",
     "output_type": "stream",
     "text": [
      "0.9959070682525635 1.5190657738443894e-22\n"
     ]
    }
   ],
   "source": [
    "print(z,p)"
   ]
  },
  {
   "cell_type": "code",
   "execution_count": 75,
   "id": "a5fb12ae",
   "metadata": {},
   "outputs": [
    {
     "data": {
      "text/plain": [
       "0"
      ]
     },
     "execution_count": 75,
     "metadata": {},
     "output_type": "execute_result"
    }
   ],
   "source": [
    "male_df.height_cm.isna().sum()"
   ]
  },
  {
   "cell_type": "code",
   "execution_count": 76,
   "id": "8113e203",
   "metadata": {},
   "outputs": [],
   "source": [
    "# column 10\n",
    "# similar to height cm: has the adequate format but and looks like a normal distribution but\n",
    "# does not compute the kstest properly...?"
   ]
  },
  {
   "cell_type": "code",
   "execution_count": 77,
   "id": "5ecb1f13",
   "metadata": {},
   "outputs": [
    {
     "data": {
      "text/plain": [
       "58"
      ]
     },
     "execution_count": 77,
     "metadata": {},
     "output_type": "execute_result"
    }
   ],
   "source": [
    "len(male_df.weight_kg.unique())"
   ]
  },
  {
   "cell_type": "code",
   "execution_count": 78,
   "id": "f6743464",
   "metadata": {},
   "outputs": [
    {
     "data": {
      "text/plain": [
       "dtype('int64')"
      ]
     },
     "execution_count": 78,
     "metadata": {},
     "output_type": "execute_result"
    }
   ],
   "source": [
    "male_df.weight_kg.dtype"
   ]
  },
  {
   "cell_type": "code",
   "execution_count": 79,
   "id": "d43b3013",
   "metadata": {},
   "outputs": [
    {
     "data": {
      "text/plain": [
       "<AxesSubplot:>"
      ]
     },
     "execution_count": 79,
     "metadata": {},
     "output_type": "execute_result"
    },
    {
     "data": {
      "image/png": "[encoded data removed]",
      "text/plain": [
       "<Figure size 432x288 with 1 Axes>"
      ]
     },
     "metadata": {
      "needs_background": "light"
     },
     "output_type": "display_data"
    }
   ],
   "source": [
    "male_df.weight_kg.hist(bins=50)"
   ]
  },
  {
   "cell_type": "code",
   "execution_count": 80,
   "id": "c8b4f3a1",
   "metadata": {},
   "outputs": [
    {
     "name": "stdout",
     "output_type": "stream",
     "text": [
      "True\n"
     ]
    }
   ],
   "source": [
    "z,p = kstest(male_df.weight_kg, cdf='norm' ,alternative='two-sided')\n",
    "print(p < 0.05)"
   ]
  },
  {
   "cell_type": "code",
   "execution_count": 81,
   "id": "c85e3b36",
   "metadata": {},
   "outputs": [
    {
     "data": {
      "text/plain": [
       "(1.0, 0.0)"
      ]
     },
     "execution_count": 81,
     "metadata": {},
     "output_type": "execute_result"
    }
   ],
   "source": [
    "z, p"
   ]
  },
  {
   "cell_type": "code",
   "execution_count": 82,
   "id": "8074648d",
   "metadata": {},
   "outputs": [
    {
     "data": {
      "text/plain": [
       "Index(['short_name', 'player_positions', 'overall', 'potential', 'value_eur',\n",
       "       'wage_eur', 'age', 'dob', 'height_cm', 'weight_kg', 'club_team_id',\n",
       "       'club_name', 'league_name', 'league_level', 'club_position',\n",
       "       'club_jersey_number', 'club_loaned_from', 'club_joined',\n",
       "       'club_contract_valid_until', 'nationality_id', 'nationality_name',\n",
       "       'nation_team_id', 'nation_position', 'nation_jersey_number',\n",
       "       'preferred_foot'],\n",
       "      dtype='object')"
      ]
     },
     "execution_count": 82,
     "metadata": {},
     "output_type": "execute_result"
    }
   ],
   "source": [
    "male_df.iloc[:,:25].columns"
   ]
  },
  {
   "cell_type": "code",
   "execution_count": 83,
   "id": "08d93e03",
   "metadata": {},
   "outputs": [],
   "source": [
    "# column 11 drop club_team_id\n",
    "# Keep it as it is\n",
    "# we can regress if a club is going to change division"
   ]
  },
  {
   "cell_type": "code",
   "execution_count": 84,
   "id": "abe75043",
   "metadata": {},
   "outputs": [],
   "source": [
    "# male_df.drop('club_team_id',axis=1,inplace=True)"
   ]
  },
  {
   "cell_type": "code",
   "execution_count": 85,
   "id": "c9df5f5a",
   "metadata": {},
   "outputs": [],
   "source": [
    "# column 12 club name\n",
    "# keep it as it is: can be used in groupbys"
   ]
  },
  {
   "cell_type": "code",
   "execution_count": 86,
   "id": "bda0dfef",
   "metadata": {},
   "outputs": [
    {
     "data": {
      "text/plain": [
       "701"
      ]
     },
     "execution_count": 86,
     "metadata": {},
     "output_type": "execute_result"
    }
   ],
   "source": [
    "len(male_df.club_name.unique())"
   ]
  },
  {
   "cell_type": "code",
   "execution_count": 87,
   "id": "13adbbcc",
   "metadata": {},
   "outputs": [
    {
     "data": {
      "text/plain": [
       "0"
      ]
     },
     "execution_count": 87,
     "metadata": {},
     "output_type": "execute_result"
    }
   ],
   "source": [
    "male_df.club_name.isna().sum()"
   ]
  },
  {
   "cell_type": "code",
   "execution_count": 88,
   "id": "0532c32c",
   "metadata": {},
   "outputs": [],
   "source": [
    "# column 13 league name\n",
    "# keep it as it is"
   ]
  },
  {
   "cell_type": "code",
   "execution_count": 89,
   "id": "ff832f09",
   "metadata": {},
   "outputs": [
    {
     "data": {
      "text/plain": [
       "sofifa_id\n",
       "158023                    French Ligue 1\n",
       "188545              German 1. Bundesliga\n",
       "20801             English Premier League\n",
       "190871                    French Ligue 1\n",
       "192985            English Premier League\n",
       "                       ...              \n",
       "261962              Chinese Super League\n",
       "262040    Rep. Ireland Airtricity League\n",
       "262760    Rep. Ireland Airtricity League\n",
       "262820    Rep. Ireland Airtricity League\n",
       "264540               Indian Super League\n",
       "Name: league_name, Length: 19165, dtype: object"
      ]
     },
     "execution_count": 89,
     "metadata": {},
     "output_type": "execute_result"
    }
   ],
   "source": [
    "male_df.league_name"
   ]
  },
  {
   "cell_type": "code",
   "execution_count": 90,
   "id": "cc9802c3",
   "metadata": {},
   "outputs": [
    {
     "data": {
      "text/plain": [
       "55"
      ]
     },
     "execution_count": 90,
     "metadata": {},
     "output_type": "execute_result"
    }
   ],
   "source": [
    "len(male_df.league_name.unique())"
   ]
  },
  {
   "cell_type": "code",
   "execution_count": 91,
   "id": "d80e979a",
   "metadata": {},
   "outputs": [],
   "source": [
    "# male_df.drop('league_name',axis=1,inplace=True)"
   ]
  },
  {
   "cell_type": "code",
   "execution_count": 92,
   "id": "478d2295",
   "metadata": {},
   "outputs": [],
   "source": [
    "# column 14 league level\n",
    "# keep it as it is"
   ]
  },
  {
   "cell_type": "code",
   "execution_count": 93,
   "id": "09ace1f3",
   "metadata": {},
   "outputs": [
    {
     "data": {
      "text/plain": [
       "5"
      ]
     },
     "execution_count": 93,
     "metadata": {},
     "output_type": "execute_result"
    }
   ],
   "source": [
    "len(male_df.league_level.unique())"
   ]
  },
  {
   "cell_type": "code",
   "execution_count": 94,
   "id": "ff8c88b3",
   "metadata": {},
   "outputs": [
    {
     "data": {
      "text/plain": [
       "array([1., 2., 3., 4., 5.])"
      ]
     },
     "execution_count": 94,
     "metadata": {},
     "output_type": "execute_result"
    }
   ],
   "source": [
    "male_df.league_level.unique()"
   ]
  },
  {
   "cell_type": "code",
   "execution_count": 95,
   "id": "a0fffe2c",
   "metadata": {},
   "outputs": [
    {
     "data": {
      "text/plain": [
       "dtype('float64')"
      ]
     },
     "execution_count": 95,
     "metadata": {},
     "output_type": "execute_result"
    }
   ],
   "source": [
    "male_df.league_level.dtypes"
   ]
  },
  {
   "cell_type": "code",
   "execution_count": 96,
   "id": "86d568bc",
   "metadata": {},
   "outputs": [],
   "source": [
    "# from sklearn.preprocessing import OrdinalEncoder"
   ]
  },
  {
   "cell_type": "code",
   "execution_count": 97,
   "id": "124decfd",
   "metadata": {},
   "outputs": [],
   "source": [
    "# enc = OrdinalEncoder(categories=[[1.,2.,3.,4.,5.]])"
   ]
  },
  {
   "cell_type": "code",
   "execution_count": 98,
   "id": "d06b64d9",
   "metadata": {},
   "outputs": [],
   "source": [
    "# enc.fit_transform(male_df.league_level.values.reshape(-1,1))"
   ]
  },
  {
   "cell_type": "code",
   "execution_count": 99,
   "id": "03568ecf",
   "metadata": {},
   "outputs": [],
   "source": [
    "# male_df.league_level = enc.fit_transform(male_df.league_level.values.reshape(-1,1))"
   ]
  },
  {
   "cell_type": "code",
   "execution_count": 100,
   "id": "cfb79a10",
   "metadata": {},
   "outputs": [],
   "source": [
    "# male_df.league_level"
   ]
  },
  {
   "cell_type": "code",
   "execution_count": 101,
   "id": "28ebbcba",
   "metadata": {},
   "outputs": [],
   "source": [
    "# column 15\n",
    "# this column can overwrite column \"player_positions\"\n",
    "# 100% coincide between this column and the first position of player_positions\n",
    "# we aggregate positions so only 9 remain to make it more machine-learning like"
   ]
  },
  {
   "cell_type": "code",
   "execution_count": 102,
   "id": "0c733a93",
   "metadata": {},
   "outputs": [
    {
     "data": {
      "text/plain": [
       "29"
      ]
     },
     "execution_count": 102,
     "metadata": {},
     "output_type": "execute_result"
    }
   ],
   "source": [
    "\n",
    "len(male_df.club_position.unique())"
   ]
  },
  {
   "cell_type": "code",
   "execution_count": 103,
   "id": "96d1b6f8",
   "metadata": {},
   "outputs": [
    {
     "data": {
      "text/plain": [
       "array(['RW', 'ST', 'LW', 'RCM', 'GK', 'CF', 'CDM', 'LCB', 'RDM', 'RS',\n",
       "       'LCM', 'SUB', 'CAM', 'RCB', 'LDM', 'LB', 'RB', 'LM', 'RM', 'LS',\n",
       "       'CB', 'RES', 'RWB', 'RF', 'CM', 'LWB', 'LAM', 'LF', 'RAM'],\n",
       "      dtype=object)"
      ]
     },
     "execution_count": 103,
     "metadata": {},
     "output_type": "execute_result"
    }
   ],
   "source": [
    "male_df.club_position.unique()"
   ]
  },
  {
   "cell_type": "code",
   "execution_count": 104,
   "id": "0b215f86",
   "metadata": {},
   "outputs": [],
   "source": [
    "def position_agg(pos):\n",
    "    if pos in ['CF','LF','RF','ST','LS','RS']:\n",
    "        return 'F'\n",
    "    elif pos in ['LM','RM','CAM','CM','RCM','LCM','LAM','RAM','CDM','LDM','RDM','LW','RW']:\n",
    "        return 'M'\n",
    "    elif pos in ['LB','LWB','CB','RWB','RB','LCB','RCB']:\n",
    "        return 'D'\n",
    "    else:\n",
    "        return pos  "
   ]
  },
  {
   "cell_type": "code",
   "execution_count": 105,
   "id": "6987eb4e",
   "metadata": {},
   "outputs": [],
   "source": [
    "male_df.club_position = male_df.club_position.apply(lambda x: position_agg(x))"
   ]
  },
  {
   "cell_type": "code",
   "execution_count": 106,
   "id": "86b714d0",
   "metadata": {},
   "outputs": [
    {
     "data": {
      "text/plain": [
       "array(['M', 'F', 'GK', 'D', 'SUB', 'RES'], dtype=object)"
      ]
     },
     "execution_count": 106,
     "metadata": {},
     "output_type": "execute_result"
    }
   ],
   "source": [
    "male_df.club_position.unique()"
   ]
  },
  {
   "cell_type": "code",
   "execution_count": 107,
   "id": "7502b33a",
   "metadata": {},
   "outputs": [
    {
     "data": {
      "text/plain": [
       "SUB    8294\n",
       "RES    3165\n",
       "M      3160\n",
       "D      2848\n",
       "F       997\n",
       "GK      701\n",
       "Name: club_position, dtype: int64"
      ]
     },
     "execution_count": 107,
     "metadata": {},
     "output_type": "execute_result"
    }
   ],
   "source": [
    "male_df.club_position.value_counts()"
   ]
  },
  {
   "cell_type": "code",
   "execution_count": 108,
   "id": "2b5aae50",
   "metadata": {},
   "outputs": [],
   "source": [
    "# column 16\n",
    "# drop it , 100% unnecesary"
   ]
  },
  {
   "cell_type": "code",
   "execution_count": 109,
   "id": "60c1e2be",
   "metadata": {},
   "outputs": [
    {
     "data": {
      "text/plain": [
       "sofifa_id\n",
       "158023    30.0\n",
       "188545     9.0\n",
       "20801      7.0\n",
       "190871    10.0\n",
       "192985    17.0\n",
       "          ... \n",
       "261962    36.0\n",
       "262040    27.0\n",
       "262760    31.0\n",
       "262820    12.0\n",
       "264540    13.0\n",
       "Name: club_jersey_number, Length: 19165, dtype: float64"
      ]
     },
     "execution_count": 109,
     "metadata": {},
     "output_type": "execute_result"
    }
   ],
   "source": [
    "male_df.club_jersey_number"
   ]
  },
  {
   "cell_type": "code",
   "execution_count": 110,
   "id": "537a9800",
   "metadata": {},
   "outputs": [],
   "source": [
    "male_df.drop('club_jersey_number',axis=1,inplace=True)"
   ]
  },
  {
   "cell_type": "code",
   "execution_count": 111,
   "id": "941fe40e",
   "metadata": {},
   "outputs": [],
   "source": [
    "# column 17\n",
    "# column can be dicotomized (loaned or not loaned)"
   ]
  },
  {
   "cell_type": "code",
   "execution_count": 112,
   "id": "a1998e28",
   "metadata": {},
   "outputs": [
    {
     "data": {
      "text/plain": [
       "sofifa_id\n",
       "158023    NaN\n",
       "188545    NaN\n",
       "20801     NaN\n",
       "190871    NaN\n",
       "192985    NaN\n",
       "         ... \n",
       "261962    NaN\n",
       "262040    NaN\n",
       "262760    NaN\n",
       "262820    NaN\n",
       "264540    NaN\n",
       "Name: club_loaned_from, Length: 19165, dtype: object"
      ]
     },
     "execution_count": 112,
     "metadata": {},
     "output_type": "execute_result"
    }
   ],
   "source": [
    "male_df.club_loaned_from"
   ]
  },
  {
   "cell_type": "code",
   "execution_count": 113,
   "id": "e26b5c9e",
   "metadata": {},
   "outputs": [
    {
     "data": {
      "text/plain": [
       "18063"
      ]
     },
     "execution_count": 113,
     "metadata": {},
     "output_type": "execute_result"
    }
   ],
   "source": [
    "male_df.club_loaned_from.isna().sum()"
   ]
  },
  {
   "cell_type": "code",
   "execution_count": 114,
   "id": "7d09ac2d",
   "metadata": {},
   "outputs": [
    {
     "data": {
      "text/plain": [
       "0.9424993477693713"
      ]
     },
     "execution_count": 114,
     "metadata": {},
     "output_type": "execute_result"
    }
   ],
   "source": [
    "male_df.club_loaned_from.isna().sum() / len(male_df.club_loaned_from) "
   ]
  },
  {
   "cell_type": "code",
   "execution_count": 115,
   "id": "bd26ccb2",
   "metadata": {},
   "outputs": [
    {
     "data": {
      "text/plain": [
       "sofifa_id\n",
       "158023    0\n",
       "188545    0\n",
       "20801     0\n",
       "190871    0\n",
       "192985    0\n",
       "         ..\n",
       "261962    0\n",
       "262040    0\n",
       "262760    0\n",
       "262820    0\n",
       "264540    0\n",
       "Name: club_loaned_from, Length: 19165, dtype: int64"
      ]
     },
     "execution_count": 115,
     "metadata": {},
     "output_type": "execute_result"
    }
   ],
   "source": [
    "male_df.club_loaned_from.apply(lambda x: 0 if isinstance(x,float) else 1)"
   ]
  },
  {
   "cell_type": "code",
   "execution_count": 116,
   "id": "0fbe7fbd",
   "metadata": {},
   "outputs": [],
   "source": [
    "male_df.club_loaned_from = male_df.club_loaned_from.apply(lambda x: 0 if isinstance(x,float) else 1)"
   ]
  },
  {
   "cell_type": "code",
   "execution_count": 117,
   "id": "f16db9a4",
   "metadata": {},
   "outputs": [],
   "source": [
    "# column 18\n",
    "# changed to datetime but unsure if we will use it"
   ]
  },
  {
   "cell_type": "code",
   "execution_count": 118,
   "id": "4dc1b299",
   "metadata": {},
   "outputs": [
    {
     "data": {
      "text/plain": [
       "dtype('O')"
      ]
     },
     "execution_count": 118,
     "metadata": {},
     "output_type": "execute_result"
    }
   ],
   "source": [
    "male_df.club_joined.dtypes"
   ]
  },
  {
   "cell_type": "code",
   "execution_count": 119,
   "id": "5fbe92c7",
   "metadata": {},
   "outputs": [],
   "source": [
    "male_df.club_joined = pd.to_datetime(male_df.club_joined.apply(lambda x: str(x)))"
   ]
  },
  {
   "cell_type": "code",
   "execution_count": 120,
   "id": "e56ae70e",
   "metadata": {},
   "outputs": [
    {
     "data": {
      "text/plain": [
       "dtype('<M8[ns]')"
      ]
     },
     "execution_count": 120,
     "metadata": {},
     "output_type": "execute_result"
    }
   ],
   "source": [
    "male_df.club_joined.dtypes"
   ]
  },
  {
   "cell_type": "code",
   "execution_count": 121,
   "id": "b69d91f0",
   "metadata": {},
   "outputs": [],
   "source": [
    "# column 19\n",
    "# i don't think we will use this column, in my opinion we should drop it"
   ]
  },
  {
   "cell_type": "code",
   "execution_count": 122,
   "id": "51838430",
   "metadata": {},
   "outputs": [
    {
     "data": {
      "text/plain": [
       "sofifa_id\n",
       "158023    2023.0\n",
       "188545    2023.0\n",
       "20801     2023.0\n",
       "190871    2025.0\n",
       "192985    2025.0\n",
       "           ...  \n",
       "261962    2021.0\n",
       "262040    2021.0\n",
       "262760    2021.0\n",
       "262820    2021.0\n",
       "264540    2025.0\n",
       "Name: club_contract_valid_until, Length: 19165, dtype: float64"
      ]
     },
     "execution_count": 122,
     "metadata": {},
     "output_type": "execute_result"
    }
   ],
   "source": [
    "male_df.club_contract_valid_until"
   ]
  },
  {
   "cell_type": "code",
   "execution_count": 123,
   "id": "6dae8cc0",
   "metadata": {},
   "outputs": [],
   "source": [
    "male_df.drop('club_contract_valid_until',axis=1,inplace=True)"
   ]
  },
  {
   "cell_type": "code",
   "execution_count": 124,
   "id": "cfb3d0ae",
   "metadata": {},
   "outputs": [],
   "source": [
    "# column 20 and 21\n",
    "# we will drop it and keep nationality_name (column 21)"
   ]
  },
  {
   "cell_type": "code",
   "execution_count": 125,
   "id": "67a957e4",
   "metadata": {},
   "outputs": [],
   "source": [
    "male_df.drop('nationality_id',axis=1,inplace=True)"
   ]
  },
  {
   "cell_type": "code",
   "execution_count": 126,
   "id": "8b22e5ce",
   "metadata": {},
   "outputs": [],
   "source": [
    "# column 22\n",
    "# nationality_team_id we will keep it in case we want to gather with groupby\n",
    "# there are many NaN in this column, but it makes sense since not all players play with national teams"
   ]
  },
  {
   "cell_type": "code",
   "execution_count": 127,
   "id": "b8631ce1",
   "metadata": {},
   "outputs": [
    {
     "data": {
      "text/plain": [
       "34"
      ]
     },
     "execution_count": 127,
     "metadata": {},
     "output_type": "execute_result"
    }
   ],
   "source": [
    "len(male_df.nation_team_id.unique())"
   ]
  },
  {
   "cell_type": "code",
   "execution_count": 128,
   "id": "5809e4d1",
   "metadata": {},
   "outputs": [
    {
     "data": {
      "text/plain": [
       "18467"
      ]
     },
     "execution_count": 128,
     "metadata": {},
     "output_type": "execute_result"
    }
   ],
   "source": [
    "male_df.nation_team_id.isna().sum()"
   ]
  },
  {
   "cell_type": "code",
   "execution_count": 129,
   "id": "be20e227",
   "metadata": {},
   "outputs": [],
   "source": [
    "# column 23\n",
    "# 'nation_position' is similar to other columns player and national_position, maybe we can\n",
    "# drop it..\n",
    "# we use again the position_aggregate function"
   ]
  },
  {
   "cell_type": "code",
   "execution_count": 130,
   "id": "89c4ea93",
   "metadata": {},
   "outputs": [],
   "source": [
    "nation_club_position = male_df.nation_position == male_df.club_position"
   ]
  },
  {
   "cell_type": "code",
   "execution_count": 131,
   "id": "abfd7c34",
   "metadata": {},
   "outputs": [
    {
     "data": {
      "text/html": [
       "<div>\n",
       "<style scoped>\n",
       "    .dataframe tbody tr th:only-of-type {\n",
       "        vertical-align: middle;\n",
       "    }\n",
       "\n",
       "    .dataframe tbody tr th {\n",
       "        vertical-align: top;\n",
       "    }\n",
       "\n",
       "    .dataframe thead th {\n",
       "        text-align: right;\n",
       "    }\n",
       "</style>\n",
       "<table border=\"1\" class=\"dataframe\">\n",
       "  <thead>\n",
       "    <tr style=\"text-align: right;\">\n",
       "      <th></th>\n",
       "      <th>short_name</th>\n",
       "      <th>player_positions</th>\n",
       "      <th>overall</th>\n",
       "      <th>potential</th>\n",
       "      <th>value_eur</th>\n",
       "      <th>wage_eur</th>\n",
       "      <th>age</th>\n",
       "      <th>dob</th>\n",
       "      <th>height_cm</th>\n",
       "      <th>weight_kg</th>\n",
       "      <th>...</th>\n",
       "      <th>rdm</th>\n",
       "      <th>rwb</th>\n",
       "      <th>lb</th>\n",
       "      <th>lcb</th>\n",
       "      <th>cb</th>\n",
       "      <th>rcb</th>\n",
       "      <th>rb</th>\n",
       "      <th>gk</th>\n",
       "      <th>log_value_eur</th>\n",
       "      <th>log_wage_eur</th>\n",
       "    </tr>\n",
       "    <tr>\n",
       "      <th>sofifa_id</th>\n",
       "      <th></th>\n",
       "      <th></th>\n",
       "      <th></th>\n",
       "      <th></th>\n",
       "      <th></th>\n",
       "      <th></th>\n",
       "      <th></th>\n",
       "      <th></th>\n",
       "      <th></th>\n",
       "      <th></th>\n",
       "      <th></th>\n",
       "      <th></th>\n",
       "      <th></th>\n",
       "      <th></th>\n",
       "      <th></th>\n",
       "      <th></th>\n",
       "      <th></th>\n",
       "      <th></th>\n",
       "      <th></th>\n",
       "      <th></th>\n",
       "      <th></th>\n",
       "    </tr>\n",
       "  </thead>\n",
       "  <tbody>\n",
       "    <tr>\n",
       "      <th>167495</th>\n",
       "      <td>M. Neuer</td>\n",
       "      <td>GK</td>\n",
       "      <td>90</td>\n",
       "      <td>90</td>\n",
       "      <td>13500000.0</td>\n",
       "      <td>86000.0</td>\n",
       "      <td>35</td>\n",
       "      <td>1986-03-27</td>\n",
       "      <td>193</td>\n",
       "      <td>93</td>\n",
       "      <td>...</td>\n",
       "      <td>43+3</td>\n",
       "      <td>37+3</td>\n",
       "      <td>35+3</td>\n",
       "      <td>34+3</td>\n",
       "      <td>34+3</td>\n",
       "      <td>34+3</td>\n",
       "      <td>35+3</td>\n",
       "      <td>88+2</td>\n",
       "      <td>16.418200</td>\n",
       "      <td>11.362103</td>\n",
       "    </tr>\n",
       "    <tr>\n",
       "      <th>192119</th>\n",
       "      <td>T. Courtois</td>\n",
       "      <td>GK</td>\n",
       "      <td>89</td>\n",
       "      <td>91</td>\n",
       "      <td>85500000.0</td>\n",
       "      <td>250000.0</td>\n",
       "      <td>29</td>\n",
       "      <td>1992-05-11</td>\n",
       "      <td>199</td>\n",
       "      <td>96</td>\n",
       "      <td>...</td>\n",
       "      <td>31+3</td>\n",
       "      <td>29+3</td>\n",
       "      <td>29+3</td>\n",
       "      <td>29+3</td>\n",
       "      <td>29+3</td>\n",
       "      <td>29+3</td>\n",
       "      <td>29+3</td>\n",
       "      <td>86+3</td>\n",
       "      <td>18.264027</td>\n",
       "      <td>12.429216</td>\n",
       "    </tr>\n",
       "    <tr>\n",
       "      <th>230621</th>\n",
       "      <td>G. Donnarumma</td>\n",
       "      <td>GK</td>\n",
       "      <td>89</td>\n",
       "      <td>93</td>\n",
       "      <td>119500000.0</td>\n",
       "      <td>110000.0</td>\n",
       "      <td>22</td>\n",
       "      <td>1999-02-25</td>\n",
       "      <td>196</td>\n",
       "      <td>90</td>\n",
       "      <td>...</td>\n",
       "      <td>34+3</td>\n",
       "      <td>31+3</td>\n",
       "      <td>31+3</td>\n",
       "      <td>31+3</td>\n",
       "      <td>31+3</td>\n",
       "      <td>31+3</td>\n",
       "      <td>31+3</td>\n",
       "      <td>87+3</td>\n",
       "      <td>18.598827</td>\n",
       "      <td>11.608236</td>\n",
       "    </tr>\n",
       "    <tr>\n",
       "      <th>167948</th>\n",
       "      <td>H. Lloris</td>\n",
       "      <td>GK</td>\n",
       "      <td>87</td>\n",
       "      <td>87</td>\n",
       "      <td>13500000.0</td>\n",
       "      <td>125000.0</td>\n",
       "      <td>34</td>\n",
       "      <td>1986-12-26</td>\n",
       "      <td>188</td>\n",
       "      <td>82</td>\n",
       "      <td>...</td>\n",
       "      <td>38+3</td>\n",
       "      <td>35+3</td>\n",
       "      <td>34+3</td>\n",
       "      <td>30+3</td>\n",
       "      <td>30+3</td>\n",
       "      <td>30+3</td>\n",
       "      <td>34+3</td>\n",
       "      <td>85+2</td>\n",
       "      <td>16.418200</td>\n",
       "      <td>11.736069</td>\n",
       "    </tr>\n",
       "    <tr>\n",
       "      <th>186153</th>\n",
       "      <td>W. Szczęsny</td>\n",
       "      <td>GK</td>\n",
       "      <td>87</td>\n",
       "      <td>87</td>\n",
       "      <td>42000000.0</td>\n",
       "      <td>105000.0</td>\n",
       "      <td>31</td>\n",
       "      <td>1990-04-18</td>\n",
       "      <td>195</td>\n",
       "      <td>90</td>\n",
       "      <td>...</td>\n",
       "      <td>31+3</td>\n",
       "      <td>28+3</td>\n",
       "      <td>28+3</td>\n",
       "      <td>29+3</td>\n",
       "      <td>29+3</td>\n",
       "      <td>29+3</td>\n",
       "      <td>28+3</td>\n",
       "      <td>85+2</td>\n",
       "      <td>17.553180</td>\n",
       "      <td>11.561716</td>\n",
       "    </tr>\n",
       "    <tr>\n",
       "      <th>...</th>\n",
       "      <td>...</td>\n",
       "      <td>...</td>\n",
       "      <td>...</td>\n",
       "      <td>...</td>\n",
       "      <td>...</td>\n",
       "      <td>...</td>\n",
       "      <td>...</td>\n",
       "      <td>...</td>\n",
       "      <td>...</td>\n",
       "      <td>...</td>\n",
       "      <td>...</td>\n",
       "      <td>...</td>\n",
       "      <td>...</td>\n",
       "      <td>...</td>\n",
       "      <td>...</td>\n",
       "      <td>...</td>\n",
       "      <td>...</td>\n",
       "      <td>...</td>\n",
       "      <td>...</td>\n",
       "      <td>...</td>\n",
       "      <td>...</td>\n",
       "    </tr>\n",
       "    <tr>\n",
       "      <th>238273</th>\n",
       "      <td>J. Marković</td>\n",
       "      <td>ST</td>\n",
       "      <td>64</td>\n",
       "      <td>75</td>\n",
       "      <td>1300000.0</td>\n",
       "      <td>3000.0</td>\n",
       "      <td>20</td>\n",
       "      <td>2001-03-23</td>\n",
       "      <td>183</td>\n",
       "      <td>75</td>\n",
       "      <td>...</td>\n",
       "      <td>49+2</td>\n",
       "      <td>49+2</td>\n",
       "      <td>48+2</td>\n",
       "      <td>48+2</td>\n",
       "      <td>48+2</td>\n",
       "      <td>48+2</td>\n",
       "      <td>48+2</td>\n",
       "      <td>15+2</td>\n",
       "      <td>14.077875</td>\n",
       "      <td>8.006368</td>\n",
       "    </tr>\n",
       "    <tr>\n",
       "      <th>231954</th>\n",
       "      <td>Xu Xin</td>\n",
       "      <td>CDM</td>\n",
       "      <td>63</td>\n",
       "      <td>65</td>\n",
       "      <td>525000.0</td>\n",
       "      <td>4000.0</td>\n",
       "      <td>27</td>\n",
       "      <td>1994-04-19</td>\n",
       "      <td>179</td>\n",
       "      <td>70</td>\n",
       "      <td>...</td>\n",
       "      <td>62+2</td>\n",
       "      <td>60+2</td>\n",
       "      <td>60+2</td>\n",
       "      <td>62+2</td>\n",
       "      <td>62+2</td>\n",
       "      <td>62+2</td>\n",
       "      <td>60+2</td>\n",
       "      <td>16+2</td>\n",
       "      <td>13.171154</td>\n",
       "      <td>8.294050</td>\n",
       "    </tr>\n",
       "    <tr>\n",
       "      <th>231131</th>\n",
       "      <td>J. McGarry</td>\n",
       "      <td>LB</td>\n",
       "      <td>62</td>\n",
       "      <td>69</td>\n",
       "      <td>750000.0</td>\n",
       "      <td>800.0</td>\n",
       "      <td>23</td>\n",
       "      <td>1998-04-09</td>\n",
       "      <td>180</td>\n",
       "      <td>75</td>\n",
       "      <td>...</td>\n",
       "      <td>57+2</td>\n",
       "      <td>61+2</td>\n",
       "      <td>60+2</td>\n",
       "      <td>56+2</td>\n",
       "      <td>56+2</td>\n",
       "      <td>56+2</td>\n",
       "      <td>60+2</td>\n",
       "      <td>14+2</td>\n",
       "      <td>13.527828</td>\n",
       "      <td>6.684612</td>\n",
       "    </tr>\n",
       "    <tr>\n",
       "      <th>248165</th>\n",
       "      <td>A. Rațiu</td>\n",
       "      <td>RM</td>\n",
       "      <td>62</td>\n",
       "      <td>71</td>\n",
       "      <td>875000.0</td>\n",
       "      <td>2000.0</td>\n",
       "      <td>23</td>\n",
       "      <td>1998-06-20</td>\n",
       "      <td>183</td>\n",
       "      <td>72</td>\n",
       "      <td>...</td>\n",
       "      <td>59+2</td>\n",
       "      <td>61+2</td>\n",
       "      <td>60+2</td>\n",
       "      <td>59+2</td>\n",
       "      <td>59+2</td>\n",
       "      <td>59+2</td>\n",
       "      <td>60+2</td>\n",
       "      <td>16+2</td>\n",
       "      <td>13.681979</td>\n",
       "      <td>7.600902</td>\n",
       "    </tr>\n",
       "    <tr>\n",
       "      <th>219392</th>\n",
       "      <td>A. Rufer</td>\n",
       "      <td>CM</td>\n",
       "      <td>61</td>\n",
       "      <td>64</td>\n",
       "      <td>425000.0</td>\n",
       "      <td>900.0</td>\n",
       "      <td>25</td>\n",
       "      <td>1996-06-12</td>\n",
       "      <td>184</td>\n",
       "      <td>75</td>\n",
       "      <td>...</td>\n",
       "      <td>60+2</td>\n",
       "      <td>59+2</td>\n",
       "      <td>58+2</td>\n",
       "      <td>58+2</td>\n",
       "      <td>58+2</td>\n",
       "      <td>58+2</td>\n",
       "      <td>58+2</td>\n",
       "      <td>17+2</td>\n",
       "      <td>12.959844</td>\n",
       "      <td>6.802395</td>\n",
       "    </tr>\n",
       "  </tbody>\n",
       "</table>\n",
       "<p>131 rows × 101 columns</p>\n",
       "</div>"
      ],
      "text/plain": [
       "              short_name player_positions  overall  potential    value_eur  \\\n",
       "sofifa_id                                                                    \n",
       "167495          M. Neuer               GK       90         90   13500000.0   \n",
       "192119       T. Courtois               GK       89         91   85500000.0   \n",
       "230621     G. Donnarumma               GK       89         93  119500000.0   \n",
       "167948         H. Lloris               GK       87         87   13500000.0   \n",
       "186153       W. Szczęsny               GK       87         87   42000000.0   \n",
       "...                  ...              ...      ...        ...          ...   \n",
       "238273       J. Marković               ST       64         75    1300000.0   \n",
       "231954            Xu Xin              CDM       63         65     525000.0   \n",
       "231131        J. McGarry               LB       62         69     750000.0   \n",
       "248165          A. Rațiu               RM       62         71     875000.0   \n",
       "219392          A. Rufer               CM       61         64     425000.0   \n",
       "\n",
       "           wage_eur  age        dob  height_cm  weight_kg  ...   rdm   rwb  \\\n",
       "sofifa_id                                                  ...               \n",
       "167495      86000.0   35 1986-03-27        193         93  ...  43+3  37+3   \n",
       "192119     250000.0   29 1992-05-11        199         96  ...  31+3  29+3   \n",
       "230621     110000.0   22 1999-02-25        196         90  ...  34+3  31+3   \n",
       "167948     125000.0   34 1986-12-26        188         82  ...  38+3  35+3   \n",
       "186153     105000.0   31 1990-04-18        195         90  ...  31+3  28+3   \n",
       "...             ...  ...        ...        ...        ...  ...   ...   ...   \n",
       "238273       3000.0   20 2001-03-23        183         75  ...  49+2  49+2   \n",
       "231954       4000.0   27 1994-04-19        179         70  ...  62+2  60+2   \n",
       "231131        800.0   23 1998-04-09        180         75  ...  57+2  61+2   \n",
       "248165       2000.0   23 1998-06-20        183         72  ...  59+2  61+2   \n",
       "219392        900.0   25 1996-06-12        184         75  ...  60+2  59+2   \n",
       "\n",
       "             lb   lcb    cb   rcb    rb    gk  log_value_eur log_wage_eur  \n",
       "sofifa_id                                                                  \n",
       "167495     35+3  34+3  34+3  34+3  35+3  88+2      16.418200    11.362103  \n",
       "192119     29+3  29+3  29+3  29+3  29+3  86+3      18.264027    12.429216  \n",
       "230621     31+3  31+3  31+3  31+3  31+3  87+3      18.598827    11.608236  \n",
       "167948     34+3  30+3  30+3  30+3  34+3  85+2      16.418200    11.736069  \n",
       "186153     28+3  29+3  29+3  29+3  28+3  85+2      17.553180    11.561716  \n",
       "...         ...   ...   ...   ...   ...   ...            ...          ...  \n",
       "238273     48+2  48+2  48+2  48+2  48+2  15+2      14.077875     8.006368  \n",
       "231954     60+2  62+2  62+2  62+2  60+2  16+2      13.171154     8.294050  \n",
       "231131     60+2  56+2  56+2  56+2  60+2  14+2      13.527828     6.684612  \n",
       "248165     60+2  59+2  59+2  59+2  60+2  16+2      13.681979     7.600902  \n",
       "219392     58+2  58+2  58+2  58+2  58+2  17+2      12.959844     6.802395  \n",
       "\n",
       "[131 rows x 101 columns]"
      ]
     },
     "execution_count": 131,
     "metadata": {},
     "output_type": "execute_result"
    }
   ],
   "source": [
    "male_df[nation_club_position]"
   ]
  },
  {
   "cell_type": "code",
   "execution_count": 132,
   "id": "8ba6cc20",
   "metadata": {},
   "outputs": [],
   "source": [
    "male_df.nation_position = male_df.nation_position.apply(lambda x: position_agg(x))"
   ]
  },
  {
   "cell_type": "code",
   "execution_count": 133,
   "id": "e93505b9",
   "metadata": {},
   "outputs": [
    {
     "data": {
      "text/plain": [
       "SUB    361\n",
       "M      144\n",
       "D      122\n",
       "F       41\n",
       "GK      30\n",
       "Name: nation_position, dtype: int64"
      ]
     },
     "execution_count": 133,
     "metadata": {},
     "output_type": "execute_result"
    }
   ],
   "source": [
    "male_df.nation_position.value_counts()"
   ]
  },
  {
   "cell_type": "code",
   "execution_count": 134,
   "id": "c92169bf",
   "metadata": {},
   "outputs": [
    {
     "data": {
      "text/plain": [
       "18467"
      ]
     },
     "execution_count": 134,
     "metadata": {},
     "output_type": "execute_result"
    }
   ],
   "source": [
    "male_df.nation_position.isna().sum()"
   ]
  },
  {
   "cell_type": "code",
   "execution_count": 135,
   "id": "4c34e2a8",
   "metadata": {},
   "outputs": [],
   "source": [
    "# column 24 \n",
    "# we drop it since it's not useful"
   ]
  },
  {
   "cell_type": "code",
   "execution_count": 136,
   "id": "a56998aa",
   "metadata": {},
   "outputs": [
    {
     "data": {
      "text/plain": [
       "sofifa_id\n",
       "158023    10.0\n",
       "188545     9.0\n",
       "20801      7.0\n",
       "190871     NaN\n",
       "192985     7.0\n",
       "          ... \n",
       "261962     NaN\n",
       "262040     NaN\n",
       "262760     NaN\n",
       "262820     NaN\n",
       "264540     NaN\n",
       "Name: nation_jersey_number, Length: 19165, dtype: float64"
      ]
     },
     "execution_count": 136,
     "metadata": {},
     "output_type": "execute_result"
    }
   ],
   "source": [
    "male_df.nation_jersey_number"
   ]
  },
  {
   "cell_type": "code",
   "execution_count": 137,
   "id": "0c4166de",
   "metadata": {},
   "outputs": [],
   "source": [
    "male_df.drop('nation_jersey_number',axis=1,inplace=True)"
   ]
  },
  {
   "cell_type": "code",
   "execution_count": 138,
   "id": "c646f8b3",
   "metadata": {},
   "outputs": [],
   "source": [
    "# column 25\n",
    "# we change to 0 and 1 in case if we want to use it on ML"
   ]
  },
  {
   "cell_type": "code",
   "execution_count": 139,
   "id": "92bb06e3",
   "metadata": {},
   "outputs": [
    {
     "data": {
      "text/plain": [
       "sofifa_id\n",
       "158023     Left\n",
       "188545    Right\n",
       "20801     Right\n",
       "190871    Right\n",
       "192985    Right\n",
       "          ...  \n",
       "261962    Right\n",
       "262040    Right\n",
       "262760    Right\n",
       "262820    Right\n",
       "264540    Right\n",
       "Name: preferred_foot, Length: 19165, dtype: object"
      ]
     },
     "execution_count": 139,
     "metadata": {},
     "output_type": "execute_result"
    }
   ],
   "source": [
    "male_df.preferred_foot"
   ]
  },
  {
   "cell_type": "code",
   "execution_count": 140,
   "id": "4dafaae4",
   "metadata": {},
   "outputs": [
    {
     "data": {
      "text/plain": [
       "Right    14616\n",
       "Left      4549\n",
       "Name: preferred_foot, dtype: int64"
      ]
     },
     "execution_count": 140,
     "metadata": {},
     "output_type": "execute_result"
    }
   ],
   "source": [
    "male_df.preferred_foot.value_counts()"
   ]
  },
  {
   "cell_type": "code",
   "execution_count": 141,
   "id": "6ab08e9e",
   "metadata": {},
   "outputs": [
    {
     "data": {
      "text/plain": [
       "0"
      ]
     },
     "execution_count": 141,
     "metadata": {},
     "output_type": "execute_result"
    }
   ],
   "source": [
    "male_df.preferred_foot.isna().sum()"
   ]
  },
  {
   "cell_type": "code",
   "execution_count": 142,
   "id": "39cdcf35",
   "metadata": {},
   "outputs": [],
   "source": [
    "male_df.preferred_foot = male_df.preferred_foot.apply(lambda x: 0 if x == 'Left' else 1)"
   ]
  },
  {
   "cell_type": "code",
   "execution_count": 143,
   "id": "e3239f7e",
   "metadata": {},
   "outputs": [
    {
     "data": {
      "text/html": [
       "<div>\n",
       "<style scoped>\n",
       "    .dataframe tbody tr th:only-of-type {\n",
       "        vertical-align: middle;\n",
       "    }\n",
       "\n",
       "    .dataframe tbody tr th {\n",
       "        vertical-align: top;\n",
       "    }\n",
       "\n",
       "    .dataframe thead th {\n",
       "        text-align: right;\n",
       "    }\n",
       "</style>\n",
       "<table border=\"1\" class=\"dataframe\">\n",
       "  <thead>\n",
       "    <tr style=\"text-align: right;\">\n",
       "      <th></th>\n",
       "      <th>short_name</th>\n",
       "      <th>player_positions</th>\n",
       "      <th>overall</th>\n",
       "      <th>potential</th>\n",
       "      <th>value_eur</th>\n",
       "      <th>wage_eur</th>\n",
       "      <th>age</th>\n",
       "      <th>dob</th>\n",
       "      <th>height_cm</th>\n",
       "      <th>weight_kg</th>\n",
       "      <th>...</th>\n",
       "      <th>rdm</th>\n",
       "      <th>rwb</th>\n",
       "      <th>lb</th>\n",
       "      <th>lcb</th>\n",
       "      <th>cb</th>\n",
       "      <th>rcb</th>\n",
       "      <th>rb</th>\n",
       "      <th>gk</th>\n",
       "      <th>log_value_eur</th>\n",
       "      <th>log_wage_eur</th>\n",
       "    </tr>\n",
       "    <tr>\n",
       "      <th>sofifa_id</th>\n",
       "      <th></th>\n",
       "      <th></th>\n",
       "      <th></th>\n",
       "      <th></th>\n",
       "      <th></th>\n",
       "      <th></th>\n",
       "      <th></th>\n",
       "      <th></th>\n",
       "      <th></th>\n",
       "      <th></th>\n",
       "      <th></th>\n",
       "      <th></th>\n",
       "      <th></th>\n",
       "      <th></th>\n",
       "      <th></th>\n",
       "      <th></th>\n",
       "      <th></th>\n",
       "      <th></th>\n",
       "      <th></th>\n",
       "      <th></th>\n",
       "      <th></th>\n",
       "    </tr>\n",
       "  </thead>\n",
       "  <tbody>\n",
       "    <tr>\n",
       "      <th>158023</th>\n",
       "      <td>L. Messi</td>\n",
       "      <td>RW</td>\n",
       "      <td>93</td>\n",
       "      <td>93</td>\n",
       "      <td>78000000.0</td>\n",
       "      <td>320000.0</td>\n",
       "      <td>34</td>\n",
       "      <td>1987-06-24</td>\n",
       "      <td>170</td>\n",
       "      <td>72</td>\n",
       "      <td>...</td>\n",
       "      <td>64+3</td>\n",
       "      <td>66+3</td>\n",
       "      <td>61+3</td>\n",
       "      <td>50+3</td>\n",
       "      <td>50+3</td>\n",
       "      <td>50+3</td>\n",
       "      <td>61+3</td>\n",
       "      <td>19+3</td>\n",
       "      <td>18.172219</td>\n",
       "      <td>12.676076</td>\n",
       "    </tr>\n",
       "    <tr>\n",
       "      <th>188545</th>\n",
       "      <td>R. Lewandowski</td>\n",
       "      <td>ST</td>\n",
       "      <td>92</td>\n",
       "      <td>92</td>\n",
       "      <td>119500000.0</td>\n",
       "      <td>270000.0</td>\n",
       "      <td>32</td>\n",
       "      <td>1988-08-21</td>\n",
       "      <td>185</td>\n",
       "      <td>81</td>\n",
       "      <td>...</td>\n",
       "      <td>66+3</td>\n",
       "      <td>64+3</td>\n",
       "      <td>61+3</td>\n",
       "      <td>60+3</td>\n",
       "      <td>60+3</td>\n",
       "      <td>60+3</td>\n",
       "      <td>61+3</td>\n",
       "      <td>19+3</td>\n",
       "      <td>18.598827</td>\n",
       "      <td>12.506177</td>\n",
       "    </tr>\n",
       "    <tr>\n",
       "      <th>20801</th>\n",
       "      <td>Cristiano Ronaldo</td>\n",
       "      <td>ST</td>\n",
       "      <td>91</td>\n",
       "      <td>91</td>\n",
       "      <td>45000000.0</td>\n",
       "      <td>270000.0</td>\n",
       "      <td>36</td>\n",
       "      <td>1985-02-05</td>\n",
       "      <td>187</td>\n",
       "      <td>83</td>\n",
       "      <td>...</td>\n",
       "      <td>59+3</td>\n",
       "      <td>63+3</td>\n",
       "      <td>60+3</td>\n",
       "      <td>53+3</td>\n",
       "      <td>53+3</td>\n",
       "      <td>53+3</td>\n",
       "      <td>60+3</td>\n",
       "      <td>20+3</td>\n",
       "      <td>17.622173</td>\n",
       "      <td>12.506177</td>\n",
       "    </tr>\n",
       "    <tr>\n",
       "      <th>190871</th>\n",
       "      <td>Neymar Jr</td>\n",
       "      <td>LW</td>\n",
       "      <td>91</td>\n",
       "      <td>91</td>\n",
       "      <td>129000000.0</td>\n",
       "      <td>270000.0</td>\n",
       "      <td>29</td>\n",
       "      <td>1992-02-05</td>\n",
       "      <td>175</td>\n",
       "      <td>68</td>\n",
       "      <td>...</td>\n",
       "      <td>63+3</td>\n",
       "      <td>67+3</td>\n",
       "      <td>62+3</td>\n",
       "      <td>50+3</td>\n",
       "      <td>50+3</td>\n",
       "      <td>50+3</td>\n",
       "      <td>62+3</td>\n",
       "      <td>20+3</td>\n",
       "      <td>18.675323</td>\n",
       "      <td>12.506177</td>\n",
       "    </tr>\n",
       "    <tr>\n",
       "      <th>192985</th>\n",
       "      <td>K. De Bruyne</td>\n",
       "      <td>CM</td>\n",
       "      <td>91</td>\n",
       "      <td>91</td>\n",
       "      <td>125500000.0</td>\n",
       "      <td>350000.0</td>\n",
       "      <td>30</td>\n",
       "      <td>1991-06-28</td>\n",
       "      <td>181</td>\n",
       "      <td>70</td>\n",
       "      <td>...</td>\n",
       "      <td>80+3</td>\n",
       "      <td>79+3</td>\n",
       "      <td>75+3</td>\n",
       "      <td>69+3</td>\n",
       "      <td>69+3</td>\n",
       "      <td>69+3</td>\n",
       "      <td>75+3</td>\n",
       "      <td>21+3</td>\n",
       "      <td>18.647816</td>\n",
       "      <td>12.765688</td>\n",
       "    </tr>\n",
       "  </tbody>\n",
       "</table>\n",
       "<p>5 rows × 100 columns</p>\n",
       "</div>"
      ],
      "text/plain": [
       "                  short_name player_positions  overall  potential  \\\n",
       "sofifa_id                                                           \n",
       "158023              L. Messi               RW       93         93   \n",
       "188545        R. Lewandowski               ST       92         92   \n",
       "20801      Cristiano Ronaldo               ST       91         91   \n",
       "190871             Neymar Jr               LW       91         91   \n",
       "192985          K. De Bruyne               CM       91         91   \n",
       "\n",
       "             value_eur  wage_eur  age        dob  height_cm  weight_kg  ...  \\\n",
       "sofifa_id                                                               ...   \n",
       "158023      78000000.0  320000.0   34 1987-06-24        170         72  ...   \n",
       "188545     119500000.0  270000.0   32 1988-08-21        185         81  ...   \n",
       "20801       45000000.0  270000.0   36 1985-02-05        187         83  ...   \n",
       "190871     129000000.0  270000.0   29 1992-02-05        175         68  ...   \n",
       "192985     125500000.0  350000.0   30 1991-06-28        181         70  ...   \n",
       "\n",
       "            rdm   rwb    lb   lcb    cb   rcb    rb    gk  log_value_eur  \\\n",
       "sofifa_id                                                                  \n",
       "158023     64+3  66+3  61+3  50+3  50+3  50+3  61+3  19+3      18.172219   \n",
       "188545     66+3  64+3  61+3  60+3  60+3  60+3  61+3  19+3      18.598827   \n",
       "20801      59+3  63+3  60+3  53+3  53+3  53+3  60+3  20+3      17.622173   \n",
       "190871     63+3  67+3  62+3  50+3  50+3  50+3  62+3  20+3      18.675323   \n",
       "192985     80+3  79+3  75+3  69+3  69+3  69+3  75+3  21+3      18.647816   \n",
       "\n",
       "          log_wage_eur  \n",
       "sofifa_id               \n",
       "158023       12.676076  \n",
       "188545       12.506177  \n",
       "20801        12.506177  \n",
       "190871       12.506177  \n",
       "192985       12.765688  \n",
       "\n",
       "[5 rows x 100 columns]"
      ]
     },
     "execution_count": 143,
     "metadata": {},
     "output_type": "execute_result"
    }
   ],
   "source": [
    "male_df.head()"
   ]
  },
  {
   "cell_type": "markdown",
   "id": "37db8097",
   "metadata": {},
   "source": [
    "Columns 78:105"
   ]
  },
  {
   "cell_type": "code",
   "execution_count": 163,
   "id": "fb8af52e",
   "metadata": {},
   "outputs": [
    {
     "data": {
      "text/html": [
       "<div>\n",
       "<style scoped>\n",
       "    .dataframe tbody tr th:only-of-type {\n",
       "        vertical-align: middle;\n",
       "    }\n",
       "\n",
       "    .dataframe tbody tr th {\n",
       "        vertical-align: top;\n",
       "    }\n",
       "\n",
       "    .dataframe thead th {\n",
       "        text-align: right;\n",
       "    }\n",
       "</style>\n",
       "<table border=\"1\" class=\"dataframe\">\n",
       "  <thead>\n",
       "    <tr style=\"text-align: right;\">\n",
       "      <th></th>\n",
       "      <th>ls</th>\n",
       "      <th>st</th>\n",
       "      <th>rs</th>\n",
       "      <th>lw</th>\n",
       "      <th>lf</th>\n",
       "      <th>cf</th>\n",
       "      <th>rf</th>\n",
       "      <th>rw</th>\n",
       "      <th>lam</th>\n",
       "      <th>cam</th>\n",
       "      <th>...</th>\n",
       "      <th>ldm</th>\n",
       "      <th>cdm</th>\n",
       "      <th>rdm</th>\n",
       "      <th>rwb</th>\n",
       "      <th>lb</th>\n",
       "      <th>lcb</th>\n",
       "      <th>cb</th>\n",
       "      <th>rcb</th>\n",
       "      <th>rb</th>\n",
       "      <th>gk</th>\n",
       "    </tr>\n",
       "    <tr>\n",
       "      <th>sofifa_id</th>\n",
       "      <th></th>\n",
       "      <th></th>\n",
       "      <th></th>\n",
       "      <th></th>\n",
       "      <th></th>\n",
       "      <th></th>\n",
       "      <th></th>\n",
       "      <th></th>\n",
       "      <th></th>\n",
       "      <th></th>\n",
       "      <th></th>\n",
       "      <th></th>\n",
       "      <th></th>\n",
       "      <th></th>\n",
       "      <th></th>\n",
       "      <th></th>\n",
       "      <th></th>\n",
       "      <th></th>\n",
       "      <th></th>\n",
       "      <th></th>\n",
       "      <th></th>\n",
       "    </tr>\n",
       "  </thead>\n",
       "  <tbody>\n",
       "    <tr>\n",
       "      <th>158023</th>\n",
       "      <td>89+3</td>\n",
       "      <td>89+3</td>\n",
       "      <td>89+3</td>\n",
       "      <td>92</td>\n",
       "      <td>93</td>\n",
       "      <td>93</td>\n",
       "      <td>93</td>\n",
       "      <td>92</td>\n",
       "      <td>93</td>\n",
       "      <td>93</td>\n",
       "      <td>...</td>\n",
       "      <td>64+3</td>\n",
       "      <td>64+3</td>\n",
       "      <td>64+3</td>\n",
       "      <td>66+3</td>\n",
       "      <td>61+3</td>\n",
       "      <td>50+3</td>\n",
       "      <td>50+3</td>\n",
       "      <td>50+3</td>\n",
       "      <td>61+3</td>\n",
       "      <td>19+3</td>\n",
       "    </tr>\n",
       "    <tr>\n",
       "      <th>188545</th>\n",
       "      <td>90+2</td>\n",
       "      <td>90+2</td>\n",
       "      <td>90+2</td>\n",
       "      <td>85</td>\n",
       "      <td>88</td>\n",
       "      <td>88</td>\n",
       "      <td>88</td>\n",
       "      <td>85</td>\n",
       "      <td>86+3</td>\n",
       "      <td>86+3</td>\n",
       "      <td>...</td>\n",
       "      <td>66+3</td>\n",
       "      <td>66+3</td>\n",
       "      <td>66+3</td>\n",
       "      <td>64+3</td>\n",
       "      <td>61+3</td>\n",
       "      <td>60+3</td>\n",
       "      <td>60+3</td>\n",
       "      <td>60+3</td>\n",
       "      <td>61+3</td>\n",
       "      <td>19+3</td>\n",
       "    </tr>\n",
       "    <tr>\n",
       "      <th>20801</th>\n",
       "      <td>90+1</td>\n",
       "      <td>90+1</td>\n",
       "      <td>90+1</td>\n",
       "      <td>88</td>\n",
       "      <td>89</td>\n",
       "      <td>89</td>\n",
       "      <td>89</td>\n",
       "      <td>88</td>\n",
       "      <td>86+3</td>\n",
       "      <td>86+3</td>\n",
       "      <td>...</td>\n",
       "      <td>59+3</td>\n",
       "      <td>59+3</td>\n",
       "      <td>59+3</td>\n",
       "      <td>63+3</td>\n",
       "      <td>60+3</td>\n",
       "      <td>53+3</td>\n",
       "      <td>53+3</td>\n",
       "      <td>53+3</td>\n",
       "      <td>60+3</td>\n",
       "      <td>20+3</td>\n",
       "    </tr>\n",
       "    <tr>\n",
       "      <th>190871</th>\n",
       "      <td>83+3</td>\n",
       "      <td>83+3</td>\n",
       "      <td>83+3</td>\n",
       "      <td>90</td>\n",
       "      <td>88</td>\n",
       "      <td>88</td>\n",
       "      <td>88</td>\n",
       "      <td>90</td>\n",
       "      <td>89+2</td>\n",
       "      <td>89+2</td>\n",
       "      <td>...</td>\n",
       "      <td>63+3</td>\n",
       "      <td>63+3</td>\n",
       "      <td>63+3</td>\n",
       "      <td>67+3</td>\n",
       "      <td>62+3</td>\n",
       "      <td>50+3</td>\n",
       "      <td>50+3</td>\n",
       "      <td>50+3</td>\n",
       "      <td>62+3</td>\n",
       "      <td>20+3</td>\n",
       "    </tr>\n",
       "    <tr>\n",
       "      <th>192985</th>\n",
       "      <td>83+3</td>\n",
       "      <td>83+3</td>\n",
       "      <td>83+3</td>\n",
       "      <td>88</td>\n",
       "      <td>87</td>\n",
       "      <td>87</td>\n",
       "      <td>87</td>\n",
       "      <td>88</td>\n",
       "      <td>89+2</td>\n",
       "      <td>89+2</td>\n",
       "      <td>...</td>\n",
       "      <td>80+3</td>\n",
       "      <td>80+3</td>\n",
       "      <td>80+3</td>\n",
       "      <td>79+3</td>\n",
       "      <td>75+3</td>\n",
       "      <td>69+3</td>\n",
       "      <td>69+3</td>\n",
       "      <td>69+3</td>\n",
       "      <td>75+3</td>\n",
       "      <td>21+3</td>\n",
       "    </tr>\n",
       "  </tbody>\n",
       "</table>\n",
       "<p>5 rows × 27 columns</p>\n",
       "</div>"
      ],
      "text/plain": [
       "             ls    st    rs  lw  lf  cf  rf  rw   lam   cam  ...   ldm   cdm  \\\n",
       "sofifa_id                                                    ...               \n",
       "158023     89+3  89+3  89+3  92  93  93  93  92    93    93  ...  64+3  64+3   \n",
       "188545     90+2  90+2  90+2  85  88  88  88  85  86+3  86+3  ...  66+3  66+3   \n",
       "20801      90+1  90+1  90+1  88  89  89  89  88  86+3  86+3  ...  59+3  59+3   \n",
       "190871     83+3  83+3  83+3  90  88  88  88  90  89+2  89+2  ...  63+3  63+3   \n",
       "192985     83+3  83+3  83+3  88  87  87  87  88  89+2  89+2  ...  80+3  80+3   \n",
       "\n",
       "            rdm   rwb    lb   lcb    cb   rcb    rb    gk  \n",
       "sofifa_id                                                  \n",
       "158023     64+3  66+3  61+3  50+3  50+3  50+3  61+3  19+3  \n",
       "188545     66+3  64+3  61+3  60+3  60+3  60+3  61+3  19+3  \n",
       "20801      59+3  63+3  60+3  53+3  53+3  53+3  60+3  20+3  \n",
       "190871     63+3  67+3  62+3  50+3  50+3  50+3  62+3  20+3  \n",
       "192985     80+3  79+3  75+3  69+3  69+3  69+3  75+3  21+3  \n",
       "\n",
       "[5 rows x 27 columns]"
      ]
     },
     "execution_count": 163,
     "metadata": {},
     "output_type": "execute_result"
    }
   ],
   "source": [
    "male_df_78 = male_df.iloc[:,71:98]\n",
    "male_df_78.head()"
   ]
  },
  {
   "cell_type": "code",
   "execution_count": 164,
   "id": "02601dfa",
   "metadata": {},
   "outputs": [],
   "source": [
    "for x in male_df_78.columns:\n",
    "    for i in male_df_78[x]:\n",
    "        if len(str(i))==3:\n",
    "            male_df_78[x]=int(str(i)[:1])\n",
    "        else:\n",
    "            male_df_78[x]=int(str(i)[:2])"
   ]
  },
  {
   "cell_type": "code",
   "execution_count": 165,
   "id": "39b7f868",
   "metadata": {},
   "outputs": [],
   "source": [
    "for x in male_df_78.columns:\n",
    "    male_df[x]=male_df_78[x]"
   ]
  },
  {
   "cell_type": "code",
   "execution_count": 166,
   "id": "43e901fd",
   "metadata": {},
   "outputs": [
    {
     "data": {
      "text/html": [
       "<div>\n",
       "<style scoped>\n",
       "    .dataframe tbody tr th:only-of-type {\n",
       "        vertical-align: middle;\n",
       "    }\n",
       "\n",
       "    .dataframe tbody tr th {\n",
       "        vertical-align: top;\n",
       "    }\n",
       "\n",
       "    .dataframe thead th {\n",
       "        text-align: right;\n",
       "    }\n",
       "</style>\n",
       "<table border=\"1\" class=\"dataframe\">\n",
       "  <thead>\n",
       "    <tr style=\"text-align: right;\">\n",
       "      <th></th>\n",
       "      <th>short_name</th>\n",
       "      <th>player_positions</th>\n",
       "      <th>overall</th>\n",
       "      <th>potential</th>\n",
       "      <th>value_eur</th>\n",
       "      <th>wage_eur</th>\n",
       "      <th>age</th>\n",
       "      <th>dob</th>\n",
       "      <th>height_cm</th>\n",
       "      <th>weight_kg</th>\n",
       "      <th>...</th>\n",
       "      <th>rdm</th>\n",
       "      <th>rwb</th>\n",
       "      <th>lb</th>\n",
       "      <th>lcb</th>\n",
       "      <th>cb</th>\n",
       "      <th>rcb</th>\n",
       "      <th>rb</th>\n",
       "      <th>gk</th>\n",
       "      <th>log_value_eur</th>\n",
       "      <th>log_wage_eur</th>\n",
       "    </tr>\n",
       "    <tr>\n",
       "      <th>sofifa_id</th>\n",
       "      <th></th>\n",
       "      <th></th>\n",
       "      <th></th>\n",
       "      <th></th>\n",
       "      <th></th>\n",
       "      <th></th>\n",
       "      <th></th>\n",
       "      <th></th>\n",
       "      <th></th>\n",
       "      <th></th>\n",
       "      <th></th>\n",
       "      <th></th>\n",
       "      <th></th>\n",
       "      <th></th>\n",
       "      <th></th>\n",
       "      <th></th>\n",
       "      <th></th>\n",
       "      <th></th>\n",
       "      <th></th>\n",
       "      <th></th>\n",
       "      <th></th>\n",
       "    </tr>\n",
       "  </thead>\n",
       "  <tbody>\n",
       "    <tr>\n",
       "      <th>158023</th>\n",
       "      <td>L. Messi</td>\n",
       "      <td>RW</td>\n",
       "      <td>93</td>\n",
       "      <td>93</td>\n",
       "      <td>78000000.0</td>\n",
       "      <td>320000.0</td>\n",
       "      <td>34</td>\n",
       "      <td>1987-06-24</td>\n",
       "      <td>170</td>\n",
       "      <td>72</td>\n",
       "      <td>...</td>\n",
       "      <td>44</td>\n",
       "      <td>45</td>\n",
       "      <td>45</td>\n",
       "      <td>41</td>\n",
       "      <td>41</td>\n",
       "      <td>41</td>\n",
       "      <td>45</td>\n",
       "      <td>16</td>\n",
       "      <td>18.172219</td>\n",
       "      <td>12.676076</td>\n",
       "    </tr>\n",
       "    <tr>\n",
       "      <th>188545</th>\n",
       "      <td>R. Lewandowski</td>\n",
       "      <td>ST</td>\n",
       "      <td>92</td>\n",
       "      <td>92</td>\n",
       "      <td>119500000.0</td>\n",
       "      <td>270000.0</td>\n",
       "      <td>32</td>\n",
       "      <td>1988-08-21</td>\n",
       "      <td>185</td>\n",
       "      <td>81</td>\n",
       "      <td>...</td>\n",
       "      <td>44</td>\n",
       "      <td>45</td>\n",
       "      <td>45</td>\n",
       "      <td>41</td>\n",
       "      <td>41</td>\n",
       "      <td>41</td>\n",
       "      <td>45</td>\n",
       "      <td>16</td>\n",
       "      <td>18.598827</td>\n",
       "      <td>12.506177</td>\n",
       "    </tr>\n",
       "    <tr>\n",
       "      <th>20801</th>\n",
       "      <td>Cristiano Ronaldo</td>\n",
       "      <td>ST</td>\n",
       "      <td>91</td>\n",
       "      <td>91</td>\n",
       "      <td>45000000.0</td>\n",
       "      <td>270000.0</td>\n",
       "      <td>36</td>\n",
       "      <td>1985-02-05</td>\n",
       "      <td>187</td>\n",
       "      <td>83</td>\n",
       "      <td>...</td>\n",
       "      <td>44</td>\n",
       "      <td>45</td>\n",
       "      <td>45</td>\n",
       "      <td>41</td>\n",
       "      <td>41</td>\n",
       "      <td>41</td>\n",
       "      <td>45</td>\n",
       "      <td>16</td>\n",
       "      <td>17.622173</td>\n",
       "      <td>12.506177</td>\n",
       "    </tr>\n",
       "    <tr>\n",
       "      <th>190871</th>\n",
       "      <td>Neymar Jr</td>\n",
       "      <td>LW</td>\n",
       "      <td>91</td>\n",
       "      <td>91</td>\n",
       "      <td>129000000.0</td>\n",
       "      <td>270000.0</td>\n",
       "      <td>29</td>\n",
       "      <td>1992-02-05</td>\n",
       "      <td>175</td>\n",
       "      <td>68</td>\n",
       "      <td>...</td>\n",
       "      <td>44</td>\n",
       "      <td>45</td>\n",
       "      <td>45</td>\n",
       "      <td>41</td>\n",
       "      <td>41</td>\n",
       "      <td>41</td>\n",
       "      <td>45</td>\n",
       "      <td>16</td>\n",
       "      <td>18.675323</td>\n",
       "      <td>12.506177</td>\n",
       "    </tr>\n",
       "    <tr>\n",
       "      <th>192985</th>\n",
       "      <td>K. De Bruyne</td>\n",
       "      <td>CM</td>\n",
       "      <td>91</td>\n",
       "      <td>91</td>\n",
       "      <td>125500000.0</td>\n",
       "      <td>350000.0</td>\n",
       "      <td>30</td>\n",
       "      <td>1991-06-28</td>\n",
       "      <td>181</td>\n",
       "      <td>70</td>\n",
       "      <td>...</td>\n",
       "      <td>44</td>\n",
       "      <td>45</td>\n",
       "      <td>45</td>\n",
       "      <td>41</td>\n",
       "      <td>41</td>\n",
       "      <td>41</td>\n",
       "      <td>45</td>\n",
       "      <td>16</td>\n",
       "      <td>18.647816</td>\n",
       "      <td>12.765688</td>\n",
       "    </tr>\n",
       "    <tr>\n",
       "      <th>...</th>\n",
       "      <td>...</td>\n",
       "      <td>...</td>\n",
       "      <td>...</td>\n",
       "      <td>...</td>\n",
       "      <td>...</td>\n",
       "      <td>...</td>\n",
       "      <td>...</td>\n",
       "      <td>...</td>\n",
       "      <td>...</td>\n",
       "      <td>...</td>\n",
       "      <td>...</td>\n",
       "      <td>...</td>\n",
       "      <td>...</td>\n",
       "      <td>...</td>\n",
       "      <td>...</td>\n",
       "      <td>...</td>\n",
       "      <td>...</td>\n",
       "      <td>...</td>\n",
       "      <td>...</td>\n",
       "      <td>...</td>\n",
       "      <td>...</td>\n",
       "    </tr>\n",
       "    <tr>\n",
       "      <th>261962</th>\n",
       "      <td>Song Defu</td>\n",
       "      <td>CDM</td>\n",
       "      <td>47</td>\n",
       "      <td>52</td>\n",
       "      <td>70000.0</td>\n",
       "      <td>1000.0</td>\n",
       "      <td>22</td>\n",
       "      <td>1999-01-02</td>\n",
       "      <td>180</td>\n",
       "      <td>64</td>\n",
       "      <td>...</td>\n",
       "      <td>44</td>\n",
       "      <td>45</td>\n",
       "      <td>45</td>\n",
       "      <td>41</td>\n",
       "      <td>41</td>\n",
       "      <td>41</td>\n",
       "      <td>45</td>\n",
       "      <td>16</td>\n",
       "      <td>11.156251</td>\n",
       "      <td>6.907755</td>\n",
       "    </tr>\n",
       "    <tr>\n",
       "      <th>262040</th>\n",
       "      <td>C. Porter</td>\n",
       "      <td>CM</td>\n",
       "      <td>47</td>\n",
       "      <td>59</td>\n",
       "      <td>110000.0</td>\n",
       "      <td>500.0</td>\n",
       "      <td>19</td>\n",
       "      <td>2002-03-18</td>\n",
       "      <td>175</td>\n",
       "      <td>70</td>\n",
       "      <td>...</td>\n",
       "      <td>44</td>\n",
       "      <td>45</td>\n",
       "      <td>45</td>\n",
       "      <td>41</td>\n",
       "      <td>41</td>\n",
       "      <td>41</td>\n",
       "      <td>45</td>\n",
       "      <td>16</td>\n",
       "      <td>11.608236</td>\n",
       "      <td>6.214608</td>\n",
       "    </tr>\n",
       "    <tr>\n",
       "      <th>262760</th>\n",
       "      <td>N. Logue</td>\n",
       "      <td>CM</td>\n",
       "      <td>47</td>\n",
       "      <td>55</td>\n",
       "      <td>100000.0</td>\n",
       "      <td>500.0</td>\n",
       "      <td>21</td>\n",
       "      <td>2000-02-07</td>\n",
       "      <td>178</td>\n",
       "      <td>72</td>\n",
       "      <td>...</td>\n",
       "      <td>44</td>\n",
       "      <td>45</td>\n",
       "      <td>45</td>\n",
       "      <td>41</td>\n",
       "      <td>41</td>\n",
       "      <td>41</td>\n",
       "      <td>45</td>\n",
       "      <td>16</td>\n",
       "      <td>11.512925</td>\n",
       "      <td>6.214608</td>\n",
       "    </tr>\n",
       "    <tr>\n",
       "      <th>262820</th>\n",
       "      <td>L. Rudden</td>\n",
       "      <td>ST</td>\n",
       "      <td>47</td>\n",
       "      <td>60</td>\n",
       "      <td>110000.0</td>\n",
       "      <td>500.0</td>\n",
       "      <td>19</td>\n",
       "      <td>2002-04-23</td>\n",
       "      <td>173</td>\n",
       "      <td>66</td>\n",
       "      <td>...</td>\n",
       "      <td>44</td>\n",
       "      <td>45</td>\n",
       "      <td>45</td>\n",
       "      <td>41</td>\n",
       "      <td>41</td>\n",
       "      <td>41</td>\n",
       "      <td>45</td>\n",
       "      <td>16</td>\n",
       "      <td>11.608236</td>\n",
       "      <td>6.214608</td>\n",
       "    </tr>\n",
       "    <tr>\n",
       "      <th>264540</th>\n",
       "      <td>E. Lalchhanchhuaha</td>\n",
       "      <td>CAM</td>\n",
       "      <td>47</td>\n",
       "      <td>60</td>\n",
       "      <td>110000.0</td>\n",
       "      <td>500.0</td>\n",
       "      <td>19</td>\n",
       "      <td>2002-02-06</td>\n",
       "      <td>167</td>\n",
       "      <td>61</td>\n",
       "      <td>...</td>\n",
       "      <td>44</td>\n",
       "      <td>45</td>\n",
       "      <td>45</td>\n",
       "      <td>41</td>\n",
       "      <td>41</td>\n",
       "      <td>41</td>\n",
       "      <td>45</td>\n",
       "      <td>16</td>\n",
       "      <td>11.608236</td>\n",
       "      <td>6.214608</td>\n",
       "    </tr>\n",
       "  </tbody>\n",
       "</table>\n",
       "<p>19165 rows × 100 columns</p>\n",
       "</div>"
      ],
      "text/plain": [
       "                   short_name player_positions  overall  potential  \\\n",
       "sofifa_id                                                            \n",
       "158023               L. Messi               RW       93         93   \n",
       "188545         R. Lewandowski               ST       92         92   \n",
       "20801       Cristiano Ronaldo               ST       91         91   \n",
       "190871              Neymar Jr               LW       91         91   \n",
       "192985           K. De Bruyne               CM       91         91   \n",
       "...                       ...              ...      ...        ...   \n",
       "261962              Song Defu              CDM       47         52   \n",
       "262040              C. Porter               CM       47         59   \n",
       "262760               N. Logue               CM       47         55   \n",
       "262820              L. Rudden               ST       47         60   \n",
       "264540     E. Lalchhanchhuaha              CAM       47         60   \n",
       "\n",
       "             value_eur  wage_eur  age        dob  height_cm  weight_kg  ...  \\\n",
       "sofifa_id                                                               ...   \n",
       "158023      78000000.0  320000.0   34 1987-06-24        170         72  ...   \n",
       "188545     119500000.0  270000.0   32 1988-08-21        185         81  ...   \n",
       "20801       45000000.0  270000.0   36 1985-02-05        187         83  ...   \n",
       "190871     129000000.0  270000.0   29 1992-02-05        175         68  ...   \n",
       "192985     125500000.0  350000.0   30 1991-06-28        181         70  ...   \n",
       "...                ...       ...  ...        ...        ...        ...  ...   \n",
       "261962         70000.0    1000.0   22 1999-01-02        180         64  ...   \n",
       "262040        110000.0     500.0   19 2002-03-18        175         70  ...   \n",
       "262760        100000.0     500.0   21 2000-02-07        178         72  ...   \n",
       "262820        110000.0     500.0   19 2002-04-23        173         66  ...   \n",
       "264540        110000.0     500.0   19 2002-02-06        167         61  ...   \n",
       "\n",
       "           rdm rwb  lb  lcb  cb  rcb  rb  gk  log_value_eur log_wage_eur  \n",
       "sofifa_id                                                                 \n",
       "158023      44  45  45   41  41   41  45  16      18.172219    12.676076  \n",
       "188545      44  45  45   41  41   41  45  16      18.598827    12.506177  \n",
       "20801       44  45  45   41  41   41  45  16      17.622173    12.506177  \n",
       "190871      44  45  45   41  41   41  45  16      18.675323    12.506177  \n",
       "192985      44  45  45   41  41   41  45  16      18.647816    12.765688  \n",
       "...        ...  ..  ..  ...  ..  ...  ..  ..            ...          ...  \n",
       "261962      44  45  45   41  41   41  45  16      11.156251     6.907755  \n",
       "262040      44  45  45   41  41   41  45  16      11.608236     6.214608  \n",
       "262760      44  45  45   41  41   41  45  16      11.512925     6.214608  \n",
       "262820      44  45  45   41  41   41  45  16      11.608236     6.214608  \n",
       "264540      44  45  45   41  41   41  45  16      11.608236     6.214608  \n",
       "\n",
       "[19165 rows x 100 columns]"
      ]
     },
     "execution_count": 166,
     "metadata": {},
     "output_type": "execute_result"
    }
   ],
   "source": [
    "male_df"
   ]
  },
  {
   "cell_type": "code",
   "execution_count": null,
   "id": "f4d494d9",
   "metadata": {},
   "outputs": [],
   "source": []
  }
 ],
 "metadata": {
  "kernelspec": {
   "display_name": "Python 3 (ipykernel)",
   "language": "python",
   "name": "python3"
  },
  "language_info": {
   "codemirror_mode": {
    "name": "ipython",
    "version": 3
   },
   "file_extension": ".py",
   "mimetype": "text/x-python",
   "name": "python",
   "nbconvert_exporter": "python",
   "pygments_lexer": "ipython3",
   "version": "3.9.7"
  },
  "latex_envs": {
   "LaTeX_envs_menu_present": true,
   "autoclose": false,
   "autocomplete": true,
   "bibliofile": "biblio.bib",
   "cite_by": "apalike",
   "current_citInitial": 1,
   "eqLabelWithNumbers": true,
   "eqNumInitial": 1,
   "hotkeys": {
    "equation": "Ctrl-E",
    "itemize": "Ctrl-I"
   },
   "labels_anchors": false,
   "latex_user_defs": false,
   "report_style_numbering": false,
   "user_envs_cfg": false
  },
  "toc": {
   "base_numbering": 1,
   "nav_menu": {},
   "number_sections": true,
   "sideBar": true,
   "skip_h1_title": false,
   "title_cell": "Table of Contents",
   "title_sidebar": "Contents",
   "toc_cell": false,
   "toc_position": {},
   "toc_section_display": true,
   "toc_window_display": false
  },
  "varInspector": {
   "cols": {
    "lenName": 16,
    "lenType": 16,
    "lenVar": 40
   },
   "kernels_config": {
    "python": {
     "delete_cmd_postfix": "",
     "delete_cmd_prefix": "del ",
     "library": "var_list.py",
     "varRefreshCmd": "print(var_dic_list())"
    },
    "r": {
     "delete_cmd_postfix": ") ",
     "delete_cmd_prefix": "rm(",
     "library": "var_list.r",
     "varRefreshCmd": "cat(var_dic_list()) "
    }
   },
   "types_to_exclude": [
    "module",
    "function",
    "builtin_function_or_method",
    "instance",
    "_Feature"
   ],
   "window_display": false
  }
 },
 "nbformat": 4,
 "nbformat_minor": 5
}
