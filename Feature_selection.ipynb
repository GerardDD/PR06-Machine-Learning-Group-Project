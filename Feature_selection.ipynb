{
 "cells": [
  {
   "cell_type": "markdown",
   "id": "d3576ca6",
   "metadata": {},
   "source": [
    "# Feature selection"
   ]
  },
  {
   "cell_type": "code",
   "execution_count": 1,
   "id": "f5cdf3ee",
   "metadata": {},
   "outputs": [],
   "source": [
    "import pandas as pd\n",
    "import numpy as np\n",
    "import matplotlib.pyplot as plt\n",
    "import seaborn as sns"
   ]
  },
  {
   "cell_type": "code",
   "execution_count": 2,
   "id": "b8a59b96",
   "metadata": {},
   "outputs": [],
   "source": [
    "from sklearn.neighbors import LocalOutlierFactor\n",
    "from sklearn.ensemble import IsolationForest"
   ]
  },
  {
   "cell_type": "code",
   "execution_count": 3,
   "id": "02bfcd53",
   "metadata": {},
   "outputs": [
    {
     "name": "stderr",
     "output_type": "stream",
     "text": [
      "/Users/cnieto/opt/anaconda3/lib/python3.9/site-packages/IPython/core/interactiveshell.py:3444: DtypeWarning: Columns (19) have mixed types.Specify dtype option on import or set low_memory=False.\n",
      "  exec(code_obj, self.user_global_ns, self.user_ns)\n"
     ]
    }
   ],
   "source": [
    "# importing fifa_56\n",
    "df = pd.read_csv('fifa_56rows.csv')"
   ]
  },
  {
   "cell_type": "code",
   "execution_count": 5,
   "id": "9b3bdbfc",
   "metadata": {},
   "outputs": [
    {
     "data": {
      "text/html": [
       "<div>\n",
       "<style scoped>\n",
       "    .dataframe tbody tr th:only-of-type {\n",
       "        vertical-align: middle;\n",
       "    }\n",
       "\n",
       "    .dataframe tbody tr th {\n",
       "        vertical-align: top;\n",
       "    }\n",
       "\n",
       "    .dataframe thead th {\n",
       "        text-align: right;\n",
       "    }\n",
       "</style>\n",
       "<table border=\"1\" class=\"dataframe\">\n",
       "  <thead>\n",
       "    <tr style=\"text-align: right;\">\n",
       "      <th></th>\n",
       "      <th>Unnamed: 0</th>\n",
       "      <th>sofifa_id</th>\n",
       "      <th>short_name</th>\n",
       "      <th>overall</th>\n",
       "      <th>potential</th>\n",
       "      <th>value_eur</th>\n",
       "      <th>wage_eur</th>\n",
       "      <th>age</th>\n",
       "      <th>dob</th>\n",
       "      <th>height_cm</th>\n",
       "      <th>...</th>\n",
       "      <th>mentality_vision</th>\n",
       "      <th>mentality_penalties</th>\n",
       "      <th>mentality_composure</th>\n",
       "      <th>defending_sliding_tackle</th>\n",
       "      <th>goalkeeping_handling</th>\n",
       "      <th>cam</th>\n",
       "      <th>cdm</th>\n",
       "      <th>gk</th>\n",
       "      <th>work_rate_attacking</th>\n",
       "      <th>work_rate_deffensive</th>\n",
       "    </tr>\n",
       "  </thead>\n",
       "  <tbody>\n",
       "    <tr>\n",
       "      <th>0</th>\n",
       "      <td>0</td>\n",
       "      <td>158023</td>\n",
       "      <td>L. Messi</td>\n",
       "      <td>93</td>\n",
       "      <td>93</td>\n",
       "      <td>78000000.0</td>\n",
       "      <td>320000.0</td>\n",
       "      <td>34</td>\n",
       "      <td>1987-06-24</td>\n",
       "      <td>170</td>\n",
       "      <td>...</td>\n",
       "      <td>95</td>\n",
       "      <td>75</td>\n",
       "      <td>96</td>\n",
       "      <td>24</td>\n",
       "      <td>11</td>\n",
       "      <td>93</td>\n",
       "      <td>64</td>\n",
       "      <td>19</td>\n",
       "      <td>2</td>\n",
       "      <td>1</td>\n",
       "    </tr>\n",
       "    <tr>\n",
       "      <th>1</th>\n",
       "      <td>1</td>\n",
       "      <td>188545</td>\n",
       "      <td>R. Lewandowski</td>\n",
       "      <td>92</td>\n",
       "      <td>92</td>\n",
       "      <td>119500000.0</td>\n",
       "      <td>270000.0</td>\n",
       "      <td>32</td>\n",
       "      <td>1988-08-21</td>\n",
       "      <td>185</td>\n",
       "      <td>...</td>\n",
       "      <td>81</td>\n",
       "      <td>90</td>\n",
       "      <td>88</td>\n",
       "      <td>19</td>\n",
       "      <td>6</td>\n",
       "      <td>86</td>\n",
       "      <td>66</td>\n",
       "      <td>19</td>\n",
       "      <td>3</td>\n",
       "      <td>2</td>\n",
       "    </tr>\n",
       "    <tr>\n",
       "      <th>2</th>\n",
       "      <td>2</td>\n",
       "      <td>20801</td>\n",
       "      <td>Cristiano Ronaldo</td>\n",
       "      <td>91</td>\n",
       "      <td>91</td>\n",
       "      <td>45000000.0</td>\n",
       "      <td>270000.0</td>\n",
       "      <td>36</td>\n",
       "      <td>1985-02-05</td>\n",
       "      <td>187</td>\n",
       "      <td>...</td>\n",
       "      <td>76</td>\n",
       "      <td>88</td>\n",
       "      <td>95</td>\n",
       "      <td>24</td>\n",
       "      <td>11</td>\n",
       "      <td>86</td>\n",
       "      <td>59</td>\n",
       "      <td>20</td>\n",
       "      <td>3</td>\n",
       "      <td>1</td>\n",
       "    </tr>\n",
       "    <tr>\n",
       "      <th>3</th>\n",
       "      <td>3</td>\n",
       "      <td>190871</td>\n",
       "      <td>Neymar Jr</td>\n",
       "      <td>91</td>\n",
       "      <td>91</td>\n",
       "      <td>129000000.0</td>\n",
       "      <td>270000.0</td>\n",
       "      <td>29</td>\n",
       "      <td>1992-02-05</td>\n",
       "      <td>175</td>\n",
       "      <td>...</td>\n",
       "      <td>90</td>\n",
       "      <td>93</td>\n",
       "      <td>93</td>\n",
       "      <td>29</td>\n",
       "      <td>9</td>\n",
       "      <td>89</td>\n",
       "      <td>63</td>\n",
       "      <td>20</td>\n",
       "      <td>3</td>\n",
       "      <td>2</td>\n",
       "    </tr>\n",
       "    <tr>\n",
       "      <th>4</th>\n",
       "      <td>4</td>\n",
       "      <td>192985</td>\n",
       "      <td>K. De Bruyne</td>\n",
       "      <td>91</td>\n",
       "      <td>91</td>\n",
       "      <td>125500000.0</td>\n",
       "      <td>350000.0</td>\n",
       "      <td>30</td>\n",
       "      <td>1991-06-28</td>\n",
       "      <td>181</td>\n",
       "      <td>...</td>\n",
       "      <td>94</td>\n",
       "      <td>83</td>\n",
       "      <td>89</td>\n",
       "      <td>53</td>\n",
       "      <td>13</td>\n",
       "      <td>89</td>\n",
       "      <td>80</td>\n",
       "      <td>21</td>\n",
       "      <td>3</td>\n",
       "      <td>3</td>\n",
       "    </tr>\n",
       "  </tbody>\n",
       "</table>\n",
       "<p>5 rows × 57 columns</p>\n",
       "</div>"
      ],
      "text/plain": [
       "   Unnamed: 0  sofifa_id         short_name  overall  potential    value_eur  \\\n",
       "0           0     158023           L. Messi       93         93   78000000.0   \n",
       "1           1     188545     R. Lewandowski       92         92  119500000.0   \n",
       "2           2      20801  Cristiano Ronaldo       91         91   45000000.0   \n",
       "3           3     190871          Neymar Jr       91         91  129000000.0   \n",
       "4           4     192985       K. De Bruyne       91         91  125500000.0   \n",
       "\n",
       "   wage_eur  age         dob  height_cm  ...  mentality_vision  \\\n",
       "0  320000.0   34  1987-06-24        170  ...                95   \n",
       "1  270000.0   32  1988-08-21        185  ...                81   \n",
       "2  270000.0   36  1985-02-05        187  ...                76   \n",
       "3  270000.0   29  1992-02-05        175  ...                90   \n",
       "4  350000.0   30  1991-06-28        181  ...                94   \n",
       "\n",
       "  mentality_penalties mentality_composure  defending_sliding_tackle  \\\n",
       "0                  75                  96                        24   \n",
       "1                  90                  88                        19   \n",
       "2                  88                  95                        24   \n",
       "3                  93                  93                        29   \n",
       "4                  83                  89                        53   \n",
       "\n",
       "  goalkeeping_handling  cam cdm  gk  work_rate_attacking work_rate_deffensive  \n",
       "0                   11   93  64  19                    2                    1  \n",
       "1                    6   86  66  19                    3                    2  \n",
       "2                   11   86  59  20                    3                    1  \n",
       "3                    9   89  63  20                    3                    2  \n",
       "4                   13   89  80  21                    3                    3  \n",
       "\n",
       "[5 rows x 57 columns]"
      ]
     },
     "execution_count": 5,
     "metadata": {},
     "output_type": "execute_result"
    }
   ],
   "source": [
    "df.head()"
   ]
  },
  {
   "cell_type": "code",
   "execution_count": 64,
   "id": "ba46d361",
   "metadata": {},
   "outputs": [],
   "source": [
    "try:\n",
    "    df.drop('Unnamed: 0',axis=1,inplace=True)\n",
    "except:\n",
    "    print('Unnamed column already deleted')\n",
    "    \n",
    "try:\n",
    "    df.set_index('sofifa_id',drop=True)\n",
    "except:\n",
    "    print('index already set to sofifa_id')"
   ]
  },
  {
   "cell_type": "markdown",
   "id": "89adf78a",
   "metadata": {},
   "source": [
    "### replico parte de outliers que hizo Akram (no volver a copiar en el final)"
   ]
  },
  {
   "cell_type": "code",
   "execution_count": 65,
   "id": "299d478d",
   "metadata": {},
   "outputs": [],
   "source": [
    "X=df.drop(['wage_eur',\n",
    "           'short_name',\n",
    "           'dob',\n",
    "           'club_name',\n",
    "           'league_name',\n",
    "           'club_position',\n",
    "           'club_joined','nationality_name','nation_position','nation_team_id'],axis=1)\n",
    "y = df.wage_eur"
   ]
  },
  {
   "cell_type": "code",
   "execution_count": 66,
   "id": "6474495a",
   "metadata": {},
   "outputs": [
    {
     "data": {
      "text/plain": [
       " 1    17702\n",
       "-1     1463\n",
       "Name: local_outlier, dtype: int64"
      ]
     },
     "execution_count": 66,
     "metadata": {},
     "output_type": "execute_result"
    }
   ],
   "source": [
    "clf = LocalOutlierFactor(n_neighbors=5)\n",
    "out=clf.fit_predict(X,y)\n",
    "df['local_outlier']=out\n",
    "df['local_outlier'].value_counts()"
   ]
  },
  {
   "cell_type": "code",
   "execution_count": 67,
   "id": "e950da5a",
   "metadata": {},
   "outputs": [
    {
     "data": {
      "text/plain": [
       " 1    18449\n",
       "-1      716\n",
       "Name: isolation_outlier, dtype: int64"
      ]
     },
     "execution_count": 67,
     "metadata": {},
     "output_type": "execute_result"
    }
   ],
   "source": [
    "isl = LocalOutlierFactor()\n",
    "out_is=isl.fit_predict(X,y)\n",
    "df['isolation_outlier']=out_is\n",
    "df['isolation_outlier'].value_counts()"
   ]
  },
  {
   "cell_type": "code",
   "execution_count": 68,
   "id": "d9174c79",
   "metadata": {},
   "outputs": [],
   "source": [
    "df2=df.drop(df[(df['isolation_outlier']==-1) & (df['local_outlier']==-1)].index)\n"
   ]
  },
  {
   "cell_type": "markdown",
   "id": "8a915c83",
   "metadata": {},
   "source": [
    "### f regression (feature_selection)"
   ]
  },
  {
   "cell_type": "code",
   "execution_count": 69,
   "id": "14e9e456",
   "metadata": {},
   "outputs": [],
   "source": [
    "from sklearn.feature_selection import mutual_info_regression, f_regression"
   ]
  },
  {
   "cell_type": "code",
   "execution_count": 70,
   "id": "a2b3d754",
   "metadata": {},
   "outputs": [],
   "source": [
    "f_values, p_values = f_regression(X,y)"
   ]
  },
  {
   "cell_type": "code",
   "execution_count": 73,
   "id": "62f0876b",
   "metadata": {},
   "outputs": [
    {
     "data": {
      "text/plain": [
       "<matplotlib.collections.PathCollection at 0x7fa151d300d0>"
      ]
     },
     "execution_count": 73,
     "metadata": {},
     "output_type": "execute_result"
    },
    {
     "data": {
      "image/png": "[encoded data removed]",
      "text/plain": [
       "<Figure size 432x432 with 1 Axes>"
      ]
     },
     "metadata": {
      "needs_background": "light"
     },
     "output_type": "display_data"
    }
   ],
   "source": [
    "plt.rcParams['figure.figsize'] = (6,6)\n",
    "plt.scatter(y=f_values,x= range(0,len(f_values)))"
   ]
  },
  {
   "cell_type": "code",
   "execution_count": 74,
   "id": "f7a64a8a",
   "metadata": {},
   "outputs": [
    {
     "data": {
      "text/plain": [
       "<AxesSubplot:>"
      ]
     },
     "execution_count": 74,
     "metadata": {},
     "output_type": "execute_result"
    },
    {
     "data": {
      "image/png": "[encoded data removed]",
      "text/plain": [
       "<Figure size 864x576 with 1 Axes>"
      ]
     },
     "metadata": {
      "needs_background": "light"
     },
     "output_type": "display_data"
    }
   ],
   "source": [
    "plt.rcParams['figure.figsize'] = (12,8)\n",
    "plt.xticks(rotation=90)\n",
    "sns.barplot(x=X.columns, y=f_values)"
   ]
  },
  {
   "cell_type": "code",
   "execution_count": null,
   "id": "de546397",
   "metadata": {},
   "outputs": [],
   "source": []
  }
 ],
 "metadata": {
  "kernelspec": {
   "display_name": "Python 3 (ipykernel)",
   "language": "python",
   "name": "python3"
  },
  "language_info": {
   "codemirror_mode": {
    "name": "ipython",
    "version": 3
   },
   "file_extension": ".py",
   "mimetype": "text/x-python",
   "name": "python",
   "nbconvert_exporter": "python",
   "pygments_lexer": "ipython3",
   "version": "3.9.7"
  }
 },
 "nbformat": 4,
 "nbformat_minor": 5
}
