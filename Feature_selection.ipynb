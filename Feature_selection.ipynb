{
 "cells": [
  {
   "cell_type": "markdown",
   "id": "00098565",
   "metadata": {},
   "source": [
    "# Feature selection"
   ]
  },
  {
   "cell_type": "code",
   "execution_count": 1,
   "id": "927410a7",
   "metadata": {},
   "outputs": [],
   "source": [
    "import pandas as pd\n",
    "import numpy as np\n",
    "import matplotlib.pyplot as plt\n",
    "import seaborn as sns"
   ]
  },
  {
   "cell_type": "code",
   "execution_count": 2,
   "id": "5b22f661",
   "metadata": {},
   "outputs": [],
   "source": [
    "from sklearn.neighbors import LocalOutlierFactor\n",
    "from sklearn.ensemble import IsolationForest"
   ]
  },
  {
   "cell_type": "code",
   "execution_count": 3,
   "id": "a5d8f5bf",
   "metadata": {},
   "outputs": [
    {
     "name": "stderr",
     "output_type": "stream",
     "text": [
      "/Users/cnieto/opt/anaconda3/lib/python3.9/site-packages/IPython/core/interactiveshell.py:3444: DtypeWarning: Columns (19) have mixed types.Specify dtype option on import or set low_memory=False.\n",
      "  exec(code_obj, self.user_global_ns, self.user_ns)\n"
     ]
    }
   ],
   "source": [
    "# importing fifa_56\n",
    "df = pd.read_csv('fifa_56rows.csv')"
   ]
  },
  {
   "cell_type": "code",
   "execution_count": 4,
   "id": "7d0912a4",
   "metadata": {},
   "outputs": [
    {
     "data": {
      "text/html": [
       "<div>\n",
       "<style scoped>\n",
       "    .dataframe tbody tr th:only-of-type {\n",
       "        vertical-align: middle;\n",
       "    }\n",
       "\n",
       "    .dataframe tbody tr th {\n",
       "        vertical-align: top;\n",
       "    }\n",
       "\n",
       "    .dataframe thead th {\n",
       "        text-align: right;\n",
       "    }\n",
       "</style>\n",
       "<table border=\"1\" class=\"dataframe\">\n",
       "  <thead>\n",
       "    <tr style=\"text-align: right;\">\n",
       "      <th></th>\n",
       "      <th>Unnamed: 0</th>\n",
       "      <th>sofifa_id</th>\n",
       "      <th>short_name</th>\n",
       "      <th>overall</th>\n",
       "      <th>potential</th>\n",
       "      <th>value_eur</th>\n",
       "      <th>wage_eur</th>\n",
       "      <th>age</th>\n",
       "      <th>dob</th>\n",
       "      <th>height_cm</th>\n",
       "      <th>...</th>\n",
       "      <th>mentality_vision</th>\n",
       "      <th>mentality_penalties</th>\n",
       "      <th>mentality_composure</th>\n",
       "      <th>defending_sliding_tackle</th>\n",
       "      <th>goalkeeping_handling</th>\n",
       "      <th>cam</th>\n",
       "      <th>cdm</th>\n",
       "      <th>gk</th>\n",
       "      <th>work_rate_attacking</th>\n",
       "      <th>work_rate_deffensive</th>\n",
       "    </tr>\n",
       "  </thead>\n",
       "  <tbody>\n",
       "    <tr>\n",
       "      <th>0</th>\n",
       "      <td>0</td>\n",
       "      <td>158023</td>\n",
       "      <td>L. Messi</td>\n",
       "      <td>93</td>\n",
       "      <td>93</td>\n",
       "      <td>78000000.0</td>\n",
       "      <td>320000.0</td>\n",
       "      <td>34</td>\n",
       "      <td>1987-06-24</td>\n",
       "      <td>170</td>\n",
       "      <td>...</td>\n",
       "      <td>95</td>\n",
       "      <td>75</td>\n",
       "      <td>96</td>\n",
       "      <td>24</td>\n",
       "      <td>11</td>\n",
       "      <td>93</td>\n",
       "      <td>64</td>\n",
       "      <td>19</td>\n",
       "      <td>2</td>\n",
       "      <td>1</td>\n",
       "    </tr>\n",
       "    <tr>\n",
       "      <th>1</th>\n",
       "      <td>1</td>\n",
       "      <td>188545</td>\n",
       "      <td>R. Lewandowski</td>\n",
       "      <td>92</td>\n",
       "      <td>92</td>\n",
       "      <td>119500000.0</td>\n",
       "      <td>270000.0</td>\n",
       "      <td>32</td>\n",
       "      <td>1988-08-21</td>\n",
       "      <td>185</td>\n",
       "      <td>...</td>\n",
       "      <td>81</td>\n",
       "      <td>90</td>\n",
       "      <td>88</td>\n",
       "      <td>19</td>\n",
       "      <td>6</td>\n",
       "      <td>86</td>\n",
       "      <td>66</td>\n",
       "      <td>19</td>\n",
       "      <td>3</td>\n",
       "      <td>2</td>\n",
       "    </tr>\n",
       "    <tr>\n",
       "      <th>2</th>\n",
       "      <td>2</td>\n",
       "      <td>20801</td>\n",
       "      <td>Cristiano Ronaldo</td>\n",
       "      <td>91</td>\n",
       "      <td>91</td>\n",
       "      <td>45000000.0</td>\n",
       "      <td>270000.0</td>\n",
       "      <td>36</td>\n",
       "      <td>1985-02-05</td>\n",
       "      <td>187</td>\n",
       "      <td>...</td>\n",
       "      <td>76</td>\n",
       "      <td>88</td>\n",
       "      <td>95</td>\n",
       "      <td>24</td>\n",
       "      <td>11</td>\n",
       "      <td>86</td>\n",
       "      <td>59</td>\n",
       "      <td>20</td>\n",
       "      <td>3</td>\n",
       "      <td>1</td>\n",
       "    </tr>\n",
       "    <tr>\n",
       "      <th>3</th>\n",
       "      <td>3</td>\n",
       "      <td>190871</td>\n",
       "      <td>Neymar Jr</td>\n",
       "      <td>91</td>\n",
       "      <td>91</td>\n",
       "      <td>129000000.0</td>\n",
       "      <td>270000.0</td>\n",
       "      <td>29</td>\n",
       "      <td>1992-02-05</td>\n",
       "      <td>175</td>\n",
       "      <td>...</td>\n",
       "      <td>90</td>\n",
       "      <td>93</td>\n",
       "      <td>93</td>\n",
       "      <td>29</td>\n",
       "      <td>9</td>\n",
       "      <td>89</td>\n",
       "      <td>63</td>\n",
       "      <td>20</td>\n",
       "      <td>3</td>\n",
       "      <td>2</td>\n",
       "    </tr>\n",
       "    <tr>\n",
       "      <th>4</th>\n",
       "      <td>4</td>\n",
       "      <td>192985</td>\n",
       "      <td>K. De Bruyne</td>\n",
       "      <td>91</td>\n",
       "      <td>91</td>\n",
       "      <td>125500000.0</td>\n",
       "      <td>350000.0</td>\n",
       "      <td>30</td>\n",
       "      <td>1991-06-28</td>\n",
       "      <td>181</td>\n",
       "      <td>...</td>\n",
       "      <td>94</td>\n",
       "      <td>83</td>\n",
       "      <td>89</td>\n",
       "      <td>53</td>\n",
       "      <td>13</td>\n",
       "      <td>89</td>\n",
       "      <td>80</td>\n",
       "      <td>21</td>\n",
       "      <td>3</td>\n",
       "      <td>3</td>\n",
       "    </tr>\n",
       "  </tbody>\n",
       "</table>\n",
       "<p>5 rows × 57 columns</p>\n",
       "</div>"
      ],
      "text/plain": [
       "   Unnamed: 0  sofifa_id         short_name  overall  potential    value_eur  \\\n",
       "0           0     158023           L. Messi       93         93   78000000.0   \n",
       "1           1     188545     R. Lewandowski       92         92  119500000.0   \n",
       "2           2      20801  Cristiano Ronaldo       91         91   45000000.0   \n",
       "3           3     190871          Neymar Jr       91         91  129000000.0   \n",
       "4           4     192985       K. De Bruyne       91         91  125500000.0   \n",
       "\n",
       "   wage_eur  age         dob  height_cm  ...  mentality_vision  \\\n",
       "0  320000.0   34  1987-06-24        170  ...                95   \n",
       "1  270000.0   32  1988-08-21        185  ...                81   \n",
       "2  270000.0   36  1985-02-05        187  ...                76   \n",
       "3  270000.0   29  1992-02-05        175  ...                90   \n",
       "4  350000.0   30  1991-06-28        181  ...                94   \n",
       "\n",
       "  mentality_penalties mentality_composure  defending_sliding_tackle  \\\n",
       "0                  75                  96                        24   \n",
       "1                  90                  88                        19   \n",
       "2                  88                  95                        24   \n",
       "3                  93                  93                        29   \n",
       "4                  83                  89                        53   \n",
       "\n",
       "  goalkeeping_handling  cam cdm  gk  work_rate_attacking work_rate_deffensive  \n",
       "0                   11   93  64  19                    2                    1  \n",
       "1                    6   86  66  19                    3                    2  \n",
       "2                   11   86  59  20                    3                    1  \n",
       "3                    9   89  63  20                    3                    2  \n",
       "4                   13   89  80  21                    3                    3  \n",
       "\n",
       "[5 rows x 57 columns]"
      ]
     },
     "execution_count": 4,
     "metadata": {},
     "output_type": "execute_result"
    }
   ],
   "source": [
    "df.head()"
   ]
  },
  {
   "cell_type": "code",
   "execution_count": 5,
   "id": "79932b91",
   "metadata": {},
   "outputs": [
    {
     "data": {
      "text/plain": [
       "(19165, 57)"
      ]
     },
     "execution_count": 5,
     "metadata": {},
     "output_type": "execute_result"
    }
   ],
   "source": [
    "df.shape"
   ]
  },
  {
   "cell_type": "code",
   "execution_count": 6,
   "id": "2d270ce5",
   "metadata": {},
   "outputs": [],
   "source": [
    "try:\n",
    "    df.drop('Unnamed: 0',axis=1,inplace=True)\n",
    "except:\n",
    "    print('Unnamed column already deleted')\n",
    "    \n",
    "try:\n",
    "    df.set_index('sofifa_id',drop=True)\n",
    "except:\n",
    "    print('index already set to sofifa_id')"
   ]
  },
  {
   "cell_type": "code",
   "execution_count": 7,
   "id": "956cc030",
   "metadata": {},
   "outputs": [
    {
     "data": {
      "text/plain": [
       "(19165, 56)"
      ]
     },
     "execution_count": 7,
     "metadata": {},
     "output_type": "execute_result"
    }
   ],
   "source": [
    "df.shape"
   ]
  },
  {
   "cell_type": "markdown",
   "id": "c108b60e",
   "metadata": {},
   "source": [
    "### replico parte de outliers que hizo Akram (no volver a copiar en el final)"
   ]
  },
  {
   "cell_type": "code",
   "execution_count": 8,
   "id": "261f3b6f",
   "metadata": {},
   "outputs": [],
   "source": [
    "X=df.drop(['wage_eur',\n",
    "           'short_name',\n",
    "           'dob',\n",
    "           'club_name',\n",
    "           'league_name',\n",
    "           'club_position',\n",
    "           'club_joined','nationality_name','nation_position','nation_team_id'],axis=1)\n",
    "y = df.wage_eur"
   ]
  },
  {
   "cell_type": "code",
   "execution_count": 9,
   "id": "e4f9e393",
   "metadata": {},
   "outputs": [
    {
     "data": {
      "text/plain": [
       " 1    17702\n",
       "-1     1463\n",
       "Name: local_outlier, dtype: int64"
      ]
     },
     "execution_count": 9,
     "metadata": {},
     "output_type": "execute_result"
    }
   ],
   "source": [
    "clf = LocalOutlierFactor(n_neighbors=5)\n",
    "out=clf.fit_predict(X,y)\n",
    "df['local_outlier']=out\n",
    "df['local_outlier'].value_counts()"
   ]
  },
  {
   "cell_type": "code",
   "execution_count": 10,
   "id": "d2623ccc",
   "metadata": {},
   "outputs": [
    {
     "data": {
      "text/plain": [
       " 1    18449\n",
       "-1      716\n",
       "Name: isolation_outlier, dtype: int64"
      ]
     },
     "execution_count": 10,
     "metadata": {},
     "output_type": "execute_result"
    }
   ],
   "source": [
    "isl = LocalOutlierFactor()\n",
    "out_is=isl.fit_predict(X,y)\n",
    "df['isolation_outlier']=out_is\n",
    "df['isolation_outlier'].value_counts()"
   ]
  },
  {
   "cell_type": "code",
   "execution_count": 11,
   "id": "ddc4e653",
   "metadata": {},
   "outputs": [],
   "source": [
    "df2=df.drop(df[(df['isolation_outlier']==-1) & (df['local_outlier']==-1)].index)\n"
   ]
  },
  {
   "cell_type": "code",
   "execution_count": 23,
   "id": "6864cf0d",
   "metadata": {},
   "outputs": [],
   "source": [
    "df2.drop(['isolation_outlier','local_outlier'],axis=1,inplace=True)"
   ]
  },
  {
   "cell_type": "code",
   "execution_count": 24,
   "id": "d6e511ce",
   "metadata": {},
   "outputs": [],
   "source": [
    "X=df2.drop(['wage_eur',\n",
    "           'short_name',\n",
    "           'dob',\n",
    "           'club_name',\n",
    "           'league_name',\n",
    "           'club_position',\n",
    "           'club_joined','nationality_name','nation_position','nation_team_id'],axis=1)\n",
    "y = df2.wage_eur"
   ]
  },
  {
   "cell_type": "markdown",
   "id": "3197d5a7",
   "metadata": {},
   "source": [
    "### f regression (feature_selection)"
   ]
  },
  {
   "cell_type": "code",
   "execution_count": 25,
   "id": "f08df78e",
   "metadata": {},
   "outputs": [],
   "source": [
    "from sklearn.feature_selection import mutual_info_regression, f_regression"
   ]
  },
  {
   "cell_type": "code",
   "execution_count": 26,
   "id": "e8a9d847",
   "metadata": {},
   "outputs": [],
   "source": [
    "f_values, p_values = f_regression(X,y)"
   ]
  },
  {
   "cell_type": "code",
   "execution_count": 28,
   "id": "57343521",
   "metadata": {},
   "outputs": [
    {
     "data": {
      "text/plain": [
       "<AxesSubplot:>"
      ]
     },
     "execution_count": 28,
     "metadata": {},
     "output_type": "execute_result"
    },
    {
     "data": {
      "image/png": "[encoded data removed]",
      "text/plain": [
       "<Figure size 720x504 with 1 Axes>"
      ]
     },
     "metadata": {
      "needs_background": "light"
     },
     "output_type": "display_data"
    }
   ],
   "source": [
    "plt.rcParams['figure.figsize'] = (10,7)\n",
    "plt.xticks(rotation=90)\n",
    "sns.barplot(x=X.columns, y=f_values)"
   ]
  },
  {
   "cell_type": "markdown",
   "id": "db09fd26",
   "metadata": {},
   "source": [
    "- As expected, value_eur is the most promiment feature but it is not really interesting for our analysis. Other \"featured features\" are:  international_reputation, overall, movement_reactions and maybe mentality_compoisure"
   ]
  },
  {
   "cell_type": "markdown",
   "id": "6e5e9af3",
   "metadata": {},
   "source": [
    "### mutual info regression"
   ]
  },
  {
   "cell_type": "code",
   "execution_count": 29,
   "id": "430c068e",
   "metadata": {},
   "outputs": [],
   "source": [
    "mut_values = mutual_info_regression(X,y,discrete_features='auto',n_neighbors=3)"
   ]
  },
  {
   "cell_type": "code",
   "execution_count": 30,
   "id": "b2c99cf1",
   "metadata": {},
   "outputs": [
    {
     "data": {
      "text/plain": [
       "<AxesSubplot:>"
      ]
     },
     "execution_count": 30,
     "metadata": {},
     "output_type": "execute_result"
    },
    {
     "data": {
      "image/png": "[encoded data removed]",
      "text/plain": [
       "<Figure size 720x504 with 1 Axes>"
      ]
     },
     "metadata": {
      "needs_background": "light"
     },
     "output_type": "display_data"
    }
   ],
   "source": [
    "plt.rcParams['figure.figsize'] = (10,7)\n",
    "plt.xticks(rotation=90)\n",
    "sns.barplot(x=X.columns, y=mut_values)"
   ]
  },
  {
   "cell_type": "markdown",
   "id": "3a999a88",
   "metadata": {},
   "source": [
    "- In mutual_infor, value_eur is no longer the most prominent feature, instead it is Overall. Other \"featured features\" are:  international_reputation, movement_reactions, mentality_compoisure, cam, cdm, skill_ball_control."
   ]
  },
  {
   "cell_type": "markdown",
   "id": "cffc824e",
   "metadata": {},
   "source": [
    "- We will not assume that our data has linear depedency, so we will try a model first with mutual_selection features"
   ]
  },
  {
   "cell_type": "markdown",
   "id": "f1dff51c",
   "metadata": {},
   "source": [
    "### Selectkbest selection"
   ]
  },
  {
   "cell_type": "code",
   "execution_count": 31,
   "id": "1b889903",
   "metadata": {},
   "outputs": [],
   "source": [
    "from sklearn.feature_selection import SelectKBest"
   ]
  },
  {
   "cell_type": "code",
   "execution_count": 32,
   "id": "a88ecaa0",
   "metadata": {},
   "outputs": [],
   "source": [
    "select = SelectKBest(score_func=f_regression,k=10)"
   ]
  },
  {
   "cell_type": "code",
   "execution_count": 33,
   "id": "5d8894af",
   "metadata": {},
   "outputs": [
    {
     "data": {
      "text/plain": [
       "SelectKBest(score_func=<function f_regression at 0x7fbec0086a60>)"
      ]
     },
     "execution_count": 33,
     "metadata": {},
     "output_type": "execute_result"
    }
   ],
   "source": [
    "select.fit(X.drop('value_eur',axis=1),y)"
   ]
  },
  {
   "cell_type": "code",
   "execution_count": 34,
   "id": "a96cc8a9",
   "metadata": {},
   "outputs": [
    {
     "data": {
      "text/plain": [
       "array(['overall', 'potential', 'international_reputation',\n",
       "       'attacking_short_passing', 'skill_long_passing',\n",
       "       'movement_reactions', 'power_shot_power', 'mentality_vision',\n",
       "       'mentality_composure', 'cam'], dtype=object)"
      ]
     },
     "execution_count": 34,
     "metadata": {},
     "output_type": "execute_result"
    }
   ],
   "source": [
    "select.get_feature_names_out()"
   ]
  },
  {
   "cell_type": "markdown",
   "id": "25c8c653",
   "metadata": {},
   "source": [
    "- According to Kbest selection model, the top 10 features (skipping value_eur) to use in the model are: 'overall', 'potential', 'international_reputation', 'attacking_short_passing','skill_long_passing','movement_reactions', 'power_shot_power', 'mentality_vision','mentality_composure', 'cam'. We can try models using this 10 features or combinations of them (7,6,5..)"
   ]
  },
  {
   "cell_type": "markdown",
   "id": "c16f5c9e",
   "metadata": {},
   "source": [
    "## Encoding"
   ]
  },
  {
   "cell_type": "code",
   "execution_count": 37,
   "id": "1f1d3d3b",
   "metadata": {},
   "outputs": [
    {
     "data": {
      "text/plain": [
       "overall                     int64\n",
       "potential                   int64\n",
       "international_reputation    int64\n",
       "attacking_short_passing     int64\n",
       "skill_long_passing          int64\n",
       "movement_reactions          int64\n",
       "power_shot_power            int64\n",
       "mentality_vision            int64\n",
       "mentality_composure         int64\n",
       "cam                         int64\n",
       "dtype: object"
      ]
     },
     "execution_count": 37,
     "metadata": {},
     "output_type": "execute_result"
    }
   ],
   "source": [
    "df2[['overall', 'potential', 'international_reputation',\n",
    "       'attacking_short_passing', 'skill_long_passing',\n",
    "       'movement_reactions', 'power_shot_power', 'mentality_vision',\n",
    "       'mentality_composure', 'cam']].dtypes"
   ]
  },
  {
   "cell_type": "markdown",
   "id": "4c00a0a7",
   "metadata": {},
   "source": [
    "- All top 10 features are numerical"
   ]
  },
  {
   "cell_type": "markdown",
   "id": "4b02aefc",
   "metadata": {},
   "source": [
    "- Due to previous knowledge of the topic, we decide to encode club_position and include it on our model?"
   ]
  },
  {
   "cell_type": "code",
   "execution_count": 39,
   "id": "36c649b3",
   "metadata": {},
   "outputs": [
    {
     "data": {
      "text/plain": [
       "array(['M', 'F', 'GK', 'D', 'SUB', 'RES'], dtype=object)"
      ]
     },
     "execution_count": 39,
     "metadata": {},
     "output_type": "execute_result"
    }
   ],
   "source": [
    "df2.club_position.unique()"
   ]
  },
  {
   "cell_type": "code",
   "execution_count": 40,
   "id": "cab04ced",
   "metadata": {},
   "outputs": [],
   "source": [
    "from sklearn.preprocessing import OrdinalEncoder"
   ]
  },
  {
   "cell_type": "code",
   "execution_count": 41,
   "id": "61889608",
   "metadata": {},
   "outputs": [
    {
     "name": "stdout",
     "output_type": "stream",
     "text": [
      "Help on class OrdinalEncoder in module sklearn.preprocessing._encoders:\n",
      "\n",
      "class OrdinalEncoder(_BaseEncoder)\n",
      " |  OrdinalEncoder(*, categories='auto', dtype=<class 'numpy.float64'>, handle_unknown='error', unknown_value=None)\n",
      " |  \n",
      " |  Encode categorical features as an integer array.\n",
      " |  \n",
      " |  The input to this transformer should be an array-like of integers or\n",
      " |  strings, denoting the values taken on by categorical (discrete) features.\n",
      " |  The features are converted to ordinal integers. This results in\n",
      " |  a single column of integers (0 to n_categories - 1) per feature.\n",
      " |  \n",
      " |  Read more in the :ref:`User Guide <preprocessing_categorical_features>`.\n",
      " |  \n",
      " |  .. versionadded:: 0.20\n",
      " |  \n",
      " |  Parameters\n",
      " |  ----------\n",
      " |  categories : 'auto' or a list of array-like, default='auto'\n",
      " |      Categories (unique values) per feature:\n",
      " |  \n",
      " |      - 'auto' : Determine categories automatically from the training data.\n",
      " |      - list : ``categories[i]`` holds the categories expected in the ith\n",
      " |        column. The passed categories should not mix strings and numeric\n",
      " |        values, and should be sorted in case of numeric values.\n",
      " |  \n",
      " |      The used categories can be found in the ``categories_`` attribute.\n",
      " |  \n",
      " |  dtype : number type, default np.float64\n",
      " |      Desired dtype of output.\n",
      " |  \n",
      " |  handle_unknown : {'error', 'use_encoded_value'}, default='error'\n",
      " |      When set to 'error' an error will be raised in case an unknown\n",
      " |      categorical feature is present during transform. When set to\n",
      " |      'use_encoded_value', the encoded value of unknown categories will be\n",
      " |      set to the value given for the parameter `unknown_value`. In\n",
      " |      :meth:`inverse_transform`, an unknown category will be denoted as None.\n",
      " |  \n",
      " |      .. versionadded:: 0.24\n",
      " |  \n",
      " |  unknown_value : int or np.nan, default=None\n",
      " |      When the parameter handle_unknown is set to 'use_encoded_value', this\n",
      " |      parameter is required and will set the encoded value of unknown\n",
      " |      categories. It has to be distinct from the values used to encode any of\n",
      " |      the categories in `fit`. If set to np.nan, the `dtype` parameter must\n",
      " |      be a float dtype.\n",
      " |  \n",
      " |      .. versionadded:: 0.24\n",
      " |  \n",
      " |  Attributes\n",
      " |  ----------\n",
      " |  categories_ : list of arrays\n",
      " |      The categories of each feature determined during ``fit`` (in order of\n",
      " |      the features in X and corresponding with the output of ``transform``).\n",
      " |      This does not include categories that weren't seen during ``fit``.\n",
      " |  \n",
      " |  n_features_in_ : int\n",
      " |      Number of features seen during :term:`fit`.\n",
      " |  \n",
      " |      .. versionadded:: 1.0\n",
      " |  \n",
      " |  feature_names_in_ : ndarray of shape (`n_features_in_`,)\n",
      " |      Names of features seen during :term:`fit`. Defined only when `X`\n",
      " |      has feature names that are all strings.\n",
      " |  \n",
      " |      .. versionadded:: 1.0\n",
      " |  \n",
      " |  See Also\n",
      " |  --------\n",
      " |  OneHotEncoder : Performs a one-hot encoding of categorical features.\n",
      " |  LabelEncoder : Encodes target labels with values between 0 and\n",
      " |      ``n_classes-1``.\n",
      " |  \n",
      " |  Examples\n",
      " |  --------\n",
      " |  Given a dataset with two features, we let the encoder find the unique\n",
      " |  values per feature and transform the data to an ordinal encoding.\n",
      " |  \n",
      " |  >>> from sklearn.preprocessing import OrdinalEncoder\n",
      " |  >>> enc = OrdinalEncoder()\n",
      " |  >>> X = [['Male', 1], ['Female', 3], ['Female', 2]]\n",
      " |  >>> enc.fit(X)\n",
      " |  OrdinalEncoder()\n",
      " |  >>> enc.categories_\n",
      " |  [array(['Female', 'Male'], dtype=object), array([1, 2, 3], dtype=object)]\n",
      " |  >>> enc.transform([['Female', 3], ['Male', 1]])\n",
      " |  array([[0., 2.],\n",
      " |         [1., 0.]])\n",
      " |  \n",
      " |  >>> enc.inverse_transform([[1, 0], [0, 1]])\n",
      " |  array([['Male', 1],\n",
      " |         ['Female', 2]], dtype=object)\n",
      " |  \n",
      " |  Method resolution order:\n",
      " |      OrdinalEncoder\n",
      " |      _BaseEncoder\n",
      " |      sklearn.base.TransformerMixin\n",
      " |      sklearn.base.BaseEstimator\n",
      " |      builtins.object\n",
      " |  \n",
      " |  Methods defined here:\n",
      " |  \n",
      " |  __init__(self, *, categories='auto', dtype=<class 'numpy.float64'>, handle_unknown='error', unknown_value=None)\n",
      " |      Initialize self.  See help(type(self)) for accurate signature.\n",
      " |  \n",
      " |  fit(self, X, y=None)\n",
      " |      Fit the OrdinalEncoder to X.\n",
      " |      \n",
      " |      Parameters\n",
      " |      ----------\n",
      " |      X : array-like of shape (n_samples, n_features)\n",
      " |          The data to determine the categories of each feature.\n",
      " |      \n",
      " |      y : None\n",
      " |          Ignored. This parameter exists only for compatibility with\n",
      " |          :class:`~sklearn.pipeline.Pipeline`.\n",
      " |      \n",
      " |      Returns\n",
      " |      -------\n",
      " |      self : object\n",
      " |          Fitted encoder.\n",
      " |  \n",
      " |  inverse_transform(self, X)\n",
      " |      Convert the data back to the original representation.\n",
      " |      \n",
      " |      Parameters\n",
      " |      ----------\n",
      " |      X : array-like of shape (n_samples, n_encoded_features)\n",
      " |          The transformed data.\n",
      " |      \n",
      " |      Returns\n",
      " |      -------\n",
      " |      X_tr : ndarray of shape (n_samples, n_features)\n",
      " |          Inverse transformed array.\n",
      " |  \n",
      " |  transform(self, X)\n",
      " |      Transform X to ordinal codes.\n",
      " |      \n",
      " |      Parameters\n",
      " |      ----------\n",
      " |      X : array-like of shape (n_samples, n_features)\n",
      " |          The data to encode.\n",
      " |      \n",
      " |      Returns\n",
      " |      -------\n",
      " |      X_out : ndarray of shape (n_samples, n_features)\n",
      " |          Transformed input.\n",
      " |  \n",
      " |  ----------------------------------------------------------------------\n",
      " |  Methods inherited from sklearn.base.TransformerMixin:\n",
      " |  \n",
      " |  fit_transform(self, X, y=None, **fit_params)\n",
      " |      Fit to data, then transform it.\n",
      " |      \n",
      " |      Fits transformer to `X` and `y` with optional parameters `fit_params`\n",
      " |      and returns a transformed version of `X`.\n",
      " |      \n",
      " |      Parameters\n",
      " |      ----------\n",
      " |      X : array-like of shape (n_samples, n_features)\n",
      " |          Input samples.\n",
      " |      \n",
      " |      y :  array-like of shape (n_samples,) or (n_samples, n_outputs),                 default=None\n",
      " |          Target values (None for unsupervised transformations).\n",
      " |      \n",
      " |      **fit_params : dict\n",
      " |          Additional fit parameters.\n",
      " |      \n",
      " |      Returns\n",
      " |      -------\n",
      " |      X_new : ndarray array of shape (n_samples, n_features_new)\n",
      " |          Transformed array.\n",
      " |  \n",
      " |  ----------------------------------------------------------------------\n",
      " |  Data descriptors inherited from sklearn.base.TransformerMixin:\n",
      " |  \n",
      " |  __dict__\n",
      " |      dictionary for instance variables (if defined)\n",
      " |  \n",
      " |  __weakref__\n",
      " |      list of weak references to the object (if defined)\n",
      " |  \n",
      " |  ----------------------------------------------------------------------\n",
      " |  Methods inherited from sklearn.base.BaseEstimator:\n",
      " |  \n",
      " |  __getstate__(self)\n",
      " |  \n",
      " |  __repr__(self, N_CHAR_MAX=700)\n",
      " |      Return repr(self).\n",
      " |  \n",
      " |  __setstate__(self, state)\n",
      " |  \n",
      " |  get_params(self, deep=True)\n",
      " |      Get parameters for this estimator.\n",
      " |      \n",
      " |      Parameters\n",
      " |      ----------\n",
      " |      deep : bool, default=True\n",
      " |          If True, will return the parameters for this estimator and\n",
      " |          contained subobjects that are estimators.\n",
      " |      \n",
      " |      Returns\n",
      " |      -------\n",
      " |      params : dict\n",
      " |          Parameter names mapped to their values.\n",
      " |  \n",
      " |  set_params(self, **params)\n",
      " |      Set the parameters of this estimator.\n",
      " |      \n",
      " |      The method works on simple estimators as well as on nested objects\n",
      " |      (such as :class:`~sklearn.pipeline.Pipeline`). The latter have\n",
      " |      parameters of the form ``<component>__<parameter>`` so that it's\n",
      " |      possible to update each component of a nested object.\n",
      " |      \n",
      " |      Parameters\n",
      " |      ----------\n",
      " |      **params : dict\n",
      " |          Estimator parameters.\n",
      " |      \n",
      " |      Returns\n",
      " |      -------\n",
      " |      self : estimator instance\n",
      " |          Estimator instance.\n",
      "\n"
     ]
    }
   ],
   "source": [
    "help(OrdinalEncoder)"
   ]
  },
  {
   "cell_type": "code",
   "execution_count": 47,
   "id": "9e8da1c4",
   "metadata": {},
   "outputs": [],
   "source": [
    "Omodel = OrdinalEncoder(categories=[['SUB','RES','GK','D','M','F']])"
   ]
  },
  {
   "cell_type": "code",
   "execution_count": 48,
   "id": "58bef1c4",
   "metadata": {},
   "outputs": [
    {
     "data": {
      "text/plain": [
       "array([[4.],\n",
       "       [5.],\n",
       "       [5.],\n",
       "       ...,\n",
       "       [1.],\n",
       "       [1.],\n",
       "       [0.]])"
      ]
     },
     "execution_count": 48,
     "metadata": {},
     "output_type": "execute_result"
    }
   ],
   "source": [
    "Omodel.fit_transform(df2[['club_position']])"
   ]
  },
  {
   "cell_type": "code",
   "execution_count": 49,
   "id": "1039f17b",
   "metadata": {},
   "outputs": [],
   "source": [
    "df2['club_position_enc'] = Omodel.fit_transform(df2[['club_position']])"
   ]
  },
  {
   "cell_type": "code",
   "execution_count": 50,
   "id": "5fbe5fa9",
   "metadata": {},
   "outputs": [
    {
     "data": {
      "text/html": [
       "<div>\n",
       "<style scoped>\n",
       "    .dataframe tbody tr th:only-of-type {\n",
       "        vertical-align: middle;\n",
       "    }\n",
       "\n",
       "    .dataframe tbody tr th {\n",
       "        vertical-align: top;\n",
       "    }\n",
       "\n",
       "    .dataframe thead th {\n",
       "        text-align: right;\n",
       "    }\n",
       "</style>\n",
       "<table border=\"1\" class=\"dataframe\">\n",
       "  <thead>\n",
       "    <tr style=\"text-align: right;\">\n",
       "      <th></th>\n",
       "      <th>club_position</th>\n",
       "      <th>club_position_enc</th>\n",
       "    </tr>\n",
       "  </thead>\n",
       "  <tbody>\n",
       "    <tr>\n",
       "      <th>0</th>\n",
       "      <td>M</td>\n",
       "      <td>4.0</td>\n",
       "    </tr>\n",
       "    <tr>\n",
       "      <th>1</th>\n",
       "      <td>F</td>\n",
       "      <td>5.0</td>\n",
       "    </tr>\n",
       "    <tr>\n",
       "      <th>2</th>\n",
       "      <td>F</td>\n",
       "      <td>5.0</td>\n",
       "    </tr>\n",
       "    <tr>\n",
       "      <th>3</th>\n",
       "      <td>M</td>\n",
       "      <td>4.0</td>\n",
       "    </tr>\n",
       "    <tr>\n",
       "      <th>4</th>\n",
       "      <td>M</td>\n",
       "      <td>4.0</td>\n",
       "    </tr>\n",
       "    <tr>\n",
       "      <th>...</th>\n",
       "      <td>...</td>\n",
       "      <td>...</td>\n",
       "    </tr>\n",
       "    <tr>\n",
       "      <th>19160</th>\n",
       "      <td>SUB</td>\n",
       "      <td>0.0</td>\n",
       "    </tr>\n",
       "    <tr>\n",
       "      <th>19161</th>\n",
       "      <td>RES</td>\n",
       "      <td>1.0</td>\n",
       "    </tr>\n",
       "    <tr>\n",
       "      <th>19162</th>\n",
       "      <td>RES</td>\n",
       "      <td>1.0</td>\n",
       "    </tr>\n",
       "    <tr>\n",
       "      <th>19163</th>\n",
       "      <td>RES</td>\n",
       "      <td>1.0</td>\n",
       "    </tr>\n",
       "    <tr>\n",
       "      <th>19164</th>\n",
       "      <td>SUB</td>\n",
       "      <td>0.0</td>\n",
       "    </tr>\n",
       "  </tbody>\n",
       "</table>\n",
       "<p>18935 rows × 2 columns</p>\n",
       "</div>"
      ],
      "text/plain": [
       "      club_position  club_position_enc\n",
       "0                 M                4.0\n",
       "1                 F                5.0\n",
       "2                 F                5.0\n",
       "3                 M                4.0\n",
       "4                 M                4.0\n",
       "...             ...                ...\n",
       "19160           SUB                0.0\n",
       "19161           RES                1.0\n",
       "19162           RES                1.0\n",
       "19163           RES                1.0\n",
       "19164           SUB                0.0\n",
       "\n",
       "[18935 rows x 2 columns]"
      ]
     },
     "execution_count": 50,
     "metadata": {},
     "output_type": "execute_result"
    }
   ],
   "source": [
    "df2[['club_position','club_position_enc']]"
   ]
  },
  {
   "cell_type": "code",
   "execution_count": null,
   "id": "e5979fe3",
   "metadata": {},
   "outputs": [],
   "source": []
  }
 ],
 "metadata": {
  "kernelspec": {
   "display_name": "Python 3 (ipykernel)",
   "language": "python",
   "name": "python3"
  },
  "language_info": {
   "codemirror_mode": {
    "name": "ipython",
    "version": 3
   },
   "file_extension": ".py",
   "mimetype": "text/x-python",
   "name": "python",
   "nbconvert_exporter": "python",
   "pygments_lexer": "ipython3",
   "version": "3.9.7"
  }
 },
 "nbformat": 4,
 "nbformat_minor": 5
}
